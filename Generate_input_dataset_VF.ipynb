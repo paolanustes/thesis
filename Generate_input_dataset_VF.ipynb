{
  "nbformat": 4,
  "nbformat_minor": 0,
  "metadata": {
    "colab": {
      "name": "Generate_input_dataset_VF.ipynb",
      "provenance": [],
      "collapsed_sections": [
        "3Vq5RIatn1uy"
      ],
      "toc_visible": true,
      "include_colab_link": true
    },
    "kernelspec": {
      "display_name": "Python 3",
      "name": "python3"
    }
  },
  "cells": [
    {
      "cell_type": "markdown",
      "metadata": {
        "id": "view-in-github",
        "colab_type": "text"
      },
      "source": [
        "<a href=\"https://colab.research.google.com/github/paolanustes/thesis/blob/main/Generate_input_dataset_VF.ipynb\" target=\"_parent\"><img src=\"https://colab.research.google.com/assets/colab-badge.svg\" alt=\"Open In Colab\"/></a>"
      ]
    },
    {
      "cell_type": "markdown",
      "metadata": {
        "id": "Zfrk0JXlwgmT"
      },
      "source": [
        "# Input dataset pipeline for dams' detection models\n"
      ]
    },
    {
      "cell_type": "markdown",
      "metadata": {
        "id": "lWA8u4245eW9"
      },
      "source": [
        "# Import external resources"
      ]
    },
    {
      "cell_type": "markdown",
      "metadata": {
        "id": "Wj_QyTERxQgm"
      },
      "source": [
        "## Install and import main libraries"
      ]
    },
    {
      "cell_type": "markdown",
      "metadata": {
        "id": "PVy_yHpQ3yLr"
      },
      "source": [
        "References https://github.com/giswqs/geemap "
      ]
    },
    {
      "cell_type": "code",
      "metadata": {
        "id": "3Mqsnai4SgON"
      },
      "source": [
        "# !pip -q install qiskit"
      ],
      "execution_count": null,
      "outputs": []
    },
    {
      "cell_type": "code",
      "metadata": {
        "id": "woxP8HcTC0--",
        "colab": {
          "base_uri": "https://localhost:8080/"
        },
        "outputId": "9edef426-1d5d-4188-c944-b6900ad371fa"
      },
      "source": [
        "!pip -q install -U geemap\n",
        "!pip -q install geopandas shapely"
      ],
      "execution_count": null,
      "outputs": [
        {
          "output_type": "stream",
          "text": [
            "\u001b[K     |████████████████████████████████| 450kB 13.7MB/s \n",
            "\u001b[K     |████████████████████████████████| 102kB 6.8MB/s \n",
            "\u001b[K     |████████████████████████████████| 5.1MB 29.5MB/s \n",
            "\u001b[K     |████████████████████████████████| 143kB 49.9MB/s \n",
            "\u001b[K     |████████████████████████████████| 81kB 5.9MB/s \n",
            "\u001b[K     |████████████████████████████████| 225kB 58.3MB/s \n",
            "\u001b[K     |████████████████████████████████| 102kB 7.4MB/s \n",
            "\u001b[K     |████████████████████████████████| 1.3MB 42.6MB/s \n",
            "\u001b[K     |████████████████████████████████| 2.5MB 42.5MB/s \n",
            "\u001b[K     |████████████████████████████████| 1.2MB 48.7MB/s \n",
            "\u001b[K     |████████████████████████████████| 122kB 41.7MB/s \n",
            "\u001b[K     |████████████████████████████████| 71kB 5.7MB/s \n",
            "\u001b[K     |████████████████████████████████| 552kB 42.5MB/s \n",
            "\u001b[K     |████████████████████████████████| 122kB 52.5MB/s \n",
            "\u001b[K     |████████████████████████████████| 378kB 48.0MB/s \n",
            "\u001b[K     |████████████████████████████████| 71kB 5.7MB/s \n",
            "\u001b[?25h  Building wheel for ipynb-py-convert (setup.py) ... \u001b[?25l\u001b[?25hdone\n",
            "  Building wheel for pyshp (setup.py) ... \u001b[?25l\u001b[?25hdone\n",
            "  Building wheel for pycrs (setup.py) ... \u001b[?25l\u001b[?25hdone\n",
            "\u001b[31mERROR: datascience 0.10.6 has requirement folium==0.2.1, but you'll have folium 0.12.1 which is incompatible.\u001b[0m\n",
            "\u001b[31mERROR: jupyter-server 1.5.1 has requirement tornado>=6.1.0, but you'll have tornado 5.1.1 which is incompatible.\u001b[0m\n",
            "\u001b[K     |████████████████████████████████| 1.0MB 11.9MB/s \n",
            "\u001b[K     |████████████████████████████████| 14.8MB 337kB/s \n",
            "\u001b[K     |████████████████████████████████| 6.5MB 49.2MB/s \n",
            "\u001b[?25h"
          ],
          "name": "stdout"
        }
      ]
    },
    {
      "cell_type": "code",
      "metadata": {
        "id": "rA615jyCYE-z",
        "colab": {
          "base_uri": "https://localhost:8080/"
        },
        "outputId": "2c9293f8-0ee0-467b-9512-93975936fab9"
      },
      "source": [
        "import ee\n",
        "import geemap.eefolium as geemap\n",
        "ee.Authenticate()\n",
        "ee.Initialize()"
      ],
      "execution_count": null,
      "outputs": [
        {
          "output_type": "stream",
          "text": [
            "To authorize access needed by Earth Engine, open the following URL in a web browser and follow the instructions. If the web browser does not start automatically, please manually browse the URL below.\n",
            "\n",
            "    https://accounts.google.com/o/oauth2/auth?client_id=517222506229-vsmmajv00ul0bs7p89v5m89qs8eb9359.apps.googleusercontent.com&scope=https%3A%2F%2Fwww.googleapis.com%2Fauth%2Fearthengine+https%3A%2F%2Fwww.googleapis.com%2Fauth%2Fdevstorage.full_control&redirect_uri=urn%3Aietf%3Awg%3Aoauth%3A2.0%3Aoob&response_type=code&code_challenge=JtFGUCwp-KzYyfON-mPUGTOrEZOl2At6V8TfqZhGPuE&code_challenge_method=S256\n",
            "\n",
            "The authorization workflow will generate a code, which you should paste in the box below. \n",
            "Enter verification code: 4/1AY0e-g5TkToxVUxUgCpfA53pXrsjoL3Wvf7pynFv99zNvU712vG5f3Hq6S0\n",
            "\n",
            "Successfully saved authorization token.\n"
          ],
          "name": "stdout"
        }
      ]
    },
    {
      "cell_type": "code",
      "metadata": {
        "colab": {
          "base_uri": "https://localhost:8080/"
        },
        "id": "oF7PI-ZQRcJa",
        "outputId": "2479e633-cd32-49fa-be6d-dfb013dff1f7"
      },
      "source": [
        "from google.colab import files\n",
        "from google.colab import drive\n",
        "drive.mount('/content/drive') #To access google drive folders\n",
        "GDRIVE='/content/drive/MyDrive/Thesis'"
      ],
      "execution_count": null,
      "outputs": [
        {
          "output_type": "stream",
          "text": [
            "Mounted at /content/drive\n"
          ],
          "name": "stdout"
        }
      ]
    },
    {
      "cell_type": "code",
      "metadata": {
        "id": "6U8yKh_H5BRH"
      },
      "source": [
        "from shapely.geometry import Point\n",
        "from shapely.geometry import CAP_STYLE\n",
        "from pandas import json_normalize\n",
        "import requests\n",
        "import pandas as pd\n",
        "import geopandas\n",
        "import csv\n",
        "import sys"
      ],
      "execution_count": null,
      "outputs": []
    },
    {
      "cell_type": "markdown",
      "metadata": {
        "id": "ECKnyMyvw6wa"
      },
      "source": [
        "## Add Earth Engine data (Control group: California, USA)"
      ]
    },
    {
      "cell_type": "markdown",
      "metadata": {
        "id": "gpwLPNNPSkwZ"
      },
      "source": [
        "1.   Satellite imagery NAIP https://www.fsa.usda.gov/programs-and-services/aerial-photography/imagery-programs/naip-imagery/\n",
        "2.   Digital Elevation Model NED https://www.usgs.gov/core-science-systems/national-geospatial-program/national-map\n",
        "3. Boundaries by state TIGER https://www.census.gov/programs-surveys/geography/guidance/tiger-data-products-guide.html\n",
        "4. Water occurrence JRC http://global-surface-water.appspot.com/ \n",
        "5. Continent's boundaries users/gena/land_polygons_image \n",
        "\n",
        "\n",
        "\n",
        "\n"
      ]
    },
    {
      "cell_type": "code",
      "metadata": {
        "id": "y22sx-HAyFOq"
      },
      "source": [
        "#Create an interactive map\n",
        "Map = geemap.Map()"
      ],
      "execution_count": null,
      "outputs": []
    },
    {
      "cell_type": "code",
      "metadata": {
        "colab": {
          "base_uri": "https://localhost:8080/"
        },
        "id": "uJsJSoggKcPY",
        "outputId": "520c71ea-4dbf-437e-91b6-fc30d1f2d928"
      },
      "source": [
        "#input number you want to search\n",
        "state = input('Enter state postal code: (Example for california enter CA)\\n')\n",
        "\n",
        "#read csv, and split on \",\" the line\n",
        "csv_file = csv.reader(open(f'{GDRIVE}/FIPS.csv', \"r\"), delimiter=\",\")\n",
        "\n",
        "\n",
        "#loop through the csv list\n",
        "for row in csv_file:\n",
        "    #if current rows 2nd value is equal to input, print that row\n",
        "    if state == row[1]:\n",
        "         print (row[2])\n",
        "         FIP = row[2]\n",
        "         S_NAME = row[0]"
      ],
      "execution_count": null,
      "outputs": [
        {
          "output_type": "stream",
          "text": [
            "Enter state postal code: (Example for california enter CA)\n",
            "CA\n",
            "06\n"
          ],
          "name": "stdout"
        }
      ]
    },
    {
      "cell_type": "code",
      "metadata": {
        "id": "DJ7imnalL5sn"
      },
      "source": [
        "#Add control polygon of California //  https://datadrivenlab.org/big-data-2/google-earth-engine-tutorial/\n",
        "# Load US county dataset.\n",
        "countyData = ee.FeatureCollection('TIGER/2018/Counties').filter(ee.Filter.eq('STATEFP', FIP))\n",
        "\n",
        "# Get the union of the county geometries in the county.\n",
        "control = countyData.union(100).geometry().bounds(100)\n",
        "\n",
        "\n",
        "#Add Earth Engine dataset (NAIP)\n",
        "naip = ee.ImageCollection(\"USDA/NAIP/DOQQ\").filterDate('2016-01-01','2019-01-01')\n",
        "naip1= naip.median().clip(control);\n"
      ],
      "execution_count": null,
      "outputs": []
    },
    {
      "cell_type": "code",
      "metadata": {
        "id": "7uHCzGRHlvub"
      },
      "source": [
        "#Add water ocurrence map to see the water bodies\n",
        "water = ee.Image(\"JRC/GSW1_2/GlobalSurfaceWater\").select('occurrence').clip(control)\n",
        "water = water\n"
      ],
      "execution_count": null,
      "outputs": []
    },
    {
      "cell_type": "code",
      "metadata": {
        "id": "61j-XKwyala1"
      },
      "source": [
        "#Add DEM\n",
        "DEM = ee.Image(\"USGS/NED\").clip(control)\n",
        "aspect = ee.Terrain.aspect(DEM)\n",
        "slope  =ee.Terrain.slope(DEM)\n"
      ],
      "execution_count": null,
      "outputs": []
    },
    {
      "cell_type": "code",
      "metadata": {
        "id": "SVQQGaKKnfTE"
      },
      "source": [
        "#Add continents' boundaries to delete polygons on the coastline\n",
        "continents = ee.Image(\"users/gena/land_polygons_image\")"
      ],
      "execution_count": null,
      "outputs": []
    },
    {
      "cell_type": "code",
      "metadata": {
        "id": "stVAzCdTbKS6"
      },
      "source": [
        "# https://developers.google.com/earth-engine/guides/image_visualization \n",
        "\n",
        "ndwi = naip1.normalizedDifference(['G','N']).rename(['ndwi'])\n",
        "\n",
        "# To mask the non-watery parts of the image, where NDWI < 0.3\n",
        "ndwiMasked = ndwi.updateMask(ndwi.gte(0.5))\n"
      ],
      "execution_count": null,
      "outputs": []
    },
    {
      "cell_type": "markdown",
      "metadata": {
        "id": "9jWP2bV8VLqJ"
      },
      "source": [
        "## Normalized channels"
      ]
    },
    {
      "cell_type": "code",
      "metadata": {
        "id": "bPoZljV0oFfq"
      },
      "source": [
        "SCALE = 10\n",
        "DEMminMax = DEM.reduceRegion(\n",
        "  reducer= ee.Reducer.minMax(),\n",
        "  geometry= DEM.geometry(),\n",
        "  scale= SCALE,\n",
        "  maxPixels= 10e12\n",
        "  )\n",
        "\n",
        "ndwiminMax = ndwi.reduceRegion(\n",
        "  reducer= ee.Reducer.minMax(),\n",
        "  geometry= ndwi.geometry(),\n",
        "  scale= SCALE,\n",
        "  maxPixels= 10e12\n",
        "  )\n",
        "\n",
        "waterminMax = water.reduceRegion(\n",
        "  reducer= ee.Reducer.minMax(),\n",
        "  geometry= water.geometry(),\n",
        "  scale= SCALE,\n",
        "  maxPixels= 10e12\n",
        "  )\n",
        "\n",
        "AspectminMax = aspect.reduceRegion(\n",
        "  reducer= ee.Reducer.minMax(),\n",
        "  geometry= aspect.geometry(),\n",
        "  scale= SCALE,\n",
        "  maxPixels= 10e12\n",
        "  )\n",
        "\n",
        "SlopeminMax = slope.reduceRegion(\n",
        "  reducer= ee.Reducer.minMax(),\n",
        "  geometry= slope.geometry(),\n",
        "  scale= SCALE,\n",
        "  maxPixels= 10e12\n",
        "  )"
      ],
      "execution_count": null,
      "outputs": []
    },
    {
      "cell_type": "code",
      "metadata": {
        "id": "EQhjegN0ikNT"
      },
      "source": [
        "norm_DEM = DEM.unitScale(ee.Number(DEMminMax.get('elevation_min')), ee.Number(DEMminMax.get('elevation_max'))).double()\n",
        "norm_ndwi = ndwi.unitScale(ee.Number(ndwiminMax.get('ndwi_min')), ee.Number(ndwiminMax.get('ndwi_max'))).double()\n",
        "norm_water = water.unitScale(ee.Number(waterminMax.get('occurrence_min')), ee.Number(waterminMax.get('occurrence_max'))).double() \n",
        "norm_aspect = aspect.unitScale(ee.Number(AspectminMax.get('aspect_min')), ee.Number(AspectminMax.get('aspect_max'))).double() \n",
        "norm_slope = slope.unitScale(ee.Number(SlopeminMax.get('slope_min')), ee.Number(SlopeminMax.get('slope_max'))).double() "
      ],
      "execution_count": null,
      "outputs": []
    },
    {
      "cell_type": "code",
      "metadata": {
        "id": "dYGFmbssDMV-"
      },
      "source": [
        "#To add the normalized channels as bands in the NAIP image\n",
        "naip2 = naip1.addBands(norm_ndwi).addBands(norm_water).addBands(norm_aspect).addBands(norm_slope).addBands(norm_DEM)"
      ],
      "execution_count": null,
      "outputs": []
    },
    {
      "cell_type": "markdown",
      "metadata": {
        "id": "SgnMhrbI-2ZV"
      },
      "source": [
        "## Map visualization"
      ]
    },
    {
      "cell_type": "code",
      "metadata": {
        "id": "n55bJalgxodN",
        "colab": {
          "base_uri": "https://localhost:8080/",
          "height": 685
        },
        "outputId": "bf131a91-afca-4f27-8f26-76bd8f215a8d"
      },
      "source": [
        "# # Displays the map\n",
        "# #colors https://en.wikipedia.org/wiki/Web_colors \n",
        "# #https://github.com/gee-community/ee-palettes\n",
        "\n",
        "Map = geemap.Map()\n",
        "Map.setCenter(-120.08, 36.86)\n",
        "\n",
        "Map.addLayer(naip1, {}, \"NAIP\");\n",
        "\n",
        "#AOI: Area of interest\n",
        "Map.addLayer(control, {'color': 'yellow', 'opacity': 0.5}, \"AOI\");\n",
        "\n",
        "#DEM bands\n",
        "hs = ee.Terrain.hillshade(DEM)\n",
        "Map.addLayer(hs, {}, 'Elevation hillshade')\n",
        "Map.addLayer(aspect, {'min': 0, 'max': 360}, 'Aspect')\n",
        "Map.addLayer(slope, {}, 'Slope')\n",
        "\n",
        "#Water occurrence\n",
        "Map.addLayer(water, { 'min': 0, 'max': 1, 'palette': ['00ffff'] }, 'water')\n",
        "\n",
        "#NDWI\n",
        "Map.addLayer(ndwi, {'min': 0.5, 'max': 1, 'palette': ['00FFFF', '0000FF']}, 'NDWI')\n",
        "# ['0000ff', '00ffff', 'ffff00', 'ff0000', 'ffffff']\n",
        "Map.addLayer(ndwiMasked, {'min': 0.5, 'max': 1, 'palette': ['00FFFF', '0000FF']}, 'NDWI masked')\n",
        "\n",
        "Map.addLayerControl() \n",
        "Map"
      ],
      "execution_count": null,
      "outputs": [
        {
          "output_type": "execute_result",
          "data": {
            "text/html": [
              "<div style=\"width:100%;\"><div style=\"position:relative;width:100%;height:0;padding-bottom:60%;\"><span style=\"color:#565656\">Make this Notebook Trusted to load map: File -> Trust Notebook</span><iframe src=\"about:blank\" style=\"position:absolute;width:100%;height:100%;left:0;top:0;border:none !important;\" data-html=%3C%21DOCTYPE%20html%3E%0A%3Chead%3E%20%20%20%20%0A%20%20%20%20%3Cmeta%20http-equiv%3D%22content-type%22%20content%3D%22text/html%3B%20charset%3DUTF-8%22%20/%3E%0A%20%20%20%20%0A%20%20%20%20%20%20%20%20%3Cscript%3E%0A%20%20%20%20%20%20%20%20%20%20%20%20L_NO_TOUCH%20%3D%20false%3B%0A%20%20%20%20%20%20%20%20%20%20%20%20L_DISABLE_3D%20%3D%20false%3B%0A%20%20%20%20%20%20%20%20%3C/script%3E%0A%20%20%20%20%0A%20%20%20%20%3Cstyle%3Ehtml%2C%20body%20%7Bwidth%3A%20100%25%3Bheight%3A%20100%25%3Bmargin%3A%200%3Bpadding%3A%200%3B%7D%3C/style%3E%0A%20%20%20%20%3Cstyle%3E%23map%20%7Bposition%3Aabsolute%3Btop%3A0%3Bbottom%3A0%3Bright%3A0%3Bleft%3A0%3B%7D%3C/style%3E%0A%20%20%20%20%3Cscript%20src%3D%22https%3A//cdn.jsdelivr.net/npm/leaflet%401.6.0/dist/leaflet.js%22%3E%3C/script%3E%0A%20%20%20%20%3Cscript%20src%3D%22https%3A//code.jquery.com/jquery-1.12.4.min.js%22%3E%3C/script%3E%0A%20%20%20%20%3Cscript%20src%3D%22https%3A//maxcdn.bootstrapcdn.com/bootstrap/3.2.0/js/bootstrap.min.js%22%3E%3C/script%3E%0A%20%20%20%20%3Cscript%20src%3D%22https%3A//cdnjs.cloudflare.com/ajax/libs/Leaflet.awesome-markers/2.0.2/leaflet.awesome-markers.js%22%3E%3C/script%3E%0A%20%20%20%20%3Clink%20rel%3D%22stylesheet%22%20href%3D%22https%3A//cdn.jsdelivr.net/npm/leaflet%401.6.0/dist/leaflet.css%22/%3E%0A%20%20%20%20%3Clink%20rel%3D%22stylesheet%22%20href%3D%22https%3A//maxcdn.bootstrapcdn.com/bootstrap/3.2.0/css/bootstrap.min.css%22/%3E%0A%20%20%20%20%3Clink%20rel%3D%22stylesheet%22%20href%3D%22https%3A//maxcdn.bootstrapcdn.com/bootstrap/3.2.0/css/bootstrap-theme.min.css%22/%3E%0A%20%20%20%20%3Clink%20rel%3D%22stylesheet%22%20href%3D%22https%3A//maxcdn.bootstrapcdn.com/font-awesome/4.6.3/css/font-awesome.min.css%22/%3E%0A%20%20%20%20%3Clink%20rel%3D%22stylesheet%22%20href%3D%22https%3A//cdnjs.cloudflare.com/ajax/libs/Leaflet.awesome-markers/2.0.2/leaflet.awesome-markers.css%22/%3E%0A%20%20%20%20%3Clink%20rel%3D%22stylesheet%22%20href%3D%22https%3A//cdn.jsdelivr.net/gh/python-visualization/folium/folium/templates/leaflet.awesome.rotate.min.css%22/%3E%0A%20%20%20%20%0A%20%20%20%20%20%20%20%20%20%20%20%20%3Cmeta%20name%3D%22viewport%22%20content%3D%22width%3Ddevice-width%2C%0A%20%20%20%20%20%20%20%20%20%20%20%20%20%20%20%20initial-scale%3D1.0%2C%20maximum-scale%3D1.0%2C%20user-scalable%3Dno%22%20/%3E%0A%20%20%20%20%20%20%20%20%20%20%20%20%3Cstyle%3E%0A%20%20%20%20%20%20%20%20%20%20%20%20%20%20%20%20%23map_93a9283295d64e5ca9496d328de5baf8%20%7B%0A%20%20%20%20%20%20%20%20%20%20%20%20%20%20%20%20%20%20%20%20position%3A%20relative%3B%0A%20%20%20%20%20%20%20%20%20%20%20%20%20%20%20%20%20%20%20%20width%3A%20100.0%25%3B%0A%20%20%20%20%20%20%20%20%20%20%20%20%20%20%20%20%20%20%20%20height%3A%20100.0%25%3B%0A%20%20%20%20%20%20%20%20%20%20%20%20%20%20%20%20%20%20%20%20left%3A%200.0%25%3B%0A%20%20%20%20%20%20%20%20%20%20%20%20%20%20%20%20%20%20%20%20top%3A%200.0%25%3B%0A%20%20%20%20%20%20%20%20%20%20%20%20%20%20%20%20%7D%0A%20%20%20%20%20%20%20%20%20%20%20%20%3C/style%3E%0A%20%20%20%20%20%20%20%20%0A%20%20%20%20%3Cscript%20src%3D%22https%3A//cdnjs.cloudflare.com/ajax/libs/leaflet.fullscreen/1.4.2/Control.FullScreen.min.js%22%3E%3C/script%3E%0A%20%20%20%20%3Clink%20rel%3D%22stylesheet%22%20href%3D%22https%3A//cdnjs.cloudflare.com/ajax/libs/leaflet.fullscreen/1.4.2/Control.FullScreen.min.css%22/%3E%0A%3C/head%3E%0A%3Cbody%3E%20%20%20%20%0A%20%20%20%20%0A%20%20%20%20%20%20%20%20%20%20%20%20%3Cdiv%20class%3D%22folium-map%22%20id%3D%22map_93a9283295d64e5ca9496d328de5baf8%22%20%3E%3C/div%3E%0A%20%20%20%20%20%20%20%20%0A%3C/body%3E%0A%3Cscript%3E%20%20%20%20%0A%20%20%20%20%0A%20%20%20%20%20%20%20%20%20%20%20%20var%20map_93a9283295d64e5ca9496d328de5baf8%20%3D%20L.map%28%0A%20%20%20%20%20%20%20%20%20%20%20%20%20%20%20%20%22map_93a9283295d64e5ca9496d328de5baf8%22%2C%0A%20%20%20%20%20%20%20%20%20%20%20%20%20%20%20%20%7B%0A%20%20%20%20%20%20%20%20%20%20%20%20%20%20%20%20%20%20%20%20center%3A%20%5B40.0%2C%20-100.0%5D%2C%0A%20%20%20%20%20%20%20%20%20%20%20%20%20%20%20%20%20%20%20%20crs%3A%20L.CRS.EPSG3857%2C%0A%20%20%20%20%20%20%20%20%20%20%20%20%20%20%20%20%20%20%20%20zoom%3A%204%2C%0A%20%20%20%20%20%20%20%20%20%20%20%20%20%20%20%20%20%20%20%20zoomControl%3A%20true%2C%0A%20%20%20%20%20%20%20%20%20%20%20%20%20%20%20%20%20%20%20%20preferCanvas%3A%20false%2C%0A%20%20%20%20%20%20%20%20%20%20%20%20%20%20%20%20%20%20%20%20eeInitialize%3A%20true%2C%0A%20%20%20%20%20%20%20%20%20%20%20%20%20%20%20%20%20%20%20%20addGoogleMap%3A%20true%2C%0A%20%20%20%20%20%20%20%20%20%20%20%20%20%20%20%20%20%20%20%20pluginLatlngpopup%3A%20true%2C%0A%20%20%20%20%20%20%20%20%20%20%20%20%20%20%20%20%20%20%20%20pluginFullscreen%3A%20true%2C%0A%20%20%20%20%20%20%20%20%20%20%20%20%20%20%20%20%20%20%20%20pluginDraw%3A%20false%2C%0A%20%20%20%20%20%20%20%20%20%20%20%20%20%20%20%20%20%20%20%20DrawExport%3A%20true%2C%0A%20%20%20%20%20%20%20%20%20%20%20%20%20%20%20%20%20%20%20%20pluginMinimap%3A%20false%2C%0A%20%20%20%20%20%20%20%20%20%20%20%20%20%20%20%20%20%20%20%20pluginLayercontrol%3A%20false%2C%0A%20%20%20%20%20%20%20%20%20%20%20%20%20%20%20%20%7D%0A%20%20%20%20%20%20%20%20%20%20%20%20%29%3B%0A%0A%20%20%20%20%20%20%20%20%20%20%20%20%0A%0A%20%20%20%20%20%20%20%20%0A%20%20%20%20%0A%20%20%20%20%20%20%20%20%20%20%20%20var%20tile_layer_6001b2e3e183495a9f36df11ba3e72c0%20%3D%20L.tileLayer%28%0A%20%20%20%20%20%20%20%20%20%20%20%20%20%20%20%20%22https%3A//%7Bs%7D.tile.openstreetmap.org/%7Bz%7D/%7Bx%7D/%7By%7D.png%22%2C%0A%20%20%20%20%20%20%20%20%20%20%20%20%20%20%20%20%7B%22attribution%22%3A%20%22Data%20by%20%5Cu0026copy%3B%20%5Cu003ca%20href%3D%5C%22http%3A//openstreetmap.org%5C%22%5Cu003eOpenStreetMap%5Cu003c/a%5Cu003e%2C%20under%20%5Cu003ca%20href%3D%5C%22http%3A//www.openstreetmap.org/copyright%5C%22%5Cu003eODbL%5Cu003c/a%5Cu003e.%22%2C%20%22detectRetina%22%3A%20false%2C%20%22maxNativeZoom%22%3A%2018%2C%20%22maxZoom%22%3A%2018%2C%20%22minZoom%22%3A%200%2C%20%22noWrap%22%3A%20false%2C%20%22opacity%22%3A%201%2C%20%22subdomains%22%3A%20%22abc%22%2C%20%22tms%22%3A%20false%7D%0A%20%20%20%20%20%20%20%20%20%20%20%20%29.addTo%28map_93a9283295d64e5ca9496d328de5baf8%29%3B%0A%20%20%20%20%20%20%20%20%0A%20%20%20%20%0A%20%20%20%20%20%20%20%20%20%20%20%20var%20tile_layer_1263d3de588b419892305ff9687bacd6%20%3D%20L.tileLayer%28%0A%20%20%20%20%20%20%20%20%20%20%20%20%20%20%20%20%22https%3A//mt1.google.com/vt/lyrs%3Dm%5Cu0026x%3D%7Bx%7D%5Cu0026y%3D%7By%7D%5Cu0026z%3D%7Bz%7D%22%2C%0A%20%20%20%20%20%20%20%20%20%20%20%20%20%20%20%20%7B%22attribution%22%3A%20%22Google%22%2C%20%22detectRetina%22%3A%20false%2C%20%22maxNativeZoom%22%3A%2018%2C%20%22maxZoom%22%3A%2018%2C%20%22minZoom%22%3A%200%2C%20%22noWrap%22%3A%20false%2C%20%22opacity%22%3A%201%2C%20%22subdomains%22%3A%20%22abc%22%2C%20%22tms%22%3A%20false%7D%0A%20%20%20%20%20%20%20%20%20%20%20%20%29.addTo%28map_93a9283295d64e5ca9496d328de5baf8%29%3B%0A%20%20%20%20%20%20%20%20%0A%20%20%20%20%0A%20%20%20%20%20%20%20%20%20%20%20%20%20%20%20%20var%20lat_lng_popup_90e765f9f6b14b34b636ec5ae4bfa1fc%20%3D%20L.popup%28%29%3B%0A%20%20%20%20%20%20%20%20%20%20%20%20%20%20%20%20function%20latLngPop%28e%29%20%7B%0A%20%20%20%20%20%20%20%20%20%20%20%20%20%20%20%20%20%20%20%20lat_lng_popup_90e765f9f6b14b34b636ec5ae4bfa1fc%0A%20%20%20%20%20%20%20%20%20%20%20%20%20%20%20%20%20%20%20%20%20%20%20%20.setLatLng%28e.latlng%29%0A%20%20%20%20%20%20%20%20%20%20%20%20%20%20%20%20%20%20%20%20%20%20%20%20.setContent%28%22Latitude%3A%20%22%20%2B%20e.latlng.lat.toFixed%284%29%20%2B%0A%20%20%20%20%20%20%20%20%20%20%20%20%20%20%20%20%20%20%20%20%20%20%20%20%20%20%20%20%20%20%20%20%20%20%20%20%22%3Cbr%3ELongitude%3A%20%22%20%2B%20e.latlng.lng.toFixed%284%29%29%0A%20%20%20%20%20%20%20%20%20%20%20%20%20%20%20%20%20%20%20%20%20%20%20%20.openOn%28map_93a9283295d64e5ca9496d328de5baf8%29%3B%0A%20%20%20%20%20%20%20%20%20%20%20%20%20%20%20%20%20%20%20%20%7D%0A%20%20%20%20%20%20%20%20%20%20%20%20%20%20%20%20map_93a9283295d64e5ca9496d328de5baf8.on%28%27click%27%2C%20latLngPop%29%3B%0A%20%20%20%20%20%20%20%20%20%20%20%20%0A%20%20%20%20%0A%20%20%20%20%20%20%20%20%20%20%20%20L.control.fullscreen%28%0A%20%20%20%20%20%20%20%20%20%20%20%20%20%20%20%20%7B%22forceSeparateButton%22%3A%20false%2C%20%22position%22%3A%20%22topleft%22%2C%20%22title%22%3A%20%22Full%20Screen%22%2C%20%22titleCancel%22%3A%20%22Exit%20Full%20Screen%22%7D%0A%20%20%20%20%20%20%20%20%20%20%20%20%29.addTo%28map_93a9283295d64e5ca9496d328de5baf8%29%3B%0A%20%20%20%20%20%20%20%20%0A%20%20%20%20%0A%20%20%20%20%20%20%20%20%20%20%20%20map_93a9283295d64e5ca9496d328de5baf8.fitBounds%28%0A%20%20%20%20%20%20%20%20%20%20%20%20%20%20%20%20%5B%5B40%2C%20-100%5D%2C%20%5B40%2C%20-100%5D%5D%2C%0A%20%20%20%20%20%20%20%20%20%20%20%20%20%20%20%20%7B%22maxZoom%22%3A%204%7D%0A%20%20%20%20%20%20%20%20%20%20%20%20%29%3B%0A%20%20%20%20%20%20%20%20%0A%20%20%20%20%0A%20%20%20%20%20%20%20%20%20%20%20%20map_93a9283295d64e5ca9496d328de5baf8.fitBounds%28%0A%20%20%20%20%20%20%20%20%20%20%20%20%20%20%20%20%5B%5B36.86%2C%20-120.08%5D%2C%20%5B36.86%2C%20-120.08%5D%5D%2C%0A%20%20%20%20%20%20%20%20%20%20%20%20%20%20%20%20%7B%22maxZoom%22%3A%2010%7D%0A%20%20%20%20%20%20%20%20%20%20%20%20%29%3B%0A%20%20%20%20%20%20%20%20%0A%20%20%20%20%0A%20%20%20%20%20%20%20%20%20%20%20%20var%20tile_layer_d6bdb2afc3004d2289e25c392825398f%20%3D%20L.tileLayer%28%0A%20%20%20%20%20%20%20%20%20%20%20%20%20%20%20%20%22https%3A//earthengine.googleapis.com/v1alpha/projects/earthengine-legacy/maps/fb693b816db518af0950e3ad85cd72b7-77bea949f4b1472401d9d18d28519b69/tiles/%7Bz%7D/%7Bx%7D/%7By%7D%22%2C%0A%20%20%20%20%20%20%20%20%20%20%20%20%20%20%20%20%7B%22attribution%22%3A%20%22Google%20Earth%20Engine%22%2C%20%22detectRetina%22%3A%20false%2C%20%22maxNativeZoom%22%3A%2018%2C%20%22maxZoom%22%3A%2018%2C%20%22minZoom%22%3A%200%2C%20%22noWrap%22%3A%20false%2C%20%22opacity%22%3A%201.0%2C%20%22subdomains%22%3A%20%22abc%22%2C%20%22tms%22%3A%20false%7D%0A%20%20%20%20%20%20%20%20%20%20%20%20%29.addTo%28map_93a9283295d64e5ca9496d328de5baf8%29%3B%0A%20%20%20%20%20%20%20%20%0A%20%20%20%20%0A%20%20%20%20%20%20%20%20%20%20%20%20var%20tile_layer_1eafa0e45c354e9bab5d4eacc72c2feb%20%3D%20L.tileLayer%28%0A%20%20%20%20%20%20%20%20%20%20%20%20%20%20%20%20%22https%3A//earthengine.googleapis.com/v1alpha/projects/earthengine-legacy/maps/5ae486f9c41c344ce508ed95b80ef0d2-e62389c6b4bf6d815fa623e695de881c/tiles/%7Bz%7D/%7Bx%7D/%7By%7D%22%2C%0A%20%20%20%20%20%20%20%20%20%20%20%20%20%20%20%20%7B%22attribution%22%3A%20%22Google%20Earth%20Engine%22%2C%20%22detectRetina%22%3A%20false%2C%20%22maxNativeZoom%22%3A%2018%2C%20%22maxZoom%22%3A%2018%2C%20%22minZoom%22%3A%200%2C%20%22noWrap%22%3A%20false%2C%20%22opacity%22%3A%201.0%2C%20%22subdomains%22%3A%20%22abc%22%2C%20%22tms%22%3A%20false%7D%0A%20%20%20%20%20%20%20%20%20%20%20%20%29.addTo%28map_93a9283295d64e5ca9496d328de5baf8%29%3B%0A%20%20%20%20%20%20%20%20%0A%20%20%20%20%0A%20%20%20%20%20%20%20%20%20%20%20%20var%20tile_layer_7aee44e11e23416abc26786922115b2f%20%3D%20L.tileLayer%28%0A%20%20%20%20%20%20%20%20%20%20%20%20%20%20%20%20%22https%3A//earthengine.googleapis.com/v1alpha/projects/earthengine-legacy/maps/9d1445206309cad6f11ccc71e3a37bf3-10657d7a7216e50ad0fc0be0c1407fe9/tiles/%7Bz%7D/%7Bx%7D/%7By%7D%22%2C%0A%20%20%20%20%20%20%20%20%20%20%20%20%20%20%20%20%7B%22attribution%22%3A%20%22Google%20Earth%20Engine%22%2C%20%22detectRetina%22%3A%20false%2C%20%22maxNativeZoom%22%3A%2018%2C%20%22maxZoom%22%3A%2018%2C%20%22minZoom%22%3A%200%2C%20%22noWrap%22%3A%20false%2C%20%22opacity%22%3A%201.0%2C%20%22subdomains%22%3A%20%22abc%22%2C%20%22tms%22%3A%20false%7D%0A%20%20%20%20%20%20%20%20%20%20%20%20%29.addTo%28map_93a9283295d64e5ca9496d328de5baf8%29%3B%0A%20%20%20%20%20%20%20%20%0A%20%20%20%20%0A%20%20%20%20%20%20%20%20%20%20%20%20var%20tile_layer_54349a1a178e4d2dadedf26518b30a6e%20%3D%20L.tileLayer%28%0A%20%20%20%20%20%20%20%20%20%20%20%20%20%20%20%20%22https%3A//earthengine.googleapis.com/v1alpha/projects/earthengine-legacy/maps/d3ac18a5308c24c76272b2f156610cab-d2bc4d64a2e3f3a0e8897ef2954afeb3/tiles/%7Bz%7D/%7Bx%7D/%7By%7D%22%2C%0A%20%20%20%20%20%20%20%20%20%20%20%20%20%20%20%20%7B%22attribution%22%3A%20%22Google%20Earth%20Engine%22%2C%20%22detectRetina%22%3A%20false%2C%20%22maxNativeZoom%22%3A%2018%2C%20%22maxZoom%22%3A%2018%2C%20%22minZoom%22%3A%200%2C%20%22noWrap%22%3A%20false%2C%20%22opacity%22%3A%201.0%2C%20%22subdomains%22%3A%20%22abc%22%2C%20%22tms%22%3A%20false%7D%0A%20%20%20%20%20%20%20%20%20%20%20%20%29.addTo%28map_93a9283295d64e5ca9496d328de5baf8%29%3B%0A%20%20%20%20%20%20%20%20%0A%20%20%20%20%0A%20%20%20%20%20%20%20%20%20%20%20%20var%20tile_layer_5e7ac27f2bfd4db9b6924c17a2503e97%20%3D%20L.tileLayer%28%0A%20%20%20%20%20%20%20%20%20%20%20%20%20%20%20%20%22https%3A//earthengine.googleapis.com/v1alpha/projects/earthengine-legacy/maps/b4dfb7f9b1a2917eca5b1ca21964b1f2-b60023c85fd55de999e148b166769ee1/tiles/%7Bz%7D/%7Bx%7D/%7By%7D%22%2C%0A%20%20%20%20%20%20%20%20%20%20%20%20%20%20%20%20%7B%22attribution%22%3A%20%22Google%20Earth%20Engine%22%2C%20%22detectRetina%22%3A%20false%2C%20%22maxNativeZoom%22%3A%2018%2C%20%22maxZoom%22%3A%2018%2C%20%22minZoom%22%3A%200%2C%20%22noWrap%22%3A%20false%2C%20%22opacity%22%3A%201.0%2C%20%22subdomains%22%3A%20%22abc%22%2C%20%22tms%22%3A%20false%7D%0A%20%20%20%20%20%20%20%20%20%20%20%20%29.addTo%28map_93a9283295d64e5ca9496d328de5baf8%29%3B%0A%20%20%20%20%20%20%20%20%0A%20%20%20%20%0A%20%20%20%20%20%20%20%20%20%20%20%20var%20tile_layer_1fcb7a00bc134b6eb97a8905fbf8e858%20%3D%20L.tileLayer%28%0A%20%20%20%20%20%20%20%20%20%20%20%20%20%20%20%20%22https%3A//earthengine.googleapis.com/v1alpha/projects/earthengine-legacy/maps/86348887d1d0d316b3760f5dd3a14046-9bec303dac377da2e3d8fb2f7d060e31/tiles/%7Bz%7D/%7Bx%7D/%7By%7D%22%2C%0A%20%20%20%20%20%20%20%20%20%20%20%20%20%20%20%20%7B%22attribution%22%3A%20%22Google%20Earth%20Engine%22%2C%20%22detectRetina%22%3A%20false%2C%20%22maxNativeZoom%22%3A%2018%2C%20%22maxZoom%22%3A%2018%2C%20%22minZoom%22%3A%200%2C%20%22noWrap%22%3A%20false%2C%20%22opacity%22%3A%201.0%2C%20%22subdomains%22%3A%20%22abc%22%2C%20%22tms%22%3A%20false%7D%0A%20%20%20%20%20%20%20%20%20%20%20%20%29.addTo%28map_93a9283295d64e5ca9496d328de5baf8%29%3B%0A%20%20%20%20%20%20%20%20%0A%20%20%20%20%0A%20%20%20%20%20%20%20%20%20%20%20%20var%20tile_layer_392fc7dfd1a047d886a9b24f800ff7b5%20%3D%20L.tileLayer%28%0A%20%20%20%20%20%20%20%20%20%20%20%20%20%20%20%20%22https%3A//earthengine.googleapis.com/v1alpha/projects/earthengine-legacy/maps/8826b8e53142ee01fd077e58ac92d195-23557d03e94f30a15c5d2068632ff0fd/tiles/%7Bz%7D/%7Bx%7D/%7By%7D%22%2C%0A%20%20%20%20%20%20%20%20%20%20%20%20%20%20%20%20%7B%22attribution%22%3A%20%22Google%20Earth%20Engine%22%2C%20%22detectRetina%22%3A%20false%2C%20%22maxNativeZoom%22%3A%2018%2C%20%22maxZoom%22%3A%2018%2C%20%22minZoom%22%3A%200%2C%20%22noWrap%22%3A%20false%2C%20%22opacity%22%3A%201.0%2C%20%22subdomains%22%3A%20%22abc%22%2C%20%22tms%22%3A%20false%7D%0A%20%20%20%20%20%20%20%20%20%20%20%20%29.addTo%28map_93a9283295d64e5ca9496d328de5baf8%29%3B%0A%20%20%20%20%20%20%20%20%0A%20%20%20%20%0A%20%20%20%20%20%20%20%20%20%20%20%20var%20tile_layer_273f728fbcf2473db4417555256f2587%20%3D%20L.tileLayer%28%0A%20%20%20%20%20%20%20%20%20%20%20%20%20%20%20%20%22https%3A//earthengine.googleapis.com/v1alpha/projects/earthengine-legacy/maps/3fc1585d0ed1e10047238f352e485258-e05f6e8616c8aa8c49c9c527b16fb43c/tiles/%7Bz%7D/%7Bx%7D/%7By%7D%22%2C%0A%20%20%20%20%20%20%20%20%20%20%20%20%20%20%20%20%7B%22attribution%22%3A%20%22Google%20Earth%20Engine%22%2C%20%22detectRetina%22%3A%20false%2C%20%22maxNativeZoom%22%3A%2018%2C%20%22maxZoom%22%3A%2018%2C%20%22minZoom%22%3A%200%2C%20%22noWrap%22%3A%20false%2C%20%22opacity%22%3A%201.0%2C%20%22subdomains%22%3A%20%22abc%22%2C%20%22tms%22%3A%20false%7D%0A%20%20%20%20%20%20%20%20%20%20%20%20%29.addTo%28map_93a9283295d64e5ca9496d328de5baf8%29%3B%0A%20%20%20%20%20%20%20%20%0A%20%20%20%20%0A%20%20%20%20%20%20%20%20%20%20%20%20var%20layer_control_c154595c610d43019e634a4851bd455d%20%3D%20%7B%0A%20%20%20%20%20%20%20%20%20%20%20%20%20%20%20%20base_layers%20%3A%20%7B%0A%20%20%20%20%20%20%20%20%20%20%20%20%20%20%20%20%20%20%20%20%22openstreetmap%22%20%3A%20tile_layer_6001b2e3e183495a9f36df11ba3e72c0%2C%0A%20%20%20%20%20%20%20%20%20%20%20%20%20%20%20%20%7D%2C%0A%20%20%20%20%20%20%20%20%20%20%20%20%20%20%20%20overlays%20%3A%20%20%7B%0A%20%20%20%20%20%20%20%20%20%20%20%20%20%20%20%20%20%20%20%20%22Google%20Maps%22%20%3A%20tile_layer_1263d3de588b419892305ff9687bacd6%2C%0A%20%20%20%20%20%20%20%20%20%20%20%20%20%20%20%20%20%20%20%20%22NAIP%22%20%3A%20tile_layer_d6bdb2afc3004d2289e25c392825398f%2C%0A%20%20%20%20%20%20%20%20%20%20%20%20%20%20%20%20%20%20%20%20%22AOI%22%20%3A%20tile_layer_1eafa0e45c354e9bab5d4eacc72c2feb%2C%0A%20%20%20%20%20%20%20%20%20%20%20%20%20%20%20%20%20%20%20%20%22Elevation%20hillshade%22%20%3A%20tile_layer_7aee44e11e23416abc26786922115b2f%2C%0A%20%20%20%20%20%20%20%20%20%20%20%20%20%20%20%20%20%20%20%20%22Aspect%22%20%3A%20tile_layer_54349a1a178e4d2dadedf26518b30a6e%2C%0A%20%20%20%20%20%20%20%20%20%20%20%20%20%20%20%20%20%20%20%20%22Slope%22%20%3A%20tile_layer_5e7ac27f2bfd4db9b6924c17a2503e97%2C%0A%20%20%20%20%20%20%20%20%20%20%20%20%20%20%20%20%20%20%20%20%22water%22%20%3A%20tile_layer_1fcb7a00bc134b6eb97a8905fbf8e858%2C%0A%20%20%20%20%20%20%20%20%20%20%20%20%20%20%20%20%20%20%20%20%22NDWI%22%20%3A%20tile_layer_392fc7dfd1a047d886a9b24f800ff7b5%2C%0A%20%20%20%20%20%20%20%20%20%20%20%20%20%20%20%20%20%20%20%20%22NDWI%20masked%22%20%3A%20tile_layer_273f728fbcf2473db4417555256f2587%2C%0A%20%20%20%20%20%20%20%20%20%20%20%20%20%20%20%20%7D%2C%0A%20%20%20%20%20%20%20%20%20%20%20%20%7D%3B%0A%20%20%20%20%20%20%20%20%20%20%20%20L.control.layers%28%0A%20%20%20%20%20%20%20%20%20%20%20%20%20%20%20%20layer_control_c154595c610d43019e634a4851bd455d.base_layers%2C%0A%20%20%20%20%20%20%20%20%20%20%20%20%20%20%20%20layer_control_c154595c610d43019e634a4851bd455d.overlays%2C%0A%20%20%20%20%20%20%20%20%20%20%20%20%20%20%20%20%7B%22autoZIndex%22%3A%20true%2C%20%22collapsed%22%3A%20true%2C%20%22position%22%3A%20%22topright%22%7D%0A%20%20%20%20%20%20%20%20%20%20%20%20%29.addTo%28map_93a9283295d64e5ca9496d328de5baf8%29%3B%0A%20%20%20%20%20%20%20%20%0A%3C/script%3E onload=\"this.contentDocument.open();this.contentDocument.write(    decodeURIComponent(this.getAttribute('data-html')));this.contentDocument.close();\" allowfullscreen webkitallowfullscreen mozallowfullscreen></iframe></div></div>"
            ],
            "text/plain": [
              "<geemap.eefolium.Map at 0x7fe839b21090>"
            ]
          },
          "metadata": {
            "tags": []
          },
          "execution_count": 16
        }
      ]
    },
    {
      "cell_type": "markdown",
      "metadata": {
        "id": "eBVYsvJox2gv"
      },
      "source": [
        "# Collect dams' dataset from OpenStreetMap API and NID\n"
      ]
    },
    {
      "cell_type": "markdown",
      "metadata": {
        "id": "zPDZCfnHmf3E"
      },
      "source": [
        "## Importing dams locations from OpenStreetMap (Overpass API)\n",
        "OSM API allows the extraction of data in form of features (node, way, relation). In the following algorithm is carried out the extraction of point locations classified as dams in OSM. \n",
        "\n",
        "To create the dam's queries with the right tags: https://taginfo.openstreetmap.org/tags\n",
        "\n",
        "*Note: the extraction of each type of feature has to be done separetely, otherwise the code selects just one type and the other features are not extracted properly.*"
      ]
    },
    {
      "cell_type": "code",
      "metadata": {
        "id": "9_vPYJRpl_7r"
      },
      "source": [
        "url = 'http://overpass-api.de/api/interpreter'  # Overpass API URL\n",
        "query = f\"\"\"\n",
        "[out:json];\n",
        "area[\"ISO3166-2\"=\"US-{state}\"][admin_level=4];\n",
        "(node[\"waterway\"=\"dam\"](area);\n",
        ");\n",
        "out center;\n",
        "\"\"\"\n",
        "\n",
        "r = requests.get(url, params={'data': query})\n",
        "data = r.json()['elements']  # read response as JSON and get the data\n",
        "df = json_normalize(data).rename(columns={\"tags.name\":\"tag_name\"}) #creates a dataframe with the data extracted\n"
      ],
      "execution_count": null,
      "outputs": []
    },
    {
      "cell_type": "code",
      "metadata": {
        "id": "ybPRjXRWyFKP"
      },
      "source": [
        "url = 'http://overpass-api.de/api/interpreter'  # Overpass API URL\n",
        "query2 = f\"\"\"\n",
        "[out:json];\n",
        "area[\"ISO3166-2\"=\"US-{state}\"][admin_level=4];\n",
        "( way[\"waterway\"=\"dam\"](area);\n",
        ");\n",
        "out center;\n",
        "\"\"\"\n",
        "\n",
        "r2 = requests.get(url, params={'data': query2})\n",
        "data2 = r2.json()['elements']  # read response as JSON and get the data\n",
        "df2 = json_normalize(data2).rename(columns={\"center.lat\":\"lat\", \"center.lon\":\"lon\", \"tags.name\":\"tag_name\"})\n"
      ],
      "execution_count": null,
      "outputs": []
    },
    {
      "cell_type": "markdown",
      "metadata": {
        "id": "qiYAY7sFPQZ6"
      },
      "source": [
        "**Re-run the code below, sometimes presents error on the first run**"
      ]
    },
    {
      "cell_type": "code",
      "metadata": {
        "id": "NoHz6Dn-RJ3f"
      },
      "source": [
        "url = 'http://overpass-api.de/api/interpreter'  # Overpass API URL\n",
        "query3 = f\"\"\"\n",
        "[out:json];\n",
        "area[\"ISO3166-2\"=\"US-{state}\"][admin_level=4];\n",
        "( rel[\"waterway\"=\"dam\"](area);\n",
        ");\n",
        "out center;\n",
        "\"\"\"\n",
        "\n",
        "r3 = requests.get(url, params={'data': query3})\n",
        "data3 = r3.json()['elements']  # read response as JSON and get the data\n",
        "df3 = json_normalize(data3).rename(columns={\"center.lat\":\"lat\", \"center.lon\":\"lon\", \"tags.name\":\"tag_name\"})"
      ],
      "execution_count": null,
      "outputs": []
    },
    {
      "cell_type": "code",
      "metadata": {
        "id": "g5jPBMvtgcKL"
      },
      "source": [
        "#Select the columns of the dataframe\n",
        "nodes = pd.DataFrame(df, columns=['lat','lon', 'type', 'tag_name'])\n",
        "ways = pd.DataFrame(df2, columns=['lat','lon', 'type', 'tag_name'])\n",
        "relations = pd.DataFrame(df3, columns=['lat','lon', 'type', 'tag_name'])\n",
        "\n",
        "#Append the three features and add index\n",
        "OSM_dams = nodes.append(ways).append(relations)\n",
        "OSM_dams.reset_index(drop = True, inplace= True)\n",
        "\n",
        "#Create GeoDataframe of the OSM feature collection\n",
        "gdf_OSM = geopandas.GeoDataFrame(OSM_dams)"
      ],
      "execution_count": null,
      "outputs": []
    },
    {
      "cell_type": "markdown",
      "metadata": {
        "id": "VaN-I1LcR4T9"
      },
      "source": [
        "## Importing dams locations from National Inventory of Dams (NID) database"
      ]
    },
    {
      "cell_type": "code",
      "metadata": {
        "id": "pnzJ1-qsMnOs"
      },
      "source": [
        "lines = list()\n",
        "\n",
        "with open(f'{GDRIVE}/NID.csv', 'r') as readFile:\n",
        "\n",
        "    reader = csv.reader(readFile)\n",
        "\n",
        "    for row in reader:\n",
        "\n",
        "        for field in row:\n",
        "\n",
        "            if field == state:\n",
        "\n",
        "                lines.append(row)\n",
        "\n",
        "with open('mycsv.csv', 'w') as writeFile:\n",
        "\n",
        "    writer = csv.writer(writeFile)\n",
        "\n",
        "    writer.writerows(lines)"
      ],
      "execution_count": null,
      "outputs": []
    },
    {
      "cell_type": "code",
      "metadata": {
        "id": "b52mGvluDM9-"
      },
      "source": [
        "data_NID = pd.DataFrame(lines, columns=['RECORDID','LONGITUDE','LATITUDE',\n",
        "                                        'DAM_TYPE','PURPOSES','DAM_LENGTH','DAM_HEIGHT',\n",
        "                                        'MAX_STORAGE','SURFACE_AREA','HAZARD','STATE'])\n",
        "data_NID['LATITUDE']=pd.to_numeric(data_NID['LATITUDE'])\n",
        "data_NID['LONGITUDE']=pd.to_numeric(data_NID['LONGITUDE'])\n",
        "data_NID[\"id\"] = data_NID.index"
      ],
      "execution_count": null,
      "outputs": []
    },
    {
      "cell_type": "code",
      "metadata": {
        "id": "KojGJTKYEPQo"
      },
      "source": [
        "#Create GeoDataframe of the NID feature collection\n",
        "gdf_NID=geopandas.GeoDataFrame(data_NID)"
      ],
      "execution_count": null,
      "outputs": []
    },
    {
      "cell_type": "code",
      "metadata": {
        "id": "7cxb9PezYjLc"
      },
      "source": [
        "grand = list()\n",
        "\n",
        "with open(f'{GDRIVE}/GRAND.csv', 'r') as readFile:\n",
        "\n",
        "    reader = csv.reader(readFile)\n",
        "\n",
        "    for row in reader:\n",
        "\n",
        "        for field in row:\n",
        "\n",
        "            if field == S_NAME:\n",
        "\n",
        "                grand.append(row)\n",
        "\n",
        "with open('mycsv.csv', 'w') as writeFile:\n",
        "\n",
        "    writer = csv.writer(writeFile)\n",
        "\n",
        "    writer.writerows(grand)"
      ],
      "execution_count": null,
      "outputs": []
    },
    {
      "cell_type": "code",
      "metadata": {
        "id": "pJTwPaFubhjf"
      },
      "source": [
        "data_GRAND = pd.DataFrame(grand, columns=['GRAND', 'NAME', 'RIVER', 'STATE', 'YEAR', \n",
        "                                          'HEIGHT', 'LEN', 'AREA_SKM', 'CAP_MCM', \n",
        "                                          'DIS_AVG_LS', 'MAIN_USE', 'QUALITY', 'LONG', 'LAT'])\n",
        "data_GRAND['LAT']=pd.to_numeric(data_GRAND['LAT'])\n",
        "data_GRAND['LONG']=pd.to_numeric(data_GRAND['LONG'])\n",
        "data_GRAND[\"id\"] = data_GRAND.index"
      ],
      "execution_count": null,
      "outputs": []
    },
    {
      "cell_type": "code",
      "metadata": {
        "id": "-pGISh81coiY"
      },
      "source": [
        "#Create GeoDataframe of the NID feature collection\n",
        "gdf_GRAND=geopandas.GeoDataFrame(data_GRAND)"
      ],
      "execution_count": null,
      "outputs": []
    },
    {
      "cell_type": "markdown",
      "metadata": {
        "id": "-M40ORqSFPTX"
      },
      "source": [
        "## Create earth engine objects to add to the interactive map"
      ]
    },
    {
      "cell_type": "code",
      "metadata": {
        "id": "J4E0uJbjj3I2"
      },
      "source": [
        "#To convert the dataframe to shape to then create an earth engine object and add the layer to the map\n",
        "\n",
        "gdf_OSM.set_geometry(\n",
        "    geopandas.points_from_xy(gdf_OSM['lon'], gdf_OSM['lat']),\n",
        "    inplace=True, crs='EPSG:4326')\n",
        "gdf_OSM.drop(['lat', 'lon'], axis=1, inplace=True)  # optional\n",
        "gdf_OSM.to_file('dams_OSM.shp')\n",
        "\n",
        "ee_OSM = geemap.shp_to_ee('dams_OSM.shp')"
      ],
      "execution_count": null,
      "outputs": []
    },
    {
      "cell_type": "code",
      "metadata": {
        "id": "fHFD3PEHqa_2",
        "colab": {
          "base_uri": "https://localhost:8080/"
        },
        "outputId": "efbcc1fc-7ef5-4c05-cf3f-62f604787be3"
      },
      "source": [
        "gdf_NID.set_geometry(\n",
        "    geopandas.points_from_xy(gdf_NID['LONGITUDE'], gdf_NID['LATITUDE']),\n",
        "    inplace=True, crs='EPSG:4326')\n",
        "gdf_NID.drop(['LATITUDE', 'LONGITUDE'], axis=1, inplace=True)  # optional\n",
        "\n",
        "gdf_NID[~gdf_NID.geometry.is_valid]\n",
        "gdf_NID = gdf_NID[gdf_NID.geometry.is_valid == True]\n",
        "gdf_NID.to_file('dams_NID.shp')\n",
        "\n",
        "ee_NID = geemap.shp_to_ee('dams_NID.shp')"
      ],
      "execution_count": null,
      "outputs": [
        {
          "output_type": "stream",
          "text": [
            "/usr/local/lib/python3.7/dist-packages/ipykernel_launcher.py:8: UserWarning: Column names longer than 10 characters will be truncated when saved to ESRI Shapefile.\n",
            "  \n"
          ],
          "name": "stderr"
        }
      ]
    },
    {
      "cell_type": "code",
      "metadata": {
        "id": "fSmVVNOEc0pO"
      },
      "source": [
        "gdf_GRAND.set_geometry(\n",
        "    geopandas.points_from_xy(gdf_GRAND['LONG'], gdf_GRAND['LAT']),\n",
        "    inplace=True, crs='EPSG:4326')\n",
        "gdf_GRAND.drop(['LAT', 'LONG'], axis=1, inplace=True)  # optional\n",
        "\n",
        "gdf_GRAND[~gdf_GRAND.geometry.is_valid]\n",
        "gdf_GRAND = gdf_GRAND[gdf_GRAND.geometry.is_valid == True]\n",
        "gdf_GRAND.to_file('dams_GRAND.shp')\n",
        "\n",
        "ee_GRAND = geemap.shp_to_ee('dams_GRAND.shp')"
      ],
      "execution_count": null,
      "outputs": []
    },
    {
      "cell_type": "markdown",
      "metadata": {
        "id": "RVzUC5RFTxcs"
      },
      "source": [
        "## Create a polygon with centroid in the imported feature collection (OSM/NID)"
      ]
    },
    {
      "cell_type": "code",
      "metadata": {
        "colab": {
          "base_uri": "https://localhost:8080/"
        },
        "id": "GfeTLXI-6Ky3",
        "outputId": "94158573-94b3-4f44-aa20-4bb85d06d129"
      },
      "source": [
        "buffer = gdf_OSM.buffer(0.01, cap_style=3) #0.02 is the dimension in lat/long and cap_style: 1 (round), 2 (flat), 3 (square)\n",
        "buffer_NID = gdf_NID.buffer(0.01, cap_style=3)\n",
        "buffer_GRAND = gdf_GRAND.buffer(0.01, cap_style=3)"
      ],
      "execution_count": null,
      "outputs": [
        {
          "output_type": "stream",
          "text": [
            "/usr/local/lib/python3.7/dist-packages/ipykernel_launcher.py:1: UserWarning: Geometry is in a geographic CRS. Results from 'buffer' are likely incorrect. Use 'GeoSeries.to_crs()' to re-project geometries to a projected CRS before this operation.\n",
            "\n",
            "  \"\"\"Entry point for launching an IPython kernel.\n",
            "/usr/local/lib/python3.7/dist-packages/ipykernel_launcher.py:2: UserWarning: Geometry is in a geographic CRS. Results from 'buffer' are likely incorrect. Use 'GeoSeries.to_crs()' to re-project geometries to a projected CRS before this operation.\n",
            "\n",
            "  \n",
            "/usr/local/lib/python3.7/dist-packages/ipykernel_launcher.py:3: UserWarning: Geometry is in a geographic CRS. Results from 'buffer' are likely incorrect. Use 'GeoSeries.to_crs()' to re-project geometries to a projected CRS before this operation.\n",
            "\n",
            "  This is separate from the ipykernel package so we can avoid doing imports until\n"
          ],
          "name": "stderr"
        }
      ]
    },
    {
      "cell_type": "code",
      "metadata": {
        "id": "gg8uM-Zy5e3w"
      },
      "source": [
        "#From Geoseries to EE object\n",
        "buf_OSM = geopandas.GeoDataFrame(geometry=geopandas.GeoSeries(buffer))\n",
        "buf_OSM.to_file('buffer_OSMdams.shp')\n",
        "ee_polygon_OSM = geemap.shp_to_ee('buffer_OSMdams.shp')\n",
        "\n",
        "buf_NID = geopandas.GeoDataFrame(geometry=geopandas.GeoSeries(buffer_NID))\n",
        "buf_NID.to_file('buffer_NIDdams.shp')\n",
        "ee_polygon_NID = geemap.shp_to_ee('buffer_NIDdams.shp')\n",
        "\n",
        "buf_GRAND = geopandas.GeoDataFrame(geometry=geopandas.GeoSeries(buffer_GRAND))\n",
        "buf_GRAND.to_file('buffer_GRANDdams.shp')\n",
        "ee_polygon_GRAND = geemap.shp_to_ee('buffer_GRANDdams.shp')\n"
      ],
      "execution_count": null,
      "outputs": []
    },
    {
      "cell_type": "markdown",
      "metadata": {
        "id": "q4MTl44QSRF4"
      },
      "source": [
        "## Map visualization"
      ]
    },
    {
      "cell_type": "code",
      "metadata": {
        "id": "AJVRh42oxwW9",
        "colab": {
          "base_uri": "https://localhost:8080/",
          "height": 686
        },
        "outputId": "32852a6a-6395-4762-effd-2918451eeb21"
      },
      "source": [
        "# Displays the map\n",
        "Map = geemap.Map()\n",
        "Map.setCenter(-120.08, 36.86)\n",
        "bounds = Map.get_bounds()\n",
        "\n",
        "Map.addLayer(naip1, {}, \"NAIP\");\n",
        "\n",
        "#Add points of OSM and NID feature collections\n",
        "Map.addLayer(ee_OSM, {'color': 'yellow'}, 'Dams OSM')\n",
        "Map.addLayer(ee_NID, {'color': 'lime'}, 'Dams NID')\n",
        "Map.addLayer(ee_GRAND, {'color': 'orange'}, 'Dams GRAND')\n",
        "\n",
        "#Add unfiltered polygons of OSM and NID dams\n",
        "Map.addLayer(ee_polygon_OSM, {'color': 'yellow', 'opacity': 0.5}, 'Polygon_dams_OSM')\n",
        "Map.addLayer(ee_polygon_NID, {'color': 'lime', 'opacity': 0.5}, 'Polygon_dams_NID')\n",
        "Map.addLayer(ee_polygon_GRAND, {'color': 'orange', 'opacity': 0.5}, 'Polygon_dams_GRAND')\n",
        "\n",
        "Map.addLayerControl() \n",
        "Map"
      ],
      "execution_count": null,
      "outputs": [
        {
          "output_type": "execute_result",
          "data": {
            "text/html": [
              "<div style=\"width:100%;\"><div style=\"position:relative;width:100%;height:0;padding-bottom:60%;\"><span style=\"color:#565656\">Make this Notebook Trusted to load map: File -> Trust Notebook</span><iframe src=\"about:blank\" style=\"position:absolute;width:100%;height:100%;left:0;top:0;border:none !important;\" data-html=%3C%21DOCTYPE%20html%3E%0A%3Chead%3E%20%20%20%20%0A%20%20%20%20%3Cmeta%20http-equiv%3D%22content-type%22%20content%3D%22text/html%3B%20charset%3DUTF-8%22%20/%3E%0A%20%20%20%20%0A%20%20%20%20%20%20%20%20%3Cscript%3E%0A%20%20%20%20%20%20%20%20%20%20%20%20L_NO_TOUCH%20%3D%20false%3B%0A%20%20%20%20%20%20%20%20%20%20%20%20L_DISABLE_3D%20%3D%20false%3B%0A%20%20%20%20%20%20%20%20%3C/script%3E%0A%20%20%20%20%0A%20%20%20%20%3Cstyle%3Ehtml%2C%20body%20%7Bwidth%3A%20100%25%3Bheight%3A%20100%25%3Bmargin%3A%200%3Bpadding%3A%200%3B%7D%3C/style%3E%0A%20%20%20%20%3Cstyle%3E%23map%20%7Bposition%3Aabsolute%3Btop%3A0%3Bbottom%3A0%3Bright%3A0%3Bleft%3A0%3B%7D%3C/style%3E%0A%20%20%20%20%3Cscript%20src%3D%22https%3A//cdn.jsdelivr.net/npm/leaflet%401.6.0/dist/leaflet.js%22%3E%3C/script%3E%0A%20%20%20%20%3Cscript%20src%3D%22https%3A//code.jquery.com/jquery-1.12.4.min.js%22%3E%3C/script%3E%0A%20%20%20%20%3Cscript%20src%3D%22https%3A//maxcdn.bootstrapcdn.com/bootstrap/3.2.0/js/bootstrap.min.js%22%3E%3C/script%3E%0A%20%20%20%20%3Cscript%20src%3D%22https%3A//cdnjs.cloudflare.com/ajax/libs/Leaflet.awesome-markers/2.0.2/leaflet.awesome-markers.js%22%3E%3C/script%3E%0A%20%20%20%20%3Clink%20rel%3D%22stylesheet%22%20href%3D%22https%3A//cdn.jsdelivr.net/npm/leaflet%401.6.0/dist/leaflet.css%22/%3E%0A%20%20%20%20%3Clink%20rel%3D%22stylesheet%22%20href%3D%22https%3A//maxcdn.bootstrapcdn.com/bootstrap/3.2.0/css/bootstrap.min.css%22/%3E%0A%20%20%20%20%3Clink%20rel%3D%22stylesheet%22%20href%3D%22https%3A//maxcdn.bootstrapcdn.com/bootstrap/3.2.0/css/bootstrap-theme.min.css%22/%3E%0A%20%20%20%20%3Clink%20rel%3D%22stylesheet%22%20href%3D%22https%3A//maxcdn.bootstrapcdn.com/font-awesome/4.6.3/css/font-awesome.min.css%22/%3E%0A%20%20%20%20%3Clink%20rel%3D%22stylesheet%22%20href%3D%22https%3A//cdnjs.cloudflare.com/ajax/libs/Leaflet.awesome-markers/2.0.2/leaflet.awesome-markers.css%22/%3E%0A%20%20%20%20%3Clink%20rel%3D%22stylesheet%22%20href%3D%22https%3A//cdn.jsdelivr.net/gh/python-visualization/folium/folium/templates/leaflet.awesome.rotate.min.css%22/%3E%0A%20%20%20%20%0A%20%20%20%20%20%20%20%20%20%20%20%20%3Cmeta%20name%3D%22viewport%22%20content%3D%22width%3Ddevice-width%2C%0A%20%20%20%20%20%20%20%20%20%20%20%20%20%20%20%20initial-scale%3D1.0%2C%20maximum-scale%3D1.0%2C%20user-scalable%3Dno%22%20/%3E%0A%20%20%20%20%20%20%20%20%20%20%20%20%3Cstyle%3E%0A%20%20%20%20%20%20%20%20%20%20%20%20%20%20%20%20%23map_164ab0d3094c42ac9035043ad4be992a%20%7B%0A%20%20%20%20%20%20%20%20%20%20%20%20%20%20%20%20%20%20%20%20position%3A%20relative%3B%0A%20%20%20%20%20%20%20%20%20%20%20%20%20%20%20%20%20%20%20%20width%3A%20100.0%25%3B%0A%20%20%20%20%20%20%20%20%20%20%20%20%20%20%20%20%20%20%20%20height%3A%20100.0%25%3B%0A%20%20%20%20%20%20%20%20%20%20%20%20%20%20%20%20%20%20%20%20left%3A%200.0%25%3B%0A%20%20%20%20%20%20%20%20%20%20%20%20%20%20%20%20%20%20%20%20top%3A%200.0%25%3B%0A%20%20%20%20%20%20%20%20%20%20%20%20%20%20%20%20%7D%0A%20%20%20%20%20%20%20%20%20%20%20%20%3C/style%3E%0A%20%20%20%20%20%20%20%20%0A%20%20%20%20%3Cscript%20src%3D%22https%3A//cdnjs.cloudflare.com/ajax/libs/leaflet.fullscreen/1.4.2/Control.FullScreen.min.js%22%3E%3C/script%3E%0A%20%20%20%20%3Clink%20rel%3D%22stylesheet%22%20href%3D%22https%3A//cdnjs.cloudflare.com/ajax/libs/leaflet.fullscreen/1.4.2/Control.FullScreen.min.css%22/%3E%0A%3C/head%3E%0A%3Cbody%3E%20%20%20%20%0A%20%20%20%20%0A%20%20%20%20%20%20%20%20%20%20%20%20%3Cdiv%20class%3D%22folium-map%22%20id%3D%22map_164ab0d3094c42ac9035043ad4be992a%22%20%3E%3C/div%3E%0A%20%20%20%20%20%20%20%20%0A%3C/body%3E%0A%3Cscript%3E%20%20%20%20%0A%20%20%20%20%0A%20%20%20%20%20%20%20%20%20%20%20%20var%20map_164ab0d3094c42ac9035043ad4be992a%20%3D%20L.map%28%0A%20%20%20%20%20%20%20%20%20%20%20%20%20%20%20%20%22map_164ab0d3094c42ac9035043ad4be992a%22%2C%0A%20%20%20%20%20%20%20%20%20%20%20%20%20%20%20%20%7B%0A%20%20%20%20%20%20%20%20%20%20%20%20%20%20%20%20%20%20%20%20center%3A%20%5B40.0%2C%20-100.0%5D%2C%0A%20%20%20%20%20%20%20%20%20%20%20%20%20%20%20%20%20%20%20%20crs%3A%20L.CRS.EPSG3857%2C%0A%20%20%20%20%20%20%20%20%20%20%20%20%20%20%20%20%20%20%20%20zoom%3A%204%2C%0A%20%20%20%20%20%20%20%20%20%20%20%20%20%20%20%20%20%20%20%20zoomControl%3A%20true%2C%0A%20%20%20%20%20%20%20%20%20%20%20%20%20%20%20%20%20%20%20%20preferCanvas%3A%20false%2C%0A%20%20%20%20%20%20%20%20%20%20%20%20%20%20%20%20%20%20%20%20eeInitialize%3A%20true%2C%0A%20%20%20%20%20%20%20%20%20%20%20%20%20%20%20%20%20%20%20%20addGoogleMap%3A%20true%2C%0A%20%20%20%20%20%20%20%20%20%20%20%20%20%20%20%20%20%20%20%20pluginLatlngpopup%3A%20true%2C%0A%20%20%20%20%20%20%20%20%20%20%20%20%20%20%20%20%20%20%20%20pluginFullscreen%3A%20true%2C%0A%20%20%20%20%20%20%20%20%20%20%20%20%20%20%20%20%20%20%20%20pluginDraw%3A%20false%2C%0A%20%20%20%20%20%20%20%20%20%20%20%20%20%20%20%20%20%20%20%20DrawExport%3A%20true%2C%0A%20%20%20%20%20%20%20%20%20%20%20%20%20%20%20%20%20%20%20%20pluginMinimap%3A%20false%2C%0A%20%20%20%20%20%20%20%20%20%20%20%20%20%20%20%20%20%20%20%20pluginLayercontrol%3A%20false%2C%0A%20%20%20%20%20%20%20%20%20%20%20%20%20%20%20%20%7D%0A%20%20%20%20%20%20%20%20%20%20%20%20%29%3B%0A%0A%20%20%20%20%20%20%20%20%20%20%20%20%0A%0A%20%20%20%20%20%20%20%20%0A%20%20%20%20%0A%20%20%20%20%20%20%20%20%20%20%20%20var%20tile_layer_7fcddd9841944b75af854ae25ec53359%20%3D%20L.tileLayer%28%0A%20%20%20%20%20%20%20%20%20%20%20%20%20%20%20%20%22https%3A//%7Bs%7D.tile.openstreetmap.org/%7Bz%7D/%7Bx%7D/%7By%7D.png%22%2C%0A%20%20%20%20%20%20%20%20%20%20%20%20%20%20%20%20%7B%22attribution%22%3A%20%22Data%20by%20%5Cu0026copy%3B%20%5Cu003ca%20href%3D%5C%22http%3A//openstreetmap.org%5C%22%5Cu003eOpenStreetMap%5Cu003c/a%5Cu003e%2C%20under%20%5Cu003ca%20href%3D%5C%22http%3A//www.openstreetmap.org/copyright%5C%22%5Cu003eODbL%5Cu003c/a%5Cu003e.%22%2C%20%22detectRetina%22%3A%20false%2C%20%22maxNativeZoom%22%3A%2018%2C%20%22maxZoom%22%3A%2018%2C%20%22minZoom%22%3A%200%2C%20%22noWrap%22%3A%20false%2C%20%22opacity%22%3A%201%2C%20%22subdomains%22%3A%20%22abc%22%2C%20%22tms%22%3A%20false%7D%0A%20%20%20%20%20%20%20%20%20%20%20%20%29.addTo%28map_164ab0d3094c42ac9035043ad4be992a%29%3B%0A%20%20%20%20%20%20%20%20%0A%20%20%20%20%0A%20%20%20%20%20%20%20%20%20%20%20%20var%20tile_layer_a20833511af84f29888c5278dad1be38%20%3D%20L.tileLayer%28%0A%20%20%20%20%20%20%20%20%20%20%20%20%20%20%20%20%22https%3A//mt1.google.com/vt/lyrs%3Dm%5Cu0026x%3D%7Bx%7D%5Cu0026y%3D%7By%7D%5Cu0026z%3D%7Bz%7D%22%2C%0A%20%20%20%20%20%20%20%20%20%20%20%20%20%20%20%20%7B%22attribution%22%3A%20%22Google%22%2C%20%22detectRetina%22%3A%20false%2C%20%22maxNativeZoom%22%3A%2018%2C%20%22maxZoom%22%3A%2018%2C%20%22minZoom%22%3A%200%2C%20%22noWrap%22%3A%20false%2C%20%22opacity%22%3A%201%2C%20%22subdomains%22%3A%20%22abc%22%2C%20%22tms%22%3A%20false%7D%0A%20%20%20%20%20%20%20%20%20%20%20%20%29.addTo%28map_164ab0d3094c42ac9035043ad4be992a%29%3B%0A%20%20%20%20%20%20%20%20%0A%20%20%20%20%0A%20%20%20%20%20%20%20%20%20%20%20%20%20%20%20%20var%20lat_lng_popup_8d3373c9314c4ac7b76bef8a3407374b%20%3D%20L.popup%28%29%3B%0A%20%20%20%20%20%20%20%20%20%20%20%20%20%20%20%20function%20latLngPop%28e%29%20%7B%0A%20%20%20%20%20%20%20%20%20%20%20%20%20%20%20%20%20%20%20%20lat_lng_popup_8d3373c9314c4ac7b76bef8a3407374b%0A%20%20%20%20%20%20%20%20%20%20%20%20%20%20%20%20%20%20%20%20%20%20%20%20.setLatLng%28e.latlng%29%0A%20%20%20%20%20%20%20%20%20%20%20%20%20%20%20%20%20%20%20%20%20%20%20%20.setContent%28%22Latitude%3A%20%22%20%2B%20e.latlng.lat.toFixed%284%29%20%2B%0A%20%20%20%20%20%20%20%20%20%20%20%20%20%20%20%20%20%20%20%20%20%20%20%20%20%20%20%20%20%20%20%20%20%20%20%20%22%3Cbr%3ELongitude%3A%20%22%20%2B%20e.latlng.lng.toFixed%284%29%29%0A%20%20%20%20%20%20%20%20%20%20%20%20%20%20%20%20%20%20%20%20%20%20%20%20.openOn%28map_164ab0d3094c42ac9035043ad4be992a%29%3B%0A%20%20%20%20%20%20%20%20%20%20%20%20%20%20%20%20%20%20%20%20%7D%0A%20%20%20%20%20%20%20%20%20%20%20%20%20%20%20%20map_164ab0d3094c42ac9035043ad4be992a.on%28%27click%27%2C%20latLngPop%29%3B%0A%20%20%20%20%20%20%20%20%20%20%20%20%0A%20%20%20%20%0A%20%20%20%20%20%20%20%20%20%20%20%20L.control.fullscreen%28%0A%20%20%20%20%20%20%20%20%20%20%20%20%20%20%20%20%7B%22forceSeparateButton%22%3A%20false%2C%20%22position%22%3A%20%22topleft%22%2C%20%22title%22%3A%20%22Full%20Screen%22%2C%20%22titleCancel%22%3A%20%22Exit%20Full%20Screen%22%7D%0A%20%20%20%20%20%20%20%20%20%20%20%20%29.addTo%28map_164ab0d3094c42ac9035043ad4be992a%29%3B%0A%20%20%20%20%20%20%20%20%0A%20%20%20%20%0A%20%20%20%20%20%20%20%20%20%20%20%20map_164ab0d3094c42ac9035043ad4be992a.fitBounds%28%0A%20%20%20%20%20%20%20%20%20%20%20%20%20%20%20%20%5B%5B40%2C%20-100%5D%2C%20%5B40%2C%20-100%5D%5D%2C%0A%20%20%20%20%20%20%20%20%20%20%20%20%20%20%20%20%7B%22maxZoom%22%3A%204%7D%0A%20%20%20%20%20%20%20%20%20%20%20%20%29%3B%0A%20%20%20%20%20%20%20%20%0A%20%20%20%20%0A%20%20%20%20%20%20%20%20%20%20%20%20map_164ab0d3094c42ac9035043ad4be992a.fitBounds%28%0A%20%20%20%20%20%20%20%20%20%20%20%20%20%20%20%20%5B%5B36.86%2C%20-120.08%5D%2C%20%5B36.86%2C%20-120.08%5D%5D%2C%0A%20%20%20%20%20%20%20%20%20%20%20%20%20%20%20%20%7B%22maxZoom%22%3A%2010%7D%0A%20%20%20%20%20%20%20%20%20%20%20%20%29%3B%0A%20%20%20%20%20%20%20%20%0A%20%20%20%20%0A%20%20%20%20%20%20%20%20%20%20%20%20var%20tile_layer_cdd86e820365415a8152290694348d1a%20%3D%20L.tileLayer%28%0A%20%20%20%20%20%20%20%20%20%20%20%20%20%20%20%20%22https%3A//earthengine.googleapis.com/v1alpha/projects/earthengine-legacy/maps/fb693b816db518af0950e3ad85cd72b7-7e6e9f37b7d0905124d374896d25cd0f/tiles/%7Bz%7D/%7Bx%7D/%7By%7D%22%2C%0A%20%20%20%20%20%20%20%20%20%20%20%20%20%20%20%20%7B%22attribution%22%3A%20%22Google%20Earth%20Engine%22%2C%20%22detectRetina%22%3A%20false%2C%20%22maxNativeZoom%22%3A%2018%2C%20%22maxZoom%22%3A%2018%2C%20%22minZoom%22%3A%200%2C%20%22noWrap%22%3A%20false%2C%20%22opacity%22%3A%201.0%2C%20%22subdomains%22%3A%20%22abc%22%2C%20%22tms%22%3A%20false%7D%0A%20%20%20%20%20%20%20%20%20%20%20%20%29.addTo%28map_164ab0d3094c42ac9035043ad4be992a%29%3B%0A%20%20%20%20%20%20%20%20%0A%20%20%20%20%0A%20%20%20%20%20%20%20%20%20%20%20%20var%20tile_layer_d77cf49193124d58b3da0bba4a0901e1%20%3D%20L.tileLayer%28%0A%20%20%20%20%20%20%20%20%20%20%20%20%20%20%20%20%22https%3A//earthengine.googleapis.com/v1alpha/projects/earthengine-legacy/maps/c5e8b1e1ecd92c9615d2b1b5bcd307d3-43247709c822e4c79c29a138899c0f36/tiles/%7Bz%7D/%7Bx%7D/%7By%7D%22%2C%0A%20%20%20%20%20%20%20%20%20%20%20%20%20%20%20%20%7B%22attribution%22%3A%20%22Google%20Earth%20Engine%22%2C%20%22detectRetina%22%3A%20false%2C%20%22maxNativeZoom%22%3A%2018%2C%20%22maxZoom%22%3A%2018%2C%20%22minZoom%22%3A%200%2C%20%22noWrap%22%3A%20false%2C%20%22opacity%22%3A%201.0%2C%20%22subdomains%22%3A%20%22abc%22%2C%20%22tms%22%3A%20false%7D%0A%20%20%20%20%20%20%20%20%20%20%20%20%29.addTo%28map_164ab0d3094c42ac9035043ad4be992a%29%3B%0A%20%20%20%20%20%20%20%20%0A%20%20%20%20%0A%20%20%20%20%20%20%20%20%20%20%20%20var%20tile_layer_52bb2000b0784dbc868c11033012c591%20%3D%20L.tileLayer%28%0A%20%20%20%20%20%20%20%20%20%20%20%20%20%20%20%20%22https%3A//earthengine.googleapis.com/v1alpha/projects/earthengine-legacy/maps/1f4c83a879e58cb452165a43970224f5-b9a945f8f796d715d105bc957f862e43/tiles/%7Bz%7D/%7Bx%7D/%7By%7D%22%2C%0A%20%20%20%20%20%20%20%20%20%20%20%20%20%20%20%20%7B%22attribution%22%3A%20%22Google%20Earth%20Engine%22%2C%20%22detectRetina%22%3A%20false%2C%20%22maxNativeZoom%22%3A%2018%2C%20%22maxZoom%22%3A%2018%2C%20%22minZoom%22%3A%200%2C%20%22noWrap%22%3A%20false%2C%20%22opacity%22%3A%201.0%2C%20%22subdomains%22%3A%20%22abc%22%2C%20%22tms%22%3A%20false%7D%0A%20%20%20%20%20%20%20%20%20%20%20%20%29.addTo%28map_164ab0d3094c42ac9035043ad4be992a%29%3B%0A%20%20%20%20%20%20%20%20%0A%20%20%20%20%0A%20%20%20%20%20%20%20%20%20%20%20%20var%20tile_layer_0308983e70ae41f2b718423dd8249efb%20%3D%20L.tileLayer%28%0A%20%20%20%20%20%20%20%20%20%20%20%20%20%20%20%20%22https%3A//earthengine.googleapis.com/v1alpha/projects/earthengine-legacy/maps/fe1d135e2977f2e934fd997d9bcf28a2-22e18bd89fc7e84851295b231c9d430e/tiles/%7Bz%7D/%7Bx%7D/%7By%7D%22%2C%0A%20%20%20%20%20%20%20%20%20%20%20%20%20%20%20%20%7B%22attribution%22%3A%20%22Google%20Earth%20Engine%22%2C%20%22detectRetina%22%3A%20false%2C%20%22maxNativeZoom%22%3A%2018%2C%20%22maxZoom%22%3A%2018%2C%20%22minZoom%22%3A%200%2C%20%22noWrap%22%3A%20false%2C%20%22opacity%22%3A%201.0%2C%20%22subdomains%22%3A%20%22abc%22%2C%20%22tms%22%3A%20false%7D%0A%20%20%20%20%20%20%20%20%20%20%20%20%29.addTo%28map_164ab0d3094c42ac9035043ad4be992a%29%3B%0A%20%20%20%20%20%20%20%20%0A%20%20%20%20%0A%20%20%20%20%20%20%20%20%20%20%20%20var%20tile_layer_973dfe7dc92342ac912c60dedaed61e3%20%3D%20L.tileLayer%28%0A%20%20%20%20%20%20%20%20%20%20%20%20%20%20%20%20%22https%3A//earthengine.googleapis.com/v1alpha/projects/earthengine-legacy/maps/3d33acb66cf0220ded3ecb3d7cf49099-15e39f8a1e00de32ba6350d93f365caf/tiles/%7Bz%7D/%7Bx%7D/%7By%7D%22%2C%0A%20%20%20%20%20%20%20%20%20%20%20%20%20%20%20%20%7B%22attribution%22%3A%20%22Google%20Earth%20Engine%22%2C%20%22detectRetina%22%3A%20false%2C%20%22maxNativeZoom%22%3A%2018%2C%20%22maxZoom%22%3A%2018%2C%20%22minZoom%22%3A%200%2C%20%22noWrap%22%3A%20false%2C%20%22opacity%22%3A%201.0%2C%20%22subdomains%22%3A%20%22abc%22%2C%20%22tms%22%3A%20false%7D%0A%20%20%20%20%20%20%20%20%20%20%20%20%29.addTo%28map_164ab0d3094c42ac9035043ad4be992a%29%3B%0A%20%20%20%20%20%20%20%20%0A%20%20%20%20%0A%20%20%20%20%20%20%20%20%20%20%20%20var%20tile_layer_27692baac66e43c3a071e329d6607b54%20%3D%20L.tileLayer%28%0A%20%20%20%20%20%20%20%20%20%20%20%20%20%20%20%20%22https%3A//earthengine.googleapis.com/v1alpha/projects/earthengine-legacy/maps/c2964de247ea0ffba16b45d2fd2f73c0-be02df156154da94325dff3979e57096/tiles/%7Bz%7D/%7Bx%7D/%7By%7D%22%2C%0A%20%20%20%20%20%20%20%20%20%20%20%20%20%20%20%20%7B%22attribution%22%3A%20%22Google%20Earth%20Engine%22%2C%20%22detectRetina%22%3A%20false%2C%20%22maxNativeZoom%22%3A%2018%2C%20%22maxZoom%22%3A%2018%2C%20%22minZoom%22%3A%200%2C%20%22noWrap%22%3A%20false%2C%20%22opacity%22%3A%201.0%2C%20%22subdomains%22%3A%20%22abc%22%2C%20%22tms%22%3A%20false%7D%0A%20%20%20%20%20%20%20%20%20%20%20%20%29.addTo%28map_164ab0d3094c42ac9035043ad4be992a%29%3B%0A%20%20%20%20%20%20%20%20%0A%20%20%20%20%0A%20%20%20%20%20%20%20%20%20%20%20%20var%20tile_layer_aa9ae4bff3304231b329b5e1c81216ae%20%3D%20L.tileLayer%28%0A%20%20%20%20%20%20%20%20%20%20%20%20%20%20%20%20%22https%3A//earthengine.googleapis.com/v1alpha/projects/earthengine-legacy/maps/9e710d2a97ca748945a08e0a72a68a2d-c956a821c7ed2cec360a35c9f1750164/tiles/%7Bz%7D/%7Bx%7D/%7By%7D%22%2C%0A%20%20%20%20%20%20%20%20%20%20%20%20%20%20%20%20%7B%22attribution%22%3A%20%22Google%20Earth%20Engine%22%2C%20%22detectRetina%22%3A%20false%2C%20%22maxNativeZoom%22%3A%2018%2C%20%22maxZoom%22%3A%2018%2C%20%22minZoom%22%3A%200%2C%20%22noWrap%22%3A%20false%2C%20%22opacity%22%3A%201.0%2C%20%22subdomains%22%3A%20%22abc%22%2C%20%22tms%22%3A%20false%7D%0A%20%20%20%20%20%20%20%20%20%20%20%20%29.addTo%28map_164ab0d3094c42ac9035043ad4be992a%29%3B%0A%20%20%20%20%20%20%20%20%0A%20%20%20%20%0A%20%20%20%20%20%20%20%20%20%20%20%20var%20layer_control_e4b6ea099ff44ca88792ecd1e7208ded%20%3D%20%7B%0A%20%20%20%20%20%20%20%20%20%20%20%20%20%20%20%20base_layers%20%3A%20%7B%0A%20%20%20%20%20%20%20%20%20%20%20%20%20%20%20%20%20%20%20%20%22openstreetmap%22%20%3A%20tile_layer_7fcddd9841944b75af854ae25ec53359%2C%0A%20%20%20%20%20%20%20%20%20%20%20%20%20%20%20%20%7D%2C%0A%20%20%20%20%20%20%20%20%20%20%20%20%20%20%20%20overlays%20%3A%20%20%7B%0A%20%20%20%20%20%20%20%20%20%20%20%20%20%20%20%20%20%20%20%20%22Google%20Maps%22%20%3A%20tile_layer_a20833511af84f29888c5278dad1be38%2C%0A%20%20%20%20%20%20%20%20%20%20%20%20%20%20%20%20%20%20%20%20%22NAIP%22%20%3A%20tile_layer_cdd86e820365415a8152290694348d1a%2C%0A%20%20%20%20%20%20%20%20%20%20%20%20%20%20%20%20%20%20%20%20%22Dams%20OSM%22%20%3A%20tile_layer_d77cf49193124d58b3da0bba4a0901e1%2C%0A%20%20%20%20%20%20%20%20%20%20%20%20%20%20%20%20%20%20%20%20%22Dams%20NID%22%20%3A%20tile_layer_52bb2000b0784dbc868c11033012c591%2C%0A%20%20%20%20%20%20%20%20%20%20%20%20%20%20%20%20%20%20%20%20%22Dams%20GRAND%22%20%3A%20tile_layer_0308983e70ae41f2b718423dd8249efb%2C%0A%20%20%20%20%20%20%20%20%20%20%20%20%20%20%20%20%20%20%20%20%22Polygon_dams_OSM%22%20%3A%20tile_layer_973dfe7dc92342ac912c60dedaed61e3%2C%0A%20%20%20%20%20%20%20%20%20%20%20%20%20%20%20%20%20%20%20%20%22Polygon_dams_NID%22%20%3A%20tile_layer_27692baac66e43c3a071e329d6607b54%2C%0A%20%20%20%20%20%20%20%20%20%20%20%20%20%20%20%20%20%20%20%20%22Polygon_dams_GRAND%22%20%3A%20tile_layer_aa9ae4bff3304231b329b5e1c81216ae%2C%0A%20%20%20%20%20%20%20%20%20%20%20%20%20%20%20%20%7D%2C%0A%20%20%20%20%20%20%20%20%20%20%20%20%7D%3B%0A%20%20%20%20%20%20%20%20%20%20%20%20L.control.layers%28%0A%20%20%20%20%20%20%20%20%20%20%20%20%20%20%20%20layer_control_e4b6ea099ff44ca88792ecd1e7208ded.base_layers%2C%0A%20%20%20%20%20%20%20%20%20%20%20%20%20%20%20%20layer_control_e4b6ea099ff44ca88792ecd1e7208ded.overlays%2C%0A%20%20%20%20%20%20%20%20%20%20%20%20%20%20%20%20%7B%22autoZIndex%22%3A%20true%2C%20%22collapsed%22%3A%20true%2C%20%22position%22%3A%20%22topright%22%7D%0A%20%20%20%20%20%20%20%20%20%20%20%20%29.addTo%28map_164ab0d3094c42ac9035043ad4be992a%29%3B%0A%20%20%20%20%20%20%20%20%0A%3C/script%3E onload=\"this.contentDocument.open();this.contentDocument.write(    decodeURIComponent(this.getAttribute('data-html')));this.contentDocument.close();\" allowfullscreen webkitallowfullscreen mozallowfullscreen></iframe></div></div>"
            ],
            "text/plain": [
              "<geemap.eefolium.Map at 0x7fa48575edd0>"
            ]
          },
          "metadata": {
            "tags": []
          },
          "execution_count": 33
        }
      ]
    },
    {
      "cell_type": "markdown",
      "metadata": {
        "id": "kK2JUwe8lxii"
      },
      "source": [
        "# Refine the dam dataset \n",
        "\n",
        "Remove data that can be noisy "
      ]
    },
    {
      "cell_type": "markdown",
      "metadata": {
        "id": "uuHKt9-mm2aa"
      },
      "source": [
        "## Filtering functions"
      ]
    },
    {
      "cell_type": "code",
      "metadata": {
        "id": "gLKnizRzm7A4"
      },
      "source": [
        "def compute_water_area(f):\n",
        "    water2 = water\n",
        "    Waterarea = ee.Image.pixelArea().mask(water2).reduceRegion(\n",
        "      reducer= ee.Reducer.sum(), \n",
        "      geometry= f.geometry(), \n",
        "      scale= SCALE)\n",
        "  \n",
        "    return f.set(Waterarea)"
      ],
      "execution_count": null,
      "outputs": []
    },
    {
      "cell_type": "code",
      "metadata": {
        "id": "fWZiJWChV3BD"
      },
      "source": [
        "#Function to verify point-in-polygon (pip)\n",
        "#Adapted from: https://medium.com/analytics-vidhya/point-in-polygon-analysis-using-python-geopandas-27ea67888bff \n",
        "\n",
        "def get_polygon_in_polygon (gdf, polygon):\n",
        "    id_list = list(polygon.FID)\n",
        "    #create empty dataframe\n",
        "    df = pd.DataFrame().reindex_like(gdf).dropna()\n",
        "    for i in id_list:\n",
        "        #get geometry for specific region\n",
        "        pol = (polygon.loc[polygon.FID==i])\n",
        "        pol.reset_index(drop = True, inplace = True)\n",
        "        #identify those records from gdf that are intersecting with the region polygon\n",
        "        pip_mask = gdf.intersects(pol.loc[0, 'geometry'])\n",
        "        #filter gdf to keep only the intersecting records\n",
        "        pip_data = gdf.loc[pip_mask].copy()\n",
        "        #create a new column and assign the FID as the value\n",
        "        pip_data['FID']= i\n",
        "        #append region data to empty dataframe\n",
        "        df = df.append(pip_data)\n",
        "        \n",
        "    #checking there are no more than one region assigned to a point  \n",
        "    print('Original dataframe count=',len(gdf),'\\nNew dataframe count=', len(df))\n",
        "    if df.loc[df.id.duplicated() == True].shape[0] > 0:\n",
        "        print(\"There are id's with more than one region\")\n",
        "\n",
        "    #checking all points have a region\n",
        "    elif gdf.loc[~gdf.id.isin(df.id)].shape[0] > 0:\n",
        "        print(\"There are id's without an assigned region\")\n",
        "    else:\n",
        "        print(\"No discrepancies in results!\")\n",
        "\n",
        "    df.reset_index(inplace=True)\n",
        "\n",
        "    return df"
      ],
      "execution_count": null,
      "outputs": []
    },
    {
      "cell_type": "code",
      "metadata": {
        "id": "WWdHX5Fxnsce"
      },
      "source": [
        "def in_land(f):\n",
        "  isInland = continents.mask().reduceRegion(\n",
        "      reducer= ee.Reducer.allNonZero(),\n",
        "      geometry= f.geometry(),\n",
        "      scale= 30).values().get(0)\n",
        "\n",
        "  return f.set({'isInland': isInland})\n"
      ],
      "execution_count": null,
      "outputs": []
    },
    {
      "cell_type": "markdown",
      "metadata": {
        "id": "vZPU6lRLR1BY"
      },
      "source": [
        "## Double validate location and remove remaining patches\n",
        "Since there are many overlapping patches from the two datasets imported (OSM and NID) in this section are filtered the overlapping patches and are removed the remaining patches. In this way, the location is double confirmed and it is reduce the risk of having non-dams included in the final dataset."
      ]
    },
    {
      "cell_type": "code",
      "metadata": {
        "id": "1IrY7fqtSYY0"
      },
      "source": [
        "buf_OSM['FID'] = buf_OSM.index\n",
        "buf_NID['FID'] = buf_NID.index+len(buf_OSM)\n",
        "buf_GRAND['FID'] = buf_GRAND.index+(len(buf_OSM)+len(buf_NID))\n",
        "buf_OSM['id'] = buf_OSM.index\n",
        "buf_NID['id'] = buf_NID.index+len(buf_OSM)\n",
        "buf_GRAND['id'] = buf_GRAND.index+(len(buf_OSM)+len(buf_NID))\n"
      ],
      "execution_count": null,
      "outputs": []
    },
    {
      "cell_type": "code",
      "metadata": {
        "colab": {
          "base_uri": "https://localhost:8080/"
        },
        "id": "RxY8i1ARUjOg",
        "outputId": "227225eb-a87c-4ef3-b6c1-0a0ffa03ae9c"
      },
      "source": [
        "overlay_polygons = get_polygon_in_polygon(buf_NID, buf_OSM)"
      ],
      "execution_count": null,
      "outputs": [
        {
          "output_type": "stream",
          "text": [
            "Original dataframe count= 1573 \n",
            "New dataframe count= 2461\n",
            "There are id's with more than one region\n"
          ],
          "name": "stdout"
        }
      ]
    },
    {
      "cell_type": "code",
      "metadata": {
        "id": "7l8S2Pz2Vhl4"
      },
      "source": [
        "overlay_polygons.drop_duplicates('id', inplace= True)"
      ],
      "execution_count": null,
      "outputs": []
    },
    {
      "cell_type": "code",
      "metadata": {
        "id": "HG_QL789SfjG"
      },
      "source": [
        "# #From geodataframe to GEE features\n",
        "gdf_all = geopandas.GeoDataFrame(overlay_polygons)\n",
        "gdf_all.to_file('all_NID.shp')\n",
        "ee_all = geemap.shp_to_ee('all_NID.shp')"
      ],
      "execution_count": null,
      "outputs": []
    },
    {
      "cell_type": "code",
      "metadata": {
        "id": "52vM4Cv0TyXp",
        "colab": {
          "base_uri": "https://localhost:8080/",
          "height": 686
        },
        "outputId": "dc770019-5fcb-4d34-89f9-de91d65a29d2"
      },
      "source": [
        "# # Displays the map\n",
        "Map = geemap.Map()\n",
        "Map.setCenter(-120.08, 36.86)\n",
        "\n",
        "Map.addLayer(naip1, {}, \"NAIP\");\n",
        "\n",
        "#Add unfiltered polygons of OSM and NID dams\n",
        "Map.addLayer(ee_polygon_OSM, {'color': 'yellow', 'opacity': 0.5}, 'Polygon_dams_OSM')\n",
        "Map.addLayer(ee_polygon_NID, {'color': 'lime', 'opacity': 0.5}, 'Polygon_dams_NID')\n",
        "Map.addLayer(ee_polygon_GRAND, {'color': 'orange', 'opacity': 0.5}, 'Polygon_dams_GRAND')\n",
        "\n",
        "Map.addLayer(ee_all, {'color': 'blue', 'opacity': 0.5}, 'Polygon_dams')\n",
        "\n",
        "Map.addLayerControl() \n",
        "Map"
      ],
      "execution_count": null,
      "outputs": [
        {
          "output_type": "execute_result",
          "data": {
            "text/html": [
              "<div style=\"width:100%;\"><div style=\"position:relative;width:100%;height:0;padding-bottom:60%;\"><span style=\"color:#565656\">Make this Notebook Trusted to load map: File -> Trust Notebook</span><iframe src=\"about:blank\" style=\"position:absolute;width:100%;height:100%;left:0;top:0;border:none !important;\" data-html=%3C%21DOCTYPE%20html%3E%0A%3Chead%3E%20%20%20%20%0A%20%20%20%20%3Cmeta%20http-equiv%3D%22content-type%22%20content%3D%22text/html%3B%20charset%3DUTF-8%22%20/%3E%0A%20%20%20%20%0A%20%20%20%20%20%20%20%20%3Cscript%3E%0A%20%20%20%20%20%20%20%20%20%20%20%20L_NO_TOUCH%20%3D%20false%3B%0A%20%20%20%20%20%20%20%20%20%20%20%20L_DISABLE_3D%20%3D%20false%3B%0A%20%20%20%20%20%20%20%20%3C/script%3E%0A%20%20%20%20%0A%20%20%20%20%3Cstyle%3Ehtml%2C%20body%20%7Bwidth%3A%20100%25%3Bheight%3A%20100%25%3Bmargin%3A%200%3Bpadding%3A%200%3B%7D%3C/style%3E%0A%20%20%20%20%3Cstyle%3E%23map%20%7Bposition%3Aabsolute%3Btop%3A0%3Bbottom%3A0%3Bright%3A0%3Bleft%3A0%3B%7D%3C/style%3E%0A%20%20%20%20%3Cscript%20src%3D%22https%3A//cdn.jsdelivr.net/npm/leaflet%401.6.0/dist/leaflet.js%22%3E%3C/script%3E%0A%20%20%20%20%3Cscript%20src%3D%22https%3A//code.jquery.com/jquery-1.12.4.min.js%22%3E%3C/script%3E%0A%20%20%20%20%3Cscript%20src%3D%22https%3A//maxcdn.bootstrapcdn.com/bootstrap/3.2.0/js/bootstrap.min.js%22%3E%3C/script%3E%0A%20%20%20%20%3Cscript%20src%3D%22https%3A//cdnjs.cloudflare.com/ajax/libs/Leaflet.awesome-markers/2.0.2/leaflet.awesome-markers.js%22%3E%3C/script%3E%0A%20%20%20%20%3Clink%20rel%3D%22stylesheet%22%20href%3D%22https%3A//cdn.jsdelivr.net/npm/leaflet%401.6.0/dist/leaflet.css%22/%3E%0A%20%20%20%20%3Clink%20rel%3D%22stylesheet%22%20href%3D%22https%3A//maxcdn.bootstrapcdn.com/bootstrap/3.2.0/css/bootstrap.min.css%22/%3E%0A%20%20%20%20%3Clink%20rel%3D%22stylesheet%22%20href%3D%22https%3A//maxcdn.bootstrapcdn.com/bootstrap/3.2.0/css/bootstrap-theme.min.css%22/%3E%0A%20%20%20%20%3Clink%20rel%3D%22stylesheet%22%20href%3D%22https%3A//maxcdn.bootstrapcdn.com/font-awesome/4.6.3/css/font-awesome.min.css%22/%3E%0A%20%20%20%20%3Clink%20rel%3D%22stylesheet%22%20href%3D%22https%3A//cdnjs.cloudflare.com/ajax/libs/Leaflet.awesome-markers/2.0.2/leaflet.awesome-markers.css%22/%3E%0A%20%20%20%20%3Clink%20rel%3D%22stylesheet%22%20href%3D%22https%3A//cdn.jsdelivr.net/gh/python-visualization/folium/folium/templates/leaflet.awesome.rotate.min.css%22/%3E%0A%20%20%20%20%0A%20%20%20%20%20%20%20%20%20%20%20%20%3Cmeta%20name%3D%22viewport%22%20content%3D%22width%3Ddevice-width%2C%0A%20%20%20%20%20%20%20%20%20%20%20%20%20%20%20%20initial-scale%3D1.0%2C%20maximum-scale%3D1.0%2C%20user-scalable%3Dno%22%20/%3E%0A%20%20%20%20%20%20%20%20%20%20%20%20%3Cstyle%3E%0A%20%20%20%20%20%20%20%20%20%20%20%20%20%20%20%20%23map_c38e45f15c61460ebfe7b67794e4d10c%20%7B%0A%20%20%20%20%20%20%20%20%20%20%20%20%20%20%20%20%20%20%20%20position%3A%20relative%3B%0A%20%20%20%20%20%20%20%20%20%20%20%20%20%20%20%20%20%20%20%20width%3A%20100.0%25%3B%0A%20%20%20%20%20%20%20%20%20%20%20%20%20%20%20%20%20%20%20%20height%3A%20100.0%25%3B%0A%20%20%20%20%20%20%20%20%20%20%20%20%20%20%20%20%20%20%20%20left%3A%200.0%25%3B%0A%20%20%20%20%20%20%20%20%20%20%20%20%20%20%20%20%20%20%20%20top%3A%200.0%25%3B%0A%20%20%20%20%20%20%20%20%20%20%20%20%20%20%20%20%7D%0A%20%20%20%20%20%20%20%20%20%20%20%20%3C/style%3E%0A%20%20%20%20%20%20%20%20%0A%20%20%20%20%3Cscript%20src%3D%22https%3A//cdnjs.cloudflare.com/ajax/libs/leaflet.fullscreen/1.4.2/Control.FullScreen.min.js%22%3E%3C/script%3E%0A%20%20%20%20%3Clink%20rel%3D%22stylesheet%22%20href%3D%22https%3A//cdnjs.cloudflare.com/ajax/libs/leaflet.fullscreen/1.4.2/Control.FullScreen.min.css%22/%3E%0A%3C/head%3E%0A%3Cbody%3E%20%20%20%20%0A%20%20%20%20%0A%20%20%20%20%20%20%20%20%20%20%20%20%3Cdiv%20class%3D%22folium-map%22%20id%3D%22map_c38e45f15c61460ebfe7b67794e4d10c%22%20%3E%3C/div%3E%0A%20%20%20%20%20%20%20%20%0A%3C/body%3E%0A%3Cscript%3E%20%20%20%20%0A%20%20%20%20%0A%20%20%20%20%20%20%20%20%20%20%20%20var%20map_c38e45f15c61460ebfe7b67794e4d10c%20%3D%20L.map%28%0A%20%20%20%20%20%20%20%20%20%20%20%20%20%20%20%20%22map_c38e45f15c61460ebfe7b67794e4d10c%22%2C%0A%20%20%20%20%20%20%20%20%20%20%20%20%20%20%20%20%7B%0A%20%20%20%20%20%20%20%20%20%20%20%20%20%20%20%20%20%20%20%20center%3A%20%5B40.0%2C%20-100.0%5D%2C%0A%20%20%20%20%20%20%20%20%20%20%20%20%20%20%20%20%20%20%20%20crs%3A%20L.CRS.EPSG3857%2C%0A%20%20%20%20%20%20%20%20%20%20%20%20%20%20%20%20%20%20%20%20zoom%3A%204%2C%0A%20%20%20%20%20%20%20%20%20%20%20%20%20%20%20%20%20%20%20%20zoomControl%3A%20true%2C%0A%20%20%20%20%20%20%20%20%20%20%20%20%20%20%20%20%20%20%20%20preferCanvas%3A%20false%2C%0A%20%20%20%20%20%20%20%20%20%20%20%20%20%20%20%20%20%20%20%20eeInitialize%3A%20true%2C%0A%20%20%20%20%20%20%20%20%20%20%20%20%20%20%20%20%20%20%20%20addGoogleMap%3A%20true%2C%0A%20%20%20%20%20%20%20%20%20%20%20%20%20%20%20%20%20%20%20%20pluginLatlngpopup%3A%20true%2C%0A%20%20%20%20%20%20%20%20%20%20%20%20%20%20%20%20%20%20%20%20pluginFullscreen%3A%20true%2C%0A%20%20%20%20%20%20%20%20%20%20%20%20%20%20%20%20%20%20%20%20pluginDraw%3A%20false%2C%0A%20%20%20%20%20%20%20%20%20%20%20%20%20%20%20%20%20%20%20%20DrawExport%3A%20true%2C%0A%20%20%20%20%20%20%20%20%20%20%20%20%20%20%20%20%20%20%20%20pluginMinimap%3A%20false%2C%0A%20%20%20%20%20%20%20%20%20%20%20%20%20%20%20%20%20%20%20%20pluginLayercontrol%3A%20false%2C%0A%20%20%20%20%20%20%20%20%20%20%20%20%20%20%20%20%7D%0A%20%20%20%20%20%20%20%20%20%20%20%20%29%3B%0A%0A%20%20%20%20%20%20%20%20%20%20%20%20%0A%0A%20%20%20%20%20%20%20%20%0A%20%20%20%20%0A%20%20%20%20%20%20%20%20%20%20%20%20var%20tile_layer_2fab487911bd4ddd9b4942eaea12df83%20%3D%20L.tileLayer%28%0A%20%20%20%20%20%20%20%20%20%20%20%20%20%20%20%20%22https%3A//%7Bs%7D.tile.openstreetmap.org/%7Bz%7D/%7Bx%7D/%7By%7D.png%22%2C%0A%20%20%20%20%20%20%20%20%20%20%20%20%20%20%20%20%7B%22attribution%22%3A%20%22Data%20by%20%5Cu0026copy%3B%20%5Cu003ca%20href%3D%5C%22http%3A//openstreetmap.org%5C%22%5Cu003eOpenStreetMap%5Cu003c/a%5Cu003e%2C%20under%20%5Cu003ca%20href%3D%5C%22http%3A//www.openstreetmap.org/copyright%5C%22%5Cu003eODbL%5Cu003c/a%5Cu003e.%22%2C%20%22detectRetina%22%3A%20false%2C%20%22maxNativeZoom%22%3A%2018%2C%20%22maxZoom%22%3A%2018%2C%20%22minZoom%22%3A%200%2C%20%22noWrap%22%3A%20false%2C%20%22opacity%22%3A%201%2C%20%22subdomains%22%3A%20%22abc%22%2C%20%22tms%22%3A%20false%7D%0A%20%20%20%20%20%20%20%20%20%20%20%20%29.addTo%28map_c38e45f15c61460ebfe7b67794e4d10c%29%3B%0A%20%20%20%20%20%20%20%20%0A%20%20%20%20%0A%20%20%20%20%20%20%20%20%20%20%20%20var%20tile_layer_a20833511af84f29888c5278dad1be38%20%3D%20L.tileLayer%28%0A%20%20%20%20%20%20%20%20%20%20%20%20%20%20%20%20%22https%3A//mt1.google.com/vt/lyrs%3Dm%5Cu0026x%3D%7Bx%7D%5Cu0026y%3D%7By%7D%5Cu0026z%3D%7Bz%7D%22%2C%0A%20%20%20%20%20%20%20%20%20%20%20%20%20%20%20%20%7B%22attribution%22%3A%20%22Google%22%2C%20%22detectRetina%22%3A%20false%2C%20%22maxNativeZoom%22%3A%2018%2C%20%22maxZoom%22%3A%2018%2C%20%22minZoom%22%3A%200%2C%20%22noWrap%22%3A%20false%2C%20%22opacity%22%3A%201%2C%20%22subdomains%22%3A%20%22abc%22%2C%20%22tms%22%3A%20false%7D%0A%20%20%20%20%20%20%20%20%20%20%20%20%29.addTo%28map_c38e45f15c61460ebfe7b67794e4d10c%29%3B%0A%20%20%20%20%20%20%20%20%0A%20%20%20%20%0A%20%20%20%20%20%20%20%20%20%20%20%20%20%20%20%20var%20lat_lng_popup_ebac9e5e141e4887a81a924524eac8e6%20%3D%20L.popup%28%29%3B%0A%20%20%20%20%20%20%20%20%20%20%20%20%20%20%20%20function%20latLngPop%28e%29%20%7B%0A%20%20%20%20%20%20%20%20%20%20%20%20%20%20%20%20%20%20%20%20lat_lng_popup_ebac9e5e141e4887a81a924524eac8e6%0A%20%20%20%20%20%20%20%20%20%20%20%20%20%20%20%20%20%20%20%20%20%20%20%20.setLatLng%28e.latlng%29%0A%20%20%20%20%20%20%20%20%20%20%20%20%20%20%20%20%20%20%20%20%20%20%20%20.setContent%28%22Latitude%3A%20%22%20%2B%20e.latlng.lat.toFixed%284%29%20%2B%0A%20%20%20%20%20%20%20%20%20%20%20%20%20%20%20%20%20%20%20%20%20%20%20%20%20%20%20%20%20%20%20%20%20%20%20%20%22%3Cbr%3ELongitude%3A%20%22%20%2B%20e.latlng.lng.toFixed%284%29%29%0A%20%20%20%20%20%20%20%20%20%20%20%20%20%20%20%20%20%20%20%20%20%20%20%20.openOn%28map_c38e45f15c61460ebfe7b67794e4d10c%29%3B%0A%20%20%20%20%20%20%20%20%20%20%20%20%20%20%20%20%20%20%20%20%7D%0A%20%20%20%20%20%20%20%20%20%20%20%20%20%20%20%20map_c38e45f15c61460ebfe7b67794e4d10c.on%28%27click%27%2C%20latLngPop%29%3B%0A%20%20%20%20%20%20%20%20%20%20%20%20%0A%20%20%20%20%0A%20%20%20%20%20%20%20%20%20%20%20%20L.control.fullscreen%28%0A%20%20%20%20%20%20%20%20%20%20%20%20%20%20%20%20%7B%22forceSeparateButton%22%3A%20false%2C%20%22position%22%3A%20%22topleft%22%2C%20%22title%22%3A%20%22Full%20Screen%22%2C%20%22titleCancel%22%3A%20%22Exit%20Full%20Screen%22%7D%0A%20%20%20%20%20%20%20%20%20%20%20%20%29.addTo%28map_c38e45f15c61460ebfe7b67794e4d10c%29%3B%0A%20%20%20%20%20%20%20%20%0A%20%20%20%20%0A%20%20%20%20%20%20%20%20%20%20%20%20map_c38e45f15c61460ebfe7b67794e4d10c.fitBounds%28%0A%20%20%20%20%20%20%20%20%20%20%20%20%20%20%20%20%5B%5B40%2C%20-100%5D%2C%20%5B40%2C%20-100%5D%5D%2C%0A%20%20%20%20%20%20%20%20%20%20%20%20%20%20%20%20%7B%22maxZoom%22%3A%204%7D%0A%20%20%20%20%20%20%20%20%20%20%20%20%29%3B%0A%20%20%20%20%20%20%20%20%0A%20%20%20%20%0A%20%20%20%20%20%20%20%20%20%20%20%20map_c38e45f15c61460ebfe7b67794e4d10c.fitBounds%28%0A%20%20%20%20%20%20%20%20%20%20%20%20%20%20%20%20%5B%5B36.86%2C%20-120.08%5D%2C%20%5B36.86%2C%20-120.08%5D%5D%2C%0A%20%20%20%20%20%20%20%20%20%20%20%20%20%20%20%20%7B%22maxZoom%22%3A%2010%7D%0A%20%20%20%20%20%20%20%20%20%20%20%20%29%3B%0A%20%20%20%20%20%20%20%20%0A%20%20%20%20%0A%20%20%20%20%20%20%20%20%20%20%20%20var%20tile_layer_129d7fa18fac4808bd0e0dd0169c8dcb%20%3D%20L.tileLayer%28%0A%20%20%20%20%20%20%20%20%20%20%20%20%20%20%20%20%22https%3A//earthengine.googleapis.com/v1alpha/projects/earthengine-legacy/maps/fb693b816db518af0950e3ad85cd72b7-96e39f48b18a3787af975effff372f12/tiles/%7Bz%7D/%7Bx%7D/%7By%7D%22%2C%0A%20%20%20%20%20%20%20%20%20%20%20%20%20%20%20%20%7B%22attribution%22%3A%20%22Google%20Earth%20Engine%22%2C%20%22detectRetina%22%3A%20false%2C%20%22maxNativeZoom%22%3A%2018%2C%20%22maxZoom%22%3A%2018%2C%20%22minZoom%22%3A%200%2C%20%22noWrap%22%3A%20false%2C%20%22opacity%22%3A%201.0%2C%20%22subdomains%22%3A%20%22abc%22%2C%20%22tms%22%3A%20false%7D%0A%20%20%20%20%20%20%20%20%20%20%20%20%29.addTo%28map_c38e45f15c61460ebfe7b67794e4d10c%29%3B%0A%20%20%20%20%20%20%20%20%0A%20%20%20%20%0A%20%20%20%20%20%20%20%20%20%20%20%20var%20tile_layer_c44c2af1c9f1479ba71f35af828309f7%20%3D%20L.tileLayer%28%0A%20%20%20%20%20%20%20%20%20%20%20%20%20%20%20%20%22https%3A//earthengine.googleapis.com/v1alpha/projects/earthengine-legacy/maps/3d33acb66cf0220ded3ecb3d7cf49099-094530fe4690ae8eaaa707c6fc28fd30/tiles/%7Bz%7D/%7Bx%7D/%7By%7D%22%2C%0A%20%20%20%20%20%20%20%20%20%20%20%20%20%20%20%20%7B%22attribution%22%3A%20%22Google%20Earth%20Engine%22%2C%20%22detectRetina%22%3A%20false%2C%20%22maxNativeZoom%22%3A%2018%2C%20%22maxZoom%22%3A%2018%2C%20%22minZoom%22%3A%200%2C%20%22noWrap%22%3A%20false%2C%20%22opacity%22%3A%201.0%2C%20%22subdomains%22%3A%20%22abc%22%2C%20%22tms%22%3A%20false%7D%0A%20%20%20%20%20%20%20%20%20%20%20%20%29.addTo%28map_c38e45f15c61460ebfe7b67794e4d10c%29%3B%0A%20%20%20%20%20%20%20%20%0A%20%20%20%20%0A%20%20%20%20%20%20%20%20%20%20%20%20var%20tile_layer_81218e0eec7344eba1b92d57422ce930%20%3D%20L.tileLayer%28%0A%20%20%20%20%20%20%20%20%20%20%20%20%20%20%20%20%22https%3A//earthengine.googleapis.com/v1alpha/projects/earthengine-legacy/maps/c2964de247ea0ffba16b45d2fd2f73c0-4046ebc568677ac22aa71a060823841d/tiles/%7Bz%7D/%7Bx%7D/%7By%7D%22%2C%0A%20%20%20%20%20%20%20%20%20%20%20%20%20%20%20%20%7B%22attribution%22%3A%20%22Google%20Earth%20Engine%22%2C%20%22detectRetina%22%3A%20false%2C%20%22maxNativeZoom%22%3A%2018%2C%20%22maxZoom%22%3A%2018%2C%20%22minZoom%22%3A%200%2C%20%22noWrap%22%3A%20false%2C%20%22opacity%22%3A%201.0%2C%20%22subdomains%22%3A%20%22abc%22%2C%20%22tms%22%3A%20false%7D%0A%20%20%20%20%20%20%20%20%20%20%20%20%29.addTo%28map_c38e45f15c61460ebfe7b67794e4d10c%29%3B%0A%20%20%20%20%20%20%20%20%0A%20%20%20%20%0A%20%20%20%20%20%20%20%20%20%20%20%20var%20tile_layer_f6ab2ff5f3a24863b221fe44fa062e30%20%3D%20L.tileLayer%28%0A%20%20%20%20%20%20%20%20%20%20%20%20%20%20%20%20%22https%3A//earthengine.googleapis.com/v1alpha/projects/earthengine-legacy/maps/9e710d2a97ca748945a08e0a72a68a2d-4d32cab68f42916a60bddf40ceb9d1c4/tiles/%7Bz%7D/%7Bx%7D/%7By%7D%22%2C%0A%20%20%20%20%20%20%20%20%20%20%20%20%20%20%20%20%7B%22attribution%22%3A%20%22Google%20Earth%20Engine%22%2C%20%22detectRetina%22%3A%20false%2C%20%22maxNativeZoom%22%3A%2018%2C%20%22maxZoom%22%3A%2018%2C%20%22minZoom%22%3A%200%2C%20%22noWrap%22%3A%20false%2C%20%22opacity%22%3A%201.0%2C%20%22subdomains%22%3A%20%22abc%22%2C%20%22tms%22%3A%20false%7D%0A%20%20%20%20%20%20%20%20%20%20%20%20%29.addTo%28map_c38e45f15c61460ebfe7b67794e4d10c%29%3B%0A%20%20%20%20%20%20%20%20%0A%20%20%20%20%0A%20%20%20%20%20%20%20%20%20%20%20%20var%20tile_layer_a5a99c023716438ab7ea20af4affbc01%20%3D%20L.tileLayer%28%0A%20%20%20%20%20%20%20%20%20%20%20%20%20%20%20%20%22https%3A//earthengine.googleapis.com/v1alpha/projects/earthengine-legacy/maps/61f99dd52ced42c6115b2abca45990b2-c2ebe07f3d0795e2df7baf6bc624f5ab/tiles/%7Bz%7D/%7Bx%7D/%7By%7D%22%2C%0A%20%20%20%20%20%20%20%20%20%20%20%20%20%20%20%20%7B%22attribution%22%3A%20%22Google%20Earth%20Engine%22%2C%20%22detectRetina%22%3A%20false%2C%20%22maxNativeZoom%22%3A%2018%2C%20%22maxZoom%22%3A%2018%2C%20%22minZoom%22%3A%200%2C%20%22noWrap%22%3A%20false%2C%20%22opacity%22%3A%201.0%2C%20%22subdomains%22%3A%20%22abc%22%2C%20%22tms%22%3A%20false%7D%0A%20%20%20%20%20%20%20%20%20%20%20%20%29.addTo%28map_c38e45f15c61460ebfe7b67794e4d10c%29%3B%0A%20%20%20%20%20%20%20%20%0A%20%20%20%20%0A%20%20%20%20%20%20%20%20%20%20%20%20var%20layer_control_2f5a09a019004a27b7cd7242ba360002%20%3D%20%7B%0A%20%20%20%20%20%20%20%20%20%20%20%20%20%20%20%20base_layers%20%3A%20%7B%0A%20%20%20%20%20%20%20%20%20%20%20%20%20%20%20%20%20%20%20%20%22openstreetmap%22%20%3A%20tile_layer_2fab487911bd4ddd9b4942eaea12df83%2C%0A%20%20%20%20%20%20%20%20%20%20%20%20%20%20%20%20%7D%2C%0A%20%20%20%20%20%20%20%20%20%20%20%20%20%20%20%20overlays%20%3A%20%20%7B%0A%20%20%20%20%20%20%20%20%20%20%20%20%20%20%20%20%20%20%20%20%22Google%20Maps%22%20%3A%20tile_layer_a20833511af84f29888c5278dad1be38%2C%0A%20%20%20%20%20%20%20%20%20%20%20%20%20%20%20%20%20%20%20%20%22NAIP%22%20%3A%20tile_layer_129d7fa18fac4808bd0e0dd0169c8dcb%2C%0A%20%20%20%20%20%20%20%20%20%20%20%20%20%20%20%20%20%20%20%20%22Polygon_dams_OSM%22%20%3A%20tile_layer_c44c2af1c9f1479ba71f35af828309f7%2C%0A%20%20%20%20%20%20%20%20%20%20%20%20%20%20%20%20%20%20%20%20%22Polygon_dams_NID%22%20%3A%20tile_layer_81218e0eec7344eba1b92d57422ce930%2C%0A%20%20%20%20%20%20%20%20%20%20%20%20%20%20%20%20%20%20%20%20%22Polygon_dams_GRAND%22%20%3A%20tile_layer_f6ab2ff5f3a24863b221fe44fa062e30%2C%0A%20%20%20%20%20%20%20%20%20%20%20%20%20%20%20%20%20%20%20%20%22Polygon_dams%22%20%3A%20tile_layer_a5a99c023716438ab7ea20af4affbc01%2C%0A%20%20%20%20%20%20%20%20%20%20%20%20%20%20%20%20%7D%2C%0A%20%20%20%20%20%20%20%20%20%20%20%20%7D%3B%0A%20%20%20%20%20%20%20%20%20%20%20%20L.control.layers%28%0A%20%20%20%20%20%20%20%20%20%20%20%20%20%20%20%20layer_control_2f5a09a019004a27b7cd7242ba360002.base_layers%2C%0A%20%20%20%20%20%20%20%20%20%20%20%20%20%20%20%20layer_control_2f5a09a019004a27b7cd7242ba360002.overlays%2C%0A%20%20%20%20%20%20%20%20%20%20%20%20%20%20%20%20%7B%22autoZIndex%22%3A%20true%2C%20%22collapsed%22%3A%20true%2C%20%22position%22%3A%20%22topright%22%7D%0A%20%20%20%20%20%20%20%20%20%20%20%20%29.addTo%28map_c38e45f15c61460ebfe7b67794e4d10c%29%3B%0A%20%20%20%20%20%20%20%20%0A%3C/script%3E onload=\"this.contentDocument.open();this.contentDocument.write(    decodeURIComponent(this.getAttribute('data-html')));this.contentDocument.close();\" allowfullscreen webkitallowfullscreen mozallowfullscreen></iframe></div></div>"
            ],
            "text/plain": [
              "<geemap.eefolium.Map at 0x7fa484730750>"
            ]
          },
          "metadata": {
            "tags": []
          },
          "execution_count": 41
        }
      ]
    },
    {
      "cell_type": "markdown",
      "metadata": {
        "id": "Hb-6sy7AnvrA"
      },
      "source": [
        "## Filter dam polygons by water area"
      ]
    },
    {
      "cell_type": "code",
      "metadata": {
        "id": "DRD8UqH-n8aM",
        "colab": {
          "base_uri": "https://localhost:8080/"
        },
        "outputId": "6e672c67-ee0f-46bd-9fa5-57cee3b87e9a"
      },
      "source": [
        "### Now we filter the squares for which area does not reach a certain threshold\n",
        "ee_dams_area = ee_all.map(compute_water_area)\n",
        "\n",
        "AreaThreshold = 80000\n",
        "ee_dams_water_filter = ee_dams_area.filter(ee.Filter.gt('area', AreaThreshold))\n",
        "\n",
        "print('All polygons OSM #{}'.format(ee_dams_area.size().getInfo()))\n",
        "print('Filtered polygons OSM by area #{}'.format(ee_dams_water_filter.size().getInfo()))\n"
      ],
      "execution_count": null,
      "outputs": [
        {
          "output_type": "stream",
          "text": [
            "All polygons OSM #1298\n",
            "Filtered polygons OSM by area #768\n"
          ],
          "name": "stdout"
        }
      ]
    },
    {
      "cell_type": "code",
      "metadata": {
        "id": "7oMlRRYRKZrO",
        "colab": {
          "base_uri": "https://localhost:8080/",
          "height": 686
        },
        "outputId": "c97febe5-2f4e-47aa-bf04-3cb9c14c13f5"
      },
      "source": [
        "# Displays the map\n",
        "Map = geemap.Map()\n",
        "Map.setCenter(-120.08, 36.86)\n",
        "bounds = Map.get_bounds()\n",
        "\n",
        "Map.addLayer(naip1, {}, \"NAIP\");\n",
        "\n",
        "Map.addLayer(water, { 'min': 0, 'max': 1, 'palette': ['aqua'], 'opacity': 0.4 }, 'water')\n",
        "\n",
        "#Add unfiltered polygons of OSM and NID dams\n",
        "Map.addLayer(ee_all, {'color': 'red', 'opacity': 0.3}, 'Polygon_dams')\n",
        "Map.addLayer(ee_polygon_GRAND, {'color': 'orange', 'opacity': 0.5}, 'Polygon_dams_GRAND')\n",
        "\n",
        "#Filtered polygons\n",
        "Map.addLayer(ee_dams_water_filter, {'color': 'blue', 'opacity': 0.6}, 'Waterfilter_dams')\n",
        "\n",
        "# Map.addLayer(ee_dams.filter(ee.Filter.eq('isInland', 1)), {'color' : 'yellow'}, 'coastline')\n",
        "\n",
        "\n",
        "Map.addLayerControl() \n",
        "Map"
      ],
      "execution_count": null,
      "outputs": [
        {
          "output_type": "execute_result",
          "data": {
            "text/html": [
              "<div style=\"width:100%;\"><div style=\"position:relative;width:100%;height:0;padding-bottom:60%;\"><span style=\"color:#565656\">Make this Notebook Trusted to load map: File -> Trust Notebook</span><iframe src=\"about:blank\" style=\"position:absolute;width:100%;height:100%;left:0;top:0;border:none !important;\" data-html=%3C%21DOCTYPE%20html%3E%0A%3Chead%3E%20%20%20%20%0A%20%20%20%20%3Cmeta%20http-equiv%3D%22content-type%22%20content%3D%22text/html%3B%20charset%3DUTF-8%22%20/%3E%0A%20%20%20%20%0A%20%20%20%20%20%20%20%20%3Cscript%3E%0A%20%20%20%20%20%20%20%20%20%20%20%20L_NO_TOUCH%20%3D%20false%3B%0A%20%20%20%20%20%20%20%20%20%20%20%20L_DISABLE_3D%20%3D%20false%3B%0A%20%20%20%20%20%20%20%20%3C/script%3E%0A%20%20%20%20%0A%20%20%20%20%3Cstyle%3Ehtml%2C%20body%20%7Bwidth%3A%20100%25%3Bheight%3A%20100%25%3Bmargin%3A%200%3Bpadding%3A%200%3B%7D%3C/style%3E%0A%20%20%20%20%3Cstyle%3E%23map%20%7Bposition%3Aabsolute%3Btop%3A0%3Bbottom%3A0%3Bright%3A0%3Bleft%3A0%3B%7D%3C/style%3E%0A%20%20%20%20%3Cscript%20src%3D%22https%3A//cdn.jsdelivr.net/npm/leaflet%401.6.0/dist/leaflet.js%22%3E%3C/script%3E%0A%20%20%20%20%3Cscript%20src%3D%22https%3A//code.jquery.com/jquery-1.12.4.min.js%22%3E%3C/script%3E%0A%20%20%20%20%3Cscript%20src%3D%22https%3A//maxcdn.bootstrapcdn.com/bootstrap/3.2.0/js/bootstrap.min.js%22%3E%3C/script%3E%0A%20%20%20%20%3Cscript%20src%3D%22https%3A//cdnjs.cloudflare.com/ajax/libs/Leaflet.awesome-markers/2.0.2/leaflet.awesome-markers.js%22%3E%3C/script%3E%0A%20%20%20%20%3Clink%20rel%3D%22stylesheet%22%20href%3D%22https%3A//cdn.jsdelivr.net/npm/leaflet%401.6.0/dist/leaflet.css%22/%3E%0A%20%20%20%20%3Clink%20rel%3D%22stylesheet%22%20href%3D%22https%3A//maxcdn.bootstrapcdn.com/bootstrap/3.2.0/css/bootstrap.min.css%22/%3E%0A%20%20%20%20%3Clink%20rel%3D%22stylesheet%22%20href%3D%22https%3A//maxcdn.bootstrapcdn.com/bootstrap/3.2.0/css/bootstrap-theme.min.css%22/%3E%0A%20%20%20%20%3Clink%20rel%3D%22stylesheet%22%20href%3D%22https%3A//maxcdn.bootstrapcdn.com/font-awesome/4.6.3/css/font-awesome.min.css%22/%3E%0A%20%20%20%20%3Clink%20rel%3D%22stylesheet%22%20href%3D%22https%3A//cdnjs.cloudflare.com/ajax/libs/Leaflet.awesome-markers/2.0.2/leaflet.awesome-markers.css%22/%3E%0A%20%20%20%20%3Clink%20rel%3D%22stylesheet%22%20href%3D%22https%3A//cdn.jsdelivr.net/gh/python-visualization/folium/folium/templates/leaflet.awesome.rotate.min.css%22/%3E%0A%20%20%20%20%0A%20%20%20%20%20%20%20%20%20%20%20%20%3Cmeta%20name%3D%22viewport%22%20content%3D%22width%3Ddevice-width%2C%0A%20%20%20%20%20%20%20%20%20%20%20%20%20%20%20%20initial-scale%3D1.0%2C%20maximum-scale%3D1.0%2C%20user-scalable%3Dno%22%20/%3E%0A%20%20%20%20%20%20%20%20%20%20%20%20%3Cstyle%3E%0A%20%20%20%20%20%20%20%20%20%20%20%20%20%20%20%20%23map_584b2b8409624d4b97e08196a565ed9f%20%7B%0A%20%20%20%20%20%20%20%20%20%20%20%20%20%20%20%20%20%20%20%20position%3A%20relative%3B%0A%20%20%20%20%20%20%20%20%20%20%20%20%20%20%20%20%20%20%20%20width%3A%20100.0%25%3B%0A%20%20%20%20%20%20%20%20%20%20%20%20%20%20%20%20%20%20%20%20height%3A%20100.0%25%3B%0A%20%20%20%20%20%20%20%20%20%20%20%20%20%20%20%20%20%20%20%20left%3A%200.0%25%3B%0A%20%20%20%20%20%20%20%20%20%20%20%20%20%20%20%20%20%20%20%20top%3A%200.0%25%3B%0A%20%20%20%20%20%20%20%20%20%20%20%20%20%20%20%20%7D%0A%20%20%20%20%20%20%20%20%20%20%20%20%3C/style%3E%0A%20%20%20%20%20%20%20%20%0A%20%20%20%20%3Cscript%20src%3D%22https%3A//cdnjs.cloudflare.com/ajax/libs/leaflet.fullscreen/1.4.2/Control.FullScreen.min.js%22%3E%3C/script%3E%0A%20%20%20%20%3Clink%20rel%3D%22stylesheet%22%20href%3D%22https%3A//cdnjs.cloudflare.com/ajax/libs/leaflet.fullscreen/1.4.2/Control.FullScreen.min.css%22/%3E%0A%3C/head%3E%0A%3Cbody%3E%20%20%20%20%0A%20%20%20%20%0A%20%20%20%20%20%20%20%20%20%20%20%20%3Cdiv%20class%3D%22folium-map%22%20id%3D%22map_584b2b8409624d4b97e08196a565ed9f%22%20%3E%3C/div%3E%0A%20%20%20%20%20%20%20%20%0A%3C/body%3E%0A%3Cscript%3E%20%20%20%20%0A%20%20%20%20%0A%20%20%20%20%20%20%20%20%20%20%20%20var%20map_584b2b8409624d4b97e08196a565ed9f%20%3D%20L.map%28%0A%20%20%20%20%20%20%20%20%20%20%20%20%20%20%20%20%22map_584b2b8409624d4b97e08196a565ed9f%22%2C%0A%20%20%20%20%20%20%20%20%20%20%20%20%20%20%20%20%7B%0A%20%20%20%20%20%20%20%20%20%20%20%20%20%20%20%20%20%20%20%20center%3A%20%5B40.0%2C%20-100.0%5D%2C%0A%20%20%20%20%20%20%20%20%20%20%20%20%20%20%20%20%20%20%20%20crs%3A%20L.CRS.EPSG3857%2C%0A%20%20%20%20%20%20%20%20%20%20%20%20%20%20%20%20%20%20%20%20zoom%3A%204%2C%0A%20%20%20%20%20%20%20%20%20%20%20%20%20%20%20%20%20%20%20%20zoomControl%3A%20true%2C%0A%20%20%20%20%20%20%20%20%20%20%20%20%20%20%20%20%20%20%20%20preferCanvas%3A%20false%2C%0A%20%20%20%20%20%20%20%20%20%20%20%20%20%20%20%20%20%20%20%20eeInitialize%3A%20true%2C%0A%20%20%20%20%20%20%20%20%20%20%20%20%20%20%20%20%20%20%20%20addGoogleMap%3A%20true%2C%0A%20%20%20%20%20%20%20%20%20%20%20%20%20%20%20%20%20%20%20%20pluginLatlngpopup%3A%20true%2C%0A%20%20%20%20%20%20%20%20%20%20%20%20%20%20%20%20%20%20%20%20pluginFullscreen%3A%20true%2C%0A%20%20%20%20%20%20%20%20%20%20%20%20%20%20%20%20%20%20%20%20pluginDraw%3A%20false%2C%0A%20%20%20%20%20%20%20%20%20%20%20%20%20%20%20%20%20%20%20%20DrawExport%3A%20true%2C%0A%20%20%20%20%20%20%20%20%20%20%20%20%20%20%20%20%20%20%20%20pluginMinimap%3A%20false%2C%0A%20%20%20%20%20%20%20%20%20%20%20%20%20%20%20%20%20%20%20%20pluginLayercontrol%3A%20false%2C%0A%20%20%20%20%20%20%20%20%20%20%20%20%20%20%20%20%7D%0A%20%20%20%20%20%20%20%20%20%20%20%20%29%3B%0A%0A%20%20%20%20%20%20%20%20%20%20%20%20%0A%0A%20%20%20%20%20%20%20%20%0A%20%20%20%20%0A%20%20%20%20%20%20%20%20%20%20%20%20var%20tile_layer_bb528ba266ff471a8489a01a7ce8f0df%20%3D%20L.tileLayer%28%0A%20%20%20%20%20%20%20%20%20%20%20%20%20%20%20%20%22https%3A//%7Bs%7D.tile.openstreetmap.org/%7Bz%7D/%7Bx%7D/%7By%7D.png%22%2C%0A%20%20%20%20%20%20%20%20%20%20%20%20%20%20%20%20%7B%22attribution%22%3A%20%22Data%20by%20%5Cu0026copy%3B%20%5Cu003ca%20href%3D%5C%22http%3A//openstreetmap.org%5C%22%5Cu003eOpenStreetMap%5Cu003c/a%5Cu003e%2C%20under%20%5Cu003ca%20href%3D%5C%22http%3A//www.openstreetmap.org/copyright%5C%22%5Cu003eODbL%5Cu003c/a%5Cu003e.%22%2C%20%22detectRetina%22%3A%20false%2C%20%22maxNativeZoom%22%3A%2018%2C%20%22maxZoom%22%3A%2018%2C%20%22minZoom%22%3A%200%2C%20%22noWrap%22%3A%20false%2C%20%22opacity%22%3A%201%2C%20%22subdomains%22%3A%20%22abc%22%2C%20%22tms%22%3A%20false%7D%0A%20%20%20%20%20%20%20%20%20%20%20%20%29.addTo%28map_584b2b8409624d4b97e08196a565ed9f%29%3B%0A%20%20%20%20%20%20%20%20%0A%20%20%20%20%0A%20%20%20%20%20%20%20%20%20%20%20%20var%20tile_layer_a20833511af84f29888c5278dad1be38%20%3D%20L.tileLayer%28%0A%20%20%20%20%20%20%20%20%20%20%20%20%20%20%20%20%22https%3A//mt1.google.com/vt/lyrs%3Dm%5Cu0026x%3D%7Bx%7D%5Cu0026y%3D%7By%7D%5Cu0026z%3D%7Bz%7D%22%2C%0A%20%20%20%20%20%20%20%20%20%20%20%20%20%20%20%20%7B%22attribution%22%3A%20%22Google%22%2C%20%22detectRetina%22%3A%20false%2C%20%22maxNativeZoom%22%3A%2018%2C%20%22maxZoom%22%3A%2018%2C%20%22minZoom%22%3A%200%2C%20%22noWrap%22%3A%20false%2C%20%22opacity%22%3A%201%2C%20%22subdomains%22%3A%20%22abc%22%2C%20%22tms%22%3A%20false%7D%0A%20%20%20%20%20%20%20%20%20%20%20%20%29.addTo%28map_584b2b8409624d4b97e08196a565ed9f%29%3B%0A%20%20%20%20%20%20%20%20%0A%20%20%20%20%0A%20%20%20%20%20%20%20%20%20%20%20%20%20%20%20%20var%20lat_lng_popup_ae5cb8319d644cf1ac53a348582cac69%20%3D%20L.popup%28%29%3B%0A%20%20%20%20%20%20%20%20%20%20%20%20%20%20%20%20function%20latLngPop%28e%29%20%7B%0A%20%20%20%20%20%20%20%20%20%20%20%20%20%20%20%20%20%20%20%20lat_lng_popup_ae5cb8319d644cf1ac53a348582cac69%0A%20%20%20%20%20%20%20%20%20%20%20%20%20%20%20%20%20%20%20%20%20%20%20%20.setLatLng%28e.latlng%29%0A%20%20%20%20%20%20%20%20%20%20%20%20%20%20%20%20%20%20%20%20%20%20%20%20.setContent%28%22Latitude%3A%20%22%20%2B%20e.latlng.lat.toFixed%284%29%20%2B%0A%20%20%20%20%20%20%20%20%20%20%20%20%20%20%20%20%20%20%20%20%20%20%20%20%20%20%20%20%20%20%20%20%20%20%20%20%22%3Cbr%3ELongitude%3A%20%22%20%2B%20e.latlng.lng.toFixed%284%29%29%0A%20%20%20%20%20%20%20%20%20%20%20%20%20%20%20%20%20%20%20%20%20%20%20%20.openOn%28map_584b2b8409624d4b97e08196a565ed9f%29%3B%0A%20%20%20%20%20%20%20%20%20%20%20%20%20%20%20%20%20%20%20%20%7D%0A%20%20%20%20%20%20%20%20%20%20%20%20%20%20%20%20map_584b2b8409624d4b97e08196a565ed9f.on%28%27click%27%2C%20latLngPop%29%3B%0A%20%20%20%20%20%20%20%20%20%20%20%20%0A%20%20%20%20%0A%20%20%20%20%20%20%20%20%20%20%20%20L.control.fullscreen%28%0A%20%20%20%20%20%20%20%20%20%20%20%20%20%20%20%20%7B%22forceSeparateButton%22%3A%20false%2C%20%22position%22%3A%20%22topleft%22%2C%20%22title%22%3A%20%22Full%20Screen%22%2C%20%22titleCancel%22%3A%20%22Exit%20Full%20Screen%22%7D%0A%20%20%20%20%20%20%20%20%20%20%20%20%29.addTo%28map_584b2b8409624d4b97e08196a565ed9f%29%3B%0A%20%20%20%20%20%20%20%20%0A%20%20%20%20%0A%20%20%20%20%20%20%20%20%20%20%20%20map_584b2b8409624d4b97e08196a565ed9f.fitBounds%28%0A%20%20%20%20%20%20%20%20%20%20%20%20%20%20%20%20%5B%5B40%2C%20-100%5D%2C%20%5B40%2C%20-100%5D%5D%2C%0A%20%20%20%20%20%20%20%20%20%20%20%20%20%20%20%20%7B%22maxZoom%22%3A%204%7D%0A%20%20%20%20%20%20%20%20%20%20%20%20%29%3B%0A%20%20%20%20%20%20%20%20%0A%20%20%20%20%0A%20%20%20%20%20%20%20%20%20%20%20%20map_584b2b8409624d4b97e08196a565ed9f.fitBounds%28%0A%20%20%20%20%20%20%20%20%20%20%20%20%20%20%20%20%5B%5B36.86%2C%20-120.08%5D%2C%20%5B36.86%2C%20-120.08%5D%5D%2C%0A%20%20%20%20%20%20%20%20%20%20%20%20%20%20%20%20%7B%22maxZoom%22%3A%2010%7D%0A%20%20%20%20%20%20%20%20%20%20%20%20%29%3B%0A%20%20%20%20%20%20%20%20%0A%20%20%20%20%0A%20%20%20%20%20%20%20%20%20%20%20%20var%20tile_layer_0fba538a476e427b961fe46bf8ef09e8%20%3D%20L.tileLayer%28%0A%20%20%20%20%20%20%20%20%20%20%20%20%20%20%20%20%22https%3A//earthengine.googleapis.com/v1alpha/projects/earthengine-legacy/maps/fb693b816db518af0950e3ad85cd72b7-a33200363e475f77a1473be2ad39825b/tiles/%7Bz%7D/%7Bx%7D/%7By%7D%22%2C%0A%20%20%20%20%20%20%20%20%20%20%20%20%20%20%20%20%7B%22attribution%22%3A%20%22Google%20Earth%20Engine%22%2C%20%22detectRetina%22%3A%20false%2C%20%22maxNativeZoom%22%3A%2018%2C%20%22maxZoom%22%3A%2018%2C%20%22minZoom%22%3A%200%2C%20%22noWrap%22%3A%20false%2C%20%22opacity%22%3A%201.0%2C%20%22subdomains%22%3A%20%22abc%22%2C%20%22tms%22%3A%20false%7D%0A%20%20%20%20%20%20%20%20%20%20%20%20%29.addTo%28map_584b2b8409624d4b97e08196a565ed9f%29%3B%0A%20%20%20%20%20%20%20%20%0A%20%20%20%20%0A%20%20%20%20%20%20%20%20%20%20%20%20var%20tile_layer_0740fe3483414c67b9f00794dc5e970b%20%3D%20L.tileLayer%28%0A%20%20%20%20%20%20%20%20%20%20%20%20%20%20%20%20%22https%3A//earthengine.googleapis.com/v1alpha/projects/earthengine-legacy/maps/7e33ec0bc96ec761649d087f7fe9fbc7-606516ac289661c9b52fef5b40c60d96/tiles/%7Bz%7D/%7Bx%7D/%7By%7D%22%2C%0A%20%20%20%20%20%20%20%20%20%20%20%20%20%20%20%20%7B%22attribution%22%3A%20%22Google%20Earth%20Engine%22%2C%20%22detectRetina%22%3A%20false%2C%20%22maxNativeZoom%22%3A%2018%2C%20%22maxZoom%22%3A%2018%2C%20%22minZoom%22%3A%200%2C%20%22noWrap%22%3A%20false%2C%20%22opacity%22%3A%201.0%2C%20%22subdomains%22%3A%20%22abc%22%2C%20%22tms%22%3A%20false%7D%0A%20%20%20%20%20%20%20%20%20%20%20%20%29.addTo%28map_584b2b8409624d4b97e08196a565ed9f%29%3B%0A%20%20%20%20%20%20%20%20%0A%20%20%20%20%0A%20%20%20%20%20%20%20%20%20%20%20%20var%20tile_layer_125135ad78224380a2f4d8b15a9f0dd5%20%3D%20L.tileLayer%28%0A%20%20%20%20%20%20%20%20%20%20%20%20%20%20%20%20%22https%3A//earthengine.googleapis.com/v1alpha/projects/earthengine-legacy/maps/c566c376113df7b73ba54388005ccb53-c2ad5945e97107e976a8bab5133f58a0/tiles/%7Bz%7D/%7Bx%7D/%7By%7D%22%2C%0A%20%20%20%20%20%20%20%20%20%20%20%20%20%20%20%20%7B%22attribution%22%3A%20%22Google%20Earth%20Engine%22%2C%20%22detectRetina%22%3A%20false%2C%20%22maxNativeZoom%22%3A%2018%2C%20%22maxZoom%22%3A%2018%2C%20%22minZoom%22%3A%200%2C%20%22noWrap%22%3A%20false%2C%20%22opacity%22%3A%201.0%2C%20%22subdomains%22%3A%20%22abc%22%2C%20%22tms%22%3A%20false%7D%0A%20%20%20%20%20%20%20%20%20%20%20%20%29.addTo%28map_584b2b8409624d4b97e08196a565ed9f%29%3B%0A%20%20%20%20%20%20%20%20%0A%20%20%20%20%0A%20%20%20%20%20%20%20%20%20%20%20%20var%20tile_layer_8563b9f21499451990e931f819c4eb14%20%3D%20L.tileLayer%28%0A%20%20%20%20%20%20%20%20%20%20%20%20%20%20%20%20%22https%3A//earthengine.googleapis.com/v1alpha/projects/earthengine-legacy/maps/9e710d2a97ca748945a08e0a72a68a2d-75af4001085cbf6b7e1987f5db7e711f/tiles/%7Bz%7D/%7Bx%7D/%7By%7D%22%2C%0A%20%20%20%20%20%20%20%20%20%20%20%20%20%20%20%20%7B%22attribution%22%3A%20%22Google%20Earth%20Engine%22%2C%20%22detectRetina%22%3A%20false%2C%20%22maxNativeZoom%22%3A%2018%2C%20%22maxZoom%22%3A%2018%2C%20%22minZoom%22%3A%200%2C%20%22noWrap%22%3A%20false%2C%20%22opacity%22%3A%201.0%2C%20%22subdomains%22%3A%20%22abc%22%2C%20%22tms%22%3A%20false%7D%0A%20%20%20%20%20%20%20%20%20%20%20%20%29.addTo%28map_584b2b8409624d4b97e08196a565ed9f%29%3B%0A%20%20%20%20%20%20%20%20%0A%20%20%20%20%0A%20%20%20%20%20%20%20%20%20%20%20%20var%20tile_layer_48582255b7214347b40cae746fc0ff00%20%3D%20L.tileLayer%28%0A%20%20%20%20%20%20%20%20%20%20%20%20%20%20%20%20%22https%3A//earthengine.googleapis.com/v1alpha/projects/earthengine-legacy/maps/421257051f6b21b5379b2052c0283e71-564ce8122bc35bd5ba204df4981cf906/tiles/%7Bz%7D/%7Bx%7D/%7By%7D%22%2C%0A%20%20%20%20%20%20%20%20%20%20%20%20%20%20%20%20%7B%22attribution%22%3A%20%22Google%20Earth%20Engine%22%2C%20%22detectRetina%22%3A%20false%2C%20%22maxNativeZoom%22%3A%2018%2C%20%22maxZoom%22%3A%2018%2C%20%22minZoom%22%3A%200%2C%20%22noWrap%22%3A%20false%2C%20%22opacity%22%3A%201.0%2C%20%22subdomains%22%3A%20%22abc%22%2C%20%22tms%22%3A%20false%7D%0A%20%20%20%20%20%20%20%20%20%20%20%20%29.addTo%28map_584b2b8409624d4b97e08196a565ed9f%29%3B%0A%20%20%20%20%20%20%20%20%0A%20%20%20%20%0A%20%20%20%20%20%20%20%20%20%20%20%20var%20layer_control_2942c705e28b437cab496719ef3bb3cb%20%3D%20%7B%0A%20%20%20%20%20%20%20%20%20%20%20%20%20%20%20%20base_layers%20%3A%20%7B%0A%20%20%20%20%20%20%20%20%20%20%20%20%20%20%20%20%20%20%20%20%22openstreetmap%22%20%3A%20tile_layer_bb528ba266ff471a8489a01a7ce8f0df%2C%0A%20%20%20%20%20%20%20%20%20%20%20%20%20%20%20%20%7D%2C%0A%20%20%20%20%20%20%20%20%20%20%20%20%20%20%20%20overlays%20%3A%20%20%7B%0A%20%20%20%20%20%20%20%20%20%20%20%20%20%20%20%20%20%20%20%20%22Google%20Maps%22%20%3A%20tile_layer_a20833511af84f29888c5278dad1be38%2C%0A%20%20%20%20%20%20%20%20%20%20%20%20%20%20%20%20%20%20%20%20%22NAIP%22%20%3A%20tile_layer_0fba538a476e427b961fe46bf8ef09e8%2C%0A%20%20%20%20%20%20%20%20%20%20%20%20%20%20%20%20%20%20%20%20%22water%22%20%3A%20tile_layer_0740fe3483414c67b9f00794dc5e970b%2C%0A%20%20%20%20%20%20%20%20%20%20%20%20%20%20%20%20%20%20%20%20%22Polygon_dams%22%20%3A%20tile_layer_125135ad78224380a2f4d8b15a9f0dd5%2C%0A%20%20%20%20%20%20%20%20%20%20%20%20%20%20%20%20%20%20%20%20%22Polygon_dams_GRAND%22%20%3A%20tile_layer_8563b9f21499451990e931f819c4eb14%2C%0A%20%20%20%20%20%20%20%20%20%20%20%20%20%20%20%20%20%20%20%20%22Waterfilter_dams%22%20%3A%20tile_layer_48582255b7214347b40cae746fc0ff00%2C%0A%20%20%20%20%20%20%20%20%20%20%20%20%20%20%20%20%7D%2C%0A%20%20%20%20%20%20%20%20%20%20%20%20%7D%3B%0A%20%20%20%20%20%20%20%20%20%20%20%20L.control.layers%28%0A%20%20%20%20%20%20%20%20%20%20%20%20%20%20%20%20layer_control_2942c705e28b437cab496719ef3bb3cb.base_layers%2C%0A%20%20%20%20%20%20%20%20%20%20%20%20%20%20%20%20layer_control_2942c705e28b437cab496719ef3bb3cb.overlays%2C%0A%20%20%20%20%20%20%20%20%20%20%20%20%20%20%20%20%7B%22autoZIndex%22%3A%20true%2C%20%22collapsed%22%3A%20true%2C%20%22position%22%3A%20%22topright%22%7D%0A%20%20%20%20%20%20%20%20%20%20%20%20%29.addTo%28map_584b2b8409624d4b97e08196a565ed9f%29%3B%0A%20%20%20%20%20%20%20%20%0A%3C/script%3E onload=\"this.contentDocument.open();this.contentDocument.write(    decodeURIComponent(this.getAttribute('data-html')));this.contentDocument.close();\" allowfullscreen webkitallowfullscreen mozallowfullscreen></iframe></div></div>"
            ],
            "text/plain": [
              "<geemap.eefolium.Map at 0x7fa48472ca50>"
            ]
          },
          "metadata": {
            "tags": []
          },
          "execution_count": 43
        }
      ]
    },
    {
      "cell_type": "markdown",
      "metadata": {
        "id": "F_U2iMYbp81Y"
      },
      "source": [
        "## Delete polygons on the coastline"
      ]
    },
    {
      "cell_type": "code",
      "metadata": {
        "id": "W4KRuHbHp7r8",
        "colab": {
          "base_uri": "https://localhost:8080/"
        },
        "outputId": "e21e077a-df68-4150-abad-82a1151b3b62"
      },
      "source": [
        "ee_dams = ee_dams_water_filter.map(in_land).filter(ee.Filter.eq('isInland', 1))\n",
        "\n",
        "print(ee_dams.aggregate_array('isInland').getInfo())\n"
      ],
      "execution_count": null,
      "outputs": [
        {
          "output_type": "stream",
          "text": [
            "[1, 1, 1, 1, 1, 1, 1, 1, 1, 1, 1, 1, 1, 1, 1, 1, 1, 1, 1, 1, 1, 1, 1, 1, 1, 1, 1, 1, 1, 1, 1, 1, 1, 1, 1, 1, 1, 1, 1, 1, 1, 1, 1, 1, 1, 1, 1, 1, 1, 1, 1, 1, 1, 1, 1, 1, 1, 1, 1, 1, 1, 1, 1, 1, 1, 1, 1, 1, 1, 1, 1, 1, 1, 1, 1, 1, 1, 1, 1, 1, 1, 1, 1, 1, 1, 1, 1, 1, 1, 1, 1, 1, 1, 1, 1, 1, 1, 1, 1, 1, 1, 1, 1, 1, 1, 1, 1, 1, 1, 1, 1, 1, 1, 1, 1, 1, 1, 1, 1, 1, 1, 1, 1, 1, 1, 1, 1, 1, 1, 1, 1, 1, 1, 1, 1, 1, 1, 1, 1, 1, 1, 1, 1, 1, 1, 1, 1, 1, 1, 1, 1, 1, 1, 1, 1, 1, 1, 1, 1, 1, 1, 1, 1, 1, 1, 1, 1, 1, 1, 1, 1, 1, 1, 1, 1, 1, 1, 1, 1, 1, 1, 1, 1, 1, 1, 1, 1, 1, 1, 1, 1, 1, 1, 1, 1, 1, 1, 1, 1, 1, 1, 1, 1, 1, 1, 1, 1, 1, 1, 1, 1, 1, 1, 1, 1, 1, 1, 1, 1, 1, 1, 1, 1, 1, 1, 1, 1, 1, 1, 1, 1, 1, 1, 1, 1, 1, 1, 1, 1, 1, 1, 1, 1, 1, 1, 1, 1, 1, 1, 1, 1, 1, 1, 1, 1, 1, 1, 1, 1, 1, 1, 1, 1, 1, 1, 1, 1, 1, 1, 1, 1, 1, 1, 1, 1, 1, 1, 1, 1, 1, 1, 1, 1, 1, 1, 1, 1, 1, 1, 1, 1, 1, 1, 1, 1, 1, 1, 1, 1, 1, 1, 1, 1, 1, 1, 1, 1, 1, 1, 1, 1, 1, 1, 1, 1, 1, 1, 1, 1, 1, 1, 1, 1, 1, 1, 1, 1, 1, 1, 1, 1, 1, 1, 1, 1, 1, 1, 1, 1, 1, 1, 1, 1, 1, 1, 1, 1, 1, 1, 1, 1, 1, 1, 1, 1, 1, 1, 1, 1, 1, 1, 1, 1, 1, 1, 1, 1, 1, 1, 1, 1, 1, 1, 1, 1, 1, 1, 1, 1, 1, 1, 1, 1, 1, 1, 1, 1, 1, 1, 1, 1, 1, 1, 1, 1, 1, 1, 1, 1, 1, 1, 1, 1, 1, 1, 1, 1, 1, 1, 1, 1, 1, 1, 1, 1, 1, 1, 1, 1, 1, 1, 1, 1, 1, 1, 1, 1, 1, 1, 1, 1, 1, 1, 1, 1, 1, 1, 1, 1, 1, 1, 1, 1, 1, 1, 1, 1, 1, 1, 1, 1, 1, 1, 1, 1, 1, 1, 1, 1, 1, 1, 1, 1, 1, 1, 1, 1, 1, 1, 1, 1, 1, 1, 1, 1, 1, 1, 1, 1, 1, 1, 1, 1, 1, 1, 1, 1, 1, 1, 1, 1, 1, 1, 1, 1, 1, 1, 1, 1, 1, 1, 1, 1, 1, 1, 1, 1, 1, 1, 1, 1, 1, 1, 1, 1, 1, 1, 1, 1, 1, 1, 1, 1, 1, 1, 1, 1, 1, 1, 1, 1, 1, 1, 1, 1, 1, 1, 1, 1, 1, 1, 1, 1, 1, 1, 1, 1, 1, 1, 1, 1, 1, 1, 1, 1, 1, 1, 1, 1, 1, 1, 1, 1, 1, 1, 1, 1, 1, 1, 1, 1, 1, 1, 1, 1, 1, 1, 1, 1, 1, 1, 1, 1, 1, 1, 1, 1, 1, 1, 1, 1, 1, 1, 1, 1, 1, 1, 1, 1, 1, 1, 1, 1, 1, 1, 1, 1, 1, 1, 1, 1, 1, 1, 1, 1, 1, 1, 1, 1, 1, 1, 1, 1, 1, 1, 1, 1, 1, 1, 1, 1, 1, 1, 1, 1, 1, 1, 1, 1, 1, 1, 1, 1, 1, 1, 1, 1, 1, 1, 1, 1, 1, 1, 1, 1, 1, 1, 1, 1, 1, 1, 1, 1, 1, 1, 1, 1, 1, 1, 1, 1, 1, 1, 1, 1, 1, 1, 1, 1, 1, 1, 1, 1, 1, 1, 1, 1, 1, 1, 1, 1, 1, 1, 1, 1, 1, 1, 1, 1, 1, 1, 1, 1, 1, 1, 1, 1, 1, 1, 1, 1, 1, 1, 1, 1, 1, 1, 1, 1, 1, 1, 1, 1, 1, 1, 1, 1, 1, 1, 1, 1, 1, 1, 1, 1, 1, 1, 1, 1, 1, 1, 1, 1, 1, 1, 1, 1, 1, 1, 1, 1, 1, 1, 1, 1, 1, 1, 1, 1]\n"
          ],
          "name": "stdout"
        }
      ]
    },
    {
      "cell_type": "code",
      "metadata": {
        "colab": {
          "base_uri": "https://localhost:8080/"
        },
        "id": "Mb8qZWpOFSmm",
        "outputId": "fdfb957b-fa3a-4cf2-efd7-42d2ab4c6bf0"
      },
      "source": [
        "dams_grand_filter = geopandas.GeoDataFrame.from_features(ee_dams.getInfo())\n",
        "overlay_polygons_2 = get_polygon_in_polygon(dams_grand_filter, buf_GRAND)\n",
        "overlay_polygons_2.drop_duplicates('FID', inplace= True)"
      ],
      "execution_count": null,
      "outputs": [
        {
          "output_type": "stream",
          "text": [
            "Original dataframe count= 759 \n",
            "New dataframe count= 221\n",
            "There are id's without an assigned region\n"
          ],
          "name": "stdout"
        }
      ]
    },
    {
      "cell_type": "code",
      "metadata": {
        "id": "5_FzNYMZFb0W",
        "colab": {
          "base_uri": "https://localhost:8080/"
        },
        "outputId": "d3c803f9-5a67-44a7-9088-68d4b9b40e08"
      },
      "source": [
        "ind_ = []\n",
        "for n in range(len(buf_GRAND)):\n",
        "  for i in overlay_polygons_2['FID']:\n",
        "    if int(i) == buf_GRAND['FID'][n]:\n",
        "      ind_.append(n)\n",
        "\n",
        "pol_GRAND = buf_GRAND.drop(ind_)\n",
        "\n",
        "print(pol_GRAND.index)"
      ],
      "execution_count": null,
      "outputs": [
        {
          "output_type": "stream",
          "text": [
            "Int64Index([52, 80, 97, 109, 112], dtype='int64')\n"
          ],
          "name": "stdout"
        }
      ]
    },
    {
      "cell_type": "code",
      "metadata": {
        "colab": {
          "base_uri": "https://localhost:8080/"
        },
        "id": "DjwfQ6nqF0U-",
        "outputId": "923dd079-c21f-4b73-fc81-f453fdc179d8"
      },
      "source": [
        "final_dams = dams_grand_filter.append(pol_GRAND)\n",
        "final_dams.to_file('all_dams.shp')\n",
        "ee_final_dams = geemap.shp_to_ee('all_dams.shp')"
      ],
      "execution_count": null,
      "outputs": [
        {
          "output_type": "stream",
          "text": [
            "/usr/local/lib/python3.7/dist-packages/geemap/common.py:6873: UserWarning: The projection file /content/all_dams.prj could not be found. Assuming the dataset is in a geographic coordinate system (GCS).\n",
            "  f\"The projection file {in_prj} could not be found. Assuming the dataset is in a geographic coordinate system (GCS).\"\n"
          ],
          "name": "stderr"
        }
      ]
    },
    {
      "cell_type": "code",
      "metadata": {
        "id": "Af9JcmE8lV3J"
      },
      "source": [
        "# total_dams = geopandas.GeoDataFrame.from_features(ee_dams.getInfo())\n",
        "# dams = total_dams.centroid"
      ],
      "execution_count": null,
      "outputs": []
    },
    {
      "cell_type": "code",
      "metadata": {
        "id": "yzgWpj9-rzfV"
      },
      "source": [
        "# buf_dams = dams.buffer(0.02, cap_style= 3)\n",
        "# buf_dams = geopandas.GeoDataFrame(geometry=geopandas.GeoSeries(buf_dams))\n",
        "# buf_dams.to_file('all_dams.shp')\n",
        "# ee_final_dams = geemap.shp_to_ee('all_dams.shp')"
      ],
      "execution_count": null,
      "outputs": []
    },
    {
      "cell_type": "code",
      "metadata": {
        "id": "G2LAs9trMj6c",
        "colab": {
          "base_uri": "https://localhost:8080/",
          "height": 686
        },
        "outputId": "d831991c-969c-4c4a-a7f2-f62830b6f2cc"
      },
      "source": [
        "# Displays the map\n",
        "Map = geemap.Map()\n",
        "Map.setCenter(-120.08, 36.86)\n",
        "bounds = Map.get_bounds()\n",
        "\n",
        "Map.addLayer(naip1, {}, \"NAIP\");\n",
        "\n",
        "Map.addLayer(water, { 'min': 0, 'max': 1, 'palette': ['aqua'], 'opacity': 0.4 }, 'water')\n",
        "\n",
        "#Final patches\n",
        "Map.addLayer(ee_final_dams, {'color': 'blue', 'opacity': 0.8}, 'Final_dams')\n",
        "\n",
        "Map.addLayerControl() \n",
        "Map"
      ],
      "execution_count": null,
      "outputs": [
        {
          "output_type": "execute_result",
          "data": {
            "text/html": [
              "<div style=\"width:100%;\"><div style=\"position:relative;width:100%;height:0;padding-bottom:60%;\"><span style=\"color:#565656\">Make this Notebook Trusted to load map: File -> Trust Notebook</span><iframe src=\"about:blank\" style=\"position:absolute;width:100%;height:100%;left:0;top:0;border:none !important;\" data-html=%3C%21DOCTYPE%20html%3E%0A%3Chead%3E%20%20%20%20%0A%20%20%20%20%3Cmeta%20http-equiv%3D%22content-type%22%20content%3D%22text/html%3B%20charset%3DUTF-8%22%20/%3E%0A%20%20%20%20%0A%20%20%20%20%20%20%20%20%3Cscript%3E%0A%20%20%20%20%20%20%20%20%20%20%20%20L_NO_TOUCH%20%3D%20false%3B%0A%20%20%20%20%20%20%20%20%20%20%20%20L_DISABLE_3D%20%3D%20false%3B%0A%20%20%20%20%20%20%20%20%3C/script%3E%0A%20%20%20%20%0A%20%20%20%20%3Cstyle%3Ehtml%2C%20body%20%7Bwidth%3A%20100%25%3Bheight%3A%20100%25%3Bmargin%3A%200%3Bpadding%3A%200%3B%7D%3C/style%3E%0A%20%20%20%20%3Cstyle%3E%23map%20%7Bposition%3Aabsolute%3Btop%3A0%3Bbottom%3A0%3Bright%3A0%3Bleft%3A0%3B%7D%3C/style%3E%0A%20%20%20%20%3Cscript%20src%3D%22https%3A//cdn.jsdelivr.net/npm/leaflet%401.6.0/dist/leaflet.js%22%3E%3C/script%3E%0A%20%20%20%20%3Cscript%20src%3D%22https%3A//code.jquery.com/jquery-1.12.4.min.js%22%3E%3C/script%3E%0A%20%20%20%20%3Cscript%20src%3D%22https%3A//maxcdn.bootstrapcdn.com/bootstrap/3.2.0/js/bootstrap.min.js%22%3E%3C/script%3E%0A%20%20%20%20%3Cscript%20src%3D%22https%3A//cdnjs.cloudflare.com/ajax/libs/Leaflet.awesome-markers/2.0.2/leaflet.awesome-markers.js%22%3E%3C/script%3E%0A%20%20%20%20%3Clink%20rel%3D%22stylesheet%22%20href%3D%22https%3A//cdn.jsdelivr.net/npm/leaflet%401.6.0/dist/leaflet.css%22/%3E%0A%20%20%20%20%3Clink%20rel%3D%22stylesheet%22%20href%3D%22https%3A//maxcdn.bootstrapcdn.com/bootstrap/3.2.0/css/bootstrap.min.css%22/%3E%0A%20%20%20%20%3Clink%20rel%3D%22stylesheet%22%20href%3D%22https%3A//maxcdn.bootstrapcdn.com/bootstrap/3.2.0/css/bootstrap-theme.min.css%22/%3E%0A%20%20%20%20%3Clink%20rel%3D%22stylesheet%22%20href%3D%22https%3A//maxcdn.bootstrapcdn.com/font-awesome/4.6.3/css/font-awesome.min.css%22/%3E%0A%20%20%20%20%3Clink%20rel%3D%22stylesheet%22%20href%3D%22https%3A//cdnjs.cloudflare.com/ajax/libs/Leaflet.awesome-markers/2.0.2/leaflet.awesome-markers.css%22/%3E%0A%20%20%20%20%3Clink%20rel%3D%22stylesheet%22%20href%3D%22https%3A//cdn.jsdelivr.net/gh/python-visualization/folium/folium/templates/leaflet.awesome.rotate.min.css%22/%3E%0A%20%20%20%20%0A%20%20%20%20%20%20%20%20%20%20%20%20%3Cmeta%20name%3D%22viewport%22%20content%3D%22width%3Ddevice-width%2C%0A%20%20%20%20%20%20%20%20%20%20%20%20%20%20%20%20initial-scale%3D1.0%2C%20maximum-scale%3D1.0%2C%20user-scalable%3Dno%22%20/%3E%0A%20%20%20%20%20%20%20%20%20%20%20%20%3Cstyle%3E%0A%20%20%20%20%20%20%20%20%20%20%20%20%20%20%20%20%23map_af06d467bf7c4010880f0292af768051%20%7B%0A%20%20%20%20%20%20%20%20%20%20%20%20%20%20%20%20%20%20%20%20position%3A%20relative%3B%0A%20%20%20%20%20%20%20%20%20%20%20%20%20%20%20%20%20%20%20%20width%3A%20100.0%25%3B%0A%20%20%20%20%20%20%20%20%20%20%20%20%20%20%20%20%20%20%20%20height%3A%20100.0%25%3B%0A%20%20%20%20%20%20%20%20%20%20%20%20%20%20%20%20%20%20%20%20left%3A%200.0%25%3B%0A%20%20%20%20%20%20%20%20%20%20%20%20%20%20%20%20%20%20%20%20top%3A%200.0%25%3B%0A%20%20%20%20%20%20%20%20%20%20%20%20%20%20%20%20%7D%0A%20%20%20%20%20%20%20%20%20%20%20%20%3C/style%3E%0A%20%20%20%20%20%20%20%20%0A%20%20%20%20%3Cscript%20src%3D%22https%3A//cdnjs.cloudflare.com/ajax/libs/leaflet.fullscreen/1.4.2/Control.FullScreen.min.js%22%3E%3C/script%3E%0A%20%20%20%20%3Clink%20rel%3D%22stylesheet%22%20href%3D%22https%3A//cdnjs.cloudflare.com/ajax/libs/leaflet.fullscreen/1.4.2/Control.FullScreen.min.css%22/%3E%0A%3C/head%3E%0A%3Cbody%3E%20%20%20%20%0A%20%20%20%20%0A%20%20%20%20%20%20%20%20%20%20%20%20%3Cdiv%20class%3D%22folium-map%22%20id%3D%22map_af06d467bf7c4010880f0292af768051%22%20%3E%3C/div%3E%0A%20%20%20%20%20%20%20%20%0A%3C/body%3E%0A%3Cscript%3E%20%20%20%20%0A%20%20%20%20%0A%20%20%20%20%20%20%20%20%20%20%20%20var%20map_af06d467bf7c4010880f0292af768051%20%3D%20L.map%28%0A%20%20%20%20%20%20%20%20%20%20%20%20%20%20%20%20%22map_af06d467bf7c4010880f0292af768051%22%2C%0A%20%20%20%20%20%20%20%20%20%20%20%20%20%20%20%20%7B%0A%20%20%20%20%20%20%20%20%20%20%20%20%20%20%20%20%20%20%20%20center%3A%20%5B40.0%2C%20-100.0%5D%2C%0A%20%20%20%20%20%20%20%20%20%20%20%20%20%20%20%20%20%20%20%20crs%3A%20L.CRS.EPSG3857%2C%0A%20%20%20%20%20%20%20%20%20%20%20%20%20%20%20%20%20%20%20%20zoom%3A%204%2C%0A%20%20%20%20%20%20%20%20%20%20%20%20%20%20%20%20%20%20%20%20zoomControl%3A%20true%2C%0A%20%20%20%20%20%20%20%20%20%20%20%20%20%20%20%20%20%20%20%20preferCanvas%3A%20false%2C%0A%20%20%20%20%20%20%20%20%20%20%20%20%20%20%20%20%20%20%20%20eeInitialize%3A%20true%2C%0A%20%20%20%20%20%20%20%20%20%20%20%20%20%20%20%20%20%20%20%20addGoogleMap%3A%20true%2C%0A%20%20%20%20%20%20%20%20%20%20%20%20%20%20%20%20%20%20%20%20pluginLatlngpopup%3A%20true%2C%0A%20%20%20%20%20%20%20%20%20%20%20%20%20%20%20%20%20%20%20%20pluginFullscreen%3A%20true%2C%0A%20%20%20%20%20%20%20%20%20%20%20%20%20%20%20%20%20%20%20%20pluginDraw%3A%20false%2C%0A%20%20%20%20%20%20%20%20%20%20%20%20%20%20%20%20%20%20%20%20DrawExport%3A%20true%2C%0A%20%20%20%20%20%20%20%20%20%20%20%20%20%20%20%20%20%20%20%20pluginMinimap%3A%20false%2C%0A%20%20%20%20%20%20%20%20%20%20%20%20%20%20%20%20%20%20%20%20pluginLayercontrol%3A%20false%2C%0A%20%20%20%20%20%20%20%20%20%20%20%20%20%20%20%20%7D%0A%20%20%20%20%20%20%20%20%20%20%20%20%29%3B%0A%0A%20%20%20%20%20%20%20%20%20%20%20%20%0A%0A%20%20%20%20%20%20%20%20%0A%20%20%20%20%0A%20%20%20%20%20%20%20%20%20%20%20%20var%20tile_layer_cd5c3765966642f69f605e773108d140%20%3D%20L.tileLayer%28%0A%20%20%20%20%20%20%20%20%20%20%20%20%20%20%20%20%22https%3A//%7Bs%7D.tile.openstreetmap.org/%7Bz%7D/%7Bx%7D/%7By%7D.png%22%2C%0A%20%20%20%20%20%20%20%20%20%20%20%20%20%20%20%20%7B%22attribution%22%3A%20%22Data%20by%20%5Cu0026copy%3B%20%5Cu003ca%20href%3D%5C%22http%3A//openstreetmap.org%5C%22%5Cu003eOpenStreetMap%5Cu003c/a%5Cu003e%2C%20under%20%5Cu003ca%20href%3D%5C%22http%3A//www.openstreetmap.org/copyright%5C%22%5Cu003eODbL%5Cu003c/a%5Cu003e.%22%2C%20%22detectRetina%22%3A%20false%2C%20%22maxNativeZoom%22%3A%2018%2C%20%22maxZoom%22%3A%2018%2C%20%22minZoom%22%3A%200%2C%20%22noWrap%22%3A%20false%2C%20%22opacity%22%3A%201%2C%20%22subdomains%22%3A%20%22abc%22%2C%20%22tms%22%3A%20false%7D%0A%20%20%20%20%20%20%20%20%20%20%20%20%29.addTo%28map_af06d467bf7c4010880f0292af768051%29%3B%0A%20%20%20%20%20%20%20%20%0A%20%20%20%20%0A%20%20%20%20%20%20%20%20%20%20%20%20var%20tile_layer_a20833511af84f29888c5278dad1be38%20%3D%20L.tileLayer%28%0A%20%20%20%20%20%20%20%20%20%20%20%20%20%20%20%20%22https%3A//mt1.google.com/vt/lyrs%3Dm%5Cu0026x%3D%7Bx%7D%5Cu0026y%3D%7By%7D%5Cu0026z%3D%7Bz%7D%22%2C%0A%20%20%20%20%20%20%20%20%20%20%20%20%20%20%20%20%7B%22attribution%22%3A%20%22Google%22%2C%20%22detectRetina%22%3A%20false%2C%20%22maxNativeZoom%22%3A%2018%2C%20%22maxZoom%22%3A%2018%2C%20%22minZoom%22%3A%200%2C%20%22noWrap%22%3A%20false%2C%20%22opacity%22%3A%201%2C%20%22subdomains%22%3A%20%22abc%22%2C%20%22tms%22%3A%20false%7D%0A%20%20%20%20%20%20%20%20%20%20%20%20%29.addTo%28map_af06d467bf7c4010880f0292af768051%29%3B%0A%20%20%20%20%20%20%20%20%0A%20%20%20%20%0A%20%20%20%20%20%20%20%20%20%20%20%20%20%20%20%20var%20lat_lng_popup_5e1c4450bcf54ce58b9084c0ca71918e%20%3D%20L.popup%28%29%3B%0A%20%20%20%20%20%20%20%20%20%20%20%20%20%20%20%20function%20latLngPop%28e%29%20%7B%0A%20%20%20%20%20%20%20%20%20%20%20%20%20%20%20%20%20%20%20%20lat_lng_popup_5e1c4450bcf54ce58b9084c0ca71918e%0A%20%20%20%20%20%20%20%20%20%20%20%20%20%20%20%20%20%20%20%20%20%20%20%20.setLatLng%28e.latlng%29%0A%20%20%20%20%20%20%20%20%20%20%20%20%20%20%20%20%20%20%20%20%20%20%20%20.setContent%28%22Latitude%3A%20%22%20%2B%20e.latlng.lat.toFixed%284%29%20%2B%0A%20%20%20%20%20%20%20%20%20%20%20%20%20%20%20%20%20%20%20%20%20%20%20%20%20%20%20%20%20%20%20%20%20%20%20%20%22%3Cbr%3ELongitude%3A%20%22%20%2B%20e.latlng.lng.toFixed%284%29%29%0A%20%20%20%20%20%20%20%20%20%20%20%20%20%20%20%20%20%20%20%20%20%20%20%20.openOn%28map_af06d467bf7c4010880f0292af768051%29%3B%0A%20%20%20%20%20%20%20%20%20%20%20%20%20%20%20%20%20%20%20%20%7D%0A%20%20%20%20%20%20%20%20%20%20%20%20%20%20%20%20map_af06d467bf7c4010880f0292af768051.on%28%27click%27%2C%20latLngPop%29%3B%0A%20%20%20%20%20%20%20%20%20%20%20%20%0A%20%20%20%20%0A%20%20%20%20%20%20%20%20%20%20%20%20L.control.fullscreen%28%0A%20%20%20%20%20%20%20%20%20%20%20%20%20%20%20%20%7B%22forceSeparateButton%22%3A%20false%2C%20%22position%22%3A%20%22topleft%22%2C%20%22title%22%3A%20%22Full%20Screen%22%2C%20%22titleCancel%22%3A%20%22Exit%20Full%20Screen%22%7D%0A%20%20%20%20%20%20%20%20%20%20%20%20%29.addTo%28map_af06d467bf7c4010880f0292af768051%29%3B%0A%20%20%20%20%20%20%20%20%0A%20%20%20%20%0A%20%20%20%20%20%20%20%20%20%20%20%20map_af06d467bf7c4010880f0292af768051.fitBounds%28%0A%20%20%20%20%20%20%20%20%20%20%20%20%20%20%20%20%5B%5B40%2C%20-100%5D%2C%20%5B40%2C%20-100%5D%5D%2C%0A%20%20%20%20%20%20%20%20%20%20%20%20%20%20%20%20%7B%22maxZoom%22%3A%204%7D%0A%20%20%20%20%20%20%20%20%20%20%20%20%29%3B%0A%20%20%20%20%20%20%20%20%0A%20%20%20%20%0A%20%20%20%20%20%20%20%20%20%20%20%20map_af06d467bf7c4010880f0292af768051.fitBounds%28%0A%20%20%20%20%20%20%20%20%20%20%20%20%20%20%20%20%5B%5B36.86%2C%20-120.08%5D%2C%20%5B36.86%2C%20-120.08%5D%5D%2C%0A%20%20%20%20%20%20%20%20%20%20%20%20%20%20%20%20%7B%22maxZoom%22%3A%2010%7D%0A%20%20%20%20%20%20%20%20%20%20%20%20%29%3B%0A%20%20%20%20%20%20%20%20%0A%20%20%20%20%0A%20%20%20%20%20%20%20%20%20%20%20%20var%20tile_layer_51c3794d4b184be08f56eb787cd050a8%20%3D%20L.tileLayer%28%0A%20%20%20%20%20%20%20%20%20%20%20%20%20%20%20%20%22https%3A//earthengine.googleapis.com/v1alpha/projects/earthengine-legacy/maps/fb693b816db518af0950e3ad85cd72b7-5ba9093d28316c46f9d250fff03daf1e/tiles/%7Bz%7D/%7Bx%7D/%7By%7D%22%2C%0A%20%20%20%20%20%20%20%20%20%20%20%20%20%20%20%20%7B%22attribution%22%3A%20%22Google%20Earth%20Engine%22%2C%20%22detectRetina%22%3A%20false%2C%20%22maxNativeZoom%22%3A%2018%2C%20%22maxZoom%22%3A%2018%2C%20%22minZoom%22%3A%200%2C%20%22noWrap%22%3A%20false%2C%20%22opacity%22%3A%201.0%2C%20%22subdomains%22%3A%20%22abc%22%2C%20%22tms%22%3A%20false%7D%0A%20%20%20%20%20%20%20%20%20%20%20%20%29.addTo%28map_af06d467bf7c4010880f0292af768051%29%3B%0A%20%20%20%20%20%20%20%20%0A%20%20%20%20%0A%20%20%20%20%20%20%20%20%20%20%20%20var%20tile_layer_7f16c37b587b40fb87959c38c17ba733%20%3D%20L.tileLayer%28%0A%20%20%20%20%20%20%20%20%20%20%20%20%20%20%20%20%22https%3A//earthengine.googleapis.com/v1alpha/projects/earthengine-legacy/maps/7e33ec0bc96ec761649d087f7fe9fbc7-8e31112e6413156345e54cdd6f65c0c2/tiles/%7Bz%7D/%7Bx%7D/%7By%7D%22%2C%0A%20%20%20%20%20%20%20%20%20%20%20%20%20%20%20%20%7B%22attribution%22%3A%20%22Google%20Earth%20Engine%22%2C%20%22detectRetina%22%3A%20false%2C%20%22maxNativeZoom%22%3A%2018%2C%20%22maxZoom%22%3A%2018%2C%20%22minZoom%22%3A%200%2C%20%22noWrap%22%3A%20false%2C%20%22opacity%22%3A%201.0%2C%20%22subdomains%22%3A%20%22abc%22%2C%20%22tms%22%3A%20false%7D%0A%20%20%20%20%20%20%20%20%20%20%20%20%29.addTo%28map_af06d467bf7c4010880f0292af768051%29%3B%0A%20%20%20%20%20%20%20%20%0A%20%20%20%20%0A%20%20%20%20%20%20%20%20%20%20%20%20var%20tile_layer_9265e06f39de4387a8044d526b2edeb7%20%3D%20L.tileLayer%28%0A%20%20%20%20%20%20%20%20%20%20%20%20%20%20%20%20%22https%3A//earthengine.googleapis.com/v1alpha/projects/earthengine-legacy/maps/393349c0c707c005f7d3d89ffc765522-48125a32e5b185130b697f9840728e85/tiles/%7Bz%7D/%7Bx%7D/%7By%7D%22%2C%0A%20%20%20%20%20%20%20%20%20%20%20%20%20%20%20%20%7B%22attribution%22%3A%20%22Google%20Earth%20Engine%22%2C%20%22detectRetina%22%3A%20false%2C%20%22maxNativeZoom%22%3A%2018%2C%20%22maxZoom%22%3A%2018%2C%20%22minZoom%22%3A%200%2C%20%22noWrap%22%3A%20false%2C%20%22opacity%22%3A%201.0%2C%20%22subdomains%22%3A%20%22abc%22%2C%20%22tms%22%3A%20false%7D%0A%20%20%20%20%20%20%20%20%20%20%20%20%29.addTo%28map_af06d467bf7c4010880f0292af768051%29%3B%0A%20%20%20%20%20%20%20%20%0A%20%20%20%20%0A%20%20%20%20%20%20%20%20%20%20%20%20var%20layer_control_f0ab5255925f4171bbc7b41483b8c111%20%3D%20%7B%0A%20%20%20%20%20%20%20%20%20%20%20%20%20%20%20%20base_layers%20%3A%20%7B%0A%20%20%20%20%20%20%20%20%20%20%20%20%20%20%20%20%20%20%20%20%22openstreetmap%22%20%3A%20tile_layer_cd5c3765966642f69f605e773108d140%2C%0A%20%20%20%20%20%20%20%20%20%20%20%20%20%20%20%20%7D%2C%0A%20%20%20%20%20%20%20%20%20%20%20%20%20%20%20%20overlays%20%3A%20%20%7B%0A%20%20%20%20%20%20%20%20%20%20%20%20%20%20%20%20%20%20%20%20%22Google%20Maps%22%20%3A%20tile_layer_a20833511af84f29888c5278dad1be38%2C%0A%20%20%20%20%20%20%20%20%20%20%20%20%20%20%20%20%20%20%20%20%22NAIP%22%20%3A%20tile_layer_51c3794d4b184be08f56eb787cd050a8%2C%0A%20%20%20%20%20%20%20%20%20%20%20%20%20%20%20%20%20%20%20%20%22water%22%20%3A%20tile_layer_7f16c37b587b40fb87959c38c17ba733%2C%0A%20%20%20%20%20%20%20%20%20%20%20%20%20%20%20%20%20%20%20%20%22Final_dams%22%20%3A%20tile_layer_9265e06f39de4387a8044d526b2edeb7%2C%0A%20%20%20%20%20%20%20%20%20%20%20%20%20%20%20%20%7D%2C%0A%20%20%20%20%20%20%20%20%20%20%20%20%7D%3B%0A%20%20%20%20%20%20%20%20%20%20%20%20L.control.layers%28%0A%20%20%20%20%20%20%20%20%20%20%20%20%20%20%20%20layer_control_f0ab5255925f4171bbc7b41483b8c111.base_layers%2C%0A%20%20%20%20%20%20%20%20%20%20%20%20%20%20%20%20layer_control_f0ab5255925f4171bbc7b41483b8c111.overlays%2C%0A%20%20%20%20%20%20%20%20%20%20%20%20%20%20%20%20%7B%22autoZIndex%22%3A%20true%2C%20%22collapsed%22%3A%20true%2C%20%22position%22%3A%20%22topright%22%7D%0A%20%20%20%20%20%20%20%20%20%20%20%20%29.addTo%28map_af06d467bf7c4010880f0292af768051%29%3B%0A%20%20%20%20%20%20%20%20%0A%3C/script%3E onload=\"this.contentDocument.open();this.contentDocument.write(    decodeURIComponent(this.getAttribute('data-html')));this.contentDocument.close();\" allowfullscreen webkitallowfullscreen mozallowfullscreen></iframe></div></div>"
            ],
            "text/plain": [
              "<geemap.eefolium.Map at 0x7fa4848b4e50>"
            ]
          },
          "metadata": {
            "tags": []
          },
          "execution_count": 51
        }
      ]
    },
    {
      "cell_type": "markdown",
      "metadata": {
        "id": "r9UTxzIg7uyQ"
      },
      "source": [
        "# Collect negative images (No dam) dataset \n",
        "To produce the negative images (non-dam) the dataset is build using bridge locations (since are linear structures that can be mistaken for dams), lakes and random points"
      ]
    },
    {
      "cell_type": "code",
      "metadata": {
        "id": "9zTcVzEprWpN"
      },
      "source": [
        "random_points = ee.FeatureCollection.randomPoints(\n",
        "    region= control,\n",
        "    points= 200,\n",
        "    seed= 1234\n",
        ")\n",
        "\n",
        "random_points = geopandas.GeoDataFrame.from_features(random_points.getInfo())\n",
        "random_points[\"id\"] = random_points.index"
      ],
      "execution_count": null,
      "outputs": []
    },
    {
      "cell_type": "code",
      "metadata": {
        "id": "f4Je7x1z7uyT"
      },
      "source": [
        "url = 'http://overpass-api.de/api/interpreter'  # Overpass API URL\n",
        "query = f\"\"\"\n",
        "[out:json];\n",
        "area[\"ISO3166-2\"=\"US-{state}\"][admin_level=4];\n",
        "(way[\"bridge\"=\"yes\"](area);\n",
        ");\n",
        "out center;\n",
        "\"\"\"\n",
        "\n",
        "rb = requests.get(url, params={'data': query})\n",
        "data_b = rb.json()['elements']  # read response as JSON and get the data\n",
        "df_b = json_normalize(data_b).rename(columns={\"center.lat\":\"lat\", \"center.lon\":\"lon\"})\n"
      ],
      "execution_count": null,
      "outputs": []
    },
    {
      "cell_type": "code",
      "metadata": {
        "id": "513bC3rIBFrW"
      },
      "source": [
        "url = 'http://overpass-api.de/api/interpreter'  # Overpass API URL\n",
        "query = f\"\"\"\n",
        "[out:json];\n",
        "area[\"ISO3166-2\"=\"US-{state}\"][admin_level=4];\n",
        "(way[\"water\"=\"lake\"](area);\n",
        " way[\"natural\"=\"water\"](area);\n",
        ");\n",
        "out center;\n",
        "\"\"\"\n",
        "\n",
        "rl = requests.get(url, params={'data': query})\n",
        "data_l = rl.json()['elements']  # read response as JSON and get the data\n",
        "df_l = json_normalize(data_l).rename(columns={\"center.lat\":\"lat\", \"center.lon\":\"lon\"})"
      ],
      "execution_count": null,
      "outputs": []
    },
    {
      "cell_type": "code",
      "metadata": {
        "id": "5BwowiFV7uyW"
      },
      "source": [
        "bridges = pd.DataFrame(df_b, columns=['lat','lon', 'id'])\n",
        "bridges.to_csv(r'osm_bridge.csv', encoding='utf-8', index=False)\n",
        "\n",
        "lakes = pd.DataFrame(df_l, columns=['lat','lon', 'id'])\n",
        "lakes.to_csv(r'osm_lake.csv', encoding='utf-8', index=False)"
      ],
      "execution_count": null,
      "outputs": []
    },
    {
      "cell_type": "code",
      "metadata": {
        "id": "vosIeBs47uyX"
      },
      "source": [
        "gdf_bridge = geopandas.GeoDataFrame(bridges)\n",
        "\n",
        "#To convert the dataframe to shape to then create an earth engine object and add the layer to the map\n",
        "gdf_bridge.set_geometry(\n",
        "    geopandas.points_from_xy(gdf_bridge['lon'], gdf_bridge['lat']),\n",
        "    inplace=True, crs='EPSG:4326')\n",
        "gdf_bridge.drop(['lat', 'lon'], axis=1, inplace=True)  # optional\n",
        "gdf_bridge.to_file('bridges_osm.shp')"
      ],
      "execution_count": null,
      "outputs": []
    },
    {
      "cell_type": "code",
      "metadata": {
        "id": "vlt4UjoiFX6Z"
      },
      "source": [
        "gdf_lake = geopandas.GeoDataFrame(lakes)\n",
        "\n",
        "#To convert the dataframe to shape to then create an earth engine object and add the layer to the map\n",
        "gdf_lake.set_geometry(\n",
        "    geopandas.points_from_xy(gdf_lake['lon'], gdf_lake['lat']),\n",
        "    inplace=True, crs='EPSG:4326')\n",
        "gdf_lake.drop(['lat', 'lon'], axis=1, inplace=True)  # optional\n",
        "gdf_lake.to_file('lakes_osm.shp')"
      ],
      "execution_count": null,
      "outputs": []
    },
    {
      "cell_type": "code",
      "metadata": {
        "id": "PVBqJFj-CI07"
      },
      "source": [
        "random_buffer = random_points.buffer(0.01, cap_style=3)\n",
        "random_buffer = geopandas.GeoDataFrame(geometry=geopandas.GeoSeries(random_buffer))\n",
        "random_buffer['id'] = random_buffer.index\n"
      ],
      "execution_count": null,
      "outputs": []
    },
    {
      "cell_type": "code",
      "metadata": {
        "colab": {
          "base_uri": "https://localhost:8080/"
        },
        "id": "1lAs0J7jCkDN",
        "outputId": "21f280b2-8286-48f9-800d-cb349e0eb64c"
      },
      "source": [
        "bridge_buffer = gdf_bridge.buffer(0.01, cap_style=3)\n",
        "bridge_buffer = geopandas.GeoDataFrame(geometry=geopandas.GeoSeries(bridge_buffer))\n",
        "bridge_buffer['id'] = bridge_buffer.index"
      ],
      "execution_count": null,
      "outputs": [
        {
          "output_type": "stream",
          "text": [
            "/usr/local/lib/python3.7/dist-packages/ipykernel_launcher.py:1: UserWarning: Geometry is in a geographic CRS. Results from 'buffer' are likely incorrect. Use 'GeoSeries.to_crs()' to re-project geometries to a projected CRS before this operation.\n",
            "\n",
            "  \"\"\"Entry point for launching an IPython kernel.\n"
          ],
          "name": "stderr"
        }
      ]
    },
    {
      "cell_type": "code",
      "metadata": {
        "colab": {
          "base_uri": "https://localhost:8080/"
        },
        "id": "g-gXa12pCrn4",
        "outputId": "fd042e90-2235-49b6-8e3e-f2a7375da63d"
      },
      "source": [
        "lakes_buffer = gdf_lake.buffer(0.01, cap_style=3)\n",
        "lakes_buffer = geopandas.GeoDataFrame(geometry=geopandas.GeoSeries(lakes_buffer))\n",
        "lakes_buffer['id'] = lakes_buffer.index"
      ],
      "execution_count": null,
      "outputs": [
        {
          "output_type": "stream",
          "text": [
            "/usr/local/lib/python3.7/dist-packages/ipykernel_launcher.py:1: UserWarning: Geometry is in a geographic CRS. Results from 'buffer' are likely incorrect. Use 'GeoSeries.to_crs()' to re-project geometries to a projected CRS before this operation.\n",
            "\n",
            "  \"\"\"Entry point for launching an IPython kernel.\n"
          ],
          "name": "stderr"
        }
      ]
    },
    {
      "cell_type": "markdown",
      "metadata": {
        "id": "_wrShmF9rnrj"
      },
      "source": [
        "# Refine no dam dataset\n",
        "\n",
        "To make the no-dam images more representative for the model to learn"
      ]
    },
    {
      "cell_type": "code",
      "metadata": {
        "id": "Q8zbY36cCNIq"
      },
      "source": [
        "all_dams = buf_OSM.append(buf_NID).append(buf_GRAND)"
      ],
      "execution_count": null,
      "outputs": []
    },
    {
      "cell_type": "code",
      "metadata": {
        "colab": {
          "base_uri": "https://localhost:8080/"
        },
        "id": "C0ui1siTDEs0",
        "outputId": "015010dd-40b8-4718-b114-3872880534c9"
      },
      "source": [
        "lake_filter = get_polygon_in_polygon(lakes_buffer, all_dams)"
      ],
      "execution_count": null,
      "outputs": [
        {
          "output_type": "stream",
          "text": [
            "Original dataframe count= 2443 \n",
            "New dataframe count= 947\n",
            "There are id's with more than one region\n"
          ],
          "name": "stdout"
        }
      ]
    },
    {
      "cell_type": "code",
      "metadata": {
        "colab": {
          "base_uri": "https://localhost:8080/",
          "height": 402
        },
        "id": "GRSyMJ_5Jk0Y",
        "outputId": "beeb0f7f-2923-477b-941b-a4623d990e52"
      },
      "source": [
        "lake_filter.sort_values(by=['id'])"
      ],
      "execution_count": null,
      "outputs": [
        {
          "output_type": "execute_result",
          "data": {
            "text/html": [
              "<div>\n",
              "<style scoped>\n",
              "    .dataframe tbody tr th:only-of-type {\n",
              "        vertical-align: middle;\n",
              "    }\n",
              "\n",
              "    .dataframe tbody tr th {\n",
              "        vertical-align: top;\n",
              "    }\n",
              "\n",
              "    .dataframe thead th {\n",
              "        text-align: right;\n",
              "    }\n",
              "</style>\n",
              "<table border=\"1\" class=\"dataframe\">\n",
              "  <thead>\n",
              "    <tr style=\"text-align: right;\">\n",
              "      <th></th>\n",
              "      <th>index</th>\n",
              "      <th>geometry</th>\n",
              "      <th>id</th>\n",
              "      <th>FID</th>\n",
              "    </tr>\n",
              "  </thead>\n",
              "  <tbody>\n",
              "    <tr>\n",
              "      <th>340</th>\n",
              "      <td>0</td>\n",
              "      <td>POLYGON ((-116.90663 32.63818, -116.90663 32.6...</td>\n",
              "      <td>0.0</td>\n",
              "      <td>1373.0</td>\n",
              "    </tr>\n",
              "    <tr>\n",
              "      <th>538</th>\n",
              "      <td>0</td>\n",
              "      <td>POLYGON ((-116.90663 32.63818, -116.90663 32.6...</td>\n",
              "      <td>0.0</td>\n",
              "      <td>2363.0</td>\n",
              "    </tr>\n",
              "    <tr>\n",
              "      <th>31</th>\n",
              "      <td>2</td>\n",
              "      <td>POLYGON ((-122.20837 37.83255, -122.20837 37.8...</td>\n",
              "      <td>2.0</td>\n",
              "      <td>190.0</td>\n",
              "    </tr>\n",
              "    <tr>\n",
              "      <th>146</th>\n",
              "      <td>2</td>\n",
              "      <td>POLYGON ((-122.20837 37.83255, -122.20837 37.8...</td>\n",
              "      <td>2.0</td>\n",
              "      <td>492.0</td>\n",
              "    </tr>\n",
              "    <tr>\n",
              "      <th>145</th>\n",
              "      <td>2</td>\n",
              "      <td>POLYGON ((-122.20837 37.83255, -122.20837 37.8...</td>\n",
              "      <td>2.0</td>\n",
              "      <td>491.0</td>\n",
              "    </tr>\n",
              "    <tr>\n",
              "      <th>...</th>\n",
              "      <td>...</td>\n",
              "      <td>...</td>\n",
              "      <td>...</td>\n",
              "      <td>...</td>\n",
              "    </tr>\n",
              "    <tr>\n",
              "      <th>542</th>\n",
              "      <td>2367</td>\n",
              "      <td>POLYGON ((-122.44447 37.77910, -122.44447 37.7...</td>\n",
              "      <td>2367.0</td>\n",
              "      <td>2386.0</td>\n",
              "    </tr>\n",
              "    <tr>\n",
              "      <th>85</th>\n",
              "      <td>2407</td>\n",
              "      <td>POLYGON ((-118.54306 37.16608, -118.54306 37.1...</td>\n",
              "      <td>2407.0</td>\n",
              "      <td>310.0</td>\n",
              "    </tr>\n",
              "    <tr>\n",
              "      <th>645</th>\n",
              "      <td>2407</td>\n",
              "      <td>POLYGON ((-118.54306 37.16608, -118.54306 37.1...</td>\n",
              "      <td>2407.0</td>\n",
              "      <td>2717.0</td>\n",
              "    </tr>\n",
              "    <tr>\n",
              "      <th>527</th>\n",
              "      <td>2423</td>\n",
              "      <td>POLYGON ((-119.36836 37.58950, -119.36836 37.5...</td>\n",
              "      <td>2423.0</td>\n",
              "      <td>2291.0</td>\n",
              "    </tr>\n",
              "    <tr>\n",
              "      <th>458</th>\n",
              "      <td>2423</td>\n",
              "      <td>POLYGON ((-119.36836 37.58950, -119.36836 37.5...</td>\n",
              "      <td>2423.0</td>\n",
              "      <td>2090.0</td>\n",
              "    </tr>\n",
              "  </tbody>\n",
              "</table>\n",
              "<p>947 rows × 4 columns</p>\n",
              "</div>"
            ],
            "text/plain": [
              "     index                                           geometry      id     FID\n",
              "340      0  POLYGON ((-116.90663 32.63818, -116.90663 32.6...     0.0  1373.0\n",
              "538      0  POLYGON ((-116.90663 32.63818, -116.90663 32.6...     0.0  2363.0\n",
              "31       2  POLYGON ((-122.20837 37.83255, -122.20837 37.8...     2.0   190.0\n",
              "146      2  POLYGON ((-122.20837 37.83255, -122.20837 37.8...     2.0   492.0\n",
              "145      2  POLYGON ((-122.20837 37.83255, -122.20837 37.8...     2.0   491.0\n",
              "..     ...                                                ...     ...     ...\n",
              "542   2367  POLYGON ((-122.44447 37.77910, -122.44447 37.7...  2367.0  2386.0\n",
              "85    2407  POLYGON ((-118.54306 37.16608, -118.54306 37.1...  2407.0   310.0\n",
              "645   2407  POLYGON ((-118.54306 37.16608, -118.54306 37.1...  2407.0  2717.0\n",
              "527   2423  POLYGON ((-119.36836 37.58950, -119.36836 37.5...  2423.0  2291.0\n",
              "458   2423  POLYGON ((-119.36836 37.58950, -119.36836 37.5...  2423.0  2090.0\n",
              "\n",
              "[947 rows x 4 columns]"
            ]
          },
          "metadata": {
            "tags": []
          },
          "execution_count": 59
        }
      ]
    },
    {
      "cell_type": "code",
      "metadata": {
        "id": "6HXGpaSynj9Q"
      },
      "source": [
        "if lake_filter['id'].count() == 0:\n",
        "  lakes_gdf = lakes_buffer\n",
        "else:\n",
        "  indx = []\n",
        "  for i in lake_filter['index']:\n",
        "    indx.append(i)\n",
        "  indx.sort()\n",
        "  lakes_gdf = lakes_buffer.drop(indx, axis=0)\n"
      ],
      "execution_count": null,
      "outputs": []
    },
    {
      "cell_type": "code",
      "metadata": {
        "colab": {
          "base_uri": "https://localhost:8080/"
        },
        "id": "HPGAMrp0IoGO",
        "outputId": "a4d1ea67-4a5d-4ab6-873d-640720bbdd94"
      },
      "source": [
        "bridge_filter = get_polygon_in_polygon(bridge_buffer, all_dams)"
      ],
      "execution_count": null,
      "outputs": [
        {
          "output_type": "stream",
          "text": [
            "Original dataframe count= 43684 \n",
            "New dataframe count= 19836\n",
            "There are id's with more than one region\n"
          ],
          "name": "stdout"
        }
      ]
    },
    {
      "cell_type": "code",
      "metadata": {
        "id": "UxbwfU56v77v"
      },
      "source": [
        "bridge_filter.drop_duplicates('id', inplace=True)\n",
        "if bridge_filter['id'].count() == 0:\n",
        "  bridge_gdf = bridge_buffer\n",
        "else:\n",
        "  indx_b = []\n",
        "  for i in bridge_filter['index']:\n",
        "    indx_b.append(i)\n",
        "  indx_b.sort()\n",
        "  bridge_gdf = bridge_buffer.drop(indx_b, axis=0)"
      ],
      "execution_count": null,
      "outputs": []
    },
    {
      "cell_type": "code",
      "metadata": {
        "colab": {
          "base_uri": "https://localhost:8080/"
        },
        "id": "HlyINKOPIue7",
        "outputId": "9e0555f6-e332-48d7-cc26-6319cbc27dd9"
      },
      "source": [
        "random_filter = get_polygon_in_polygon(random_buffer, all_dams)"
      ],
      "execution_count": null,
      "outputs": [
        {
          "output_type": "stream",
          "text": [
            "Original dataframe count= 200 \n",
            "New dataframe count= 29\n",
            "There are id's with more than one region\n"
          ],
          "name": "stdout"
        }
      ]
    },
    {
      "cell_type": "code",
      "metadata": {
        "id": "POajgReS5Gau"
      },
      "source": [
        "if random_filter['id'].count() == 0:\n",
        "  random_gdf = random_buffer\n",
        "else:\n",
        "  indx_r = []\n",
        "  for i in random_filter['index']:\n",
        "    indx_r.append(i)\n",
        "  random_gdf = random_buffer.drop(indx_r, axis=0)"
      ],
      "execution_count": null,
      "outputs": []
    },
    {
      "cell_type": "code",
      "metadata": {
        "id": "vyn_b0dwP8ia"
      },
      "source": [
        "lakes_gdf['FID'] = lakes_gdf.index\n",
        "bridge_gdf['FID'] = bridge_gdf.index+len(lakes_gdf)\n",
        "random_gdf['FID'] = random_gdf.index+(len(lakes_gdf)+len(bridge_gdf))"
      ],
      "execution_count": null,
      "outputs": []
    },
    {
      "cell_type": "code",
      "metadata": {
        "id": "sqk3tDQdUlCG"
      },
      "source": [
        "lakes_gdf = lakes_gdf.sample(800, random_state=1234)\n",
        "bridge_gdf = bridge_gdf.sample(2000, random_state=1234)"
      ],
      "execution_count": null,
      "outputs": []
    },
    {
      "cell_type": "code",
      "metadata": {
        "colab": {
          "base_uri": "https://localhost:8080/"
        },
        "id": "hdp3nZiPUzoS",
        "outputId": "67a0b1a4-52bf-4212-d46d-fa24fdadeeae"
      },
      "source": [
        "lake_n_brg = get_polygon_in_polygon(lakes_gdf, bridge_gdf)"
      ],
      "execution_count": null,
      "outputs": [
        {
          "output_type": "stream",
          "text": [
            "Original dataframe count= 800 \n",
            "New dataframe count= 77\n",
            "There are id's with more than one region\n"
          ],
          "name": "stdout"
        }
      ]
    },
    {
      "cell_type": "code",
      "metadata": {
        "id": "mbGesrAkviRf"
      },
      "source": [
        "lake_n_brg.drop_duplicates('id', inplace=True)"
      ],
      "execution_count": null,
      "outputs": []
    },
    {
      "cell_type": "code",
      "metadata": {
        "id": "R4NMs9kKusLS"
      },
      "source": [
        "id_ = []\n",
        "for i in lake_n_brg['id']:\n",
        "  id_.append(int(i))\n"
      ],
      "execution_count": null,
      "outputs": []
    },
    {
      "cell_type": "code",
      "metadata": {
        "id": "O8WgRHDF0coX"
      },
      "source": [
        "lakes_gdf.drop(id_, inplace=True)"
      ],
      "execution_count": null,
      "outputs": []
    },
    {
      "cell_type": "code",
      "metadata": {
        "colab": {
          "base_uri": "https://localhost:8080/"
        },
        "id": "o92Fn3hd3yZX",
        "outputId": "2f7a8de1-5daa-4375-f0c9-3d8c2aa70f44"
      },
      "source": [
        "random_n_brg = get_polygon_in_polygon(bridge_gdf, random_gdf)"
      ],
      "execution_count": null,
      "outputs": [
        {
          "output_type": "stream",
          "text": [
            "Original dataframe count= 2000 \n",
            "New dataframe count= 4\n",
            "There are id's without an assigned region\n"
          ],
          "name": "stdout"
        }
      ]
    },
    {
      "cell_type": "code",
      "metadata": {
        "id": "DEAZ30V84CHe"
      },
      "source": [
        "idr_ = []\n",
        "for i in random_n_brg['id']:\n",
        "  idr_.append(int(i))\n",
        "\n",
        "bridge_gdf.drop(idr_, inplace=True)"
      ],
      "execution_count": null,
      "outputs": []
    },
    {
      "cell_type": "code",
      "metadata": {
        "id": "T8mF8uA6nEO0",
        "colab": {
          "base_uri": "https://localhost:8080/"
        },
        "outputId": "1cf8728d-8772-40df-84c7-4733fdb6dd5a"
      },
      "source": [
        "lakes_gdf.to_file('lake_filter.shp')\n",
        "ee_lakes = geemap.shp_to_ee('lake_filter.shp')\n",
        "\n",
        "bridge_gdf.to_file('bridge_filter.shp')\n",
        "ee_bridge = geemap.shp_to_ee('bridge_filter.shp')\n",
        "\n",
        "random_gdf.to_file('random_filter.shp')\n",
        "ee_random = geemap.shp_to_ee('random_filter.shp')"
      ],
      "execution_count": null,
      "outputs": [
        {
          "output_type": "stream",
          "text": [
            "/usr/local/lib/python3.7/dist-packages/geemap/common.py:6873: UserWarning: The projection file /content/random_filter.prj could not be found. Assuming the dataset is in a geographic coordinate system (GCS).\n",
            "  f\"The projection file {in_prj} could not be found. Assuming the dataset is in a geographic coordinate system (GCS).\"\n"
          ],
          "name": "stderr"
        }
      ]
    },
    {
      "cell_type": "markdown",
      "metadata": {
        "id": "KTCqwLhxVsno"
      },
      "source": [
        "## Filter no-dam polygons by water area"
      ]
    },
    {
      "cell_type": "code",
      "metadata": {
        "colab": {
          "base_uri": "https://localhost:8080/"
        },
        "id": "6UO3qvtUDpiT",
        "outputId": "e40895c0-b8e2-4849-daaa-78e2628d7d98"
      },
      "source": [
        "### Now we filter the squares for which area does not reach a certain threshold\n",
        "ee_bridge_area = ee_bridge.map(compute_water_area)\n",
        "ee_lakes_area = ee_lakes.map(compute_water_area)\n",
        "\n",
        "ee_bridge_w = ee_bridge_area.filter(ee.Filter.gt('area', AreaThreshold))\n",
        "ee_lakes_w = ee_lakes_area.filter(ee.Filter.gt('area', AreaThreshold))\n",
        "\n",
        "print('All polygons OSM #{}'.format(ee_bridge.size().getInfo()))\n",
        "print('Filtered polygons OSM by area #{}'.format(ee_bridge_w.size().getInfo()))\n",
        "\n",
        "print('All polygons OSM #{}'.format(ee_lakes.size().getInfo()))\n",
        "print('Filtered polygons OSM by area #{}'.format(ee_lakes_w.size().getInfo()))"
      ],
      "execution_count": null,
      "outputs": [
        {
          "output_type": "stream",
          "text": [
            "All polygons OSM #1996\n",
            "Filtered polygons OSM by area #392\n",
            "All polygons OSM #759\n",
            "Filtered polygons OSM by area #343\n"
          ],
          "name": "stdout"
        }
      ]
    },
    {
      "cell_type": "markdown",
      "metadata": {
        "id": "WKfjBp2jr7xL"
      },
      "source": [
        "# VISUALIZATION"
      ]
    },
    {
      "cell_type": "code",
      "metadata": {
        "colab": {
          "base_uri": "https://localhost:8080/",
          "height": 685
        },
        "id": "12evLqJc7uyj",
        "outputId": "15d0c9e2-50ed-4c9e-c0b9-ba5f85cb8582"
      },
      "source": [
        "# # Displays the map\n",
        "Map = geemap.Map()\n",
        "Map.setCenter(-120.08, 36.86)\n",
        "bounds = Map.get_bounds()\n",
        "\n",
        "Map.addLayer(naip1, {}, \"NAIP\");\n",
        "\n",
        "Map.addLayer(water, { 'min': 0, 'max': 1, 'palette': ['aqua'], 'opacity': 0.4 }, 'water')\n",
        "\n",
        "#Final patches\n",
        "Map.addLayer(ee_final_dams, {'color': 'blue', 'opacity': 0.8}, 'Final_dams')\n",
        "\n",
        "\n",
        "Map.addLayer(ee_bridge_w, {'color': 'pink', 'opacity': 0.6}, 'bridges')\n",
        "\n",
        "Map.addLayer(ee_lakes_w, {'color': 'PaleGreen', 'opacity': 0.6}, 'lakes area')\n",
        "\n",
        "Map.addLayer(ee_random, {'color': 'silver', 'opacity': 0.6}, 'random')\n",
        "\n",
        "Map.addLayerControl() \n",
        "Map"
      ],
      "execution_count": null,
      "outputs": [
        {
          "output_type": "execute_result",
          "data": {
            "text/html": [
              "<div style=\"width:100%;\"><div style=\"position:relative;width:100%;height:0;padding-bottom:60%;\"><span style=\"color:#565656\">Make this Notebook Trusted to load map: File -> Trust Notebook</span><iframe src=\"about:blank\" style=\"position:absolute;width:100%;height:100%;left:0;top:0;border:none !important;\" data-html=%3C%21DOCTYPE%20html%3E%0A%3Chead%3E%20%20%20%20%0A%20%20%20%20%3Cmeta%20http-equiv%3D%22content-type%22%20content%3D%22text/html%3B%20charset%3DUTF-8%22%20/%3E%0A%20%20%20%20%0A%20%20%20%20%20%20%20%20%3Cscript%3E%0A%20%20%20%20%20%20%20%20%20%20%20%20L_NO_TOUCH%20%3D%20false%3B%0A%20%20%20%20%20%20%20%20%20%20%20%20L_DISABLE_3D%20%3D%20false%3B%0A%20%20%20%20%20%20%20%20%3C/script%3E%0A%20%20%20%20%0A%20%20%20%20%3Cstyle%3Ehtml%2C%20body%20%7Bwidth%3A%20100%25%3Bheight%3A%20100%25%3Bmargin%3A%200%3Bpadding%3A%200%3B%7D%3C/style%3E%0A%20%20%20%20%3Cstyle%3E%23map%20%7Bposition%3Aabsolute%3Btop%3A0%3Bbottom%3A0%3Bright%3A0%3Bleft%3A0%3B%7D%3C/style%3E%0A%20%20%20%20%3Cscript%20src%3D%22https%3A//cdn.jsdelivr.net/npm/leaflet%401.6.0/dist/leaflet.js%22%3E%3C/script%3E%0A%20%20%20%20%3Cscript%20src%3D%22https%3A//code.jquery.com/jquery-1.12.4.min.js%22%3E%3C/script%3E%0A%20%20%20%20%3Cscript%20src%3D%22https%3A//maxcdn.bootstrapcdn.com/bootstrap/3.2.0/js/bootstrap.min.js%22%3E%3C/script%3E%0A%20%20%20%20%3Cscript%20src%3D%22https%3A//cdnjs.cloudflare.com/ajax/libs/Leaflet.awesome-markers/2.0.2/leaflet.awesome-markers.js%22%3E%3C/script%3E%0A%20%20%20%20%3Clink%20rel%3D%22stylesheet%22%20href%3D%22https%3A//cdn.jsdelivr.net/npm/leaflet%401.6.0/dist/leaflet.css%22/%3E%0A%20%20%20%20%3Clink%20rel%3D%22stylesheet%22%20href%3D%22https%3A//maxcdn.bootstrapcdn.com/bootstrap/3.2.0/css/bootstrap.min.css%22/%3E%0A%20%20%20%20%3Clink%20rel%3D%22stylesheet%22%20href%3D%22https%3A//maxcdn.bootstrapcdn.com/bootstrap/3.2.0/css/bootstrap-theme.min.css%22/%3E%0A%20%20%20%20%3Clink%20rel%3D%22stylesheet%22%20href%3D%22https%3A//maxcdn.bootstrapcdn.com/font-awesome/4.6.3/css/font-awesome.min.css%22/%3E%0A%20%20%20%20%3Clink%20rel%3D%22stylesheet%22%20href%3D%22https%3A//cdnjs.cloudflare.com/ajax/libs/Leaflet.awesome-markers/2.0.2/leaflet.awesome-markers.css%22/%3E%0A%20%20%20%20%3Clink%20rel%3D%22stylesheet%22%20href%3D%22https%3A//cdn.jsdelivr.net/gh/python-visualization/folium/folium/templates/leaflet.awesome.rotate.min.css%22/%3E%0A%20%20%20%20%0A%20%20%20%20%20%20%20%20%20%20%20%20%3Cmeta%20name%3D%22viewport%22%20content%3D%22width%3Ddevice-width%2C%0A%20%20%20%20%20%20%20%20%20%20%20%20%20%20%20%20initial-scale%3D1.0%2C%20maximum-scale%3D1.0%2C%20user-scalable%3Dno%22%20/%3E%0A%20%20%20%20%20%20%20%20%20%20%20%20%3Cstyle%3E%0A%20%20%20%20%20%20%20%20%20%20%20%20%20%20%20%20%23map_910e75d546294c799f448a22d156766d%20%7B%0A%20%20%20%20%20%20%20%20%20%20%20%20%20%20%20%20%20%20%20%20position%3A%20relative%3B%0A%20%20%20%20%20%20%20%20%20%20%20%20%20%20%20%20%20%20%20%20width%3A%20100.0%25%3B%0A%20%20%20%20%20%20%20%20%20%20%20%20%20%20%20%20%20%20%20%20height%3A%20100.0%25%3B%0A%20%20%20%20%20%20%20%20%20%20%20%20%20%20%20%20%20%20%20%20left%3A%200.0%25%3B%0A%20%20%20%20%20%20%20%20%20%20%20%20%20%20%20%20%20%20%20%20top%3A%200.0%25%3B%0A%20%20%20%20%20%20%20%20%20%20%20%20%20%20%20%20%7D%0A%20%20%20%20%20%20%20%20%20%20%20%20%3C/style%3E%0A%20%20%20%20%20%20%20%20%0A%20%20%20%20%3Cscript%20src%3D%22https%3A//cdnjs.cloudflare.com/ajax/libs/leaflet.fullscreen/1.4.2/Control.FullScreen.min.js%22%3E%3C/script%3E%0A%20%20%20%20%3Clink%20rel%3D%22stylesheet%22%20href%3D%22https%3A//cdnjs.cloudflare.com/ajax/libs/leaflet.fullscreen/1.4.2/Control.FullScreen.min.css%22/%3E%0A%3C/head%3E%0A%3Cbody%3E%20%20%20%20%0A%20%20%20%20%0A%20%20%20%20%20%20%20%20%20%20%20%20%3Cdiv%20class%3D%22folium-map%22%20id%3D%22map_910e75d546294c799f448a22d156766d%22%20%3E%3C/div%3E%0A%20%20%20%20%20%20%20%20%0A%3C/body%3E%0A%3Cscript%3E%20%20%20%20%0A%20%20%20%20%0A%20%20%20%20%20%20%20%20%20%20%20%20var%20map_910e75d546294c799f448a22d156766d%20%3D%20L.map%28%0A%20%20%20%20%20%20%20%20%20%20%20%20%20%20%20%20%22map_910e75d546294c799f448a22d156766d%22%2C%0A%20%20%20%20%20%20%20%20%20%20%20%20%20%20%20%20%7B%0A%20%20%20%20%20%20%20%20%20%20%20%20%20%20%20%20%20%20%20%20center%3A%20%5B40.0%2C%20-100.0%5D%2C%0A%20%20%20%20%20%20%20%20%20%20%20%20%20%20%20%20%20%20%20%20crs%3A%20L.CRS.EPSG3857%2C%0A%20%20%20%20%20%20%20%20%20%20%20%20%20%20%20%20%20%20%20%20zoom%3A%204%2C%0A%20%20%20%20%20%20%20%20%20%20%20%20%20%20%20%20%20%20%20%20zoomControl%3A%20true%2C%0A%20%20%20%20%20%20%20%20%20%20%20%20%20%20%20%20%20%20%20%20preferCanvas%3A%20false%2C%0A%20%20%20%20%20%20%20%20%20%20%20%20%20%20%20%20%20%20%20%20eeInitialize%3A%20true%2C%0A%20%20%20%20%20%20%20%20%20%20%20%20%20%20%20%20%20%20%20%20addGoogleMap%3A%20true%2C%0A%20%20%20%20%20%20%20%20%20%20%20%20%20%20%20%20%20%20%20%20pluginLatlngpopup%3A%20true%2C%0A%20%20%20%20%20%20%20%20%20%20%20%20%20%20%20%20%20%20%20%20pluginFullscreen%3A%20true%2C%0A%20%20%20%20%20%20%20%20%20%20%20%20%20%20%20%20%20%20%20%20pluginDraw%3A%20false%2C%0A%20%20%20%20%20%20%20%20%20%20%20%20%20%20%20%20%20%20%20%20DrawExport%3A%20true%2C%0A%20%20%20%20%20%20%20%20%20%20%20%20%20%20%20%20%20%20%20%20pluginMinimap%3A%20false%2C%0A%20%20%20%20%20%20%20%20%20%20%20%20%20%20%20%20%20%20%20%20pluginLayercontrol%3A%20false%2C%0A%20%20%20%20%20%20%20%20%20%20%20%20%20%20%20%20%7D%0A%20%20%20%20%20%20%20%20%20%20%20%20%29%3B%0A%0A%20%20%20%20%20%20%20%20%20%20%20%20%0A%0A%20%20%20%20%20%20%20%20%0A%20%20%20%20%0A%20%20%20%20%20%20%20%20%20%20%20%20var%20tile_layer_e6b4fa89db42477a9d439ca3501f034b%20%3D%20L.tileLayer%28%0A%20%20%20%20%20%20%20%20%20%20%20%20%20%20%20%20%22https%3A//%7Bs%7D.tile.openstreetmap.org/%7Bz%7D/%7Bx%7D/%7By%7D.png%22%2C%0A%20%20%20%20%20%20%20%20%20%20%20%20%20%20%20%20%7B%22attribution%22%3A%20%22Data%20by%20%5Cu0026copy%3B%20%5Cu003ca%20href%3D%5C%22http%3A//openstreetmap.org%5C%22%5Cu003eOpenStreetMap%5Cu003c/a%5Cu003e%2C%20under%20%5Cu003ca%20href%3D%5C%22http%3A//www.openstreetmap.org/copyright%5C%22%5Cu003eODbL%5Cu003c/a%5Cu003e.%22%2C%20%22detectRetina%22%3A%20false%2C%20%22maxNativeZoom%22%3A%2018%2C%20%22maxZoom%22%3A%2018%2C%20%22minZoom%22%3A%200%2C%20%22noWrap%22%3A%20false%2C%20%22opacity%22%3A%201%2C%20%22subdomains%22%3A%20%22abc%22%2C%20%22tms%22%3A%20false%7D%0A%20%20%20%20%20%20%20%20%20%20%20%20%29.addTo%28map_910e75d546294c799f448a22d156766d%29%3B%0A%20%20%20%20%20%20%20%20%0A%20%20%20%20%0A%20%20%20%20%20%20%20%20%20%20%20%20var%20tile_layer_1263d3de588b419892305ff9687bacd6%20%3D%20L.tileLayer%28%0A%20%20%20%20%20%20%20%20%20%20%20%20%20%20%20%20%22https%3A//mt1.google.com/vt/lyrs%3Dm%5Cu0026x%3D%7Bx%7D%5Cu0026y%3D%7By%7D%5Cu0026z%3D%7Bz%7D%22%2C%0A%20%20%20%20%20%20%20%20%20%20%20%20%20%20%20%20%7B%22attribution%22%3A%20%22Google%22%2C%20%22detectRetina%22%3A%20false%2C%20%22maxNativeZoom%22%3A%2018%2C%20%22maxZoom%22%3A%2018%2C%20%22minZoom%22%3A%200%2C%20%22noWrap%22%3A%20false%2C%20%22opacity%22%3A%201%2C%20%22subdomains%22%3A%20%22abc%22%2C%20%22tms%22%3A%20false%7D%0A%20%20%20%20%20%20%20%20%20%20%20%20%29.addTo%28map_910e75d546294c799f448a22d156766d%29%3B%0A%20%20%20%20%20%20%20%20%0A%20%20%20%20%0A%20%20%20%20%20%20%20%20%20%20%20%20%20%20%20%20var%20lat_lng_popup_d8bf79fb14964b49bbbdd431a445828a%20%3D%20L.popup%28%29%3B%0A%20%20%20%20%20%20%20%20%20%20%20%20%20%20%20%20function%20latLngPop%28e%29%20%7B%0A%20%20%20%20%20%20%20%20%20%20%20%20%20%20%20%20%20%20%20%20lat_lng_popup_d8bf79fb14964b49bbbdd431a445828a%0A%20%20%20%20%20%20%20%20%20%20%20%20%20%20%20%20%20%20%20%20%20%20%20%20.setLatLng%28e.latlng%29%0A%20%20%20%20%20%20%20%20%20%20%20%20%20%20%20%20%20%20%20%20%20%20%20%20.setContent%28%22Latitude%3A%20%22%20%2B%20e.latlng.lat.toFixed%284%29%20%2B%0A%20%20%20%20%20%20%20%20%20%20%20%20%20%20%20%20%20%20%20%20%20%20%20%20%20%20%20%20%20%20%20%20%20%20%20%20%22%3Cbr%3ELongitude%3A%20%22%20%2B%20e.latlng.lng.toFixed%284%29%29%0A%20%20%20%20%20%20%20%20%20%20%20%20%20%20%20%20%20%20%20%20%20%20%20%20.openOn%28map_910e75d546294c799f448a22d156766d%29%3B%0A%20%20%20%20%20%20%20%20%20%20%20%20%20%20%20%20%20%20%20%20%7D%0A%20%20%20%20%20%20%20%20%20%20%20%20%20%20%20%20map_910e75d546294c799f448a22d156766d.on%28%27click%27%2C%20latLngPop%29%3B%0A%20%20%20%20%20%20%20%20%20%20%20%20%0A%20%20%20%20%0A%20%20%20%20%20%20%20%20%20%20%20%20L.control.fullscreen%28%0A%20%20%20%20%20%20%20%20%20%20%20%20%20%20%20%20%7B%22forceSeparateButton%22%3A%20false%2C%20%22position%22%3A%20%22topleft%22%2C%20%22title%22%3A%20%22Full%20Screen%22%2C%20%22titleCancel%22%3A%20%22Exit%20Full%20Screen%22%7D%0A%20%20%20%20%20%20%20%20%20%20%20%20%29.addTo%28map_910e75d546294c799f448a22d156766d%29%3B%0A%20%20%20%20%20%20%20%20%0A%20%20%20%20%0A%20%20%20%20%20%20%20%20%20%20%20%20map_910e75d546294c799f448a22d156766d.fitBounds%28%0A%20%20%20%20%20%20%20%20%20%20%20%20%20%20%20%20%5B%5B40%2C%20-100%5D%2C%20%5B40%2C%20-100%5D%5D%2C%0A%20%20%20%20%20%20%20%20%20%20%20%20%20%20%20%20%7B%22maxZoom%22%3A%204%7D%0A%20%20%20%20%20%20%20%20%20%20%20%20%29%3B%0A%20%20%20%20%20%20%20%20%0A%20%20%20%20%0A%20%20%20%20%20%20%20%20%20%20%20%20map_910e75d546294c799f448a22d156766d.fitBounds%28%0A%20%20%20%20%20%20%20%20%20%20%20%20%20%20%20%20%5B%5B36.86%2C%20-120.08%5D%2C%20%5B36.86%2C%20-120.08%5D%5D%2C%0A%20%20%20%20%20%20%20%20%20%20%20%20%20%20%20%20%7B%22maxZoom%22%3A%2010%7D%0A%20%20%20%20%20%20%20%20%20%20%20%20%29%3B%0A%20%20%20%20%20%20%20%20%0A%20%20%20%20%0A%20%20%20%20%20%20%20%20%20%20%20%20var%20tile_layer_15b8e9bd15d2485d975a1862b6642096%20%3D%20L.tileLayer%28%0A%20%20%20%20%20%20%20%20%20%20%20%20%20%20%20%20%22https%3A//earthengine.googleapis.com/v1alpha/projects/earthengine-legacy/maps/fb693b816db518af0950e3ad85cd72b7-c9d50f5d7806ef48f0170e0edb1e8b62/tiles/%7Bz%7D/%7Bx%7D/%7By%7D%22%2C%0A%20%20%20%20%20%20%20%20%20%20%20%20%20%20%20%20%7B%22attribution%22%3A%20%22Google%20Earth%20Engine%22%2C%20%22detectRetina%22%3A%20false%2C%20%22maxNativeZoom%22%3A%2018%2C%20%22maxZoom%22%3A%2018%2C%20%22minZoom%22%3A%200%2C%20%22noWrap%22%3A%20false%2C%20%22opacity%22%3A%201.0%2C%20%22subdomains%22%3A%20%22abc%22%2C%20%22tms%22%3A%20false%7D%0A%20%20%20%20%20%20%20%20%20%20%20%20%29.addTo%28map_910e75d546294c799f448a22d156766d%29%3B%0A%20%20%20%20%20%20%20%20%0A%20%20%20%20%0A%20%20%20%20%20%20%20%20%20%20%20%20var%20tile_layer_7b9d72e679a64fd6bb483b46d9d94cc8%20%3D%20L.tileLayer%28%0A%20%20%20%20%20%20%20%20%20%20%20%20%20%20%20%20%22https%3A//earthengine.googleapis.com/v1alpha/projects/earthengine-legacy/maps/a88a8b4fbf8e5bf04bd74c21f85d1d5d-b1972a699ad97fbc66c8c430d2a91040/tiles/%7Bz%7D/%7Bx%7D/%7By%7D%22%2C%0A%20%20%20%20%20%20%20%20%20%20%20%20%20%20%20%20%7B%22attribution%22%3A%20%22Google%20Earth%20Engine%22%2C%20%22detectRetina%22%3A%20false%2C%20%22maxNativeZoom%22%3A%2018%2C%20%22maxZoom%22%3A%2018%2C%20%22minZoom%22%3A%200%2C%20%22noWrap%22%3A%20false%2C%20%22opacity%22%3A%201.0%2C%20%22subdomains%22%3A%20%22abc%22%2C%20%22tms%22%3A%20false%7D%0A%20%20%20%20%20%20%20%20%20%20%20%20%29.addTo%28map_910e75d546294c799f448a22d156766d%29%3B%0A%20%20%20%20%20%20%20%20%0A%20%20%20%20%0A%20%20%20%20%20%20%20%20%20%20%20%20var%20tile_layer_307f0cc76baf48be95bc2a8b0c2f9f2b%20%3D%20L.tileLayer%28%0A%20%20%20%20%20%20%20%20%20%20%20%20%20%20%20%20%22https%3A//earthengine.googleapis.com/v1alpha/projects/earthengine-legacy/maps/393349c0c707c005f7d3d89ffc765522-826ff293de4d5c418e1b5a5d48668254/tiles/%7Bz%7D/%7Bx%7D/%7By%7D%22%2C%0A%20%20%20%20%20%20%20%20%20%20%20%20%20%20%20%20%7B%22attribution%22%3A%20%22Google%20Earth%20Engine%22%2C%20%22detectRetina%22%3A%20false%2C%20%22maxNativeZoom%22%3A%2018%2C%20%22maxZoom%22%3A%2018%2C%20%22minZoom%22%3A%200%2C%20%22noWrap%22%3A%20false%2C%20%22opacity%22%3A%201.0%2C%20%22subdomains%22%3A%20%22abc%22%2C%20%22tms%22%3A%20false%7D%0A%20%20%20%20%20%20%20%20%20%20%20%20%29.addTo%28map_910e75d546294c799f448a22d156766d%29%3B%0A%20%20%20%20%20%20%20%20%0A%20%20%20%20%0A%20%20%20%20%20%20%20%20%20%20%20%20var%20tile_layer_05e96019f4f84b8498336154ea710484%20%3D%20L.tileLayer%28%0A%20%20%20%20%20%20%20%20%20%20%20%20%20%20%20%20%22https%3A//earthengine.googleapis.com/v1alpha/projects/earthengine-legacy/maps/dd811505ed5f46c849acea7a474937fa-bf507de2661943b41ba6dcaa3e27407a/tiles/%7Bz%7D/%7Bx%7D/%7By%7D%22%2C%0A%20%20%20%20%20%20%20%20%20%20%20%20%20%20%20%20%7B%22attribution%22%3A%20%22Google%20Earth%20Engine%22%2C%20%22detectRetina%22%3A%20false%2C%20%22maxNativeZoom%22%3A%2018%2C%20%22maxZoom%22%3A%2018%2C%20%22minZoom%22%3A%200%2C%20%22noWrap%22%3A%20false%2C%20%22opacity%22%3A%201.0%2C%20%22subdomains%22%3A%20%22abc%22%2C%20%22tms%22%3A%20false%7D%0A%20%20%20%20%20%20%20%20%20%20%20%20%29.addTo%28map_910e75d546294c799f448a22d156766d%29%3B%0A%20%20%20%20%20%20%20%20%0A%20%20%20%20%0A%20%20%20%20%20%20%20%20%20%20%20%20var%20tile_layer_cf3cdf6c2ef044b99bf151fe9b848d01%20%3D%20L.tileLayer%28%0A%20%20%20%20%20%20%20%20%20%20%20%20%20%20%20%20%22https%3A//earthengine.googleapis.com/v1alpha/projects/earthengine-legacy/maps/50171a7bb9f2d54a3743be21f0f1e59f-c0c3c4167c1b3684c64ee5a5c36ea71c/tiles/%7Bz%7D/%7Bx%7D/%7By%7D%22%2C%0A%20%20%20%20%20%20%20%20%20%20%20%20%20%20%20%20%7B%22attribution%22%3A%20%22Google%20Earth%20Engine%22%2C%20%22detectRetina%22%3A%20false%2C%20%22maxNativeZoom%22%3A%2018%2C%20%22maxZoom%22%3A%2018%2C%20%22minZoom%22%3A%200%2C%20%22noWrap%22%3A%20false%2C%20%22opacity%22%3A%201.0%2C%20%22subdomains%22%3A%20%22abc%22%2C%20%22tms%22%3A%20false%7D%0A%20%20%20%20%20%20%20%20%20%20%20%20%29.addTo%28map_910e75d546294c799f448a22d156766d%29%3B%0A%20%20%20%20%20%20%20%20%0A%20%20%20%20%0A%20%20%20%20%20%20%20%20%20%20%20%20var%20tile_layer_fcf22847472d424cbfc94fb94dd44a2c%20%3D%20L.tileLayer%28%0A%20%20%20%20%20%20%20%20%20%20%20%20%20%20%20%20%22https%3A//earthengine.googleapis.com/v1alpha/projects/earthengine-legacy/maps/c7d6f8e7c60ceb02bef278b89e0a9325-f519a3405f7cf385f5af1fea6d04eb5c/tiles/%7Bz%7D/%7Bx%7D/%7By%7D%22%2C%0A%20%20%20%20%20%20%20%20%20%20%20%20%20%20%20%20%7B%22attribution%22%3A%20%22Google%20Earth%20Engine%22%2C%20%22detectRetina%22%3A%20false%2C%20%22maxNativeZoom%22%3A%2018%2C%20%22maxZoom%22%3A%2018%2C%20%22minZoom%22%3A%200%2C%20%22noWrap%22%3A%20false%2C%20%22opacity%22%3A%201.0%2C%20%22subdomains%22%3A%20%22abc%22%2C%20%22tms%22%3A%20false%7D%0A%20%20%20%20%20%20%20%20%20%20%20%20%29.addTo%28map_910e75d546294c799f448a22d156766d%29%3B%0A%20%20%20%20%20%20%20%20%0A%20%20%20%20%0A%20%20%20%20%20%20%20%20%20%20%20%20var%20layer_control_908b67e4b76c4dcb952843eca088d229%20%3D%20%7B%0A%20%20%20%20%20%20%20%20%20%20%20%20%20%20%20%20base_layers%20%3A%20%7B%0A%20%20%20%20%20%20%20%20%20%20%20%20%20%20%20%20%20%20%20%20%22openstreetmap%22%20%3A%20tile_layer_e6b4fa89db42477a9d439ca3501f034b%2C%0A%20%20%20%20%20%20%20%20%20%20%20%20%20%20%20%20%7D%2C%0A%20%20%20%20%20%20%20%20%20%20%20%20%20%20%20%20overlays%20%3A%20%20%7B%0A%20%20%20%20%20%20%20%20%20%20%20%20%20%20%20%20%20%20%20%20%22Google%20Maps%22%20%3A%20tile_layer_1263d3de588b419892305ff9687bacd6%2C%0A%20%20%20%20%20%20%20%20%20%20%20%20%20%20%20%20%20%20%20%20%22NAIP%22%20%3A%20tile_layer_15b8e9bd15d2485d975a1862b6642096%2C%0A%20%20%20%20%20%20%20%20%20%20%20%20%20%20%20%20%20%20%20%20%22water%22%20%3A%20tile_layer_7b9d72e679a64fd6bb483b46d9d94cc8%2C%0A%20%20%20%20%20%20%20%20%20%20%20%20%20%20%20%20%20%20%20%20%22Final_dams%22%20%3A%20tile_layer_307f0cc76baf48be95bc2a8b0c2f9f2b%2C%0A%20%20%20%20%20%20%20%20%20%20%20%20%20%20%20%20%20%20%20%20%22bridges%22%20%3A%20tile_layer_05e96019f4f84b8498336154ea710484%2C%0A%20%20%20%20%20%20%20%20%20%20%20%20%20%20%20%20%20%20%20%20%22lakes%20area%22%20%3A%20tile_layer_cf3cdf6c2ef044b99bf151fe9b848d01%2C%0A%20%20%20%20%20%20%20%20%20%20%20%20%20%20%20%20%20%20%20%20%22random%22%20%3A%20tile_layer_fcf22847472d424cbfc94fb94dd44a2c%2C%0A%20%20%20%20%20%20%20%20%20%20%20%20%20%20%20%20%7D%2C%0A%20%20%20%20%20%20%20%20%20%20%20%20%7D%3B%0A%20%20%20%20%20%20%20%20%20%20%20%20L.control.layers%28%0A%20%20%20%20%20%20%20%20%20%20%20%20%20%20%20%20layer_control_908b67e4b76c4dcb952843eca088d229.base_layers%2C%0A%20%20%20%20%20%20%20%20%20%20%20%20%20%20%20%20layer_control_908b67e4b76c4dcb952843eca088d229.overlays%2C%0A%20%20%20%20%20%20%20%20%20%20%20%20%20%20%20%20%7B%22autoZIndex%22%3A%20true%2C%20%22collapsed%22%3A%20true%2C%20%22position%22%3A%20%22topright%22%7D%0A%20%20%20%20%20%20%20%20%20%20%20%20%29.addTo%28map_910e75d546294c799f448a22d156766d%29%3B%0A%20%20%20%20%20%20%20%20%0A%3C/script%3E onload=\"this.contentDocument.open();this.contentDocument.write(    decodeURIComponent(this.getAttribute('data-html')));this.contentDocument.close();\" allowfullscreen webkitallowfullscreen mozallowfullscreen></iframe></div></div>"
            ],
            "text/plain": [
              "<geemap.eefolium.Map at 0x7fe82d1cd210>"
            ]
          },
          "metadata": {
            "tags": []
          },
          "execution_count": 75
        }
      ]
    },
    {
      "cell_type": "markdown",
      "metadata": {
        "id": "3Vq5RIatn1uy"
      },
      "source": [
        "# Export patches as TFRecords to Drive"
      ]
    },
    {
      "cell_type": "markdown",
      "metadata": {
        "id": "2yJR-NHchXU2"
      },
      "source": [
        "## Export dam images"
      ]
    },
    {
      "cell_type": "code",
      "metadata": {
        "id": "YBt72ne6n4Mk"
      },
      "source": [
        "# rect_list = ee_final_dams.toList(10000)\n",
        "\n",
        "# count = rect_list.size().getInfo()\n",
        "\n",
        "# SIZE = 440\n",
        "# for i in range(count):\n",
        "#   rect = ee.Feature(rect_list.get(i)).geometry()\n",
        "\n",
        "#   task = ee.batch.Export.image.toDrive(  \n",
        "#     image= naip2,\n",
        "#     description= 'PatchesExported-%d'%(i),\n",
        "#     fileNamePrefix= 'Dam-%d'%(i),\n",
        "#     folder= f'Dam_{state}',\n",
        "#     region= rect,\n",
        "#     scale= SCALE,\n",
        "#     maxPixels=10e12,\n",
        "#     fileFormat= 'TFRecord',\n",
        "#     formatOptions = {\n",
        "#       'patchDimensions': [SIZE, SIZE],\n",
        "#       'compressed': True}\n",
        "#   ).start()\n",
        "\n",
        "#   print('Export Image %d was submitted, please wait ...'%(i))\n",
        "\n",
        "\n"
      ],
      "execution_count": null,
      "outputs": []
    },
    {
      "cell_type": "markdown",
      "metadata": {
        "id": "_Mpamu3zGDfF"
      },
      "source": [
        "## Export non-dam images"
      ]
    },
    {
      "cell_type": "code",
      "metadata": {
        "id": "v-NuyVab8qDl"
      },
      "source": [
        "# random_list = ee_random.toList(100)\n",
        "# bridge_list = ee_bridge_w.toList(400)\n",
        "# lake_list = ee_lakes_w.toList(200)\n",
        "\n",
        "# for i in range(100):\n",
        "\n",
        "#   random = ee.Feature(random_list.get(i)).geometry()\n",
        "\n",
        "#   # // EXPORT PATCHES\n",
        "\n",
        "#   task = ee.batch.Export.image.toDrive(  \n",
        "#     image= naip2,\n",
        "#     description= 'RandomPatches-%d'%(i),\n",
        "#     fileNamePrefix= 'random-%d'%(i),\n",
        "#     scale= SCALE,\n",
        "#     folder= f'No_dam_{state}_tfr',\n",
        "#     fileFormat= 'TFRecord',\n",
        "#     region= random,\n",
        "#     formatOptions = {\n",
        "#       'patchDimensions': [SIZE, SIZE],\n",
        "#       'compressed': True}\n",
        "#   ).start()\n",
        "\n",
        "#   print('Export Random Image %d was submitted, please wait ...'%(i))\n",
        "\n",
        "\n",
        "\n",
        "# for i in range(400):\n",
        "\n",
        "#   bridges = ee.Feature(bridge_list.get(i)).geometry()\n",
        "\n",
        "#   task = ee.batch.Export.image.toDrive(  \n",
        "#     image= naip2,\n",
        "#     description= 'RandomPatches-%d'%(i),\n",
        "#     fileNamePrefix= 'bridges-%d'%(i),\n",
        "#     scale= SCALE,\n",
        "#     folder= f'No_dam_{state}_tfr',\n",
        "#     fileFormat= 'TFRecord',\n",
        "#     region= bridges,\n",
        "#     formatOptions = {\n",
        "#       'patchDimensions': [SIZE, SIZE],\n",
        "#       'compressed': True}\n",
        "#   ).start()\n",
        "\n",
        "#   print('Export Bridge Image %d was submitted, please wait ...'%(i))\n",
        "\n",
        "\n",
        "\n",
        "# for i in range(200):\n",
        "\n",
        "#   lakes = ee.Feature(lake_list.get(i)).geometry()\n",
        "\n",
        "#   task = ee.batch.Export.image.toDrive(  \n",
        "#     image= naip2,\n",
        "#     description= 'RandomPatches-%d'%(i),\n",
        "#     fileNamePrefix= 'lakes-%d'%(i),\n",
        "#     scale= SCALE,\n",
        "#     folder= f'No_dam_{state}_tfr',\n",
        "#     fileFormat= 'TFRecord',\n",
        "#     region= lakes,\n",
        "#     formatOptions = {\n",
        "#       'patchDimensions': [SIZE, SIZE],\n",
        "#       'compressed': True}\n",
        "#   ).start()\n",
        "\n",
        "#   print('Export Lake Image %d was submitted, please wait ...'%(i))\n",
        "\n"
      ],
      "execution_count": null,
      "outputs": []
    },
    {
      "cell_type": "markdown",
      "metadata": {
        "id": "zRrxCGxMt4e8"
      },
      "source": [
        "# Export patches as GeoTIFF to Drive"
      ]
    },
    {
      "cell_type": "markdown",
      "metadata": {
        "id": "WuFNFXvzt4e9"
      },
      "source": [
        "## Export dam images"
      ]
    },
    {
      "cell_type": "code",
      "metadata": {
        "id": "9XO9cLKmt4e-"
      },
      "source": [
        "# rect_list = ee_final_dams.toList(10000)\n",
        "\n",
        "# count = rect_list.size().getInfo()\n",
        "\n",
        "# SIZE = 220\n",
        "# for i in range(count):\n",
        "#   rect = ee.Feature(rect_list.get(i)).geometry()\n",
        "\n",
        "#   task = ee.batch.Export.image.toDrive(  \n",
        "#     image= naip2,\n",
        "#     description= 'DamsExported-%d'%(i),\n",
        "#     fileNamePrefix= 'Dam-%d'%(i),\n",
        "#     folder= f'Dam_{state}_tif',\n",
        "#     region= rect,\n",
        "#     scale= SCALE,\n",
        "#     maxPixels=10e12,\n",
        "#     fileFormat= 'GeoTIFF',\n",
        "\n",
        "#   ).start()\n",
        "\n",
        "#   print('Export Image %d was submitted, please wait ...'%(i))\n",
        "\n"
      ],
      "execution_count": null,
      "outputs": []
    },
    {
      "cell_type": "markdown",
      "metadata": {
        "id": "qjipzPtwt4fB"
      },
      "source": [
        "## Export non-dam images"
      ]
    },
    {
      "cell_type": "code",
      "metadata": {
        "id": "Dj96qiEjt4fC"
      },
      "source": [
        "# r = 100\n",
        "# b = 350\n",
        "# l = 200\n",
        "\n",
        "# random_list = ee_random.toList(r)\n",
        "# bridge_list = ee_bridge_w.toList(b)\n",
        "# lake_list = ee_lakes_w.toList(l)\n",
        "\n",
        "# for i in range(r):\n",
        "\n",
        "#   random = ee.Feature(random_list.get(i)).geometry()\n",
        "\n",
        "#   # // EXPORT PATCHES\n",
        "\n",
        "#   task = ee.batch.Export.image.toDrive(  \n",
        "#     image= naip2,\n",
        "#     description= 'RandomPatches-%d'%(i),\n",
        "#     fileNamePrefix= 'random-%d'%(i),\n",
        "#     scale= SCALE,\n",
        "#     folder= f'No_dam_{state}_tif',\n",
        "#     fileFormat= 'GeoTIFF',\n",
        "#     region= random,\n",
        "\n",
        "#   ).start()\n",
        "\n",
        "#   print('Export Random Image %d was submitted, please wait ...'%(i))\n",
        "\n",
        "\n",
        "\n",
        "# for i in range(b):\n",
        "\n",
        "#   bridges = ee.Feature(bridge_list.get(i)).geometry()\n",
        "\n",
        "#   task = ee.batch.Export.image.toDrive(  \n",
        "#     image= naip2,\n",
        "#     description= 'RandomPatches-%d'%(i),\n",
        "#     fileNamePrefix= 'bridges-%d'%(i),\n",
        "#     scale= SCALE,\n",
        "#     folder= f'No_dam_{state}_tif',\n",
        "#     fileFormat= 'GeoTIFF',\n",
        "#     region= bridges,\n",
        "\n",
        "#   ).start()\n",
        "\n",
        "#   print('Export Bridge Image %d was submitted, please wait ...'%(i))\n",
        "\n",
        "\n",
        "\n",
        "# for i in range(l):\n",
        "\n",
        "#   lakes = ee.Feature(lake_list.get(i)).geometry()\n",
        "\n",
        "#   task = ee.batch.Export.image.toDrive(  \n",
        "#     image= naip2,\n",
        "#     description= 'RandomPatches-%d'%(i),\n",
        "#     fileNamePrefix= 'lakes-%d'%(i),\n",
        "#     scale= SCALE,\n",
        "#     folder= f'No_dam_{state}_tif',\n",
        "#     fileFormat= 'GeoTIFF',\n",
        "#     region= lakes,\n",
        "\n",
        "#   ).start()\n",
        "\n",
        "#   print('Export Lake Image %d was submitted, please wait ...'%(i))\n",
        "\n"
      ],
      "execution_count": null,
      "outputs": []
    }
  ]
}