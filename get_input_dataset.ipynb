{
  "nbformat": 4,
  "nbformat_minor": 0,
  "metadata": {
    "colab": {
      "name": "get_input_dataset.ipynb",
      "provenance": [],
      "collapsed_sections": [],
      "toc_visible": true,
      "include_colab_link": true
    },
    "kernelspec": {
      "display_name": "Python 3",
      "name": "python3"
    }
  },
  "cells": [
    {
      "cell_type": "markdown",
      "metadata": {
        "id": "view-in-github",
        "colab_type": "text"
      },
      "source": [
        "<a href=\"https://colab.research.google.com/github/paolanustes/thesis/blob/main/get_input_dataset.ipynb\" target=\"_parent\"><img src=\"https://colab.research.google.com/assets/colab-badge.svg\" alt=\"Open In Colab\"/></a>"
      ]
    },
    {
      "cell_type": "markdown",
      "metadata": {
        "id": "Zfrk0JXlwgmT"
      },
      "source": [
        "# Input dataset pipeline for dams' detection models\r\n"
      ]
    },
    {
      "cell_type": "markdown",
      "metadata": {
        "id": "lWA8u4245eW9"
      },
      "source": [
        "# Import external resources"
      ]
    },
    {
      "cell_type": "markdown",
      "metadata": {
        "id": "Wj_QyTERxQgm"
      },
      "source": [
        "## Install and import main libraries"
      ]
    },
    {
      "cell_type": "markdown",
      "metadata": {
        "id": "PVy_yHpQ3yLr"
      },
      "source": [
        "References https://github.com/giswqs/geemap "
      ]
    },
    {
      "cell_type": "code",
      "metadata": {
        "id": "3Mqsnai4SgON"
      },
      "source": [
        "# !pip -q install qiskit"
      ],
      "execution_count": null,
      "outputs": []
    },
    {
      "cell_type": "code",
      "metadata": {
        "id": "woxP8HcTC0--"
      },
      "source": [
        "!pip -q install -U geemap\r\n",
        "!pip -q install geopandas shapely"
      ],
      "execution_count": null,
      "outputs": []
    },
    {
      "cell_type": "code",
      "metadata": {
        "id": "rA615jyCYE-z"
      },
      "source": [
        "import ee\n",
        "import geemap.eefolium as geemap\n",
        "ee.Authenticate()\n",
        "ee.Initialize()"
      ],
      "execution_count": null,
      "outputs": []
    },
    {
      "cell_type": "code",
      "metadata": {
        "id": "oF7PI-ZQRcJa"
      },
      "source": [
        "from google.colab import files\r\n",
        "from google.colab import drive\r\n",
        "drive.mount('/content/drive') #To access google drive folders\r\n",
        "GDRIVE='/content/drive/MyDrive/Thesis'"
      ],
      "execution_count": null,
      "outputs": []
    },
    {
      "cell_type": "code",
      "metadata": {
        "id": "6U8yKh_H5BRH"
      },
      "source": [
        "from shapely.geometry import Point\r\n",
        "from shapely.geometry import CAP_STYLE\r\n",
        "from pandas import json_normalize\r\n",
        "import requests\r\n",
        "import pandas as pd\r\n",
        "import geopandas\r\n",
        "import csv\r\n",
        "import sys"
      ],
      "execution_count": null,
      "outputs": []
    },
    {
      "cell_type": "markdown",
      "metadata": {
        "id": "ECKnyMyvw6wa"
      },
      "source": [
        "## Add Earth Engine data (Control group: California, USA)"
      ]
    },
    {
      "cell_type": "markdown",
      "metadata": {
        "id": "gpwLPNNPSkwZ"
      },
      "source": [
        "1.   Satellite imagery NAIP https://www.fsa.usda.gov/programs-and-services/aerial-photography/imagery-programs/naip-imagery/\r\n",
        "2.   Digital Elevation Model NED https://www.usgs.gov/core-science-systems/national-geospatial-program/national-map\r\n",
        "3. Boundaries by state TIGER https://www.census.gov/programs-surveys/geography/guidance/tiger-data-products-guide.html\r\n",
        "4. Water occurrence JRC http://global-surface-water.appspot.com/ \r\n",
        "5. Continent's boundaries users/gena/land_polygons_image \r\n",
        "\r\n",
        "\r\n",
        "\r\n",
        "\r\n"
      ]
    },
    {
      "cell_type": "code",
      "metadata": {
        "id": "y22sx-HAyFOq"
      },
      "source": [
        "#Create an interactive map\r\n",
        "Map = geemap.Map()"
      ],
      "execution_count": null,
      "outputs": []
    },
    {
      "cell_type": "code",
      "metadata": {
        "id": "uJsJSoggKcPY"
      },
      "source": [
        "#input number you want to search\r\n",
        "state = input('Enter state postal code: (Example for california enter CA)\\n')\r\n",
        "\r\n",
        "#read csv, and split on \",\" the line\r\n",
        "csv_file = csv.reader(open(f'{GDRIVE}/FIPS.csv', \"r\"), delimiter=\",\")\r\n",
        "\r\n",
        "\r\n",
        "#loop through the csv list\r\n",
        "for row in csv_file:\r\n",
        "    #if current rows 2nd value is equal to input, print that row\r\n",
        "    if state == row[1]:\r\n",
        "         print (row[2])\r\n",
        "         FIP = row[2]"
      ],
      "execution_count": null,
      "outputs": []
    },
    {
      "cell_type": "code",
      "metadata": {
        "id": "DJ7imnalL5sn"
      },
      "source": [
        "#Add control polygon of California //  https://datadrivenlab.org/big-data-2/google-earth-engine-tutorial/\r\n",
        "# Load US county dataset.\r\n",
        "countyData = ee.FeatureCollection('TIGER/2018/Counties').filter(ee.Filter.eq('STATEFP', FIP))\r\n",
        "\r\n",
        "# Get the union of all the county geometries in the county.\r\n",
        "control = countyData.union(100).geometry().bounds(100)\r\n",
        "\r\n",
        "#Add Earth Engine dataset (NAIP)\r\n",
        "naip = ee.ImageCollection(\"USDA/NAIP/DOQQ\").filterDate('2016-01-01','2019-01-01')\r\n",
        "naip1= naip.median().clip(control);\r\n",
        "Map.addLayer(naip1, {}, \"NAIP\");\r\n",
        "\r\n",
        "# Center the map based on coordinates \r\n",
        "Map.setCenter(-120.08, 36.86)"
      ],
      "execution_count": null,
      "outputs": []
    },
    {
      "cell_type": "code",
      "metadata": {
        "id": "7uHCzGRHlvub"
      },
      "source": [
        "#Add water ocurrence map to see the water bodies\r\n",
        "water = ee.Image(\"JRC/GSW1_2/GlobalSurfaceWater\").select('occurrence').clip(control)\r\n",
        "water = water.selfMask()\r\n"
      ],
      "execution_count": null,
      "outputs": []
    },
    {
      "cell_type": "code",
      "metadata": {
        "id": "61j-XKwyala1"
      },
      "source": [
        "#Add DEM\r\n",
        "DEM = ee.Image(\"USGS/NED\").clip(control)\r\n",
        "aspect = ee.Terrain.aspect(DEM)\r\n",
        "slope  =ee.Terrain.slope(DEM)\r\n"
      ],
      "execution_count": null,
      "outputs": []
    },
    {
      "cell_type": "code",
      "metadata": {
        "id": "SVQQGaKKnfTE"
      },
      "source": [
        "#Add continents' boundaries to delete polygons on the coastline\r\n",
        "continents = ee.Image(\"users/gena/land_polygons_image\")"
      ],
      "execution_count": null,
      "outputs": []
    },
    {
      "cell_type": "code",
      "metadata": {
        "id": "stVAzCdTbKS6"
      },
      "source": [
        "# https://developers.google.com/earth-engine/guides/image_visualization \r\n",
        "\r\n",
        "ndwi = naip1.normalizedDifference(['N','G']).rename(['ndwi'])\r\n",
        "\r\n",
        "# To mask the non-watery parts of the image, where NDWI < 0.3\r\n",
        "ndwiMasked = ndwi.updateMask(ndwi.gte(0.3))\r\n",
        "\r\n",
        "#  Create visualization layers.\r\n",
        "imageRGB = naip1.visualize({'bands': ['R', 'G', 'B'], max: 0.5})\r\n",
        "ndwiRGB = ndwiMasked.visualize({\r\n",
        "  'min': 0.5,\r\n",
        "  'max': 1,\r\n",
        "  'palette': ['00FFFF', '0000FF']\r\n",
        "});\r\n",
        "\r\n",
        "# Mosaic the visualization layers and display (or export)\r\n",
        "# mosaic = ee.ImageCollection([imageRGB, ndwiRGB]).mosaic()\r\n"
      ],
      "execution_count": null,
      "outputs": []
    },
    {
      "cell_type": "markdown",
      "metadata": {
        "id": "9jWP2bV8VLqJ"
      },
      "source": [
        "## Normalized channels"
      ]
    },
    {
      "cell_type": "code",
      "metadata": {
        "id": "bPoZljV0oFfq"
      },
      "source": [
        "SCALE = 10\r\n",
        "DEMminMax = DEM.reduceRegion(\r\n",
        "  reducer= ee.Reducer.minMax(),\r\n",
        "  geometry= DEM.geometry(),\r\n",
        "  scale= SCALE,\r\n",
        "  maxPixels= 10e12\r\n",
        "  )\r\n",
        "\r\n",
        "ndwiminMax = ndwi.reduceRegion(\r\n",
        "  reducer= ee.Reducer.minMax(),\r\n",
        "  geometry= ndwi.geometry(),\r\n",
        "  scale= SCALE,\r\n",
        "  maxPixels= 10e12\r\n",
        "  )\r\n",
        "\r\n",
        "waterminMax = water.reduceRegion(\r\n",
        "  reducer= ee.Reducer.minMax(),\r\n",
        "  geometry= water.geometry(),\r\n",
        "  scale= SCALE,\r\n",
        "  maxPixels= 10e12\r\n",
        "  )\r\n",
        "\r\n",
        "AspectminMax = aspect.reduceRegion(\r\n",
        "  reducer= ee.Reducer.minMax(),\r\n",
        "  geometry= aspect.geometry(),\r\n",
        "  scale= SCALE,\r\n",
        "  maxPixels= 10e12\r\n",
        "  )\r\n",
        "\r\n",
        "SlopeminMax = slope.reduceRegion(\r\n",
        "  reducer= ee.Reducer.minMax(),\r\n",
        "  geometry= slope.geometry(),\r\n",
        "  scale= SCALE,\r\n",
        "  maxPixels= 10e12\r\n",
        "  )"
      ],
      "execution_count": null,
      "outputs": []
    },
    {
      "cell_type": "code",
      "metadata": {
        "id": "EQhjegN0ikNT"
      },
      "source": [
        "norm_DEM = DEM.unitScale(ee.Number(DEMminMax.get('elevation_min')), ee.Number(DEMminMax.get('elevation_max'))).double()\r\n",
        "norm_ndwi = ndwi.unitScale(ee.Number(ndwiminMax.get('ndwi_min')), ee.Number(ndwiminMax.get('ndwi_max'))).double()\r\n",
        "norm_water = water.unitScale(ee.Number(waterminMax.get('occurrence_min')), ee.Number(waterminMax.get('occurrence_max'))).double() \r\n",
        "norm_aspect = aspect.unitScale(ee.Number(AspectminMax.get('aspect_min')), ee.Number(AspectminMax.get('aspect_max'))).double() \r\n",
        "norm_slope = slope.unitScale(ee.Number(SlopeminMax.get('slope_min')), ee.Number(SlopeminMax.get('slope_max'))).double() "
      ],
      "execution_count": null,
      "outputs": []
    },
    {
      "cell_type": "code",
      "metadata": {
        "id": "dYGFmbssDMV-"
      },
      "source": [
        "#To add the normalized channels as bands in the NAIP image\r\n",
        "naip2 = naip1.addBands(norm_ndwi).addBands(norm_water).addBands(norm_aspect).addBands(norm_slope).addBands(norm_DEM)"
      ],
      "execution_count": null,
      "outputs": []
    },
    {
      "cell_type": "markdown",
      "metadata": {
        "id": "SgnMhrbI-2ZV"
      },
      "source": [
        "## Map visualization"
      ]
    },
    {
      "cell_type": "code",
      "metadata": {
        "id": "n55bJalgxodN"
      },
      "source": [
        "# Displays the map\r\n",
        "#colors https://en.wikipedia.org/wiki/Web_colors \r\n",
        "#https://github.com/gee-community/ee-palettes\r\n",
        "\r\n",
        "Map = geemap.Map()\r\n",
        "Map.setCenter(-120.08, 36.86)\r\n",
        "bounds = Map.get_bounds()\r\n",
        "\r\n",
        "Map.addLayer(naip1, {}, \"NAIP\");\r\n",
        "\r\n",
        "#AOI: Area of interest\r\n",
        "Map.addLayer(control, {'color': 'yellow', 'opacity': 0.5}, \"AOI\");\r\n",
        "\r\n",
        "#DEM bands\r\n",
        "hs = ee.Terrain.hillshade(DEM)\r\n",
        "Map.addLayer(hs, {}, 'Elevation hillshade')\r\n",
        "Map.addLayer(aspect, {'min': 0, 'max': 360}, 'Aspect')\r\n",
        "Map.addLayer(slope, {}, 'Slope')\r\n",
        "\r\n",
        "#Water occurrence\r\n",
        "Map.addLayer(water, { 'min': 0, 'max': 1, 'palette': ['00ffff'] }, 'water')\r\n",
        "\r\n",
        "#NDWI\r\n",
        "Map.addLayer(ndwi, {'min': 0.5, 'max': 1, 'palette': ['00FFFF', '0000FF']}, 'NDWI')\r\n",
        "# ['0000ff', '00ffff', 'ffff00', 'ff0000', 'ffffff']\r\n",
        "Map.addLayer(ndwiMasked, {'min': 0.5, 'max': 1, 'palette': ['00FFFF', '0000FF']}, 'NDWI masked')\r\n",
        "# Map.addLayer(mosaic, {}, 'mosaic')\r\n",
        "\r\n",
        "Map.addLayerControl() \r\n",
        "Map"
      ],
      "execution_count": null,
      "outputs": []
    },
    {
      "cell_type": "markdown",
      "metadata": {
        "id": "eBVYsvJox2gv"
      },
      "source": [
        "# Collect dams' dataset from OpenStreetMap API and NID\r\n"
      ]
    },
    {
      "cell_type": "markdown",
      "metadata": {
        "id": "zPDZCfnHmf3E"
      },
      "source": [
        "## Importing dams locations from OpenStreetMap (Overpass API)\r\n",
        "OSM API allows the extraction of data in form of features (node, way, relation). In the following algorithm is carried out the extraction of point locations classified as dams in OSM. \r\n",
        "\r\n",
        "To create the dam's queries with the right tags: https://taginfo.openstreetmap.org/tags\r\n",
        "\r\n",
        "*Note: the extraction of each type of feature has to be done separetely, otherwise the code selects just one type and the other features are not extracted properly.*"
      ]
    },
    {
      "cell_type": "code",
      "metadata": {
        "id": "9_vPYJRpl_7r"
      },
      "source": [
        "url = 'http://overpass-api.de/api/interpreter'  # Overpass API URL\n",
        "query = f\"\"\"\n",
        "[out:json];\n",
        "area[\"ISO3166-2\"=\"US-{state}\"][admin_level=4];\n",
        "(node[\"waterway\"=\"dam\"](area);\n",
        ");\n",
        "out center;\n",
        "\"\"\"\n",
        "\n",
        "r = requests.get(url, params={'data': query})\n",
        "data = r.json()['elements']  # read response as JSON and get the data\n",
        "df = json_normalize(data).rename(columns={\"tags.name\":\"tag_name\"}) #creates a dataframe with the data extracted\n"
      ],
      "execution_count": null,
      "outputs": []
    },
    {
      "cell_type": "code",
      "metadata": {
        "id": "ybPRjXRWyFKP"
      },
      "source": [
        "url = 'http://overpass-api.de/api/interpreter'  # Overpass API URL\r\n",
        "query2 = f\"\"\"\r\n",
        "[out:json];\r\n",
        "area[\"ISO3166-2\"=\"US-{state}\"][admin_level=4];\r\n",
        "( way[\"waterway\"=\"dam\"](area);\r\n",
        ");\r\n",
        "out center;\r\n",
        "\"\"\"\r\n",
        "\r\n",
        "r2 = requests.get(url, params={'data': query2})\r\n",
        "data2 = r2.json()['elements']  # read response as JSON and get the data\r\n",
        "df2 = json_normalize(data2).rename(columns={\"center.lat\":\"lat\", \"center.lon\":\"lon\", \"tags.name\":\"tag_name\"})\r\n"
      ],
      "execution_count": null,
      "outputs": []
    },
    {
      "cell_type": "markdown",
      "metadata": {
        "id": "qiYAY7sFPQZ6"
      },
      "source": [
        "**Re-run the code below, sometimes presents error on the first run**"
      ]
    },
    {
      "cell_type": "code",
      "metadata": {
        "id": "NoHz6Dn-RJ3f"
      },
      "source": [
        "url = 'http://overpass-api.de/api/interpreter'  # Overpass API URL\r\n",
        "query3 = f\"\"\"\r\n",
        "[out:json];\r\n",
        "area[\"ISO3166-2\"=\"US-{state}\"][admin_level=4];\r\n",
        "( rel[\"waterway\"=\"dam\"](area);\r\n",
        ");\r\n",
        "out center;\r\n",
        "\"\"\"\r\n",
        "\r\n",
        "r3 = requests.get(url, params={'data': query3})\r\n",
        "data3 = r3.json()['elements']  # read response as JSON and get the data\r\n",
        "df3 = json_normalize(data3).rename(columns={\"center.lat\":\"lat\", \"center.lon\":\"lon\", \"tags.name\":\"tag_name\"})"
      ],
      "execution_count": null,
      "outputs": []
    },
    {
      "cell_type": "code",
      "metadata": {
        "id": "g5jPBMvtgcKL"
      },
      "source": [
        "#Select the columns of the dataframe\n",
        "nodes = pd.DataFrame(df, columns=['lat','lon', 'type', 'tag_name'])\n",
        "ways = pd.DataFrame(df2, columns=['lat','lon', 'type', 'tag_name'])\n",
        "relations = pd.DataFrame(df3, columns=['lat','lon', 'type', 'tag_name'])\n",
        "\n",
        "#Append the three features and add index\n",
        "OSM_dams = nodes.append(ways).append(relations)\n",
        "OSM_dams[\"id\"] = OSM_dams.index\n",
        "\n",
        "#Converting the dataframe to .csv file\n",
        "OSM_dams.to_csv(r'dam_point.csv', encoding='utf-8', index=False)\n",
        "\n",
        "#Create GeoDataframe of the OSM feature collection\n",
        "gdf_OSM = geopandas.GeoDataFrame(OSM_dams)"
      ],
      "execution_count": null,
      "outputs": []
    },
    {
      "cell_type": "markdown",
      "metadata": {
        "id": "VaN-I1LcR4T9"
      },
      "source": [
        "## Importing dams locations from National Inventory of Dams (NID) database"
      ]
    },
    {
      "cell_type": "code",
      "metadata": {
        "id": "pnzJ1-qsMnOs"
      },
      "source": [
        "lines = list()\r\n",
        "\r\n",
        "with open(f'{GDRIVE}/NID.csv', 'r') as readFile:\r\n",
        "\r\n",
        "    reader = csv.reader(readFile)\r\n",
        "\r\n",
        "    for row in reader:\r\n",
        "\r\n",
        "        for field in row:\r\n",
        "\r\n",
        "            if field == state:\r\n",
        "\r\n",
        "                lines.append(row)\r\n",
        "\r\n",
        "with open('mycsv.csv', 'w') as writeFile:\r\n",
        "\r\n",
        "    writer = csv.writer(writeFile)\r\n",
        "\r\n",
        "    writer.writerows(lines)"
      ],
      "execution_count": null,
      "outputs": []
    },
    {
      "cell_type": "code",
      "metadata": {
        "id": "b52mGvluDM9-"
      },
      "source": [
        "data_NID = pd.DataFrame(lines, columns=['RECORDID','LONGITUDE','LATITUDE',\r\n",
        "                                        'DAM_TYPE','PURPOSES','DAM_LENGTH','DAM_HEIGHT',\r\n",
        "                                        'MAX_STORAGE','SURFACE_AREA','HAZARD','STATE'])\r\n",
        "data_NID['LATITUDE']=pd.to_numeric(data_NID['LATITUDE'])\r\n",
        "data_NID['LONGITUDE']=pd.to_numeric(data_NID['LONGITUDE'])\r\n",
        "data_NID[\"id\"] = data_NID.index"
      ],
      "execution_count": null,
      "outputs": []
    },
    {
      "cell_type": "code",
      "metadata": {
        "id": "KojGJTKYEPQo"
      },
      "source": [
        "#Create GeoDataframe of the NID feature collection\r\n",
        "gdf_NID=geopandas.GeoDataFrame(data_NID)"
      ],
      "execution_count": null,
      "outputs": []
    },
    {
      "cell_type": "markdown",
      "metadata": {
        "id": "-M40ORqSFPTX"
      },
      "source": [
        "## Create earth engine objects to add to the interactive map"
      ]
    },
    {
      "cell_type": "code",
      "metadata": {
        "id": "J4E0uJbjj3I2"
      },
      "source": [
        "#To convert the dataframe to shape to then create an earth engine object and add the layer to the map\r\n",
        "\r\n",
        "gdf_OSM.set_geometry(\r\n",
        "    geopandas.points_from_xy(gdf_OSM['lon'], gdf_OSM['lat']),\r\n",
        "    inplace=True, crs='EPSG:4326')\r\n",
        "gdf_OSM.drop(['lat', 'lon'], axis=1, inplace=True)  # optional\r\n",
        "gdf_OSM.to_file('dams_OSM.shp')\r\n",
        "\r\n",
        "ee_OSM = geemap.shp_to_ee('dams_OSM.shp')"
      ],
      "execution_count": null,
      "outputs": []
    },
    {
      "cell_type": "code",
      "metadata": {
        "id": "fHFD3PEHqa_2"
      },
      "source": [
        "gdf_NID.set_geometry(\r\n",
        "    geopandas.points_from_xy(gdf_NID['LONGITUDE'], gdf_NID['LATITUDE']),\r\n",
        "    inplace=True, crs='EPSG:4326')\r\n",
        "gdf_NID.drop(['LATITUDE', 'LONGITUDE'], axis=1, inplace=True)  # optional\r\n",
        "\r\n",
        "gdf_NID[~gdf_NID.geometry.is_valid]\r\n",
        "gdf_NID = gdf_NID[gdf_NID.geometry.is_valid == True]\r\n",
        "gdf_NID.to_file('dams_NID.shp')\r\n",
        "\r\n",
        "ee_NID = geemap.shp_to_ee('dams_NID.shp')"
      ],
      "execution_count": null,
      "outputs": []
    },
    {
      "cell_type": "markdown",
      "metadata": {
        "id": "RVzUC5RFTxcs"
      },
      "source": [
        "## Create a polygon with centroid in the imported feature collection (OSM/NID)"
      ]
    },
    {
      "cell_type": "code",
      "metadata": {
        "id": "GfeTLXI-6Ky3"
      },
      "source": [
        "buffer = gdf_OSM.buffer(0.02, cap_style=3) #0.02 is the dimension in lat/long and cap_style: 1 (round), 2 (flat), 3 (square)\r\n",
        "buffer.plot()"
      ],
      "execution_count": null,
      "outputs": []
    },
    {
      "cell_type": "code",
      "metadata": {
        "id": "xcewlX6M0jJ2"
      },
      "source": [
        "buffer_NID = gdf_NID.buffer(0.02, cap_style=3)\r\n",
        "buffer_NID.plot()"
      ],
      "execution_count": null,
      "outputs": []
    },
    {
      "cell_type": "code",
      "metadata": {
        "id": "gg8uM-Zy5e3w"
      },
      "source": [
        "#From Geoseries to EE object\r\n",
        "buf_OSM = geopandas.GeoDataFrame(geometry=geopandas.GeoSeries(buffer))\r\n",
        "buf_OSM.to_file('buffer_OSMdams.shp')\r\n",
        "ee_polygon_OSM = geemap.shp_to_ee('buffer_OSMdams.shp')\r\n",
        "\r\n",
        "buf_NID = geopandas.GeoDataFrame(geometry=geopandas.GeoSeries(buffer_NID))\r\n",
        "buf_NID.to_file('buffer_NIDdams.shp')\r\n",
        "ee_polygon_NID = geemap.shp_to_ee('buffer_NIDdams.shp')\r\n"
      ],
      "execution_count": null,
      "outputs": []
    },
    {
      "cell_type": "markdown",
      "metadata": {
        "id": "q4MTl44QSRF4"
      },
      "source": [
        "## Map visualization"
      ]
    },
    {
      "cell_type": "code",
      "metadata": {
        "id": "AJVRh42oxwW9"
      },
      "source": [
        "# Displays the map\r\n",
        "Map = geemap.Map()\r\n",
        "Map.setCenter(-120.08, 36.86)\r\n",
        "bounds = Map.get_bounds()\r\n",
        "\r\n",
        "Map.addLayer(naip1, {}, \"NAIP\");\r\n",
        "\r\n",
        "#Add points of OSM and NID feature collections\r\n",
        "Map.addLayer(ee_OSM, {'color': 'yellow'}, 'Dams OSM')\r\n",
        "Map.addLayer(ee_NID, {'color': 'green'}, 'Dams NID')\r\n",
        "\r\n",
        "#Add unfiltered polygons of OSM and NID dams\r\n",
        "Map.addLayer(ee_polygon_OSM, {'color': 'yellow', 'opacity': 0.5}, 'Polygon_dams_OSM')\r\n",
        "Map.addLayer(ee_polygon_NID, {'color': 'lime', 'opacity': 0.5}, 'Polygon_dams_NID')\r\n",
        "\r\n",
        "Map.addLayerControl() \r\n",
        "Map"
      ],
      "execution_count": null,
      "outputs": []
    },
    {
      "cell_type": "markdown",
      "metadata": {
        "id": "kK2JUwe8lxii"
      },
      "source": [
        "# Refine the dam dataset \r\n",
        "\r\n",
        "Remove data that can be noisy "
      ]
    },
    {
      "cell_type": "markdown",
      "metadata": {
        "id": "uuHKt9-mm2aa"
      },
      "source": [
        "## Filtering functions"
      ]
    },
    {
      "cell_type": "code",
      "metadata": {
        "id": "gLKnizRzm7A4"
      },
      "source": [
        "def compute_water_area(f):\r\n",
        "    water2 = water.gt(30)\r\n",
        "    Waterarea = ee.Image.pixelArea().mask(water2).reduceRegion(\r\n",
        "      reducer= ee.Reducer.sum(), \r\n",
        "      geometry= f.geometry(), \r\n",
        "      scale= SCALE)\r\n",
        "  \r\n",
        "    return f.set(Waterarea)"
      ],
      "execution_count": null,
      "outputs": []
    },
    {
      "cell_type": "code",
      "metadata": {
        "id": "tEhP_x5XnRA_"
      },
      "source": [
        "#Function to verify point-in-polygon (pip)\r\n",
        "#Retrieved from: https://medium.com/analytics-vidhya/point-in-polygon-analysis-using-python-geopandas-27ea67888bff \r\n",
        "\r\n",
        "def get_pip (gdf, polygon):\r\n",
        "    id_list = list(polygon.FID)\r\n",
        "    #create empty dataframe\r\n",
        "    df = pd.DataFrame().reindex_like(gdf).dropna()\r\n",
        "    for i in id_list:\r\n",
        "        #get geometry for specific region\r\n",
        "        pol = (polygon.loc[polygon.FID==i])\r\n",
        "        pol.reset_index(drop = True, inplace = True)\r\n",
        "        #identify those records from gdf that are intersecting with the region polygon\r\n",
        "        pip_mask = gdf.within(pol.loc[0, 'geometry'])\r\n",
        "        #filter gdf to keep only the intersecting records\r\n",
        "        pip_data = gdf.loc[pip_mask].copy()\r\n",
        "        #create a new column and assign the FID as the value\r\n",
        "        pip_data['FID']= i\r\n",
        "        #append region data to empty dataframe\r\n",
        "        df = df.append(pip_data)\r\n",
        "        \r\n",
        "    #checking there are no more than one region assigned to a point  \r\n",
        "    print('Original dataframe count=',len(gdf),'\\nNew dataframe count=', len(df))\r\n",
        "    if df.loc[df.id.duplicated() == True].shape[0] > 0:\r\n",
        "        print(\"There are id's with more than one region\")\r\n",
        "\r\n",
        "    #checking all points have a region\r\n",
        "    elif gdf.loc[~gdf.id.isin(df.id)].shape[0] > 0:\r\n",
        "        print(\"There are id's without an assigned region\")\r\n",
        "    else:\r\n",
        "        print(\"No discrepancies in results!\")\r\n",
        "\r\n",
        "    df.reset_index(inplace=True)\r\n",
        "    df = df.drop(columns='geometry')\r\n",
        "    return df\r\n"
      ],
      "execution_count": null,
      "outputs": []
    },
    {
      "cell_type": "code",
      "metadata": {
        "id": "WWdHX5Fxnsce"
      },
      "source": [
        "def in_land(f):\r\n",
        "  isInland = continents.mask().reduceRegion(\r\n",
        "      reducer= ee.Reducer.allNonZero(),\r\n",
        "      geometry= f.geometry(),\r\n",
        "      scale= 30).values().get(0)\r\n",
        "\r\n",
        "  return f.set({'isInland': isInland})\r\n"
      ],
      "execution_count": null,
      "outputs": []
    },
    {
      "cell_type": "markdown",
      "metadata": {
        "id": "Hb-6sy7AnvrA"
      },
      "source": [
        "## Filter dam polygons by water area"
      ]
    },
    {
      "cell_type": "code",
      "metadata": {
        "id": "DRD8UqH-n8aM"
      },
      "source": [
        "### Now we filter the squares for which area does not reach a certain threshold\r\n",
        "ee_OSM_Area = ee_polygon_OSM.map(compute_water_area)\r\n",
        "ee_NID_Area = ee_polygon_NID.map(compute_water_area)\r\n",
        "\r\n",
        "AreaThreshold = 100000\r\n",
        "ee_OSM_water_Filter = ee_OSM_Area.filter(ee.Filter.gt('area', AreaThreshold))\r\n",
        "ee_NID_water_Filter = ee_NID_Area.filter(ee.Filter.gt('area', AreaThreshold))\r\n",
        "\r\n",
        "print('All polygons OSM #{}'.format(ee_OSM_Area.size().getInfo()))\r\n",
        "print('Filtered polygons OSM by area #{}'.format(ee_OSM_water_Filter.size().getInfo()))\r\n",
        "\r\n",
        "print('All polygons NID #{}'.format(ee_NID_Area.size().getInfo()))\r\n",
        "print('Filtered polygons NID by area #{}'.format(ee_NID_water_Filter.size().getInfo()))\r\n"
      ],
      "execution_count": null,
      "outputs": []
    },
    {
      "cell_type": "code",
      "metadata": {
        "id": "7oMlRRYRKZrO"
      },
      "source": [
        "# Displays the map\r\n",
        "Map = geemap.Map()\r\n",
        "Map.setCenter(-120.08, 36.86)\r\n",
        "bounds = Map.get_bounds()\r\n",
        "\r\n",
        "Map.addLayer(naip1, {}, \"NAIP\");\r\n",
        "\r\n",
        "#Add unfiltered polygons of OSM and NID dams\r\n",
        "Map.addLayer(ee_polygon_OSM, {'color': 'red', 'opacity': 0.3}, 'Polygon_dams_OSM')\r\n",
        "Map.addLayer(ee_polygon_NID, {'color': 'red', 'opacity': 0.3}, 'Polygon_dams_NID')\r\n",
        "\r\n",
        "#Filtered polygons\r\n",
        "Map.addLayer(ee_OSM_water_Filter, {'color': 'blue', 'opacity': 0.6}, 'Waterfilter_dams_OSM')\r\n",
        "Map.addLayer(ee_NID_water_Filter, {'color': 'blue', 'opacity': 0.6}, 'Waterfilter_dams_NID')\r\n",
        "\r\n",
        "Map.addLayer(water, { 'min': 0, 'max': 1, 'palette': ['aqua'] }, 'water')\r\n",
        "\r\n",
        "Map.addLayerControl() \r\n",
        "Map"
      ],
      "execution_count": null,
      "outputs": []
    },
    {
      "cell_type": "markdown",
      "metadata": {
        "id": "lZhwwjVyZqEx"
      },
      "source": [
        "## Verify at least one point from each feature collection (OSM/NID) within the polygon"
      ]
    },
    {
      "cell_type": "code",
      "metadata": {
        "id": "dTAoWiAhKgNQ"
      },
      "source": [
        "#Convert GEE feature to Geodataframe\r\n",
        "poly_OSM = geopandas.GeoDataFrame.from_features(ee_OSM_water_Filter.getInfo())\r\n",
        "poly_NID = geopandas.GeoDataFrame.from_features(ee_NID_water_Filter.getInfo())\r\n"
      ],
      "execution_count": null,
      "outputs": []
    },
    {
      "cell_type": "code",
      "metadata": {
        "id": "mbTSf3zc3v3i"
      },
      "source": [
        "poly_OSM.drop(columns='area', inplace=True)\r\n",
        "poly_NID.drop(columns='area', inplace=True)"
      ],
      "execution_count": null,
      "outputs": []
    },
    {
      "cell_type": "code",
      "metadata": {
        "id": "ZJxO2KEZx4sj"
      },
      "source": [
        "points_OSM = geopandas.GeoDataFrame(geometry=geopandas.GeoSeries(poly_OSM.centroid))\r\n",
        "points_NID = geopandas.GeoDataFrame(geometry=geopandas.GeoSeries(poly_NID.centroid))\r\n",
        "points_OSM['id'] = points_OSM.index\r\n",
        "points_NID['id'] = points_NID.index\r\n",
        "points_OSM['num'] = points_OSM.index+7800\r\n",
        "points_NID['num'] = points_NID.index+6500"
      ],
      "execution_count": null,
      "outputs": []
    },
    {
      "cell_type": "code",
      "metadata": {
        "id": "HZGH3vkuEfHd"
      },
      "source": [
        "# Points of OSM in squares of NID\r\n",
        "pip_filter1 = get_pip(points_OSM, poly_NID)\r\n",
        "\r\n",
        "# Points of NID in squares of OSM\r\n",
        "pip_filter2 = get_pip(points_NID, poly_OSM)"
      ],
      "execution_count": null,
      "outputs": []
    },
    {
      "cell_type": "code",
      "metadata": {
        "id": "Q41iZqSaJC5u"
      },
      "source": [
        "filtered_NID = pip_filter1.drop_duplicates('FID').drop_duplicates('id').merge(poly_NID, how='inner', on='FID')\r\n"
      ],
      "execution_count": null,
      "outputs": []
    },
    {
      "cell_type": "code",
      "metadata": {
        "id": "urD6tDJkJQBf"
      },
      "source": [
        "filtered_OSM = pip_filter2.drop_duplicates('FID').drop_duplicates('id').merge(poly_OSM, how='left', on='FID')"
      ],
      "execution_count": null,
      "outputs": []
    },
    {
      "cell_type": "code",
      "metadata": {
        "id": "92X0BYKdT5db"
      },
      "source": [
        "#From geodataframe to GEE features\r\n",
        "gdf_filtered_NID = geopandas.GeoDataFrame(filtered_NID)\r\n",
        "gdf_filtered_OSM = geopandas.GeoDataFrame(filtered_OSM)\r\n",
        "gdf_filtered_NID.to_file('filter_NID.shp')\r\n",
        "gdf_filtered_OSM.to_file('filter_OSM.shp')\r\n",
        "ee_filtered_NID = geemap.shp_to_ee('filter_NID.shp')\r\n",
        "ee_filtered_OSM = geemap.shp_to_ee('filter_OSM.shp')\r\n"
      ],
      "execution_count": null,
      "outputs": []
    },
    {
      "cell_type": "code",
      "metadata": {
        "id": "MTuAtoTEMGxP"
      },
      "source": [
        "# Displays the map\r\n",
        "Map = geemap.Map()\r\n",
        "Map.setCenter(-120.08, 36.86)\r\n",
        "bounds = Map.get_bounds()\r\n",
        "\r\n",
        "Map.addLayer(naip1, {}, \"NAIP\");\r\n",
        "\r\n",
        "#Filtered polygons\r\n",
        "Map.addLayer(ee_OSM_water_Filter, {'color': 'red', 'opacity': 0.3}, 'Waterfilter_dams_OSM')\r\n",
        "Map.addLayer(ee_NID_water_Filter, {'color': 'red', 'opacity': 0.3}, 'Waterfilter_dams_NID')\r\n",
        "\r\n",
        "#2nd filter\r\n",
        "Map.addLayer(ee_filtered_OSM, {'color': 'blue', 'opacity': 0.6}, 'Filter2_dams_OSM')\r\n",
        "Map.addLayer(ee_filtered_NID, {'color': 'blue', 'opacity': 0.6}, 'Filter2_dams_NID')\r\n",
        "\r\n",
        "Map.addLayer(water, { 'min': 0, 'max': 1, 'palette': ['aqua'] }, 'water')\r\n",
        "\r\n",
        "Map.addLayerControl() \r\n",
        "Map"
      ],
      "execution_count": null,
      "outputs": []
    },
    {
      "cell_type": "markdown",
      "metadata": {
        "id": "F_U2iMYbp81Y"
      },
      "source": [
        "## Delete polygons on the coastline"
      ]
    },
    {
      "cell_type": "code",
      "metadata": {
        "id": "W4KRuHbHp7r8"
      },
      "source": [
        "ee_NID_final = ee_filtered_NID.map(in_land).filter(ee.Filter.eq('isInland', 1))\r\n",
        "ee_OSM_final = ee_filtered_OSM.map(in_land).filter(ee.Filter.eq('isInland', 1))\r\n",
        "\r\n",
        "print(ee_NID_final.aggregate_array('isInland').getInfo())\r\n",
        "print(ee_OSM_final.aggregate_array('isInland').getInfo())"
      ],
      "execution_count": null,
      "outputs": []
    },
    {
      "cell_type": "code",
      "metadata": {
        "id": "UKZ-897OJ8qB"
      },
      "source": [
        "ee_dam_images = ee_NID_final.merge(ee_OSM_final)"
      ],
      "execution_count": null,
      "outputs": []
    },
    {
      "cell_type": "code",
      "metadata": {
        "id": "G2LAs9trMj6c"
      },
      "source": [
        "# Displays the map\r\n",
        "Map = geemap.Map()\r\n",
        "Map.setCenter(-120.08, 36.86)\r\n",
        "bounds = Map.get_bounds()\r\n",
        "\r\n",
        "Map.addLayer(naip1, {}, \"NAIP\");\r\n",
        "\r\n",
        "#2nd filter\r\n",
        "Map.addLayer(ee_filtered_OSM, {'color': 'red', 'opacity': 0.3}, 'Filter2_dams_OSM')\r\n",
        "Map.addLayer(ee_filtered_NID, {'color': 'red', 'opacity': 0.3}, 'Filter2_dams_NID')\r\n",
        "\r\n",
        "#Final patches\r\n",
        "Map.addLayer(ee_dam_images, {'color': 'blue', 'opacity': 0.8}, 'Final_dams')\r\n",
        "\r\n",
        "Map.addLayer(water, { 'min': 0, 'max': 1, 'palette': ['aqua'] }, 'water')\r\n",
        "\r\n",
        "Map.addLayerControl() \r\n",
        "Map"
      ],
      "execution_count": null,
      "outputs": []
    },
    {
      "cell_type": "markdown",
      "metadata": {
        "id": "r9UTxzIg7uyQ"
      },
      "source": [
        "# Collect negative images (No dam) dataset \r\n",
        "To produce the negative images (non-dam) the dataset is build using bridge locations (since are linear structures that can be mistaken for dams), lakes and random points"
      ]
    },
    {
      "cell_type": "code",
      "metadata": {
        "id": "9zTcVzEprWpN"
      },
      "source": [
        "random_points = ee.FeatureCollection.randomPoints(\r\n",
        "    region= control,\r\n",
        "    points= 150,\r\n",
        "    seed= 1234\r\n",
        ")\r\n",
        "\r\n",
        "random_points = geopandas.GeoDataFrame.from_features(random_points.getInfo())\r\n",
        "random_points[\"id\"] = random_points.index"
      ],
      "execution_count": null,
      "outputs": []
    },
    {
      "cell_type": "code",
      "metadata": {
        "id": "f4Je7x1z7uyT"
      },
      "source": [
        "url = 'http://overpass-api.de/api/interpreter'  # Overpass API URL\r\n",
        "query = f\"\"\"\r\n",
        "[out:json];\r\n",
        "area[\"ISO3166-2\"=\"US-{state}\"][admin_level=4];\r\n",
        "(way[\"bridge\"=\"yes\"](area);\r\n",
        ");\r\n",
        "out center;\r\n",
        "\"\"\"\r\n",
        "\r\n",
        "rb = requests.get(url, params={'data': query})\r\n",
        "data_b = rb.json()['elements']  # read response as JSON and get the data\r\n",
        "df_b = json_normalize(data_b).rename(columns={\"center.lat\":\"lat\", \"center.lon\":\"lon\"})\r\n"
      ],
      "execution_count": null,
      "outputs": []
    },
    {
      "cell_type": "code",
      "metadata": {
        "id": "513bC3rIBFrW"
      },
      "source": [
        "url = 'http://overpass-api.de/api/interpreter'  # Overpass API URL\r\n",
        "query = f\"\"\"\r\n",
        "[out:json];\r\n",
        "area[\"ISO3166-2\"=\"US-{state}\"][admin_level=4];\r\n",
        "(way[\"water\"=\"lake\"](area);\r\n",
        " way[\"natural\"=\"water\"](area);\r\n",
        ");\r\n",
        "out center;\r\n",
        "\"\"\"\r\n",
        "\r\n",
        "rl = requests.get(url, params={'data': query})\r\n",
        "data_l = rl.json()['elements']  # read response as JSON and get the data\r\n",
        "df_l = json_normalize(data_l).rename(columns={\"center.lat\":\"lat\", \"center.lon\":\"lon\"})"
      ],
      "execution_count": null,
      "outputs": []
    },
    {
      "cell_type": "code",
      "metadata": {
        "id": "5BwowiFV7uyW"
      },
      "source": [
        "bridges = pd.DataFrame(df_b, columns=['lat','lon', 'id'])\r\n",
        "bridges.to_csv(r'osm_bridge.csv', encoding='utf-8', index=False)\r\n",
        "\r\n",
        "lakes = pd.DataFrame(df_l, columns=['lat','lon', 'id'])\r\n",
        "lakes.to_csv(r'osm_lake.csv', encoding='utf-8', index=False)"
      ],
      "execution_count": null,
      "outputs": []
    },
    {
      "cell_type": "code",
      "metadata": {
        "id": "vosIeBs47uyX"
      },
      "source": [
        "gdf_bridge = geopandas.GeoDataFrame(bridges)\r\n",
        "\r\n",
        "#To convert the dataframe to shape to then create an earth engine object and add the layer to the map\r\n",
        "gdf_bridge.set_geometry(\r\n",
        "    geopandas.points_from_xy(gdf_bridge['lon'], gdf_bridge['lat']),\r\n",
        "    inplace=True, crs='EPSG:4326')\r\n",
        "gdf_bridge.drop(['lat', 'lon'], axis=1, inplace=True)  # optional\r\n",
        "gdf_bridge.to_file('bridges_osm.shp')"
      ],
      "execution_count": null,
      "outputs": []
    },
    {
      "cell_type": "code",
      "metadata": {
        "id": "vlt4UjoiFX6Z"
      },
      "source": [
        "gdf_lake = geopandas.GeoDataFrame(lakes)\r\n",
        "\r\n",
        "#To convert the dataframe to shape to then create an earth engine object and add the layer to the map\r\n",
        "gdf_lake.set_geometry(\r\n",
        "    geopandas.points_from_xy(gdf_lake['lon'], gdf_lake['lat']),\r\n",
        "    inplace=True, crs='EPSG:4326')\r\n",
        "gdf_lake.drop(['lat', 'lon'], axis=1, inplace=True)  # optional\r\n",
        "gdf_lake.to_file('lakes_osm.shp')"
      ],
      "execution_count": null,
      "outputs": []
    },
    {
      "cell_type": "markdown",
      "metadata": {
        "id": "_wrShmF9rnrj"
      },
      "source": [
        "# Refine no dam dataset\r\n",
        "\r\n",
        "To make the no-dam images more representative for the model to learn"
      ]
    },
    {
      "cell_type": "code",
      "metadata": {
        "id": "_mWMcAVBEAfG"
      },
      "source": [
        "N=len(buf_OSM)\r\n",
        "buf_OSM['FID'] = buf_OSM.index\r\n",
        "buf_NID['FID'] = buf_NID.index+N"
      ],
      "execution_count": null,
      "outputs": []
    },
    {
      "cell_type": "code",
      "metadata": {
        "id": "Q8zbY36cCNIq"
      },
      "source": [
        "total_dams = buf_OSM.append(buf_NID)"
      ],
      "execution_count": null,
      "outputs": []
    },
    {
      "cell_type": "code",
      "metadata": {
        "id": "Xaz-aFtdNx4W"
      },
      "source": [
        "lake_filter = get_pip(gdf_lake, total_dams)\r\n",
        "bridge_filter = get_pip(gdf_bridge, total_dams)\r\n",
        "random_filter = get_pip(random_points, total_dams)"
      ],
      "execution_count": null,
      "outputs": []
    },
    {
      "cell_type": "code",
      "metadata": {
        "id": "6HXGpaSynj9Q"
      },
      "source": [
        "if lake_filter['id'].count() == 0:\r\n",
        "  lakes_gdf = gdf_lake\r\n",
        "else:\r\n",
        "  indx = []\r\n",
        "  for i in lake_filter['index']:\r\n",
        "    indx.append(i)\r\n",
        "  lakes_gdf = gdf_lake.drop(indx, axis=0)\r\n"
      ],
      "execution_count": null,
      "outputs": []
    },
    {
      "cell_type": "code",
      "metadata": {
        "id": "T8mF8uA6nEO0"
      },
      "source": [
        "lakes_gdf = lakes_gdf.sample(1000, random_state=1234)\r\n",
        "lakes_gdf.to_file('lake_filter.shp')\r\n",
        "ee_lakes = geemap.shp_to_ee('lake_filter.shp')\r\n",
        "lakes_buffer = lakes_gdf.buffer(0.02, cap_style=3)\r\n",
        "lakes_buf = geopandas.GeoDataFrame(geometry=geopandas.GeoSeries(lakes_buffer))\r\n",
        "lakes_buf.to_file('lakes.shp')\r\n",
        "ee_lakes_pol = geemap.shp_to_ee('lakes.shp')\r\n"
      ],
      "execution_count": null,
      "outputs": []
    },
    {
      "cell_type": "code",
      "metadata": {
        "id": "UxbwfU56v77v"
      },
      "source": [
        "if bridge_filter['id'].count() == 0:\r\n",
        "  bridge_gdf = gdf_bridge\r\n",
        "else:\r\n",
        "  indx_b = []\r\n",
        "  for i in bridge_filter['index']:\r\n",
        "    indx_b.append(i)\r\n",
        "  bridge_gdf = gdf_bridge.drop(indx_b, axis=0)"
      ],
      "execution_count": null,
      "outputs": []
    },
    {
      "cell_type": "code",
      "metadata": {
        "id": "9q01f6JNziv0"
      },
      "source": [
        "bridge_gdf = bridge_gdf.sample(3000, random_state=1234)\r\n",
        "bridge_gdf.to_file('bridge_filter.shp')\r\n",
        "ee_bridge = geemap.shp_to_ee('bridge_filter.shp')\r\n",
        "bridge_buffer = bridge_gdf.buffer(0.02, cap_style=3)\r\n",
        "bridge_buf = geopandas.GeoDataFrame(geometry=geopandas.GeoSeries(bridge_buffer))\r\n",
        "bridge_buf.to_file('bridges.shp')\r\n",
        "ee_bridge_pol = geemap.shp_to_ee('bridges.shp')"
      ],
      "execution_count": null,
      "outputs": []
    },
    {
      "cell_type": "code",
      "metadata": {
        "id": "POajgReS5Gau"
      },
      "source": [
        "if random_filter['id'].count() == 0:\r\n",
        "  random_gdf = random_points\r\n",
        "else:\r\n",
        "  indx_r = []\r\n",
        "  for i in random_filter['index']:\r\n",
        "    indx_r.append(i)\r\n",
        "  random_gdf = random_points.drop(indx_r, axis=0)"
      ],
      "execution_count": null,
      "outputs": []
    },
    {
      "cell_type": "code",
      "metadata": {
        "id": "uSgu8zax5qGi"
      },
      "source": [
        "random_gdf.to_file('random_filter.shp')\r\n",
        "ee_random_p = geemap.shp_to_ee('random_filter.shp')\r\n",
        "random_buffer = random_gdf.buffer(0.02, cap_style=3)\r\n",
        "random_buffer.to_file('random_rects.shp')\r\n",
        "ee_random = geemap.shp_to_ee('random_rects.shp')"
      ],
      "execution_count": null,
      "outputs": []
    },
    {
      "cell_type": "markdown",
      "metadata": {
        "id": "KTCqwLhxVsno"
      },
      "source": [
        "## Filter no-dam polygons by water area"
      ]
    },
    {
      "cell_type": "code",
      "metadata": {
        "id": "6UO3qvtUDpiT"
      },
      "source": [
        "### Now we filter the squares for which area does not reach a certain threshold\r\n",
        "ee_bridge_area = ee_bridge_pol.map(compute_water_area)\r\n",
        "ee_lakes_area = ee_lakes_pol.map(compute_water_area)\r\n",
        "\r\n",
        "ee_bridge_w = ee_bridge_area.filter(ee.Filter.gt('area', AreaThreshold))\r\n",
        "ee_lakes_w = ee_lakes_area.filter(ee.Filter.gt('area', AreaThreshold))\r\n",
        "\r\n",
        "print('All polygons OSM #{}'.format(ee_bridge_pol.size().getInfo()))\r\n",
        "print('Filtered polygons OSM by area #{}'.format(ee_bridge_w.size().getInfo()))\r\n",
        "\r\n",
        "print('All polygons OSM #{}'.format(ee_lakes_pol.size().getInfo()))\r\n",
        "print('Filtered polygons OSM by area #{}'.format(ee_lakes_w.size().getInfo()))"
      ],
      "execution_count": null,
      "outputs": []
    },
    {
      "cell_type": "markdown",
      "metadata": {
        "id": "WKfjBp2jr7xL"
      },
      "source": [
        "# VISUALIZATION"
      ]
    },
    {
      "cell_type": "code",
      "metadata": {
        "id": "12evLqJc7uyj"
      },
      "source": [
        "# # Displays the map\r\n",
        "Map = geemap.Map()\r\n",
        "Map.setCenter(-120.08, 36.86)\r\n",
        "bounds = Map.get_bounds()\r\n",
        "\r\n",
        "Map.addLayer(naip1, {}, \"NAIP\");\r\n",
        "\r\n",
        "#Final patches\r\n",
        "Map.addLayer(ee_dam_images, {'color': 'yellow', 'opacity': 0.8}, 'Final_dams')\r\n",
        "\r\n",
        "Map.addLayer(water, { 'min': 0, 'max': 1, 'palette': ['aqua'] }, 'water')\r\n",
        "\r\n",
        "Map.addLayer(ee_bridge_w, {'color': 'pink', 'opacity': 0.6}, 'bridges')\r\n",
        "\r\n",
        "Map.addLayer(ee_lakes_w, {'color': 'PaleGreen', 'opacity': 0.6}, 'lakes area')\r\n",
        "\r\n",
        "Map.addLayer(ee_random, {'color': 'silver', 'opacity': 0.6}, 'random')\r\n",
        "\r\n",
        "Map.addLayerControl() \r\n",
        "Map"
      ],
      "execution_count": null,
      "outputs": []
    },
    {
      "cell_type": "markdown",
      "metadata": {
        "id": "3Vq5RIatn1uy"
      },
      "source": [
        "# Export patches as TFRecords to Drive"
      ]
    },
    {
      "cell_type": "markdown",
      "metadata": {
        "id": "2yJR-NHchXU2"
      },
      "source": [
        "## Export dam images"
      ]
    },
    {
      "cell_type": "code",
      "metadata": {
        "id": "YBt72ne6n4Mk"
      },
      "source": [
        "rect_list = ee_dam_images.toList(10000)\r\n",
        "\r\n",
        "count = rect_list.size().getInfo()\r\n",
        "\r\n",
        "SIZE = 440\r\n",
        "for i in range(count):\r\n",
        "  rect = ee.Feature(rect_list.get(i)).geometry()\r\n",
        "\r\n",
        "  task = ee.batch.Export.image.toDrive(  \r\n",
        "    image= naip2,\r\n",
        "    description= 'PatchesExported-%d'%(i),\r\n",
        "    fileNamePrefix= 'Dam-%d'%(i),\r\n",
        "    folder= 'Dam_CA',\r\n",
        "    region= rect,\r\n",
        "    scale= SCALE,\r\n",
        "    maxPixels=10e12,\r\n",
        "    fileFormat= 'TFRecord',\r\n",
        "    formatOptions = {\r\n",
        "      'patchDimensions': [SIZE, SIZE],\r\n",
        "      'compressed': True}\r\n",
        "  ).start()\r\n",
        "\r\n",
        "  print('Export Image %d was submitted, please wait ...'%(i))\r\n",
        "\r\n",
        "\r\n"
      ],
      "execution_count": null,
      "outputs": []
    },
    {
      "cell_type": "markdown",
      "metadata": {
        "id": "_Mpamu3zGDfF"
      },
      "source": [
        "## Export non-dam images"
      ]
    },
    {
      "cell_type": "code",
      "metadata": {
        "id": "v-NuyVab8qDl"
      },
      "source": [
        "random_list = ee_random.toList(100)\r\n",
        "bridge_list = ee_bridge_w.toList(400)\r\n",
        "lake_list = ee_lakes_w.toList(200)\r\n",
        "\r\n",
        "for i in range(100):\r\n",
        "\r\n",
        "  random = ee.Feature(random_list.get(i)).geometry()\r\n",
        "\r\n",
        "  # // EXPORT PATCHES\r\n",
        "\r\n",
        "  task = ee.batch.Export.image.toDrive(  \r\n",
        "    image= naip2,\r\n",
        "    description= 'RandomPatches-%d'%(i),\r\n",
        "    fileNamePrefix= 'random-%d'%(i),\r\n",
        "    scale= SCALE,\r\n",
        "    folder= 'No_dam_CA_2',\r\n",
        "    fileFormat= 'TFRecord',\r\n",
        "    region= random,\r\n",
        "    formatOptions = {\r\n",
        "      'patchDimensions': [SIZE, SIZE],\r\n",
        "      'compressed': True}\r\n",
        "  ).start()\r\n",
        "\r\n",
        "  print('Export Random Image %d was submitted, please wait ...'%(i))\r\n",
        "\r\n",
        "\r\n",
        "\r\n",
        "for i in range(400):\r\n",
        "\r\n",
        "  bridges = ee.Feature(bridge_list.get(i)).geometry()\r\n",
        "\r\n",
        "  task = ee.batch.Export.image.toDrive(  \r\n",
        "    image= naip2,\r\n",
        "    description= 'RandomPatches-%d'%(i),\r\n",
        "    fileNamePrefix= 'bridges-%d'%(i),\r\n",
        "    scale= SCALE,\r\n",
        "    folder= 'No_dam_CA_2',\r\n",
        "    fileFormat= 'TFRecord',\r\n",
        "    region= bridges,\r\n",
        "    formatOptions = {\r\n",
        "      'patchDimensions': [SIZE, SIZE],\r\n",
        "      'compressed': True}\r\n",
        "  ).start()\r\n",
        "\r\n",
        "  print('Export Bridge Image %d was submitted, please wait ...'%(i))\r\n",
        "\r\n",
        "\r\n",
        "\r\n",
        "for i in range(200):\r\n",
        "\r\n",
        "  lakes = ee.Feature(lake_list.get(i)).geometry()\r\n",
        "\r\n",
        "  task = ee.batch.Export.image.toDrive(  \r\n",
        "    image= naip2,\r\n",
        "    description= 'RandomPatches-%d'%(i),\r\n",
        "    fileNamePrefix= 'lakes-%d'%(i),\r\n",
        "    scale= SCALE,\r\n",
        "    folder= 'No_dam_CA_2',\r\n",
        "    fileFormat= 'TFRecord',\r\n",
        "    region= lakes,\r\n",
        "    formatOptions = {\r\n",
        "      'patchDimensions': [SIZE, SIZE],\r\n",
        "      'compressed': True}\r\n",
        "  ).start()\r\n",
        "\r\n",
        "  print('Export Lake Image %d was submitted, please wait ...'%(i))\r\n",
        "\r\n"
      ],
      "execution_count": null,
      "outputs": []
    },
    {
      "cell_type": "markdown",
      "metadata": {
        "id": "zRrxCGxMt4e8"
      },
      "source": [
        "# Export patches as GeoTIFF to Drive"
      ]
    },
    {
      "cell_type": "markdown",
      "metadata": {
        "id": "WuFNFXvzt4e9"
      },
      "source": [
        "## Export dam images"
      ]
    },
    {
      "cell_type": "code",
      "metadata": {
        "id": "9XO9cLKmt4e-"
      },
      "source": [
        "rect_list = ee_dam_images.toList(10000)\r\n",
        "\r\n",
        "count = rect_list.size().getInfo()\r\n",
        "\r\n",
        "SIZE = 440\r\n",
        "for i in range(308, count):\r\n",
        "  rect = ee.Feature(rect_list.get(i)).geometry()\r\n",
        "\r\n",
        "  task = ee.batch.Export.image.toDrive(  \r\n",
        "    image= naip2,\r\n",
        "    description= 'PatchesExported-%d'%(i),\r\n",
        "    fileNamePrefix= 'Dam-%d'%(i),\r\n",
        "    folder= 'Dam_CA_t',\r\n",
        "    region= rect,\r\n",
        "    scale= SCALE,\r\n",
        "    maxPixels=10e12,\r\n",
        "    fileFormat= 'GeoTIFF',\r\n",
        "\r\n",
        "  ).start()\r\n",
        "\r\n",
        "  print('Export Image %d was submitted, please wait ...'%(i))\r\n",
        "\r\n"
      ],
      "execution_count": null,
      "outputs": []
    },
    {
      "cell_type": "markdown",
      "metadata": {
        "id": "qjipzPtwt4fB"
      },
      "source": [
        "## Export non-dam images"
      ]
    },
    {
      "cell_type": "code",
      "metadata": {
        "id": "Dj96qiEjt4fC"
      },
      "source": [
        "random_list = ee_random.toList(100)\r\n",
        "bridge_list = ee_bridge_w.toList(400)\r\n",
        "lake_list = ee_lakes_w.toList(200)\r\n",
        "\r\n",
        "for i in range(100):\r\n",
        "\r\n",
        "  random = ee.Feature(random_list.get(i)).geometry()\r\n",
        "\r\n",
        "  # // EXPORT PATCHES\r\n",
        "\r\n",
        "  task = ee.batch.Export.image.toDrive(  \r\n",
        "    image= naip2,\r\n",
        "    description= 'RandomPatches-%d'%(i),\r\n",
        "    fileNamePrefix= 'random-%d'%(i),\r\n",
        "    scale= SCALE,\r\n",
        "    folder= 'No_dam_CA_t',\r\n",
        "    fileFormat= 'GeoTIFF',\r\n",
        "    region= random,\r\n",
        "\r\n",
        "  ).start()\r\n",
        "\r\n",
        "  print('Export Random Image %d was submitted, please wait ...'%(i))\r\n",
        "\r\n",
        "\r\n",
        "\r\n",
        "for i in range(400):\r\n",
        "\r\n",
        "  bridges = ee.Feature(bridge_list.get(i)).geometry()\r\n",
        "\r\n",
        "  task = ee.batch.Export.image.toDrive(  \r\n",
        "    image= naip2,\r\n",
        "    description= 'RandomPatches-%d'%(i),\r\n",
        "    fileNamePrefix= 'bridges-%d'%(i),\r\n",
        "    scale= SCALE,\r\n",
        "    folder= 'No_dam_CA_t',\r\n",
        "    fileFormat= 'GeoTIFF',\r\n",
        "    region= bridges,\r\n",
        "\r\n",
        "  ).start()\r\n",
        "\r\n",
        "  print('Export Bridge Image %d was submitted, please wait ...'%(i))\r\n",
        "\r\n",
        "\r\n",
        "\r\n",
        "for i in range(200):\r\n",
        "\r\n",
        "  lakes = ee.Feature(lake_list.get(i)).geometry()\r\n",
        "\r\n",
        "  task = ee.batch.Export.image.toDrive(  \r\n",
        "    image= naip2,\r\n",
        "    description= 'RandomPatches-%d'%(i),\r\n",
        "    fileNamePrefix= 'lakes-%d'%(i),\r\n",
        "    scale= SCALE,\r\n",
        "    folder= 'No_dam_CA_t',\r\n",
        "    fileFormat= 'GeoTIFF',\r\n",
        "    region= lakes,\r\n",
        "\r\n",
        "  ).start()\r\n",
        "\r\n",
        "  print('Export Lake Image %d was submitted, please wait ...'%(i))\r\n",
        "\r\n"
      ],
      "execution_count": null,
      "outputs": []
    }
  ]
}