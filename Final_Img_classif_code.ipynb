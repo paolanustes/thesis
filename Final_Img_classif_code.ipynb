{
  "nbformat": 4,
  "nbformat_minor": 0,
  "metadata": {
    "colab": {
      "name": "Final_Img_classif_code.ipynb",
      "provenance": [],
      "collapsed_sections": [],
      "toc_visible": true,
      "include_colab_link": true
    },
    "kernelspec": {
      "display_name": "Python 3",
      "name": "python3"
    }
  },
  "cells": [
    {
      "cell_type": "markdown",
      "metadata": {
        "id": "view-in-github",
        "colab_type": "text"
      },
      "source": [
        "<a href=\"https://colab.research.google.com/github/paolanustes/thesis/blob/main/Final_Img_classif_code.ipynb\" target=\"_parent\"><img src=\"https://colab.research.google.com/assets/colab-badge.svg\" alt=\"Open In Colab\"/></a>"
      ]
    },
    {
      "cell_type": "markdown",
      "metadata": {
        "id": "Zfrk0JXlwgmT"
      },
      "source": [
        "# Input dataset pipeline for dams' detection models\r\n"
      ]
    },
    {
      "cell_type": "markdown",
      "metadata": {
        "id": "lWA8u4245eW9"
      },
      "source": [
        "# Import external resources"
      ]
    },
    {
      "cell_type": "markdown",
      "metadata": {
        "id": "Wj_QyTERxQgm"
      },
      "source": [
        "## Install and import main libraries"
      ]
    },
    {
      "cell_type": "markdown",
      "metadata": {
        "id": "PVy_yHpQ3yLr"
      },
      "source": [
        "References https://github.com/giswqs/geemap "
      ]
    },
    {
      "cell_type": "code",
      "metadata": {
        "id": "3Mqsnai4SgON"
      },
      "source": [
        "# !pip -q install qiskit"
      ],
      "execution_count": null,
      "outputs": []
    },
    {
      "cell_type": "code",
      "metadata": {
        "id": "woxP8HcTC0--",
        "colab": {
          "base_uri": "https://localhost:8080/"
        },
        "outputId": "b160ed79-623f-4da2-f55b-cce6a050192c"
      },
      "source": [
        "!pip -q install -U geemap\r\n",
        "!pip -q install geopandas shapely"
      ],
      "execution_count": null,
      "outputs": [
        {
          "output_type": "stream",
          "text": [
            "\u001b[K     |████████████████████████████████| 409kB 5.7MB/s \n",
            "\u001b[K     |████████████████████████████████| 1.2MB 10.4MB/s \n",
            "\u001b[K     |████████████████████████████████| 143kB 20.5MB/s \n",
            "\u001b[K     |████████████████████████████████| 2.5MB 25.4MB/s \n",
            "\u001b[K     |████████████████████████████████| 102kB 9.9MB/s \n",
            "\u001b[K     |████████████████████████████████| 81kB 8.9MB/s \n",
            "\u001b[K     |████████████████████████████████| 225kB 33.5MB/s \n",
            "\u001b[K     |████████████████████████████████| 5.1MB 49.2MB/s \n",
            "\u001b[K     |████████████████████████████████| 102kB 9.4MB/s \n",
            "\u001b[K     |████████████████████████████████| 1.3MB 54.9MB/s \n",
            "\u001b[K     |████████████████████████████████| 122kB 36.8MB/s \n",
            "\u001b[K     |████████████████████████████████| 112kB 55.0MB/s \n",
            "\u001b[K     |████████████████████████████████| 245kB 39.8MB/s \n",
            "\u001b[K     |████████████████████████████████| 552kB 53.1MB/s \n",
            "\u001b[K     |████████████████████████████████| 71kB 8.5MB/s \n",
            "\u001b[K     |████████████████████████████████| 71kB 7.9MB/s \n",
            "\u001b[?25h  Building wheel for pycrs (setup.py) ... \u001b[?25l\u001b[?25hdone\n",
            "  Building wheel for pyshp (setup.py) ... \u001b[?25l\u001b[?25hdone\n",
            "  Building wheel for ipynb-py-convert (setup.py) ... \u001b[?25l\u001b[?25hdone\n",
            "\u001b[31mERROR: datascience 0.10.6 has requirement folium==0.2.1, but you'll have folium 0.12.1 which is incompatible.\u001b[0m\n",
            "\u001b[31mERROR: jupyter-server 1.4.1 has requirement tornado>=6.1.0, but you'll have tornado 5.1.1 which is incompatible.\u001b[0m\n",
            "\u001b[K     |████████████████████████████████| 1.0MB 4.2MB/s \n",
            "\u001b[K     |████████████████████████████████| 14.8MB 293kB/s \n",
            "\u001b[K     |████████████████████████████████| 6.5MB 49.1MB/s \n",
            "\u001b[?25h"
          ],
          "name": "stdout"
        }
      ]
    },
    {
      "cell_type": "code",
      "metadata": {
        "id": "rA615jyCYE-z",
        "colab": {
          "base_uri": "https://localhost:8080/"
        },
        "outputId": "3c420cb8-cf5b-4cd4-cabb-8463312978ef"
      },
      "source": [
        "import ee\n",
        "import geemap.eefolium as geemap\n",
        "ee.Authenticate()\n",
        "ee.Initialize()"
      ],
      "execution_count": null,
      "outputs": [
        {
          "output_type": "stream",
          "text": [
            "To authorize access needed by Earth Engine, open the following URL in a web browser and follow the instructions. If the web browser does not start automatically, please manually browse the URL below.\n",
            "\n",
            "    https://accounts.google.com/o/oauth2/auth?client_id=517222506229-vsmmajv00ul0bs7p89v5m89qs8eb9359.apps.googleusercontent.com&scope=https%3A%2F%2Fwww.googleapis.com%2Fauth%2Fearthengine+https%3A%2F%2Fwww.googleapis.com%2Fauth%2Fdevstorage.full_control&redirect_uri=urn%3Aietf%3Awg%3Aoauth%3A2.0%3Aoob&response_type=code&code_challenge=XYKa2PIGHB6hwmPjfybpBOIIh14fNw85GLUznreEr-w&code_challenge_method=S256\n",
            "\n",
            "The authorization workflow will generate a code, which you should paste in the box below. \n",
            "Enter verification code: 4/1AY0e-g4jlsvhmsGitteDEza_EkTvnGbQfvE3km8DOAH29ZrG8AUij_E9bFI\n",
            "\n",
            "Successfully saved authorization token.\n"
          ],
          "name": "stdout"
        }
      ]
    },
    {
      "cell_type": "code",
      "metadata": {
        "colab": {
          "base_uri": "https://localhost:8080/"
        },
        "id": "oF7PI-ZQRcJa",
        "outputId": "4e8a190f-ea12-4a56-93aa-49cd32db9cee"
      },
      "source": [
        "from google.colab import files\r\n",
        "from google.colab import drive\r\n",
        "drive.mount('/content/drive') #To access google drive folders\r\n",
        "GDRIVE='/content/drive/MyDrive/Thesis'"
      ],
      "execution_count": null,
      "outputs": [
        {
          "output_type": "stream",
          "text": [
            "Mounted at /content/drive\n"
          ],
          "name": "stdout"
        }
      ]
    },
    {
      "cell_type": "code",
      "metadata": {
        "id": "6U8yKh_H5BRH"
      },
      "source": [
        "from shapely.geometry import Point\r\n",
        "from shapely.geometry import CAP_STYLE\r\n",
        "from pandas import json_normalize\r\n",
        "import requests\r\n",
        "import pandas as pd\r\n",
        "import geopandas\r\n",
        "import csv\r\n",
        "import sys"
      ],
      "execution_count": null,
      "outputs": []
    },
    {
      "cell_type": "markdown",
      "metadata": {
        "id": "ECKnyMyvw6wa"
      },
      "source": [
        "## Add Earth Engine data (Control group: California, USA)"
      ]
    },
    {
      "cell_type": "markdown",
      "metadata": {
        "id": "gpwLPNNPSkwZ"
      },
      "source": [
        "1.   Satellite imagery NAIP https://www.fsa.usda.gov/programs-and-services/aerial-photography/imagery-programs/naip-imagery/\r\n",
        "2.   Digital Elevation Model NED https://www.usgs.gov/core-science-systems/national-geospatial-program/national-map\r\n",
        "3. Boundaries by state TIGER https://www.census.gov/programs-surveys/geography/guidance/tiger-data-products-guide.html\r\n",
        "4. Water occurrence JRC http://global-surface-water.appspot.com/ \r\n",
        "5. Continent's boundaries users/gena/land_polygons_image \r\n",
        "\r\n",
        "\r\n",
        "\r\n",
        "\r\n"
      ]
    },
    {
      "cell_type": "code",
      "metadata": {
        "id": "y22sx-HAyFOq"
      },
      "source": [
        "#Create an interactive map\r\n",
        "Map = geemap.Map()"
      ],
      "execution_count": null,
      "outputs": []
    },
    {
      "cell_type": "code",
      "metadata": {
        "colab": {
          "base_uri": "https://localhost:8080/"
        },
        "id": "uJsJSoggKcPY",
        "outputId": "86f975af-d07c-4cb7-8da2-122cfeeb97d5"
      },
      "source": [
        "#input number you want to search\r\n",
        "state = input('Enter state postal code: (Example for california enter CA)\\n')\r\n",
        "\r\n",
        "#read csv, and split on \",\" the line\r\n",
        "csv_file = csv.reader(open(f'{GDRIVE}/FIPS.csv', \"r\"), delimiter=\",\")\r\n",
        "\r\n",
        "\r\n",
        "#loop through the csv list\r\n",
        "for row in csv_file:\r\n",
        "    #if current rows 2nd value is equal to input, print that row\r\n",
        "    if state == row[1]:\r\n",
        "         print (row[2])\r\n",
        "         FIP = row[2]"
      ],
      "execution_count": null,
      "outputs": [
        {
          "output_type": "stream",
          "text": [
            "Enter state postal code: (Example for california enter CA)\n",
            "CA\n",
            "06\n"
          ],
          "name": "stdout"
        }
      ]
    },
    {
      "cell_type": "code",
      "metadata": {
        "id": "DJ7imnalL5sn"
      },
      "source": [
        "#Add control polygon of California //  https://datadrivenlab.org/big-data-2/google-earth-engine-tutorial/\r\n",
        "# Load US county dataset.\r\n",
        "countyData = ee.FeatureCollection('TIGER/2018/Counties').filter(ee.Filter.eq('STATEFP', FIP))\r\n",
        "\r\n",
        "# Get the union of all the county geometries in the county.\r\n",
        "control = countyData.union(100).geometry().bounds(100)\r\n",
        "\r\n",
        "#Add Earth Engine dataset (NAIP)\r\n",
        "naip = ee.ImageCollection(\"USDA/NAIP/DOQQ\").filterDate('2016-01-01','2019-01-01')\r\n",
        "naip1= naip.median().clip(control);\r\n",
        "Map.addLayer(naip1, {}, \"NAIP\");\r\n",
        "\r\n",
        "# Center the map based on coordinates \r\n",
        "Map.setCenter(-120.08, 36.86)"
      ],
      "execution_count": null,
      "outputs": []
    },
    {
      "cell_type": "code",
      "metadata": {
        "id": "7uHCzGRHlvub"
      },
      "source": [
        "#Add water ocurrence map to see the water bodies\r\n",
        "water = ee.Image(\"JRC/GSW1_2/GlobalSurfaceWater\").select('occurrence').clip(control)\r\n",
        "water = water.selfMask()\r\n"
      ],
      "execution_count": null,
      "outputs": []
    },
    {
      "cell_type": "code",
      "metadata": {
        "id": "61j-XKwyala1"
      },
      "source": [
        "#Add DEM\r\n",
        "DEM = ee.Image(\"USGS/NED\").clip(control)\r\n",
        "aspect = ee.Terrain.aspect(DEM)\r\n",
        "slope  =ee.Terrain.slope(DEM)\r\n"
      ],
      "execution_count": null,
      "outputs": []
    },
    {
      "cell_type": "code",
      "metadata": {
        "id": "SVQQGaKKnfTE"
      },
      "source": [
        "#Add continents' boundaries to delete polygons on the coastline\r\n",
        "continents = ee.Image(\"users/gena/land_polygons_image\")"
      ],
      "execution_count": null,
      "outputs": []
    },
    {
      "cell_type": "code",
      "metadata": {
        "id": "stVAzCdTbKS6"
      },
      "source": [
        "# https://developers.google.com/earth-engine/guides/image_visualization \r\n",
        "\r\n",
        "ndwi = naip1.normalizedDifference(['N','G']).rename(['ndwi'])\r\n",
        "\r\n",
        "# To mask the non-watery parts of the image, where NDWI < 0.3\r\n",
        "ndwiMasked = ndwi.updateMask(ndwi.gte(0.3))\r\n",
        "\r\n",
        "#  Create visualization layers.\r\n",
        "imageRGB = naip1.visualize({'bands': ['R', 'G', 'B'], max: 0.5})\r\n",
        "ndwiRGB = ndwiMasked.visualize({\r\n",
        "  'min': 0.5,\r\n",
        "  'max': 1,\r\n",
        "  'palette': ['00FFFF', '0000FF']\r\n",
        "});\r\n",
        "\r\n",
        "# Mosaic the visualization layers and display (or export)\r\n",
        "# mosaic = ee.ImageCollection([imageRGB, ndwiRGB]).mosaic()\r\n"
      ],
      "execution_count": null,
      "outputs": []
    },
    {
      "cell_type": "markdown",
      "metadata": {
        "id": "9jWP2bV8VLqJ"
      },
      "source": [
        "## Normalized channels"
      ]
    },
    {
      "cell_type": "code",
      "metadata": {
        "id": "bPoZljV0oFfq"
      },
      "source": [
        "SCALE = 10\r\n",
        "DEMminMax = DEM.reduceRegion(\r\n",
        "  reducer= ee.Reducer.minMax(),\r\n",
        "  geometry= DEM.geometry(),\r\n",
        "  scale= SCALE,\r\n",
        "  maxPixels= 10e12\r\n",
        "  )\r\n",
        "\r\n",
        "ndwiminMax = ndwi.reduceRegion(\r\n",
        "  reducer= ee.Reducer.minMax(),\r\n",
        "  geometry= ndwi.geometry(),\r\n",
        "  scale= SCALE,\r\n",
        "  maxPixels= 10e12\r\n",
        "  )\r\n",
        "\r\n",
        "waterminMax = water.reduceRegion(\r\n",
        "  reducer= ee.Reducer.minMax(),\r\n",
        "  geometry= water.geometry(),\r\n",
        "  scale= SCALE,\r\n",
        "  maxPixels= 10e12\r\n",
        "  )\r\n",
        "\r\n",
        "AspectminMax = aspect.reduceRegion(\r\n",
        "  reducer= ee.Reducer.minMax(),\r\n",
        "  geometry= aspect.geometry(),\r\n",
        "  scale= SCALE,\r\n",
        "  maxPixels= 10e12\r\n",
        "  )\r\n",
        "\r\n",
        "SlopeminMax = slope.reduceRegion(\r\n",
        "  reducer= ee.Reducer.minMax(),\r\n",
        "  geometry= slope.geometry(),\r\n",
        "  scale= SCALE,\r\n",
        "  maxPixels= 10e12\r\n",
        "  )"
      ],
      "execution_count": null,
      "outputs": []
    },
    {
      "cell_type": "code",
      "metadata": {
        "id": "EQhjegN0ikNT"
      },
      "source": [
        "norm_DEM = DEM.unitScale(ee.Number(DEMminMax.get('elevation_min')), ee.Number(DEMminMax.get('elevation_max'))).double()\r\n",
        "norm_ndwi = ndwi.unitScale(ee.Number(ndwiminMax.get('ndwi_min')), ee.Number(ndwiminMax.get('ndwi_max'))).double()\r\n",
        "norm_water = water.unitScale(ee.Number(waterminMax.get('occurrence_min')), ee.Number(waterminMax.get('occurrence_max'))).double() \r\n",
        "norm_aspect = aspect.unitScale(ee.Number(AspectminMax.get('aspect_min')), ee.Number(AspectminMax.get('aspect_max'))).double() \r\n",
        "norm_slope = slope.unitScale(ee.Number(SlopeminMax.get('slope_min')), ee.Number(SlopeminMax.get('slope_max'))).double() "
      ],
      "execution_count": null,
      "outputs": []
    },
    {
      "cell_type": "code",
      "metadata": {
        "id": "dYGFmbssDMV-"
      },
      "source": [
        "#To add the normalized channels as bands in the NAIP image\r\n",
        "naip2 = naip1.addBands(norm_ndwi).addBands(norm_water).addBands(norm_aspect).addBands(norm_slope).addBands(norm_DEM)"
      ],
      "execution_count": null,
      "outputs": []
    },
    {
      "cell_type": "markdown",
      "metadata": {
        "id": "SgnMhrbI-2ZV"
      },
      "source": [
        "## Map visualization"
      ]
    },
    {
      "cell_type": "code",
      "metadata": {
        "id": "n55bJalgxodN"
      },
      "source": [
        "# # Displays the map\r\n",
        "# #colors https://en.wikipedia.org/wiki/Web_colors \r\n",
        "# #https://github.com/gee-community/ee-palettes\r\n",
        "\r\n",
        "# Map = geemap.Map()\r\n",
        "# Map.setCenter(-120.08, 36.86)\r\n",
        "# bounds = Map.get_bounds()\r\n",
        "\r\n",
        "# Map.addLayer(naip1, {}, \"NAIP\");\r\n",
        "\r\n",
        "# #AOI: Area of interest\r\n",
        "# Map.addLayer(control, {'color': 'yellow', 'opacity': 0.5}, \"AOI\");\r\n",
        "\r\n",
        "# #DEM bands\r\n",
        "# hs = ee.Terrain.hillshade(DEM)\r\n",
        "# Map.addLayer(hs, {}, 'Elevation hillshade')\r\n",
        "# Map.addLayer(aspect, {'min': 0, 'max': 360}, 'Aspect')\r\n",
        "# Map.addLayer(slope, {}, 'Slope')\r\n",
        "\r\n",
        "# #Water occurrence\r\n",
        "# Map.addLayer(water, { 'min': 0, 'max': 1, 'palette': ['00ffff'] }, 'water')\r\n",
        "\r\n",
        "# #NDWI\r\n",
        "# Map.addLayer(ndwi, {'min': 0.5, 'max': 1, 'palette': ['00FFFF', '0000FF']}, 'NDWI')\r\n",
        "# # ['0000ff', '00ffff', 'ffff00', 'ff0000', 'ffffff']\r\n",
        "# Map.addLayer(ndwiMasked, {'min': 0.5, 'max': 1, 'palette': ['00FFFF', '0000FF']}, 'NDWI masked')\r\n",
        "# # Map.addLayer(mosaic, {}, 'mosaic')\r\n",
        "\r\n",
        "# Map.addLayerControl() \r\n",
        "# Map"
      ],
      "execution_count": null,
      "outputs": []
    },
    {
      "cell_type": "markdown",
      "metadata": {
        "id": "eBVYsvJox2gv"
      },
      "source": [
        "# Collect dams' dataset from OpenStreetMap API and NID\r\n"
      ]
    },
    {
      "cell_type": "markdown",
      "metadata": {
        "id": "zPDZCfnHmf3E"
      },
      "source": [
        "## Importing dams locations from OpenStreetMap (Overpass API)\r\n",
        "OSM API allows the extraction of data in form of features (node, way, relation). In the following algorithm is carried out the extraction of point locations classified as dams in OSM. \r\n",
        "\r\n",
        "To create the dam's queries with the right tags: https://taginfo.openstreetmap.org/tags\r\n",
        "\r\n",
        "*Note: the extraction of each type of feature has to be done separetely, otherwise the code selects just one type and the other features are not extracted properly.*"
      ]
    },
    {
      "cell_type": "code",
      "metadata": {
        "id": "9_vPYJRpl_7r"
      },
      "source": [
        "url = 'http://overpass-api.de/api/interpreter'  # Overpass API URL\n",
        "query = f\"\"\"\n",
        "[out:json];\n",
        "area[\"ISO3166-2\"=\"US-{state}\"][admin_level=4];\n",
        "(node[\"waterway\"=\"dam\"](area);\n",
        ");\n",
        "out center;\n",
        "\"\"\"\n",
        "\n",
        "r = requests.get(url, params={'data': query})\n",
        "data = r.json()['elements']  # read response as JSON and get the data\n",
        "df = json_normalize(data).rename(columns={\"tags.name\":\"tag_name\"}) #creates a dataframe with the data extracted\n"
      ],
      "execution_count": null,
      "outputs": []
    },
    {
      "cell_type": "code",
      "metadata": {
        "id": "ybPRjXRWyFKP"
      },
      "source": [
        "url = 'http://overpass-api.de/api/interpreter'  # Overpass API URL\r\n",
        "query2 = f\"\"\"\r\n",
        "[out:json];\r\n",
        "area[\"ISO3166-2\"=\"US-{state}\"][admin_level=4];\r\n",
        "( way[\"waterway\"=\"dam\"](area);\r\n",
        ");\r\n",
        "out center;\r\n",
        "\"\"\"\r\n",
        "\r\n",
        "r2 = requests.get(url, params={'data': query2})\r\n",
        "data2 = r2.json()['elements']  # read response as JSON and get the data\r\n",
        "df2 = json_normalize(data2).rename(columns={\"center.lat\":\"lat\", \"center.lon\":\"lon\", \"tags.name\":\"tag_name\"})\r\n"
      ],
      "execution_count": null,
      "outputs": []
    },
    {
      "cell_type": "markdown",
      "metadata": {
        "id": "qiYAY7sFPQZ6"
      },
      "source": [
        "**Re-run the code below, sometimes presents error on the first run**"
      ]
    },
    {
      "cell_type": "code",
      "metadata": {
        "id": "NoHz6Dn-RJ3f"
      },
      "source": [
        "url = 'http://overpass-api.de/api/interpreter'  # Overpass API URL\r\n",
        "query3 = f\"\"\"\r\n",
        "[out:json];\r\n",
        "area[\"ISO3166-2\"=\"US-{state}\"][admin_level=4];\r\n",
        "( rel[\"waterway\"=\"dam\"](area);\r\n",
        ");\r\n",
        "out center;\r\n",
        "\"\"\"\r\n",
        "\r\n",
        "r3 = requests.get(url, params={'data': query3})\r\n",
        "data3 = r3.json()['elements']  # read response as JSON and get the data\r\n",
        "df3 = json_normalize(data3).rename(columns={\"center.lat\":\"lat\", \"center.lon\":\"lon\", \"tags.name\":\"tag_name\"})"
      ],
      "execution_count": null,
      "outputs": []
    },
    {
      "cell_type": "code",
      "metadata": {
        "id": "g5jPBMvtgcKL"
      },
      "source": [
        "#Select the columns of the dataframe\n",
        "nodes = pd.DataFrame(df, columns=['lat','lon', 'type', 'tag_name'])\n",
        "ways = pd.DataFrame(df2, columns=['lat','lon', 'type', 'tag_name'])\n",
        "relations = pd.DataFrame(df3, columns=['lat','lon', 'type', 'tag_name'])\n",
        "\n",
        "#Append the three features and add index\n",
        "OSM_dams = nodes.append(ways).append(relations)\n",
        "OSM_dams[\"id\"] = OSM_dams.index\n",
        "\n",
        "#Converting the dataframe to .csv file\n",
        "OSM_dams.to_csv(r'dam_point.csv', encoding='utf-8', index=False)\n",
        "\n",
        "#Create GeoDataframe of the OSM feature collection\n",
        "gdf_OSM = geopandas.GeoDataFrame(OSM_dams)"
      ],
      "execution_count": null,
      "outputs": []
    },
    {
      "cell_type": "markdown",
      "metadata": {
        "id": "VaN-I1LcR4T9"
      },
      "source": [
        "## Importing dams locations from National Inventory of Dams (NID) database"
      ]
    },
    {
      "cell_type": "code",
      "metadata": {
        "id": "pnzJ1-qsMnOs"
      },
      "source": [
        "lines = list()\r\n",
        "\r\n",
        "with open(f'{GDRIVE}/NID.csv', 'r') as readFile:\r\n",
        "\r\n",
        "    reader = csv.reader(readFile)\r\n",
        "\r\n",
        "    for row in reader:\r\n",
        "\r\n",
        "        for field in row:\r\n",
        "\r\n",
        "            if field == state:\r\n",
        "\r\n",
        "                lines.append(row)\r\n",
        "\r\n",
        "with open('mycsv.csv', 'w') as writeFile:\r\n",
        "\r\n",
        "    writer = csv.writer(writeFile)\r\n",
        "\r\n",
        "    writer.writerows(lines)"
      ],
      "execution_count": null,
      "outputs": []
    },
    {
      "cell_type": "code",
      "metadata": {
        "id": "b52mGvluDM9-"
      },
      "source": [
        "data_NID = pd.DataFrame(lines, columns=['RECORDID','LONGITUDE','LATITUDE',\r\n",
        "                                        'DAM_TYPE','PURPOSES','DAM_LENGTH','DAM_HEIGHT',\r\n",
        "                                        'MAX_STORAGE','SURFACE_AREA','HAZARD','STATE'])\r\n",
        "data_NID['LATITUDE']=pd.to_numeric(data_NID['LATITUDE'])\r\n",
        "data_NID['LONGITUDE']=pd.to_numeric(data_NID['LONGITUDE'])\r\n",
        "data_NID[\"id\"] = data_NID.index"
      ],
      "execution_count": null,
      "outputs": []
    },
    {
      "cell_type": "code",
      "metadata": {
        "id": "KojGJTKYEPQo"
      },
      "source": [
        "#Create GeoDataframe of the NID feature collection\r\n",
        "gdf_NID=geopandas.GeoDataFrame(data_NID)"
      ],
      "execution_count": null,
      "outputs": []
    },
    {
      "cell_type": "markdown",
      "metadata": {
        "id": "-M40ORqSFPTX"
      },
      "source": [
        "## Create earth engine objects to add to the interactive map"
      ]
    },
    {
      "cell_type": "code",
      "metadata": {
        "id": "J4E0uJbjj3I2"
      },
      "source": [
        "#To convert the dataframe to shape to then create an earth engine object and add the layer to the map\r\n",
        "\r\n",
        "gdf_OSM.set_geometry(\r\n",
        "    geopandas.points_from_xy(gdf_OSM['lon'], gdf_OSM['lat']),\r\n",
        "    inplace=True, crs='EPSG:4326')\r\n",
        "gdf_OSM.drop(['lat', 'lon'], axis=1, inplace=True)  # optional\r\n",
        "gdf_OSM.to_file('dams_OSM.shp')\r\n",
        "\r\n",
        "ee_OSM = geemap.shp_to_ee('dams_OSM.shp')"
      ],
      "execution_count": null,
      "outputs": []
    },
    {
      "cell_type": "code",
      "metadata": {
        "id": "fHFD3PEHqa_2",
        "colab": {
          "base_uri": "https://localhost:8080/"
        },
        "outputId": "c6eda932-3af8-46bb-9322-9705ca78d6e3"
      },
      "source": [
        "gdf_NID.set_geometry(\r\n",
        "    geopandas.points_from_xy(gdf_NID['LONGITUDE'], gdf_NID['LATITUDE']),\r\n",
        "    inplace=True, crs='EPSG:4326')\r\n",
        "gdf_NID.drop(['LATITUDE', 'LONGITUDE'], axis=1, inplace=True)  # optional\r\n",
        "\r\n",
        "gdf_NID[~gdf_NID.geometry.is_valid]\r\n",
        "gdf_NID = gdf_NID[gdf_NID.geometry.is_valid == True]\r\n",
        "gdf_NID.to_file('dams_NID.shp')\r\n",
        "\r\n",
        "ee_NID = geemap.shp_to_ee('dams_NID.shp')"
      ],
      "execution_count": null,
      "outputs": [
        {
          "output_type": "stream",
          "text": [
            "/usr/local/lib/python3.7/dist-packages/ipykernel_launcher.py:8: UserWarning: Column names longer than 10 characters will be truncated when saved to ESRI Shapefile.\n",
            "  \n"
          ],
          "name": "stderr"
        }
      ]
    },
    {
      "cell_type": "markdown",
      "metadata": {
        "id": "RVzUC5RFTxcs"
      },
      "source": [
        "## Create a polygon with centroid in the imported feature collection (OSM/NID)"
      ]
    },
    {
      "cell_type": "code",
      "metadata": {
        "colab": {
          "base_uri": "https://localhost:8080/",
          "height": 352
        },
        "id": "GfeTLXI-6Ky3",
        "outputId": "2d0a12fe-56c1-429e-a51c-f856c8808e3c"
      },
      "source": [
        "buffer = gdf_OSM.buffer(0.02, cap_style=3) #0.02 is the dimension in lat/long and cap_style: 1 (round), 2 (flat), 3 (square)\r\n",
        "buffer.plot()"
      ],
      "execution_count": null,
      "outputs": [
        {
          "output_type": "stream",
          "text": [
            "/usr/local/lib/python3.7/dist-packages/ipykernel_launcher.py:1: UserWarning: Geometry is in a geographic CRS. Results from 'buffer' are likely incorrect. Use 'GeoSeries.to_crs()' to re-project geometries to a projected CRS before this operation.\n",
            "\n",
            "  \"\"\"Entry point for launching an IPython kernel.\n"
          ],
          "name": "stderr"
        },
        {
          "output_type": "execute_result",
          "data": {
            "text/plain": [
              "<matplotlib.axes._subplots.AxesSubplot at 0x7fe30ebd9050>"
            ]
          },
          "metadata": {
            "tags": []
          },
          "execution_count": 67
        },
        {
          "output_type": "display_data",
          "data": {
            "image/png": "[encoded data removed]",
            "text/plain": [
              "<Figure size 432x288 with 1 Axes>"
            ]
          },
          "metadata": {
            "tags": [],
            "needs_background": "light"
          }
        }
      ]
    },
    {
      "cell_type": "code",
      "metadata": {
        "colab": {
          "base_uri": "https://localhost:8080/",
          "height": 352
        },
        "id": "xcewlX6M0jJ2",
        "outputId": "ccee5966-1318-4f2e-facb-10ac26ea9265"
      },
      "source": [
        "buffer_NID = gdf_NID.buffer(0.02, cap_style=3)\r\n",
        "buffer_NID.plot()"
      ],
      "execution_count": null,
      "outputs": [
        {
          "output_type": "stream",
          "text": [
            "/usr/local/lib/python3.7/dist-packages/ipykernel_launcher.py:1: UserWarning: Geometry is in a geographic CRS. Results from 'buffer' are likely incorrect. Use 'GeoSeries.to_crs()' to re-project geometries to a projected CRS before this operation.\n",
            "\n",
            "  \"\"\"Entry point for launching an IPython kernel.\n"
          ],
          "name": "stderr"
        },
        {
          "output_type": "execute_result",
          "data": {
            "text/plain": [
              "<matplotlib.axes._subplots.AxesSubplot at 0x7fe30ea82410>"
            ]
          },
          "metadata": {
            "tags": []
          },
          "execution_count": 68
        },
        {
          "output_type": "display_data",
          "data": {
            "image/png": "[encoded data removed]",
            "text/plain": [
              "<Figure size 432x288 with 1 Axes>"
            ]
          },
          "metadata": {
            "tags": [],
            "needs_background": "light"
          }
        }
      ]
    },
    {
      "cell_type": "code",
      "metadata": {
        "id": "gg8uM-Zy5e3w"
      },
      "source": [
        "#From Geoseries to EE object\r\n",
        "buf_OSM = geopandas.GeoDataFrame(geometry=geopandas.GeoSeries(buffer))\r\n",
        "buf_OSM.to_file('buffer_OSMdams.shp')\r\n",
        "ee_polygon_OSM = geemap.shp_to_ee('buffer_OSMdams.shp')\r\n",
        "\r\n",
        "buf_NID = geopandas.GeoDataFrame(geometry=geopandas.GeoSeries(buffer_NID))\r\n",
        "buf_NID.to_file('buffer_NIDdams.shp')\r\n",
        "ee_polygon_NID = geemap.shp_to_ee('buffer_NIDdams.shp')\r\n"
      ],
      "execution_count": null,
      "outputs": []
    },
    {
      "cell_type": "markdown",
      "metadata": {
        "id": "q4MTl44QSRF4"
      },
      "source": [
        "## Map visualization"
      ]
    },
    {
      "cell_type": "code",
      "metadata": {
        "id": "AJVRh42oxwW9"
      },
      "source": [
        "# # Displays the map\r\n",
        "# Map = geemap.Map()\r\n",
        "# Map.setCenter(-120.08, 36.86)\r\n",
        "# bounds = Map.get_bounds()\r\n",
        "\r\n",
        "# Map.addLayer(naip1, {}, \"NAIP\");\r\n",
        "\r\n",
        "# #Add points of OSM and NID feature collections\r\n",
        "# Map.addLayer(ee_OSM, {'color': 'yellow'}, 'Dams OSM')\r\n",
        "# Map.addLayer(ee_NID, {'color': 'green'}, 'Dams NID')\r\n",
        "\r\n",
        "# #Add unfiltered polygons of OSM and NID dams\r\n",
        "# Map.addLayer(ee_polygon_OSM, {'color': 'yellow', 'opacity': 0.5}, 'Polygon_dams_OSM')\r\n",
        "# Map.addLayer(ee_polygon_NID, {'color': 'lime', 'opacity': 0.5}, 'Polygon_dams_NID')\r\n",
        "\r\n",
        "# Map.addLayerControl() \r\n",
        "# Map"
      ],
      "execution_count": null,
      "outputs": []
    },
    {
      "cell_type": "markdown",
      "metadata": {
        "id": "kK2JUwe8lxii"
      },
      "source": [
        "# Refine the dam dataset \r\n",
        "\r\n",
        "Remove data that can be noisy "
      ]
    },
    {
      "cell_type": "markdown",
      "metadata": {
        "id": "uuHKt9-mm2aa"
      },
      "source": [
        "## Filtering functions"
      ]
    },
    {
      "cell_type": "code",
      "metadata": {
        "id": "gLKnizRzm7A4"
      },
      "source": [
        "def compute_water_area(f):\r\n",
        "    water2 = water.gt(30)\r\n",
        "    Waterarea = ee.Image.pixelArea().mask(water2).reduceRegion(\r\n",
        "      reducer= ee.Reducer.sum(), \r\n",
        "      geometry= f.geometry(), \r\n",
        "      scale= SCALE)\r\n",
        "  \r\n",
        "    return f.set(Waterarea)"
      ],
      "execution_count": null,
      "outputs": []
    },
    {
      "cell_type": "code",
      "metadata": {
        "id": "tEhP_x5XnRA_"
      },
      "source": [
        "#Function to verify point-in-polygon (pip)\r\n",
        "#Retrieved from: https://medium.com/analytics-vidhya/point-in-polygon-analysis-using-python-geopandas-27ea67888bff \r\n",
        "\r\n",
        "def get_pip (gdf, polygon):\r\n",
        "    id_list = list(polygon.FID)\r\n",
        "    #create empty dataframe\r\n",
        "    df = pd.DataFrame().reindex_like(gdf).dropna()\r\n",
        "    for i in id_list:\r\n",
        "        #get geometry for specific region\r\n",
        "        pol = (polygon.loc[polygon.FID==i])\r\n",
        "        pol.reset_index(drop = True, inplace = True)\r\n",
        "        #identify those records from gdf that are intersecting with the region polygon\r\n",
        "        pip_mask = gdf.within(pol.loc[0, 'geometry'])\r\n",
        "        #filter gdf to keep only the intersecting records\r\n",
        "        pip_data = gdf.loc[pip_mask].copy()\r\n",
        "        #create a new column and assign the FID as the value\r\n",
        "        pip_data['FID']= i\r\n",
        "        #append region data to empty dataframe\r\n",
        "        df = df.append(pip_data)\r\n",
        "        \r\n",
        "    #checking there are no more than one region assigned to a point  \r\n",
        "    print('Original dataframe count=',len(gdf),'\\nNew dataframe count=', len(df))\r\n",
        "    if df.loc[df.id.duplicated() == True].shape[0] > 0:\r\n",
        "        print(\"There are id's with more than one region\")\r\n",
        "\r\n",
        "    #checking all points have a region\r\n",
        "    elif gdf.loc[~gdf.id.isin(df.id)].shape[0] > 0:\r\n",
        "        print(\"There are id's without an assigned region\")\r\n",
        "    else:\r\n",
        "        print(\"No discrepancies in results!\")\r\n",
        "\r\n",
        "    df.reset_index(inplace=True)\r\n",
        "    df = df.drop(columns='geometry')\r\n",
        "    return df\r\n"
      ],
      "execution_count": null,
      "outputs": []
    },
    {
      "cell_type": "code",
      "metadata": {
        "id": "WWdHX5Fxnsce"
      },
      "source": [
        "def in_land(f):\r\n",
        "  isInland = continents.mask().reduceRegion(\r\n",
        "      reducer= ee.Reducer.allNonZero(),\r\n",
        "      geometry= f.geometry(),\r\n",
        "      scale= 30).values().get(0)\r\n",
        "\r\n",
        "  return f.set({'isInland': isInland})\r\n"
      ],
      "execution_count": null,
      "outputs": []
    },
    {
      "cell_type": "markdown",
      "metadata": {
        "id": "Hb-6sy7AnvrA"
      },
      "source": [
        "## Filter dam polygons by water area"
      ]
    },
    {
      "cell_type": "code",
      "metadata": {
        "id": "DRD8UqH-n8aM",
        "colab": {
          "base_uri": "https://localhost:8080/"
        },
        "outputId": "ed4e88dd-1347-4531-896f-959ddef6ac80"
      },
      "source": [
        "### Now we filter the squares for which area does not reach a certain threshold\r\n",
        "ee_OSM_Area = ee_polygon_OSM.map(compute_water_area)\r\n",
        "ee_NID_Area = ee_polygon_NID.map(compute_water_area)\r\n",
        "\r\n",
        "AreaThreshold = 100000\r\n",
        "ee_OSM_water_Filter = ee_OSM_Area.filter(ee.Filter.gt('area', AreaThreshold))\r\n",
        "ee_NID_water_Filter = ee_NID_Area.filter(ee.Filter.gt('area', AreaThreshold))\r\n",
        "\r\n",
        "print('All polygons OSM #{}'.format(ee_OSM_Area.size().getInfo()))\r\n",
        "print('Filtered polygons OSM by area #{}'.format(ee_OSM_water_Filter.size().getInfo()))\r\n",
        "\r\n",
        "print('All polygons NID #{}'.format(ee_NID_Area.size().getInfo()))\r\n",
        "print('Filtered polygons NID by area #{}'.format(ee_NID_water_Filter.size().getInfo()))\r\n"
      ],
      "execution_count": null,
      "outputs": [
        {
          "output_type": "stream",
          "text": [
            "All polygons OSM #2266\n",
            "Filtered polygons OSM by area #962\n",
            "All polygons NID #1573\n",
            "Filtered polygons NID by area #830\n"
          ],
          "name": "stdout"
        }
      ]
    },
    {
      "cell_type": "code",
      "metadata": {
        "id": "7oMlRRYRKZrO",
        "colab": {
          "base_uri": "https://localhost:8080/",
          "height": 685
        },
        "outputId": "c82621c7-866c-4889-ae9f-e45d99824a8c"
      },
      "source": [
        "# # Displays the map\r\n",
        "# Map = geemap.Map()\r\n",
        "# Map.setCenter(-120.08, 36.86)\r\n",
        "# bounds = Map.get_bounds()\r\n",
        "\r\n",
        "# Map.addLayer(naip1, {}, \"NAIP\");\r\n",
        "\r\n",
        "# #Add unfiltered polygons of OSM and NID dams\r\n",
        "# Map.addLayer(ee_polygon_OSM, {'color': 'red', 'opacity': 0.3}, 'Polygon_dams_OSM')\r\n",
        "# Map.addLayer(ee_polygon_NID, {'color': 'red', 'opacity': 0.3}, 'Polygon_dams_NID')\r\n",
        "\r\n",
        "# #Filtered polygons\r\n",
        "# Map.addLayer(ee_OSM_water_Filter, {'color': 'blue', 'opacity': 0.6}, 'Waterfilter_dams_OSM')\r\n",
        "# Map.addLayer(ee_NID_water_Filter, {'color': 'blue', 'opacity': 0.6}, 'Waterfilter_dams_NID')\r\n",
        "\r\n",
        "# Map.addLayer(water, { 'min': 0, 'max': 1, 'palette': ['aqua'] }, 'water')\r\n",
        "\r\n",
        "# Map.addLayerControl() \r\n",
        "# Map"
      ],
      "execution_count": null,
      "outputs": [
        {
          "output_type": "execute_result",
          "data": {
            "text/html": [
              "<div style=\"width:100%;\"><div style=\"position:relative;width:100%;height:0;padding-bottom:60%;\"><span style=\"color:#565656\">Make this Notebook Trusted to load map: File -> Trust Notebook</span><iframe src=\"about:blank\" style=\"position:absolute;width:100%;height:100%;left:0;top:0;border:none !important;\" data-html=%3C%21DOCTYPE%20html%3E%0A%3Chead%3E%20%20%20%20%0A%20%20%20%20%3Cmeta%20http-equiv%3D%22content-type%22%20content%3D%22text/html%3B%20charset%3DUTF-8%22%20/%3E%0A%20%20%20%20%0A%20%20%20%20%20%20%20%20%3Cscript%3E%0A%20%20%20%20%20%20%20%20%20%20%20%20L_NO_TOUCH%20%3D%20false%3B%0A%20%20%20%20%20%20%20%20%20%20%20%20L_DISABLE_3D%20%3D%20false%3B%0A%20%20%20%20%20%20%20%20%3C/script%3E%0A%20%20%20%20%0A%20%20%20%20%3Cstyle%3Ehtml%2C%20body%20%7Bwidth%3A%20100%25%3Bheight%3A%20100%25%3Bmargin%3A%200%3Bpadding%3A%200%3B%7D%3C/style%3E%0A%20%20%20%20%3Cstyle%3E%23map%20%7Bposition%3Aabsolute%3Btop%3A0%3Bbottom%3A0%3Bright%3A0%3Bleft%3A0%3B%7D%3C/style%3E%0A%20%20%20%20%3Cscript%20src%3D%22https%3A//cdn.jsdelivr.net/npm/leaflet%401.6.0/dist/leaflet.js%22%3E%3C/script%3E%0A%20%20%20%20%3Cscript%20src%3D%22https%3A//code.jquery.com/jquery-1.12.4.min.js%22%3E%3C/script%3E%0A%20%20%20%20%3Cscript%20src%3D%22https%3A//maxcdn.bootstrapcdn.com/bootstrap/3.2.0/js/bootstrap.min.js%22%3E%3C/script%3E%0A%20%20%20%20%3Cscript%20src%3D%22https%3A//cdnjs.cloudflare.com/ajax/libs/Leaflet.awesome-markers/2.0.2/leaflet.awesome-markers.js%22%3E%3C/script%3E%0A%20%20%20%20%3Clink%20rel%3D%22stylesheet%22%20href%3D%22https%3A//cdn.jsdelivr.net/npm/leaflet%401.6.0/dist/leaflet.css%22/%3E%0A%20%20%20%20%3Clink%20rel%3D%22stylesheet%22%20href%3D%22https%3A//maxcdn.bootstrapcdn.com/bootstrap/3.2.0/css/bootstrap.min.css%22/%3E%0A%20%20%20%20%3Clink%20rel%3D%22stylesheet%22%20href%3D%22https%3A//maxcdn.bootstrapcdn.com/bootstrap/3.2.0/css/bootstrap-theme.min.css%22/%3E%0A%20%20%20%20%3Clink%20rel%3D%22stylesheet%22%20href%3D%22https%3A//maxcdn.bootstrapcdn.com/font-awesome/4.6.3/css/font-awesome.min.css%22/%3E%0A%20%20%20%20%3Clink%20rel%3D%22stylesheet%22%20href%3D%22https%3A//cdnjs.cloudflare.com/ajax/libs/Leaflet.awesome-markers/2.0.2/leaflet.awesome-markers.css%22/%3E%0A%20%20%20%20%3Clink%20rel%3D%22stylesheet%22%20href%3D%22https%3A//cdn.jsdelivr.net/gh/python-visualization/folium/folium/templates/leaflet.awesome.rotate.min.css%22/%3E%0A%20%20%20%20%0A%20%20%20%20%20%20%20%20%20%20%20%20%3Cmeta%20name%3D%22viewport%22%20content%3D%22width%3Ddevice-width%2C%0A%20%20%20%20%20%20%20%20%20%20%20%20%20%20%20%20initial-scale%3D1.0%2C%20maximum-scale%3D1.0%2C%20user-scalable%3Dno%22%20/%3E%0A%20%20%20%20%20%20%20%20%20%20%20%20%3Cstyle%3E%0A%20%20%20%20%20%20%20%20%20%20%20%20%20%20%20%20%23map_e17e634789984599a45efbfbc7766a4d%20%7B%0A%20%20%20%20%20%20%20%20%20%20%20%20%20%20%20%20%20%20%20%20position%3A%20relative%3B%0A%20%20%20%20%20%20%20%20%20%20%20%20%20%20%20%20%20%20%20%20width%3A%20100.0%25%3B%0A%20%20%20%20%20%20%20%20%20%20%20%20%20%20%20%20%20%20%20%20height%3A%20100.0%25%3B%0A%20%20%20%20%20%20%20%20%20%20%20%20%20%20%20%20%20%20%20%20left%3A%200.0%25%3B%0A%20%20%20%20%20%20%20%20%20%20%20%20%20%20%20%20%20%20%20%20top%3A%200.0%25%3B%0A%20%20%20%20%20%20%20%20%20%20%20%20%20%20%20%20%7D%0A%20%20%20%20%20%20%20%20%20%20%20%20%3C/style%3E%0A%20%20%20%20%20%20%20%20%0A%20%20%20%20%3Cscript%20src%3D%22https%3A//cdnjs.cloudflare.com/ajax/libs/leaflet.fullscreen/1.4.2/Control.FullScreen.min.js%22%3E%3C/script%3E%0A%20%20%20%20%3Clink%20rel%3D%22stylesheet%22%20href%3D%22https%3A//cdnjs.cloudflare.com/ajax/libs/leaflet.fullscreen/1.4.2/Control.FullScreen.min.css%22/%3E%0A%3C/head%3E%0A%3Cbody%3E%20%20%20%20%0A%20%20%20%20%0A%20%20%20%20%20%20%20%20%20%20%20%20%3Cdiv%20class%3D%22folium-map%22%20id%3D%22map_e17e634789984599a45efbfbc7766a4d%22%20%3E%3C/div%3E%0A%20%20%20%20%20%20%20%20%0A%3C/body%3E%0A%3Cscript%3E%20%20%20%20%0A%20%20%20%20%0A%20%20%20%20%20%20%20%20%20%20%20%20var%20map_e17e634789984599a45efbfbc7766a4d%20%3D%20L.map%28%0A%20%20%20%20%20%20%20%20%20%20%20%20%20%20%20%20%22map_e17e634789984599a45efbfbc7766a4d%22%2C%0A%20%20%20%20%20%20%20%20%20%20%20%20%20%20%20%20%7B%0A%20%20%20%20%20%20%20%20%20%20%20%20%20%20%20%20%20%20%20%20center%3A%20%5B40.0%2C%20-100.0%5D%2C%0A%20%20%20%20%20%20%20%20%20%20%20%20%20%20%20%20%20%20%20%20crs%3A%20L.CRS.EPSG3857%2C%0A%20%20%20%20%20%20%20%20%20%20%20%20%20%20%20%20%20%20%20%20zoom%3A%204%2C%0A%20%20%20%20%20%20%20%20%20%20%20%20%20%20%20%20%20%20%20%20zoomControl%3A%20true%2C%0A%20%20%20%20%20%20%20%20%20%20%20%20%20%20%20%20%20%20%20%20preferCanvas%3A%20false%2C%0A%20%20%20%20%20%20%20%20%20%20%20%20%20%20%20%20%20%20%20%20eeInitialize%3A%20true%2C%0A%20%20%20%20%20%20%20%20%20%20%20%20%20%20%20%20%20%20%20%20addGoogleMap%3A%20true%2C%0A%20%20%20%20%20%20%20%20%20%20%20%20%20%20%20%20%20%20%20%20pluginLatlngpopup%3A%20true%2C%0A%20%20%20%20%20%20%20%20%20%20%20%20%20%20%20%20%20%20%20%20pluginFullscreen%3A%20true%2C%0A%20%20%20%20%20%20%20%20%20%20%20%20%20%20%20%20%20%20%20%20pluginDraw%3A%20false%2C%0A%20%20%20%20%20%20%20%20%20%20%20%20%20%20%20%20%20%20%20%20DrawExport%3A%20true%2C%0A%20%20%20%20%20%20%20%20%20%20%20%20%20%20%20%20%20%20%20%20pluginMinimap%3A%20false%2C%0A%20%20%20%20%20%20%20%20%20%20%20%20%20%20%20%20%20%20%20%20pluginLayercontrol%3A%20false%2C%0A%20%20%20%20%20%20%20%20%20%20%20%20%20%20%20%20%7D%0A%20%20%20%20%20%20%20%20%20%20%20%20%29%3B%0A%0A%20%20%20%20%20%20%20%20%20%20%20%20%0A%0A%20%20%20%20%20%20%20%20%0A%20%20%20%20%0A%20%20%20%20%20%20%20%20%20%20%20%20var%20tile_layer_c2bdf14b69f149f3bccee32464431369%20%3D%20L.tileLayer%28%0A%20%20%20%20%20%20%20%20%20%20%20%20%20%20%20%20%22https%3A//%7Bs%7D.tile.openstreetmap.org/%7Bz%7D/%7Bx%7D/%7By%7D.png%22%2C%0A%20%20%20%20%20%20%20%20%20%20%20%20%20%20%20%20%7B%22attribution%22%3A%20%22Data%20by%20%5Cu0026copy%3B%20%5Cu003ca%20href%3D%5C%22http%3A//openstreetmap.org%5C%22%5Cu003eOpenStreetMap%5Cu003c/a%5Cu003e%2C%20under%20%5Cu003ca%20href%3D%5C%22http%3A//www.openstreetmap.org/copyright%5C%22%5Cu003eODbL%5Cu003c/a%5Cu003e.%22%2C%20%22detectRetina%22%3A%20false%2C%20%22maxNativeZoom%22%3A%2018%2C%20%22maxZoom%22%3A%2018%2C%20%22minZoom%22%3A%200%2C%20%22noWrap%22%3A%20false%2C%20%22opacity%22%3A%201%2C%20%22subdomains%22%3A%20%22abc%22%2C%20%22tms%22%3A%20false%7D%0A%20%20%20%20%20%20%20%20%20%20%20%20%29.addTo%28map_e17e634789984599a45efbfbc7766a4d%29%3B%0A%20%20%20%20%20%20%20%20%0A%20%20%20%20%0A%20%20%20%20%20%20%20%20%20%20%20%20var%20tile_layer_b59aa99ff80842daa3e273ed5758c8f6%20%3D%20L.tileLayer%28%0A%20%20%20%20%20%20%20%20%20%20%20%20%20%20%20%20%22https%3A//mt1.google.com/vt/lyrs%3Dm%5Cu0026x%3D%7Bx%7D%5Cu0026y%3D%7By%7D%5Cu0026z%3D%7Bz%7D%22%2C%0A%20%20%20%20%20%20%20%20%20%20%20%20%20%20%20%20%7B%22attribution%22%3A%20%22Google%22%2C%20%22detectRetina%22%3A%20false%2C%20%22maxNativeZoom%22%3A%2018%2C%20%22maxZoom%22%3A%2018%2C%20%22minZoom%22%3A%200%2C%20%22noWrap%22%3A%20false%2C%20%22opacity%22%3A%201%2C%20%22subdomains%22%3A%20%22abc%22%2C%20%22tms%22%3A%20false%7D%0A%20%20%20%20%20%20%20%20%20%20%20%20%29.addTo%28map_e17e634789984599a45efbfbc7766a4d%29%3B%0A%20%20%20%20%20%20%20%20%0A%20%20%20%20%0A%20%20%20%20%20%20%20%20%20%20%20%20%20%20%20%20var%20lat_lng_popup_e2f85361a8844caeb70bb811778103e4%20%3D%20L.popup%28%29%3B%0A%20%20%20%20%20%20%20%20%20%20%20%20%20%20%20%20function%20latLngPop%28e%29%20%7B%0A%20%20%20%20%20%20%20%20%20%20%20%20%20%20%20%20%20%20%20%20lat_lng_popup_e2f85361a8844caeb70bb811778103e4%0A%20%20%20%20%20%20%20%20%20%20%20%20%20%20%20%20%20%20%20%20%20%20%20%20.setLatLng%28e.latlng%29%0A%20%20%20%20%20%20%20%20%20%20%20%20%20%20%20%20%20%20%20%20%20%20%20%20.setContent%28%22Latitude%3A%20%22%20%2B%20e.latlng.lat.toFixed%284%29%20%2B%0A%20%20%20%20%20%20%20%20%20%20%20%20%20%20%20%20%20%20%20%20%20%20%20%20%20%20%20%20%20%20%20%20%20%20%20%20%22%3Cbr%3ELongitude%3A%20%22%20%2B%20e.latlng.lng.toFixed%284%29%29%0A%20%20%20%20%20%20%20%20%20%20%20%20%20%20%20%20%20%20%20%20%20%20%20%20.openOn%28map_e17e634789984599a45efbfbc7766a4d%29%3B%0A%20%20%20%20%20%20%20%20%20%20%20%20%20%20%20%20%20%20%20%20%7D%0A%20%20%20%20%20%20%20%20%20%20%20%20%20%20%20%20map_e17e634789984599a45efbfbc7766a4d.on%28%27click%27%2C%20latLngPop%29%3B%0A%20%20%20%20%20%20%20%20%20%20%20%20%0A%20%20%20%20%0A%20%20%20%20%20%20%20%20%20%20%20%20L.control.fullscreen%28%0A%20%20%20%20%20%20%20%20%20%20%20%20%20%20%20%20%7B%22forceSeparateButton%22%3A%20false%2C%20%22position%22%3A%20%22topleft%22%2C%20%22title%22%3A%20%22Full%20Screen%22%2C%20%22titleCancel%22%3A%20%22Exit%20Full%20Screen%22%7D%0A%20%20%20%20%20%20%20%20%20%20%20%20%29.addTo%28map_e17e634789984599a45efbfbc7766a4d%29%3B%0A%20%20%20%20%20%20%20%20%0A%20%20%20%20%0A%20%20%20%20%20%20%20%20%20%20%20%20map_e17e634789984599a45efbfbc7766a4d.fitBounds%28%0A%20%20%20%20%20%20%20%20%20%20%20%20%20%20%20%20%5B%5B40%2C%20-100%5D%2C%20%5B40%2C%20-100%5D%5D%2C%0A%20%20%20%20%20%20%20%20%20%20%20%20%20%20%20%20%7B%22maxZoom%22%3A%204%7D%0A%20%20%20%20%20%20%20%20%20%20%20%20%29%3B%0A%20%20%20%20%20%20%20%20%0A%20%20%20%20%0A%20%20%20%20%20%20%20%20%20%20%20%20map_e17e634789984599a45efbfbc7766a4d.fitBounds%28%0A%20%20%20%20%20%20%20%20%20%20%20%20%20%20%20%20%5B%5B36.86%2C%20-120.08%5D%2C%20%5B36.86%2C%20-120.08%5D%5D%2C%0A%20%20%20%20%20%20%20%20%20%20%20%20%20%20%20%20%7B%22maxZoom%22%3A%2010%7D%0A%20%20%20%20%20%20%20%20%20%20%20%20%29%3B%0A%20%20%20%20%20%20%20%20%0A%20%20%20%20%0A%20%20%20%20%20%20%20%20%20%20%20%20var%20tile_layer_2700bf9d08fa4e539b7be9d967ed3e33%20%3D%20L.tileLayer%28%0A%20%20%20%20%20%20%20%20%20%20%20%20%20%20%20%20%22https%3A//earthengine.googleapis.com/v1alpha/projects/earthengine-legacy/maps/e881822955b1472f72a0a1381bee3771-873653de9ca05d11d42b55fead74fc0e/tiles/%7Bz%7D/%7Bx%7D/%7By%7D%22%2C%0A%20%20%20%20%20%20%20%20%20%20%20%20%20%20%20%20%7B%22attribution%22%3A%20%22Google%20Earth%20Engine%22%2C%20%22detectRetina%22%3A%20false%2C%20%22maxNativeZoom%22%3A%2018%2C%20%22maxZoom%22%3A%2018%2C%20%22minZoom%22%3A%200%2C%20%22noWrap%22%3A%20false%2C%20%22opacity%22%3A%201.0%2C%20%22subdomains%22%3A%20%22abc%22%2C%20%22tms%22%3A%20false%7D%0A%20%20%20%20%20%20%20%20%20%20%20%20%29.addTo%28map_e17e634789984599a45efbfbc7766a4d%29%3B%0A%20%20%20%20%20%20%20%20%0A%20%20%20%20%0A%20%20%20%20%20%20%20%20%20%20%20%20var%20tile_layer_81d0ab27732a413baa1b20054145c532%20%3D%20L.tileLayer%28%0A%20%20%20%20%20%20%20%20%20%20%20%20%20%20%20%20%22https%3A//earthengine.googleapis.com/v1alpha/projects/earthengine-legacy/maps/48aed75693f5242e60c47cbb07c85bb9-99f310777d253ff2cc1346f99750f1cb/tiles/%7Bz%7D/%7Bx%7D/%7By%7D%22%2C%0A%20%20%20%20%20%20%20%20%20%20%20%20%20%20%20%20%7B%22attribution%22%3A%20%22Google%20Earth%20Engine%22%2C%20%22detectRetina%22%3A%20false%2C%20%22maxNativeZoom%22%3A%2018%2C%20%22maxZoom%22%3A%2018%2C%20%22minZoom%22%3A%200%2C%20%22noWrap%22%3A%20false%2C%20%22opacity%22%3A%201.0%2C%20%22subdomains%22%3A%20%22abc%22%2C%20%22tms%22%3A%20false%7D%0A%20%20%20%20%20%20%20%20%20%20%20%20%29.addTo%28map_e17e634789984599a45efbfbc7766a4d%29%3B%0A%20%20%20%20%20%20%20%20%0A%20%20%20%20%0A%20%20%20%20%20%20%20%20%20%20%20%20var%20tile_layer_3b5610939db14429a17aeea92c0c043c%20%3D%20L.tileLayer%28%0A%20%20%20%20%20%20%20%20%20%20%20%20%20%20%20%20%22https%3A//earthengine.googleapis.com/v1alpha/projects/earthengine-legacy/maps/d845f265bd252ccc01e4e035b5ef79ca-eea55ea47e04f9c2666a2e90ae45d8d0/tiles/%7Bz%7D/%7Bx%7D/%7By%7D%22%2C%0A%20%20%20%20%20%20%20%20%20%20%20%20%20%20%20%20%7B%22attribution%22%3A%20%22Google%20Earth%20Engine%22%2C%20%22detectRetina%22%3A%20false%2C%20%22maxNativeZoom%22%3A%2018%2C%20%22maxZoom%22%3A%2018%2C%20%22minZoom%22%3A%200%2C%20%22noWrap%22%3A%20false%2C%20%22opacity%22%3A%201.0%2C%20%22subdomains%22%3A%20%22abc%22%2C%20%22tms%22%3A%20false%7D%0A%20%20%20%20%20%20%20%20%20%20%20%20%29.addTo%28map_e17e634789984599a45efbfbc7766a4d%29%3B%0A%20%20%20%20%20%20%20%20%0A%20%20%20%20%0A%20%20%20%20%20%20%20%20%20%20%20%20var%20tile_layer_e139d79761264c339017b0d9ec7401bc%20%3D%20L.tileLayer%28%0A%20%20%20%20%20%20%20%20%20%20%20%20%20%20%20%20%22https%3A//earthengine.googleapis.com/v1alpha/projects/earthengine-legacy/maps/f84b6a307c5761684b4e665898c2f95f-1879e2b0743e0d8abbe27d3f04edc0f2/tiles/%7Bz%7D/%7Bx%7D/%7By%7D%22%2C%0A%20%20%20%20%20%20%20%20%20%20%20%20%20%20%20%20%7B%22attribution%22%3A%20%22Google%20Earth%20Engine%22%2C%20%22detectRetina%22%3A%20false%2C%20%22maxNativeZoom%22%3A%2018%2C%20%22maxZoom%22%3A%2018%2C%20%22minZoom%22%3A%200%2C%20%22noWrap%22%3A%20false%2C%20%22opacity%22%3A%201.0%2C%20%22subdomains%22%3A%20%22abc%22%2C%20%22tms%22%3A%20false%7D%0A%20%20%20%20%20%20%20%20%20%20%20%20%29.addTo%28map_e17e634789984599a45efbfbc7766a4d%29%3B%0A%20%20%20%20%20%20%20%20%0A%20%20%20%20%0A%20%20%20%20%20%20%20%20%20%20%20%20var%20tile_layer_ff54248bbd7841b183eb141f2478b1a2%20%3D%20L.tileLayer%28%0A%20%20%20%20%20%20%20%20%20%20%20%20%20%20%20%20%22https%3A//earthengine.googleapis.com/v1alpha/projects/earthengine-legacy/maps/b7b46fcc1b93884fa61f0a256c08fea5-f9bad2c94e5316036fdbc8b455462653/tiles/%7Bz%7D/%7Bx%7D/%7By%7D%22%2C%0A%20%20%20%20%20%20%20%20%20%20%20%20%20%20%20%20%7B%22attribution%22%3A%20%22Google%20Earth%20Engine%22%2C%20%22detectRetina%22%3A%20false%2C%20%22maxNativeZoom%22%3A%2018%2C%20%22maxZoom%22%3A%2018%2C%20%22minZoom%22%3A%200%2C%20%22noWrap%22%3A%20false%2C%20%22opacity%22%3A%201.0%2C%20%22subdomains%22%3A%20%22abc%22%2C%20%22tms%22%3A%20false%7D%0A%20%20%20%20%20%20%20%20%20%20%20%20%29.addTo%28map_e17e634789984599a45efbfbc7766a4d%29%3B%0A%20%20%20%20%20%20%20%20%0A%20%20%20%20%0A%20%20%20%20%20%20%20%20%20%20%20%20var%20tile_layer_4265a48c85c04181a3dcae7a2a9a1d3f%20%3D%20L.tileLayer%28%0A%20%20%20%20%20%20%20%20%20%20%20%20%20%20%20%20%22https%3A//earthengine.googleapis.com/v1alpha/projects/earthengine-legacy/maps/ce7bb9217db33e5eafd4d5289287e28e-d5fe53962bdf16b117f96013505b9e7d/tiles/%7Bz%7D/%7Bx%7D/%7By%7D%22%2C%0A%20%20%20%20%20%20%20%20%20%20%20%20%20%20%20%20%7B%22attribution%22%3A%20%22Google%20Earth%20Engine%22%2C%20%22detectRetina%22%3A%20false%2C%20%22maxNativeZoom%22%3A%2018%2C%20%22maxZoom%22%3A%2018%2C%20%22minZoom%22%3A%200%2C%20%22noWrap%22%3A%20false%2C%20%22opacity%22%3A%201.0%2C%20%22subdomains%22%3A%20%22abc%22%2C%20%22tms%22%3A%20false%7D%0A%20%20%20%20%20%20%20%20%20%20%20%20%29.addTo%28map_e17e634789984599a45efbfbc7766a4d%29%3B%0A%20%20%20%20%20%20%20%20%0A%20%20%20%20%0A%20%20%20%20%20%20%20%20%20%20%20%20var%20layer_control_856d4a3f29d74e96aa9a3b868b12e1d4%20%3D%20%7B%0A%20%20%20%20%20%20%20%20%20%20%20%20%20%20%20%20base_layers%20%3A%20%7B%0A%20%20%20%20%20%20%20%20%20%20%20%20%20%20%20%20%20%20%20%20%22openstreetmap%22%20%3A%20tile_layer_c2bdf14b69f149f3bccee32464431369%2C%0A%20%20%20%20%20%20%20%20%20%20%20%20%20%20%20%20%7D%2C%0A%20%20%20%20%20%20%20%20%20%20%20%20%20%20%20%20overlays%20%3A%20%20%7B%0A%20%20%20%20%20%20%20%20%20%20%20%20%20%20%20%20%20%20%20%20%22Google%20Maps%22%20%3A%20tile_layer_b59aa99ff80842daa3e273ed5758c8f6%2C%0A%20%20%20%20%20%20%20%20%20%20%20%20%20%20%20%20%20%20%20%20%22NAIP%22%20%3A%20tile_layer_2700bf9d08fa4e539b7be9d967ed3e33%2C%0A%20%20%20%20%20%20%20%20%20%20%20%20%20%20%20%20%20%20%20%20%22Polygon_dams_OSM%22%20%3A%20tile_layer_81d0ab27732a413baa1b20054145c532%2C%0A%20%20%20%20%20%20%20%20%20%20%20%20%20%20%20%20%20%20%20%20%22Polygon_dams_NID%22%20%3A%20tile_layer_3b5610939db14429a17aeea92c0c043c%2C%0A%20%20%20%20%20%20%20%20%20%20%20%20%20%20%20%20%20%20%20%20%22Waterfilter_dams_OSM%22%20%3A%20tile_layer_e139d79761264c339017b0d9ec7401bc%2C%0A%20%20%20%20%20%20%20%20%20%20%20%20%20%20%20%20%20%20%20%20%22Waterfilter_dams_NID%22%20%3A%20tile_layer_ff54248bbd7841b183eb141f2478b1a2%2C%0A%20%20%20%20%20%20%20%20%20%20%20%20%20%20%20%20%20%20%20%20%22water%22%20%3A%20tile_layer_4265a48c85c04181a3dcae7a2a9a1d3f%2C%0A%20%20%20%20%20%20%20%20%20%20%20%20%20%20%20%20%7D%2C%0A%20%20%20%20%20%20%20%20%20%20%20%20%7D%3B%0A%20%20%20%20%20%20%20%20%20%20%20%20L.control.layers%28%0A%20%20%20%20%20%20%20%20%20%20%20%20%20%20%20%20layer_control_856d4a3f29d74e96aa9a3b868b12e1d4.base_layers%2C%0A%20%20%20%20%20%20%20%20%20%20%20%20%20%20%20%20layer_control_856d4a3f29d74e96aa9a3b868b12e1d4.overlays%2C%0A%20%20%20%20%20%20%20%20%20%20%20%20%20%20%20%20%7B%22autoZIndex%22%3A%20true%2C%20%22collapsed%22%3A%20true%2C%20%22position%22%3A%20%22topright%22%7D%0A%20%20%20%20%20%20%20%20%20%20%20%20%29.addTo%28map_e17e634789984599a45efbfbc7766a4d%29%3B%0A%20%20%20%20%20%20%20%20%0A%3C/script%3E onload=\"this.contentDocument.open();this.contentDocument.write(    decodeURIComponent(this.getAttribute('data-html')));this.contentDocument.close();\" allowfullscreen webkitallowfullscreen mozallowfullscreen></iframe></div></div>"
            ],
            "text/plain": [
              "<geemap.eefolium.Map at 0x7f4b8ba3a110>"
            ]
          },
          "metadata": {
            "tags": []
          },
          "execution_count": 38
        }
      ]
    },
    {
      "cell_type": "markdown",
      "metadata": {
        "id": "lZhwwjVyZqEx"
      },
      "source": [
        "## Verify at least one point from each feature collection (OSM/NID) within the polygon"
      ]
    },
    {
      "cell_type": "code",
      "metadata": {
        "id": "dTAoWiAhKgNQ"
      },
      "source": [
        "#Convert GEE feature to Geodataframe\r\n",
        "poly_OSM = geopandas.GeoDataFrame.from_features(ee_OSM_water_Filter.getInfo())\r\n",
        "poly_NID = geopandas.GeoDataFrame.from_features(ee_NID_water_Filter.getInfo())\r\n"
      ],
      "execution_count": null,
      "outputs": []
    },
    {
      "cell_type": "code",
      "metadata": {
        "id": "mbTSf3zc3v3i"
      },
      "source": [
        "poly_OSM.drop(columns='area', inplace=True)\r\n",
        "poly_NID.drop(columns='area', inplace=True)"
      ],
      "execution_count": null,
      "outputs": []
    },
    {
      "cell_type": "code",
      "metadata": {
        "id": "ZJxO2KEZx4sj"
      },
      "source": [
        "points_OSM = geopandas.GeoDataFrame(geometry=geopandas.GeoSeries(poly_OSM.centroid))\r\n",
        "points_NID = geopandas.GeoDataFrame(geometry=geopandas.GeoSeries(poly_NID.centroid))\r\n",
        "points_OSM['id'] = points_OSM.index\r\n",
        "points_NID['id'] = points_NID.index\r\n",
        "points_OSM['num'] = points_OSM.index+7800\r\n",
        "points_NID['num'] = points_NID.index+6500"
      ],
      "execution_count": null,
      "outputs": []
    },
    {
      "cell_type": "code",
      "metadata": {
        "id": "HZGH3vkuEfHd",
        "colab": {
          "base_uri": "https://localhost:8080/"
        },
        "outputId": "f1fecefe-f08a-4192-f366-fe04b5e564c7"
      },
      "source": [
        "# Points of OSM in squares of NID\r\n",
        "pip_filter1 = get_pip(points_OSM, poly_NID)\r\n",
        "\r\n",
        "# Points of NID in squares of OSM\r\n",
        "pip_filter2 = get_pip(points_NID, poly_OSM)"
      ],
      "execution_count": null,
      "outputs": [
        {
          "output_type": "stream",
          "text": [
            "Original dataframe count= 962 \n",
            "New dataframe count= 1420\n",
            "There are id's with more than one region\n",
            "Original dataframe count= 830 \n",
            "New dataframe count= 1420\n",
            "There are id's with more than one region\n"
          ],
          "name": "stdout"
        }
      ]
    },
    {
      "cell_type": "code",
      "metadata": {
        "id": "Q41iZqSaJC5u"
      },
      "source": [
        "filtered_NID = pip_filter1.drop_duplicates('FID').drop_duplicates('id').merge(poly_NID, how='inner', on='FID')\r\n"
      ],
      "execution_count": null,
      "outputs": []
    },
    {
      "cell_type": "code",
      "metadata": {
        "id": "urD6tDJkJQBf"
      },
      "source": [
        "filtered_OSM = pip_filter2.drop_duplicates('FID').drop_duplicates('id').merge(poly_OSM, how='left', on='FID')"
      ],
      "execution_count": null,
      "outputs": []
    },
    {
      "cell_type": "code",
      "metadata": {
        "id": "92X0BYKdT5db",
        "colab": {
          "base_uri": "https://localhost:8080/"
        },
        "outputId": "f18c063f-04ed-42e9-c224-29228844a29a"
      },
      "source": [
        "#From geodataframe to GEE features\r\n",
        "gdf_filtered_NID = geopandas.GeoDataFrame(filtered_NID)\r\n",
        "gdf_filtered_OSM = geopandas.GeoDataFrame(filtered_OSM)\r\n",
        "gdf_filtered_NID.to_file('filter_NID.shp')\r\n",
        "gdf_filtered_OSM.to_file('filter_OSM.shp')\r\n",
        "ee_filtered_NID = geemap.shp_to_ee('filter_NID.shp')\r\n",
        "ee_filtered_OSM = geemap.shp_to_ee('filter_OSM.shp')\r\n"
      ],
      "execution_count": null,
      "outputs": [
        {
          "output_type": "stream",
          "text": [
            "/usr/local/lib/python3.7/dist-packages/geemap/common.py:6659: UserWarning: The projection file /content/filter_NID.prj could not be found. Assuming the dataset is in a geographic coordinate system (GCS).\n",
            "  f\"The projection file {in_prj} could not be found. Assuming the dataset is in a geographic coordinate system (GCS).\"\n",
            "/usr/local/lib/python3.7/dist-packages/geemap/common.py:6659: UserWarning: The projection file /content/filter_OSM.prj could not be found. Assuming the dataset is in a geographic coordinate system (GCS).\n",
            "  f\"The projection file {in_prj} could not be found. Assuming the dataset is in a geographic coordinate system (GCS).\"\n"
          ],
          "name": "stderr"
        }
      ]
    },
    {
      "cell_type": "code",
      "metadata": {
        "id": "MTuAtoTEMGxP",
        "colab": {
          "base_uri": "https://localhost:8080/",
          "height": 685
        },
        "outputId": "05d8755b-b65d-4071-aba2-1cd4521a0150"
      },
      "source": [
        "# # Displays the map\r\n",
        "# Map = geemap.Map()\r\n",
        "# Map.setCenter(-120.08, 36.86)\r\n",
        "# bounds = Map.get_bounds()\r\n",
        "\r\n",
        "# Map.addLayer(naip1, {}, \"NAIP\");\r\n",
        "\r\n",
        "# #Filtered polygons\r\n",
        "# Map.addLayer(ee_OSM_water_Filter, {'color': 'red', 'opacity': 0.3}, 'Waterfilter_dams_OSM')\r\n",
        "# Map.addLayer(ee_NID_water_Filter, {'color': 'red', 'opacity': 0.3}, 'Waterfilter_dams_NID')\r\n",
        "\r\n",
        "# #2nd filter\r\n",
        "# Map.addLayer(ee_filtered_OSM, {'color': 'blue', 'opacity': 0.6}, 'Filter2_dams_OSM')\r\n",
        "# Map.addLayer(ee_filtered_NID, {'color': 'blue', 'opacity': 0.6}, 'Filter2_dams_NID')\r\n",
        "\r\n",
        "# Map.addLayer(water, { 'min': 0, 'max': 1, 'palette': ['aqua'] }, 'water')\r\n",
        "\r\n",
        "# Map.addLayerControl() \r\n",
        "# Map"
      ],
      "execution_count": null,
      "outputs": [
        {
          "output_type": "execute_result",
          "data": {
            "text/html": [
              "<div style=\"width:100%;\"><div style=\"position:relative;width:100%;height:0;padding-bottom:60%;\"><span style=\"color:#565656\">Make this Notebook Trusted to load map: File -> Trust Notebook</span><iframe src=\"about:blank\" style=\"position:absolute;width:100%;height:100%;left:0;top:0;border:none !important;\" data-html=%3C%21DOCTYPE%20html%3E%0A%3Chead%3E%20%20%20%20%0A%20%20%20%20%3Cmeta%20http-equiv%3D%22content-type%22%20content%3D%22text/html%3B%20charset%3DUTF-8%22%20/%3E%0A%20%20%20%20%0A%20%20%20%20%20%20%20%20%3Cscript%3E%0A%20%20%20%20%20%20%20%20%20%20%20%20L_NO_TOUCH%20%3D%20false%3B%0A%20%20%20%20%20%20%20%20%20%20%20%20L_DISABLE_3D%20%3D%20false%3B%0A%20%20%20%20%20%20%20%20%3C/script%3E%0A%20%20%20%20%0A%20%20%20%20%3Cstyle%3Ehtml%2C%20body%20%7Bwidth%3A%20100%25%3Bheight%3A%20100%25%3Bmargin%3A%200%3Bpadding%3A%200%3B%7D%3C/style%3E%0A%20%20%20%20%3Cstyle%3E%23map%20%7Bposition%3Aabsolute%3Btop%3A0%3Bbottom%3A0%3Bright%3A0%3Bleft%3A0%3B%7D%3C/style%3E%0A%20%20%20%20%3Cscript%20src%3D%22https%3A//cdn.jsdelivr.net/npm/leaflet%401.6.0/dist/leaflet.js%22%3E%3C/script%3E%0A%20%20%20%20%3Cscript%20src%3D%22https%3A//code.jquery.com/jquery-1.12.4.min.js%22%3E%3C/script%3E%0A%20%20%20%20%3Cscript%20src%3D%22https%3A//maxcdn.bootstrapcdn.com/bootstrap/3.2.0/js/bootstrap.min.js%22%3E%3C/script%3E%0A%20%20%20%20%3Cscript%20src%3D%22https%3A//cdnjs.cloudflare.com/ajax/libs/Leaflet.awesome-markers/2.0.2/leaflet.awesome-markers.js%22%3E%3C/script%3E%0A%20%20%20%20%3Clink%20rel%3D%22stylesheet%22%20href%3D%22https%3A//cdn.jsdelivr.net/npm/leaflet%401.6.0/dist/leaflet.css%22/%3E%0A%20%20%20%20%3Clink%20rel%3D%22stylesheet%22%20href%3D%22https%3A//maxcdn.bootstrapcdn.com/bootstrap/3.2.0/css/bootstrap.min.css%22/%3E%0A%20%20%20%20%3Clink%20rel%3D%22stylesheet%22%20href%3D%22https%3A//maxcdn.bootstrapcdn.com/bootstrap/3.2.0/css/bootstrap-theme.min.css%22/%3E%0A%20%20%20%20%3Clink%20rel%3D%22stylesheet%22%20href%3D%22https%3A//maxcdn.bootstrapcdn.com/font-awesome/4.6.3/css/font-awesome.min.css%22/%3E%0A%20%20%20%20%3Clink%20rel%3D%22stylesheet%22%20href%3D%22https%3A//cdnjs.cloudflare.com/ajax/libs/Leaflet.awesome-markers/2.0.2/leaflet.awesome-markers.css%22/%3E%0A%20%20%20%20%3Clink%20rel%3D%22stylesheet%22%20href%3D%22https%3A//cdn.jsdelivr.net/gh/python-visualization/folium/folium/templates/leaflet.awesome.rotate.min.css%22/%3E%0A%20%20%20%20%0A%20%20%20%20%20%20%20%20%20%20%20%20%3Cmeta%20name%3D%22viewport%22%20content%3D%22width%3Ddevice-width%2C%0A%20%20%20%20%20%20%20%20%20%20%20%20%20%20%20%20initial-scale%3D1.0%2C%20maximum-scale%3D1.0%2C%20user-scalable%3Dno%22%20/%3E%0A%20%20%20%20%20%20%20%20%20%20%20%20%3Cstyle%3E%0A%20%20%20%20%20%20%20%20%20%20%20%20%20%20%20%20%23map_85694a6607b848ce92bd1f3334300001%20%7B%0A%20%20%20%20%20%20%20%20%20%20%20%20%20%20%20%20%20%20%20%20position%3A%20relative%3B%0A%20%20%20%20%20%20%20%20%20%20%20%20%20%20%20%20%20%20%20%20width%3A%20100.0%25%3B%0A%20%20%20%20%20%20%20%20%20%20%20%20%20%20%20%20%20%20%20%20height%3A%20100.0%25%3B%0A%20%20%20%20%20%20%20%20%20%20%20%20%20%20%20%20%20%20%20%20left%3A%200.0%25%3B%0A%20%20%20%20%20%20%20%20%20%20%20%20%20%20%20%20%20%20%20%20top%3A%200.0%25%3B%0A%20%20%20%20%20%20%20%20%20%20%20%20%20%20%20%20%7D%0A%20%20%20%20%20%20%20%20%20%20%20%20%3C/style%3E%0A%20%20%20%20%20%20%20%20%0A%20%20%20%20%3Cscript%20src%3D%22https%3A//cdnjs.cloudflare.com/ajax/libs/leaflet.fullscreen/1.4.2/Control.FullScreen.min.js%22%3E%3C/script%3E%0A%20%20%20%20%3Clink%20rel%3D%22stylesheet%22%20href%3D%22https%3A//cdnjs.cloudflare.com/ajax/libs/leaflet.fullscreen/1.4.2/Control.FullScreen.min.css%22/%3E%0A%3C/head%3E%0A%3Cbody%3E%20%20%20%20%0A%20%20%20%20%0A%20%20%20%20%20%20%20%20%20%20%20%20%3Cdiv%20class%3D%22folium-map%22%20id%3D%22map_85694a6607b848ce92bd1f3334300001%22%20%3E%3C/div%3E%0A%20%20%20%20%20%20%20%20%0A%3C/body%3E%0A%3Cscript%3E%20%20%20%20%0A%20%20%20%20%0A%20%20%20%20%20%20%20%20%20%20%20%20var%20map_85694a6607b848ce92bd1f3334300001%20%3D%20L.map%28%0A%20%20%20%20%20%20%20%20%20%20%20%20%20%20%20%20%22map_85694a6607b848ce92bd1f3334300001%22%2C%0A%20%20%20%20%20%20%20%20%20%20%20%20%20%20%20%20%7B%0A%20%20%20%20%20%20%20%20%20%20%20%20%20%20%20%20%20%20%20%20center%3A%20%5B40.0%2C%20-100.0%5D%2C%0A%20%20%20%20%20%20%20%20%20%20%20%20%20%20%20%20%20%20%20%20crs%3A%20L.CRS.EPSG3857%2C%0A%20%20%20%20%20%20%20%20%20%20%20%20%20%20%20%20%20%20%20%20zoom%3A%204%2C%0A%20%20%20%20%20%20%20%20%20%20%20%20%20%20%20%20%20%20%20%20zoomControl%3A%20true%2C%0A%20%20%20%20%20%20%20%20%20%20%20%20%20%20%20%20%20%20%20%20preferCanvas%3A%20false%2C%0A%20%20%20%20%20%20%20%20%20%20%20%20%20%20%20%20%20%20%20%20eeInitialize%3A%20true%2C%0A%20%20%20%20%20%20%20%20%20%20%20%20%20%20%20%20%20%20%20%20addGoogleMap%3A%20true%2C%0A%20%20%20%20%20%20%20%20%20%20%20%20%20%20%20%20%20%20%20%20pluginLatlngpopup%3A%20true%2C%0A%20%20%20%20%20%20%20%20%20%20%20%20%20%20%20%20%20%20%20%20pluginFullscreen%3A%20true%2C%0A%20%20%20%20%20%20%20%20%20%20%20%20%20%20%20%20%20%20%20%20pluginDraw%3A%20false%2C%0A%20%20%20%20%20%20%20%20%20%20%20%20%20%20%20%20%20%20%20%20DrawExport%3A%20true%2C%0A%20%20%20%20%20%20%20%20%20%20%20%20%20%20%20%20%20%20%20%20pluginMinimap%3A%20false%2C%0A%20%20%20%20%20%20%20%20%20%20%20%20%20%20%20%20%20%20%20%20pluginLayercontrol%3A%20false%2C%0A%20%20%20%20%20%20%20%20%20%20%20%20%20%20%20%20%7D%0A%20%20%20%20%20%20%20%20%20%20%20%20%29%3B%0A%0A%20%20%20%20%20%20%20%20%20%20%20%20%0A%0A%20%20%20%20%20%20%20%20%0A%20%20%20%20%0A%20%20%20%20%20%20%20%20%20%20%20%20var%20tile_layer_ecc802df089a4c86a97b12c0ac48d2e0%20%3D%20L.tileLayer%28%0A%20%20%20%20%20%20%20%20%20%20%20%20%20%20%20%20%22https%3A//%7Bs%7D.tile.openstreetmap.org/%7Bz%7D/%7Bx%7D/%7By%7D.png%22%2C%0A%20%20%20%20%20%20%20%20%20%20%20%20%20%20%20%20%7B%22attribution%22%3A%20%22Data%20by%20%5Cu0026copy%3B%20%5Cu003ca%20href%3D%5C%22http%3A//openstreetmap.org%5C%22%5Cu003eOpenStreetMap%5Cu003c/a%5Cu003e%2C%20under%20%5Cu003ca%20href%3D%5C%22http%3A//www.openstreetmap.org/copyright%5C%22%5Cu003eODbL%5Cu003c/a%5Cu003e.%22%2C%20%22detectRetina%22%3A%20false%2C%20%22maxNativeZoom%22%3A%2018%2C%20%22maxZoom%22%3A%2018%2C%20%22minZoom%22%3A%200%2C%20%22noWrap%22%3A%20false%2C%20%22opacity%22%3A%201%2C%20%22subdomains%22%3A%20%22abc%22%2C%20%22tms%22%3A%20false%7D%0A%20%20%20%20%20%20%20%20%20%20%20%20%29.addTo%28map_85694a6607b848ce92bd1f3334300001%29%3B%0A%20%20%20%20%20%20%20%20%0A%20%20%20%20%0A%20%20%20%20%20%20%20%20%20%20%20%20var%20tile_layer_b59aa99ff80842daa3e273ed5758c8f6%20%3D%20L.tileLayer%28%0A%20%20%20%20%20%20%20%20%20%20%20%20%20%20%20%20%22https%3A//mt1.google.com/vt/lyrs%3Dm%5Cu0026x%3D%7Bx%7D%5Cu0026y%3D%7By%7D%5Cu0026z%3D%7Bz%7D%22%2C%0A%20%20%20%20%20%20%20%20%20%20%20%20%20%20%20%20%7B%22attribution%22%3A%20%22Google%22%2C%20%22detectRetina%22%3A%20false%2C%20%22maxNativeZoom%22%3A%2018%2C%20%22maxZoom%22%3A%2018%2C%20%22minZoom%22%3A%200%2C%20%22noWrap%22%3A%20false%2C%20%22opacity%22%3A%201%2C%20%22subdomains%22%3A%20%22abc%22%2C%20%22tms%22%3A%20false%7D%0A%20%20%20%20%20%20%20%20%20%20%20%20%29.addTo%28map_85694a6607b848ce92bd1f3334300001%29%3B%0A%20%20%20%20%20%20%20%20%0A%20%20%20%20%0A%20%20%20%20%20%20%20%20%20%20%20%20%20%20%20%20var%20lat_lng_popup_9539655528364a9c92d4b8886d5c873a%20%3D%20L.popup%28%29%3B%0A%20%20%20%20%20%20%20%20%20%20%20%20%20%20%20%20function%20latLngPop%28e%29%20%7B%0A%20%20%20%20%20%20%20%20%20%20%20%20%20%20%20%20%20%20%20%20lat_lng_popup_9539655528364a9c92d4b8886d5c873a%0A%20%20%20%20%20%20%20%20%20%20%20%20%20%20%20%20%20%20%20%20%20%20%20%20.setLatLng%28e.latlng%29%0A%20%20%20%20%20%20%20%20%20%20%20%20%20%20%20%20%20%20%20%20%20%20%20%20.setContent%28%22Latitude%3A%20%22%20%2B%20e.latlng.lat.toFixed%284%29%20%2B%0A%20%20%20%20%20%20%20%20%20%20%20%20%20%20%20%20%20%20%20%20%20%20%20%20%20%20%20%20%20%20%20%20%20%20%20%20%22%3Cbr%3ELongitude%3A%20%22%20%2B%20e.latlng.lng.toFixed%284%29%29%0A%20%20%20%20%20%20%20%20%20%20%20%20%20%20%20%20%20%20%20%20%20%20%20%20.openOn%28map_85694a6607b848ce92bd1f3334300001%29%3B%0A%20%20%20%20%20%20%20%20%20%20%20%20%20%20%20%20%20%20%20%20%7D%0A%20%20%20%20%20%20%20%20%20%20%20%20%20%20%20%20map_85694a6607b848ce92bd1f3334300001.on%28%27click%27%2C%20latLngPop%29%3B%0A%20%20%20%20%20%20%20%20%20%20%20%20%0A%20%20%20%20%0A%20%20%20%20%20%20%20%20%20%20%20%20L.control.fullscreen%28%0A%20%20%20%20%20%20%20%20%20%20%20%20%20%20%20%20%7B%22forceSeparateButton%22%3A%20false%2C%20%22position%22%3A%20%22topleft%22%2C%20%22title%22%3A%20%22Full%20Screen%22%2C%20%22titleCancel%22%3A%20%22Exit%20Full%20Screen%22%7D%0A%20%20%20%20%20%20%20%20%20%20%20%20%29.addTo%28map_85694a6607b848ce92bd1f3334300001%29%3B%0A%20%20%20%20%20%20%20%20%0A%20%20%20%20%0A%20%20%20%20%20%20%20%20%20%20%20%20map_85694a6607b848ce92bd1f3334300001.fitBounds%28%0A%20%20%20%20%20%20%20%20%20%20%20%20%20%20%20%20%5B%5B40%2C%20-100%5D%2C%20%5B40%2C%20-100%5D%5D%2C%0A%20%20%20%20%20%20%20%20%20%20%20%20%20%20%20%20%7B%22maxZoom%22%3A%204%7D%0A%20%20%20%20%20%20%20%20%20%20%20%20%29%3B%0A%20%20%20%20%20%20%20%20%0A%20%20%20%20%0A%20%20%20%20%20%20%20%20%20%20%20%20map_85694a6607b848ce92bd1f3334300001.fitBounds%28%0A%20%20%20%20%20%20%20%20%20%20%20%20%20%20%20%20%5B%5B36.86%2C%20-120.08%5D%2C%20%5B36.86%2C%20-120.08%5D%5D%2C%0A%20%20%20%20%20%20%20%20%20%20%20%20%20%20%20%20%7B%22maxZoom%22%3A%2010%7D%0A%20%20%20%20%20%20%20%20%20%20%20%20%29%3B%0A%20%20%20%20%20%20%20%20%0A%20%20%20%20%0A%20%20%20%20%20%20%20%20%20%20%20%20var%20tile_layer_799b7cc7a2f440f79cd112f8a4b836df%20%3D%20L.tileLayer%28%0A%20%20%20%20%20%20%20%20%20%20%20%20%20%20%20%20%22https%3A//earthengine.googleapis.com/v1alpha/projects/earthengine-legacy/maps/e881822955b1472f72a0a1381bee3771-f91ac17503747a9d8c205428fb9075bc/tiles/%7Bz%7D/%7Bx%7D/%7By%7D%22%2C%0A%20%20%20%20%20%20%20%20%20%20%20%20%20%20%20%20%7B%22attribution%22%3A%20%22Google%20Earth%20Engine%22%2C%20%22detectRetina%22%3A%20false%2C%20%22maxNativeZoom%22%3A%2018%2C%20%22maxZoom%22%3A%2018%2C%20%22minZoom%22%3A%200%2C%20%22noWrap%22%3A%20false%2C%20%22opacity%22%3A%201.0%2C%20%22subdomains%22%3A%20%22abc%22%2C%20%22tms%22%3A%20false%7D%0A%20%20%20%20%20%20%20%20%20%20%20%20%29.addTo%28map_85694a6607b848ce92bd1f3334300001%29%3B%0A%20%20%20%20%20%20%20%20%0A%20%20%20%20%0A%20%20%20%20%20%20%20%20%20%20%20%20var%20tile_layer_c5fdfebc46da4750822be3d091edee80%20%3D%20L.tileLayer%28%0A%20%20%20%20%20%20%20%20%20%20%20%20%20%20%20%20%22https%3A//earthengine.googleapis.com/v1alpha/projects/earthengine-legacy/maps/64a08ad7b5ee6a3c56439cf5d80b8675-304f24a61caed8fff713c1f422181d39/tiles/%7Bz%7D/%7Bx%7D/%7By%7D%22%2C%0A%20%20%20%20%20%20%20%20%20%20%20%20%20%20%20%20%7B%22attribution%22%3A%20%22Google%20Earth%20Engine%22%2C%20%22detectRetina%22%3A%20false%2C%20%22maxNativeZoom%22%3A%2018%2C%20%22maxZoom%22%3A%2018%2C%20%22minZoom%22%3A%200%2C%20%22noWrap%22%3A%20false%2C%20%22opacity%22%3A%201.0%2C%20%22subdomains%22%3A%20%22abc%22%2C%20%22tms%22%3A%20false%7D%0A%20%20%20%20%20%20%20%20%20%20%20%20%29.addTo%28map_85694a6607b848ce92bd1f3334300001%29%3B%0A%20%20%20%20%20%20%20%20%0A%20%20%20%20%0A%20%20%20%20%20%20%20%20%20%20%20%20var%20tile_layer_fc6a85e45c454170a09d21a513514dcd%20%3D%20L.tileLayer%28%0A%20%20%20%20%20%20%20%20%20%20%20%20%20%20%20%20%22https%3A//earthengine.googleapis.com/v1alpha/projects/earthengine-legacy/maps/53b3bb03b3594c5525fd3655ab8993d0-f0621295cd1db613ec12a8d277789f88/tiles/%7Bz%7D/%7Bx%7D/%7By%7D%22%2C%0A%20%20%20%20%20%20%20%20%20%20%20%20%20%20%20%20%7B%22attribution%22%3A%20%22Google%20Earth%20Engine%22%2C%20%22detectRetina%22%3A%20false%2C%20%22maxNativeZoom%22%3A%2018%2C%20%22maxZoom%22%3A%2018%2C%20%22minZoom%22%3A%200%2C%20%22noWrap%22%3A%20false%2C%20%22opacity%22%3A%201.0%2C%20%22subdomains%22%3A%20%22abc%22%2C%20%22tms%22%3A%20false%7D%0A%20%20%20%20%20%20%20%20%20%20%20%20%29.addTo%28map_85694a6607b848ce92bd1f3334300001%29%3B%0A%20%20%20%20%20%20%20%20%0A%20%20%20%20%0A%20%20%20%20%20%20%20%20%20%20%20%20var%20tile_layer_867b76cd6209476c8c0f6fc8fbbebd28%20%3D%20L.tileLayer%28%0A%20%20%20%20%20%20%20%20%20%20%20%20%20%20%20%20%22https%3A//earthengine.googleapis.com/v1alpha/projects/earthengine-legacy/maps/8ae6ca167e90b0ba55e3e4fc90411e3b-7e3e37240a8942a81c77dc5eefd8a8c9/tiles/%7Bz%7D/%7Bx%7D/%7By%7D%22%2C%0A%20%20%20%20%20%20%20%20%20%20%20%20%20%20%20%20%7B%22attribution%22%3A%20%22Google%20Earth%20Engine%22%2C%20%22detectRetina%22%3A%20false%2C%20%22maxNativeZoom%22%3A%2018%2C%20%22maxZoom%22%3A%2018%2C%20%22minZoom%22%3A%200%2C%20%22noWrap%22%3A%20false%2C%20%22opacity%22%3A%201.0%2C%20%22subdomains%22%3A%20%22abc%22%2C%20%22tms%22%3A%20false%7D%0A%20%20%20%20%20%20%20%20%20%20%20%20%29.addTo%28map_85694a6607b848ce92bd1f3334300001%29%3B%0A%20%20%20%20%20%20%20%20%0A%20%20%20%20%0A%20%20%20%20%20%20%20%20%20%20%20%20var%20tile_layer_0ffcb5baaa7448f8a3a736e3dd7f31b7%20%3D%20L.tileLayer%28%0A%20%20%20%20%20%20%20%20%20%20%20%20%20%20%20%20%22https%3A//earthengine.googleapis.com/v1alpha/projects/earthengine-legacy/maps/34c37316e00adb2c96829aaafe516022-5f5513d5f50846d37360b73cf6a2ed41/tiles/%7Bz%7D/%7Bx%7D/%7By%7D%22%2C%0A%20%20%20%20%20%20%20%20%20%20%20%20%20%20%20%20%7B%22attribution%22%3A%20%22Google%20Earth%20Engine%22%2C%20%22detectRetina%22%3A%20false%2C%20%22maxNativeZoom%22%3A%2018%2C%20%22maxZoom%22%3A%2018%2C%20%22minZoom%22%3A%200%2C%20%22noWrap%22%3A%20false%2C%20%22opacity%22%3A%201.0%2C%20%22subdomains%22%3A%20%22abc%22%2C%20%22tms%22%3A%20false%7D%0A%20%20%20%20%20%20%20%20%20%20%20%20%29.addTo%28map_85694a6607b848ce92bd1f3334300001%29%3B%0A%20%20%20%20%20%20%20%20%0A%20%20%20%20%0A%20%20%20%20%20%20%20%20%20%20%20%20var%20tile_layer_25dc35671b074795bab595889c378b2f%20%3D%20L.tileLayer%28%0A%20%20%20%20%20%20%20%20%20%20%20%20%20%20%20%20%22https%3A//earthengine.googleapis.com/v1alpha/projects/earthengine-legacy/maps/ce7bb9217db33e5eafd4d5289287e28e-2d84623d1e2dbb5e71e6515dbb974021/tiles/%7Bz%7D/%7Bx%7D/%7By%7D%22%2C%0A%20%20%20%20%20%20%20%20%20%20%20%20%20%20%20%20%7B%22attribution%22%3A%20%22Google%20Earth%20Engine%22%2C%20%22detectRetina%22%3A%20false%2C%20%22maxNativeZoom%22%3A%2018%2C%20%22maxZoom%22%3A%2018%2C%20%22minZoom%22%3A%200%2C%20%22noWrap%22%3A%20false%2C%20%22opacity%22%3A%201.0%2C%20%22subdomains%22%3A%20%22abc%22%2C%20%22tms%22%3A%20false%7D%0A%20%20%20%20%20%20%20%20%20%20%20%20%29.addTo%28map_85694a6607b848ce92bd1f3334300001%29%3B%0A%20%20%20%20%20%20%20%20%0A%20%20%20%20%0A%20%20%20%20%20%20%20%20%20%20%20%20var%20layer_control_18815eec570e402995f15a286aee69ee%20%3D%20%7B%0A%20%20%20%20%20%20%20%20%20%20%20%20%20%20%20%20base_layers%20%3A%20%7B%0A%20%20%20%20%20%20%20%20%20%20%20%20%20%20%20%20%20%20%20%20%22openstreetmap%22%20%3A%20tile_layer_ecc802df089a4c86a97b12c0ac48d2e0%2C%0A%20%20%20%20%20%20%20%20%20%20%20%20%20%20%20%20%7D%2C%0A%20%20%20%20%20%20%20%20%20%20%20%20%20%20%20%20overlays%20%3A%20%20%7B%0A%20%20%20%20%20%20%20%20%20%20%20%20%20%20%20%20%20%20%20%20%22Google%20Maps%22%20%3A%20tile_layer_b59aa99ff80842daa3e273ed5758c8f6%2C%0A%20%20%20%20%20%20%20%20%20%20%20%20%20%20%20%20%20%20%20%20%22NAIP%22%20%3A%20tile_layer_799b7cc7a2f440f79cd112f8a4b836df%2C%0A%20%20%20%20%20%20%20%20%20%20%20%20%20%20%20%20%20%20%20%20%22Waterfilter_dams_OSM%22%20%3A%20tile_layer_c5fdfebc46da4750822be3d091edee80%2C%0A%20%20%20%20%20%20%20%20%20%20%20%20%20%20%20%20%20%20%20%20%22Waterfilter_dams_NID%22%20%3A%20tile_layer_fc6a85e45c454170a09d21a513514dcd%2C%0A%20%20%20%20%20%20%20%20%20%20%20%20%20%20%20%20%20%20%20%20%22Filter2_dams_OSM%22%20%3A%20tile_layer_867b76cd6209476c8c0f6fc8fbbebd28%2C%0A%20%20%20%20%20%20%20%20%20%20%20%20%20%20%20%20%20%20%20%20%22Filter2_dams_NID%22%20%3A%20tile_layer_0ffcb5baaa7448f8a3a736e3dd7f31b7%2C%0A%20%20%20%20%20%20%20%20%20%20%20%20%20%20%20%20%20%20%20%20%22water%22%20%3A%20tile_layer_25dc35671b074795bab595889c378b2f%2C%0A%20%20%20%20%20%20%20%20%20%20%20%20%20%20%20%20%7D%2C%0A%20%20%20%20%20%20%20%20%20%20%20%20%7D%3B%0A%20%20%20%20%20%20%20%20%20%20%20%20L.control.layers%28%0A%20%20%20%20%20%20%20%20%20%20%20%20%20%20%20%20layer_control_18815eec570e402995f15a286aee69ee.base_layers%2C%0A%20%20%20%20%20%20%20%20%20%20%20%20%20%20%20%20layer_control_18815eec570e402995f15a286aee69ee.overlays%2C%0A%20%20%20%20%20%20%20%20%20%20%20%20%20%20%20%20%7B%22autoZIndex%22%3A%20true%2C%20%22collapsed%22%3A%20true%2C%20%22position%22%3A%20%22topright%22%7D%0A%20%20%20%20%20%20%20%20%20%20%20%20%29.addTo%28map_85694a6607b848ce92bd1f3334300001%29%3B%0A%20%20%20%20%20%20%20%20%0A%3C/script%3E onload=\"this.contentDocument.open();this.contentDocument.write(    decodeURIComponent(this.getAttribute('data-html')));this.contentDocument.close();\" allowfullscreen webkitallowfullscreen mozallowfullscreen></iframe></div></div>"
            ],
            "text/plain": [
              "<geemap.eefolium.Map at 0x7f4b8a509a90>"
            ]
          },
          "metadata": {
            "tags": []
          },
          "execution_count": 45
        }
      ]
    },
    {
      "cell_type": "markdown",
      "metadata": {
        "id": "F_U2iMYbp81Y"
      },
      "source": [
        "## Delete polygons on the coastline"
      ]
    },
    {
      "cell_type": "code",
      "metadata": {
        "id": "W4KRuHbHp7r8",
        "colab": {
          "base_uri": "https://localhost:8080/"
        },
        "outputId": "07d24472-8161-4d54-9357-83616e6f8156"
      },
      "source": [
        "ee_NID_final = ee_filtered_NID.map(in_land).filter(ee.Filter.eq('isInland', 1))\r\n",
        "ee_OSM_final = ee_filtered_OSM.map(in_land).filter(ee.Filter.eq('isInland', 1))\r\n",
        "\r\n",
        "print(ee_NID_final.aggregate_array('isInland').getInfo())\r\n",
        "print(ee_OSM_final.aggregate_array('isInland').getInfo())"
      ],
      "execution_count": null,
      "outputs": [
        {
          "output_type": "stream",
          "text": [
            "[1, 1, 1, 1, 1, 1, 1, 1, 1, 1, 1, 1, 1, 1, 1, 1, 1, 1, 1, 1, 1, 1, 1, 1, 1, 1, 1, 1, 1, 1, 1, 1, 1, 1, 1, 1, 1, 1, 1, 1, 1, 1, 1, 1, 1, 1, 1, 1, 1, 1, 1, 1, 1, 1, 1, 1, 1, 1, 1, 1, 1, 1, 1, 1, 1, 1, 1, 1, 1, 1, 1, 1, 1, 1, 1, 1, 1, 1, 1, 1, 1, 1, 1, 1, 1, 1, 1, 1, 1, 1, 1, 1, 1, 1, 1, 1, 1, 1, 1, 1, 1, 1, 1, 1, 1, 1, 1, 1, 1, 1, 1, 1, 1, 1, 1, 1, 1, 1, 1, 1, 1, 1, 1, 1, 1, 1, 1, 1, 1, 1, 1, 1, 1, 1, 1, 1, 1, 1, 1, 1, 1, 1, 1, 1, 1, 1, 1, 1, 1, 1, 1, 1, 1, 1, 1, 1, 1, 1, 1, 1, 1, 1, 1, 1, 1, 1, 1, 1, 1, 1, 1, 1, 1, 1, 1, 1, 1, 1, 1, 1, 1, 1, 1, 1, 1, 1, 1, 1, 1, 1, 1, 1, 1, 1, 1, 1, 1, 1, 1, 1, 1, 1, 1, 1, 1, 1, 1, 1, 1, 1, 1, 1, 1, 1, 1, 1, 1, 1, 1, 1, 1, 1, 1, 1, 1, 1, 1, 1, 1, 1, 1, 1, 1, 1, 1, 1, 1, 1, 1, 1, 1, 1, 1, 1, 1, 1, 1, 1, 1, 1, 1, 1, 1, 1, 1, 1, 1, 1, 1, 1, 1, 1, 1, 1, 1, 1, 1, 1, 1, 1, 1, 1, 1, 1, 1, 1, 1, 1, 1, 1, 1, 1, 1, 1, 1, 1, 1, 1, 1, 1, 1, 1, 1, 1, 1, 1, 1, 1, 1, 1, 1, 1, 1, 1, 1, 1, 1, 1, 1, 1, 1, 1, 1, 1, 1, 1, 1, 1, 1, 1, 1, 1, 1, 1, 1, 1, 1, 1, 1, 1, 1, 1, 1, 1, 1, 1, 1, 1, 1, 1, 1, 1, 1, 1, 1, 1, 1, 1, 1, 1, 1, 1, 1, 1, 1, 1, 1, 1, 1, 1, 1, 1, 1, 1, 1, 1, 1, 1, 1, 1, 1, 1, 1, 1, 1, 1, 1, 1, 1, 1, 1, 1, 1, 1, 1, 1, 1, 1, 1, 1, 1, 1, 1, 1, 1, 1, 1, 1, 1, 1, 1, 1, 1, 1, 1, 1, 1, 1, 1, 1, 1, 1, 1, 1, 1, 1, 1, 1, 1, 1, 1, 1, 1, 1, 1, 1, 1, 1, 1, 1, 1, 1, 1, 1, 1, 1, 1, 1, 1, 1, 1, 1, 1, 1, 1, 1, 1, 1, 1, 1, 1, 1, 1, 1, 1, 1, 1, 1, 1, 1, 1, 1, 1, 1, 1, 1, 1, 1, 1, 1, 1, 1, 1, 1, 1, 1, 1, 1, 1, 1, 1, 1, 1, 1, 1, 1, 1, 1, 1, 1, 1, 1, 1, 1, 1, 1, 1, 1, 1, 1, 1, 1, 1, 1, 1, 1, 1, 1, 1, 1, 1, 1, 1, 1, 1, 1, 1, 1, 1, 1, 1, 1, 1, 1, 1, 1, 1, 1, 1, 1, 1, 1, 1, 1]\n",
            "[1, 1, 1, 1, 1, 1, 1, 1, 1, 1, 1, 1, 1, 1, 1, 1, 1, 1, 1, 1, 1, 1, 1, 1, 1, 1, 1, 1, 1, 1, 1, 1, 1, 1, 1, 1, 1, 1, 1, 1, 1, 1, 1, 1, 1, 1, 1, 1, 1, 1, 1, 1, 1, 1, 1, 1, 1, 1, 1, 1, 1, 1, 1, 1, 1, 1, 1, 1, 1, 1, 1, 1, 1, 1, 1, 1, 1, 1, 1, 1, 1, 1, 1, 1, 1, 1, 1, 1, 1, 1, 1, 1, 1, 1, 1, 1, 1, 1, 1, 1, 1, 1, 1, 1, 1, 1, 1, 1, 1, 1, 1, 1, 1, 1, 1, 1, 1, 1, 1, 1, 1, 1, 1, 1, 1, 1, 1, 1, 1, 1, 1, 1, 1, 1, 1, 1, 1, 1, 1, 1, 1, 1, 1, 1, 1, 1, 1, 1, 1, 1, 1, 1, 1, 1, 1, 1, 1, 1, 1, 1, 1, 1, 1, 1, 1, 1, 1, 1, 1, 1, 1, 1, 1, 1, 1, 1, 1, 1, 1, 1, 1, 1, 1, 1, 1, 1, 1, 1, 1, 1, 1, 1, 1, 1, 1, 1, 1, 1, 1, 1, 1, 1, 1, 1, 1, 1, 1, 1, 1, 1, 1, 1, 1, 1, 1, 1, 1, 1, 1, 1, 1, 1, 1, 1, 1, 1, 1, 1, 1, 1, 1, 1, 1, 1, 1, 1, 1, 1, 1, 1, 1, 1, 1, 1, 1, 1, 1, 1, 1, 1, 1, 1, 1, 1, 1, 1, 1, 1, 1, 1, 1, 1, 1, 1, 1, 1, 1, 1, 1, 1, 1, 1, 1, 1, 1, 1, 1, 1, 1, 1, 1, 1, 1, 1, 1, 1, 1, 1, 1, 1, 1, 1, 1, 1, 1, 1, 1, 1, 1, 1, 1, 1, 1, 1, 1, 1, 1, 1, 1, 1, 1, 1, 1, 1, 1, 1, 1, 1, 1, 1, 1, 1, 1, 1, 1, 1, 1, 1, 1, 1, 1, 1, 1, 1, 1, 1, 1, 1, 1, 1, 1, 1, 1, 1, 1, 1, 1, 1, 1, 1, 1, 1, 1, 1, 1, 1, 1, 1, 1, 1, 1, 1, 1, 1, 1, 1, 1, 1, 1, 1, 1, 1, 1, 1, 1, 1, 1, 1, 1, 1, 1, 1, 1, 1, 1, 1, 1, 1, 1, 1, 1, 1, 1, 1, 1, 1, 1, 1, 1, 1, 1, 1, 1, 1, 1, 1, 1, 1, 1, 1, 1, 1, 1, 1, 1, 1, 1, 1, 1, 1, 1, 1, 1, 1, 1, 1, 1, 1, 1, 1, 1, 1, 1, 1, 1, 1, 1, 1, 1, 1, 1, 1, 1, 1, 1, 1, 1, 1, 1, 1, 1, 1, 1, 1, 1, 1, 1, 1, 1, 1, 1, 1, 1, 1, 1, 1, 1, 1, 1, 1, 1, 1, 1, 1, 1, 1, 1, 1, 1, 1, 1, 1, 1, 1, 1, 1, 1, 1, 1, 1, 1, 1, 1, 1, 1, 1, 1, 1, 1, 1, 1, 1, 1, 1, 1, 1, 1, 1, 1, 1, 1, 1, 1, 1, 1, 1, 1, 1, 1, 1, 1, 1, 1, 1, 1, 1, 1, 1, 1, 1, 1, 1, 1, 1, 1, 1, 1, 1]\n"
          ],
          "name": "stdout"
        }
      ]
    },
    {
      "cell_type": "code",
      "metadata": {
        "id": "UKZ-897OJ8qB"
      },
      "source": [
        "ee_dam_images = ee_NID_final.merge(ee_OSM_final)"
      ],
      "execution_count": null,
      "outputs": []
    },
    {
      "cell_type": "code",
      "metadata": {
        "id": "G2LAs9trMj6c"
      },
      "source": [
        "# # Displays the map\r\n",
        "# Map = geemap.Map()\r\n",
        "# Map.setCenter(-120.08, 36.86)\r\n",
        "# bounds = Map.get_bounds()\r\n",
        "\r\n",
        "# Map.addLayer(naip1, {}, \"NAIP\");\r\n",
        "\r\n",
        "# #2nd filter\r\n",
        "# Map.addLayer(ee_filtered_OSM, {'color': 'red', 'opacity': 0.3}, 'Filter2_dams_OSM')\r\n",
        "# Map.addLayer(ee_filtered_NID, {'color': 'red', 'opacity': 0.3}, 'Filter2_dams_NID')\r\n",
        "\r\n",
        "# #Final patches\r\n",
        "# Map.addLayer(ee_dam_images, {'color': 'blue', 'opacity': 0.8}, 'Final_dams')\r\n",
        "\r\n",
        "# Map.addLayer(water, { 'min': 0, 'max': 1, 'palette': ['aqua'] }, 'water')\r\n",
        "\r\n",
        "# Map.addLayerControl() \r\n",
        "# Map"
      ],
      "execution_count": null,
      "outputs": []
    },
    {
      "cell_type": "markdown",
      "metadata": {
        "id": "r9UTxzIg7uyQ"
      },
      "source": [
        "# Collect negative images (No dam) dataset \r\n",
        "To produce the negative images (non-dam) the dataset is build using bridge locations (since are linear structures that can be mistaken for dams), lakes and random points"
      ]
    },
    {
      "cell_type": "code",
      "metadata": {
        "id": "9zTcVzEprWpN"
      },
      "source": [
        "random_points = ee.FeatureCollection.randomPoints(\r\n",
        "    region= control,\r\n",
        "    points= 150,\r\n",
        "    seed= 1234\r\n",
        ")\r\n",
        "\r\n",
        "random_points = geopandas.GeoDataFrame.from_features(random_points.getInfo())\r\n",
        "random_points[\"id\"] = random_points.index"
      ],
      "execution_count": null,
      "outputs": []
    },
    {
      "cell_type": "code",
      "metadata": {
        "id": "f4Je7x1z7uyT"
      },
      "source": [
        "url = 'http://overpass-api.de/api/interpreter'  # Overpass API URL\r\n",
        "query = f\"\"\"\r\n",
        "[out:json];\r\n",
        "area[\"ISO3166-2\"=\"US-{state}\"][admin_level=4];\r\n",
        "(way[\"bridge\"=\"yes\"](area);\r\n",
        ");\r\n",
        "out center;\r\n",
        "\"\"\"\r\n",
        "\r\n",
        "rb = requests.get(url, params={'data': query})\r\n",
        "data_b = rb.json()['elements']  # read response as JSON and get the data\r\n",
        "df_b = json_normalize(data_b).rename(columns={\"center.lat\":\"lat\", \"center.lon\":\"lon\"})\r\n"
      ],
      "execution_count": null,
      "outputs": []
    },
    {
      "cell_type": "code",
      "metadata": {
        "id": "513bC3rIBFrW"
      },
      "source": [
        "url = 'http://overpass-api.de/api/interpreter'  # Overpass API URL\r\n",
        "query = f\"\"\"\r\n",
        "[out:json];\r\n",
        "area[\"ISO3166-2\"=\"US-{state}\"][admin_level=4];\r\n",
        "(way[\"water\"=\"lake\"](area);\r\n",
        " way[\"natural\"=\"water\"](area);\r\n",
        ");\r\n",
        "out center;\r\n",
        "\"\"\"\r\n",
        "\r\n",
        "rl = requests.get(url, params={'data': query})\r\n",
        "data_l = rl.json()['elements']  # read response as JSON and get the data\r\n",
        "df_l = json_normalize(data_l).rename(columns={\"center.lat\":\"lat\", \"center.lon\":\"lon\"})"
      ],
      "execution_count": null,
      "outputs": []
    },
    {
      "cell_type": "code",
      "metadata": {
        "id": "5BwowiFV7uyW"
      },
      "source": [
        "bridges = pd.DataFrame(df_b, columns=['lat','lon', 'id'])\r\n",
        "bridges.to_csv(r'osm_bridge.csv', encoding='utf-8', index=False)\r\n",
        "\r\n",
        "lakes = pd.DataFrame(df_l, columns=['lat','lon', 'id'])\r\n",
        "lakes.to_csv(r'osm_lake.csv', encoding='utf-8', index=False)"
      ],
      "execution_count": null,
      "outputs": []
    },
    {
      "cell_type": "code",
      "metadata": {
        "id": "vosIeBs47uyX"
      },
      "source": [
        "gdf_bridge = geopandas.GeoDataFrame(bridges)\r\n",
        "\r\n",
        "#To convert the dataframe to shape to then create an earth engine object and add the layer to the map\r\n",
        "gdf_bridge.set_geometry(\r\n",
        "    geopandas.points_from_xy(gdf_bridge['lon'], gdf_bridge['lat']),\r\n",
        "    inplace=True, crs='EPSG:4326')\r\n",
        "gdf_bridge.drop(['lat', 'lon'], axis=1, inplace=True)  # optional\r\n",
        "gdf_bridge.to_file('bridges_osm.shp')"
      ],
      "execution_count": null,
      "outputs": []
    },
    {
      "cell_type": "code",
      "metadata": {
        "id": "vlt4UjoiFX6Z"
      },
      "source": [
        "gdf_lake = geopandas.GeoDataFrame(lakes)\r\n",
        "\r\n",
        "#To convert the dataframe to shape to then create an earth engine object and add the layer to the map\r\n",
        "gdf_lake.set_geometry(\r\n",
        "    geopandas.points_from_xy(gdf_lake['lon'], gdf_lake['lat']),\r\n",
        "    inplace=True, crs='EPSG:4326')\r\n",
        "gdf_lake.drop(['lat', 'lon'], axis=1, inplace=True)  # optional\r\n",
        "gdf_lake.to_file('lakes_osm.shp')"
      ],
      "execution_count": null,
      "outputs": []
    },
    {
      "cell_type": "markdown",
      "metadata": {
        "id": "_wrShmF9rnrj"
      },
      "source": [
        "# Refine no dam dataset\r\n",
        "\r\n",
        "To make the no-dam images more representative for the model to learn"
      ]
    },
    {
      "cell_type": "code",
      "metadata": {
        "id": "_mWMcAVBEAfG"
      },
      "source": [
        "N=len(buf_OSM)\r\n",
        "buf_OSM['FID'] = buf_OSM.index\r\n",
        "buf_NID['FID'] = buf_NID.index+N"
      ],
      "execution_count": null,
      "outputs": []
    },
    {
      "cell_type": "code",
      "metadata": {
        "id": "72d8qQHckK_J"
      },
      "source": [
        "# dams_NID = geopandas.GeoDataFrame.from_features(ee_NID_final.getInfo())\r\n",
        "# dams_OSM = geopandas.GeoDataFrame.from_features(ee_OSM_final.getInfo())\r\n",
        "# dams_NID = dams_NID.drop(columns= {'num', 'id', 'index', 'isInland'})\r\n",
        "# dams_OSM = dams_OSM.drop(columns= {'FID', 'id', 'index', 'isInland'}).rename(columns={\"num\": \"FID\"})"
      ],
      "execution_count": null,
      "outputs": []
    },
    {
      "cell_type": "code",
      "metadata": {
        "id": "Q8zbY36cCNIq"
      },
      "source": [
        "total_dams = buf_OSM.append(buf_NID)"
      ],
      "execution_count": null,
      "outputs": []
    },
    {
      "cell_type": "code",
      "metadata": {
        "colab": {
          "base_uri": "https://localhost:8080/"
        },
        "id": "Xaz-aFtdNx4W",
        "outputId": "ce8855ce-a3df-4183-efc0-4ccdedb67dcf"
      },
      "source": [
        "lake_filter = get_pip(gdf_lake, total_dams)\r\n",
        "bridge_filter = get_pip(gdf_bridge, total_dams)\r\n",
        "random_filter = get_pip(random_points, total_dams)"
      ],
      "execution_count": null,
      "outputs": [
        {
          "output_type": "stream",
          "text": [
            "Original dataframe count= 2362 \n",
            "New dataframe count= 1014\n",
            "There are id's with more than one region\n",
            "Original dataframe count= 43473 \n",
            "New dataframe count= 17247\n",
            "There are id's with more than one region\n",
            "Original dataframe count= 150 \n",
            "New dataframe count= 17\n",
            "There are id's with more than one region\n"
          ],
          "name": "stdout"
        }
      ]
    },
    {
      "cell_type": "code",
      "metadata": {
        "id": "6HXGpaSynj9Q"
      },
      "source": [
        "if lake_filter['id'].count() == 0:\r\n",
        "  lakes_gdf = gdf_lake\r\n",
        "else:\r\n",
        "  indx = []\r\n",
        "  for i in lake_filter['index']:\r\n",
        "    indx.append(i)\r\n",
        "  lakes_gdf = gdf_lake.drop(indx, axis=0)\r\n"
      ],
      "execution_count": null,
      "outputs": []
    },
    {
      "cell_type": "code",
      "metadata": {
        "id": "T8mF8uA6nEO0",
        "colab": {
          "base_uri": "https://localhost:8080/"
        },
        "outputId": "fb674f10-8559-4327-abdd-563458848ea6"
      },
      "source": [
        "lakes_gdf = lakes_gdf.sample(1000, random_state=1234)\r\n",
        "lakes_gdf.to_file('lake_filter.shp')\r\n",
        "ee_lakes = geemap.shp_to_ee('lake_filter.shp')\r\n",
        "lakes_buffer = lakes_gdf.buffer(0.02, cap_style=3)\r\n",
        "lakes_buf = geopandas.GeoDataFrame(geometry=geopandas.GeoSeries(lakes_buffer))\r\n",
        "lakes_buf.to_file('lakes.shp')\r\n",
        "ee_lakes_pol = geemap.shp_to_ee('lakes.shp')\r\n"
      ],
      "execution_count": null,
      "outputs": [
        {
          "output_type": "stream",
          "text": [
            "/usr/local/lib/python3.7/dist-packages/ipykernel_launcher.py:4: UserWarning: Geometry is in a geographic CRS. Results from 'buffer' are likely incorrect. Use 'GeoSeries.to_crs()' to re-project geometries to a projected CRS before this operation.\n",
            "\n",
            "  after removing the cwd from sys.path.\n"
          ],
          "name": "stderr"
        }
      ]
    },
    {
      "cell_type": "code",
      "metadata": {
        "id": "UxbwfU56v77v"
      },
      "source": [
        "if bridge_filter['id'].count() == 0:\r\n",
        "  bridge_gdf = gdf_bridge\r\n",
        "else:\r\n",
        "  indx_b = []\r\n",
        "  for i in bridge_filter['index']:\r\n",
        "    indx_b.append(i)\r\n",
        "  bridge_gdf = gdf_bridge.drop(indx_b, axis=0)"
      ],
      "execution_count": null,
      "outputs": []
    },
    {
      "cell_type": "code",
      "metadata": {
        "colab": {
          "base_uri": "https://localhost:8080/"
        },
        "id": "9q01f6JNziv0",
        "outputId": "00fc0bc1-ff89-4a2c-deb5-bce4a2433ab9"
      },
      "source": [
        "bridge_gdf = bridge_gdf.sample(3000, random_state=1234)\r\n",
        "bridge_gdf.to_file('bridge_filter.shp')\r\n",
        "ee_bridge = geemap.shp_to_ee('bridge_filter.shp')\r\n",
        "bridge_buffer = bridge_gdf.buffer(0.02, cap_style=3)\r\n",
        "bridge_buf = geopandas.GeoDataFrame(geometry=geopandas.GeoSeries(bridge_buffer))\r\n",
        "bridge_buf.to_file('bridges.shp')\r\n",
        "ee_bridge_pol = geemap.shp_to_ee('bridges.shp')"
      ],
      "execution_count": null,
      "outputs": [
        {
          "output_type": "stream",
          "text": [
            "/usr/local/lib/python3.7/dist-packages/ipykernel_launcher.py:4: UserWarning: Geometry is in a geographic CRS. Results from 'buffer' are likely incorrect. Use 'GeoSeries.to_crs()' to re-project geometries to a projected CRS before this operation.\n",
            "\n",
            "  after removing the cwd from sys.path.\n"
          ],
          "name": "stderr"
        }
      ]
    },
    {
      "cell_type": "code",
      "metadata": {
        "id": "POajgReS5Gau"
      },
      "source": [
        "if random_filter['id'].count() == 0:\r\n",
        "  random_gdf = random_points\r\n",
        "else:\r\n",
        "  indx_r = []\r\n",
        "  for i in random_filter['index']:\r\n",
        "    indx_r.append(i)\r\n",
        "  random_gdf = random_points.drop(indx_r, axis=0)"
      ],
      "execution_count": null,
      "outputs": []
    },
    {
      "cell_type": "code",
      "metadata": {
        "colab": {
          "base_uri": "https://localhost:8080/"
        },
        "id": "uSgu8zax5qGi",
        "outputId": "e78b866c-833e-4aab-b85e-fe84e6c4edf0"
      },
      "source": [
        "random_gdf.to_file('random_filter.shp')\r\n",
        "ee_random_p = geemap.shp_to_ee('random_filter.shp')\r\n",
        "random_buffer = random_gdf.buffer(0.02, cap_style=3)\r\n",
        "random_buffer.to_file('random_rects.shp')\r\n",
        "ee_random = geemap.shp_to_ee('random_rects.shp')"
      ],
      "execution_count": null,
      "outputs": [
        {
          "output_type": "stream",
          "text": [
            "/usr/local/lib/python3.7/dist-packages/geemap/common.py:6659: UserWarning: The projection file /content/random_filter.prj could not be found. Assuming the dataset is in a geographic coordinate system (GCS).\n",
            "  f\"The projection file {in_prj} could not be found. Assuming the dataset is in a geographic coordinate system (GCS).\"\n",
            "/usr/local/lib/python3.7/dist-packages/geemap/common.py:6659: UserWarning: The projection file /content/random_rects.prj could not be found. Assuming the dataset is in a geographic coordinate system (GCS).\n",
            "  f\"The projection file {in_prj} could not be found. Assuming the dataset is in a geographic coordinate system (GCS).\"\n"
          ],
          "name": "stderr"
        }
      ]
    },
    {
      "cell_type": "markdown",
      "metadata": {
        "id": "KTCqwLhxVsno"
      },
      "source": [
        "## Filter no-dam polygons by water area"
      ]
    },
    {
      "cell_type": "code",
      "metadata": {
        "colab": {
          "base_uri": "https://localhost:8080/"
        },
        "id": "6UO3qvtUDpiT",
        "outputId": "ff1024ff-8109-4aa8-b2f6-a90f20d59120"
      },
      "source": [
        "### Now we filter the squares for which area does not reach a certain threshold\r\n",
        "ee_bridge_area = ee_bridge_pol.map(compute_water_area)\r\n",
        "ee_lakes_area = ee_lakes_pol.map(compute_water_area)\r\n",
        "\r\n",
        "ee_bridge_w = ee_bridge_area.filter(ee.Filter.gt('area', AreaThreshold))\r\n",
        "ee_lakes_w = ee_lakes_area.filter(ee.Filter.gt('area', AreaThreshold))\r\n",
        "\r\n",
        "print('All polygons OSM #{}'.format(ee_bridge_pol.size().getInfo()))\r\n",
        "print('Filtered polygons OSM by area #{}'.format(ee_bridge_w.size().getInfo()))\r\n",
        "\r\n",
        "print('All polygons OSM #{}'.format(ee_lakes_pol.size().getInfo()))\r\n",
        "print('Filtered polygons OSM by area #{}'.format(ee_lakes_w.size().getInfo()))"
      ],
      "execution_count": null,
      "outputs": [
        {
          "output_type": "stream",
          "text": [
            "All polygons OSM #3000\n",
            "Filtered polygons OSM by area #720\n",
            "All polygons OSM #1000\n",
            "Filtered polygons OSM by area #584\n"
          ],
          "name": "stdout"
        }
      ]
    },
    {
      "cell_type": "markdown",
      "metadata": {
        "id": "WKfjBp2jr7xL"
      },
      "source": [
        "# VISUALIZATION"
      ]
    },
    {
      "cell_type": "code",
      "metadata": {
        "colab": {
          "base_uri": "https://localhost:8080/",
          "height": 685
        },
        "id": "12evLqJc7uyj",
        "outputId": "d079ed88-fb53-40db-cd8b-5c07ad63d770"
      },
      "source": [
        "# # Displays the map\r\n",
        "Map = geemap.Map()\r\n",
        "Map.setCenter(-120.08, 36.86)\r\n",
        "bounds = Map.get_bounds()\r\n",
        "\r\n",
        "Map.addLayer(naip1, {}, \"NAIP\");\r\n",
        "\r\n",
        "#Final patches\r\n",
        "Map.addLayer(ee_dam_images, {'color': 'yellow', 'opacity': 0.8}, 'Final_dams')\r\n",
        "\r\n",
        "Map.addLayer(water, { 'min': 0, 'max': 1, 'palette': ['aqua'] }, 'water')\r\n",
        "\r\n",
        "Map.addLayer(ee_bridge_w, {'color': 'pink', 'opacity': 0.6}, 'bridges')\r\n",
        "\r\n",
        "Map.addLayer(ee_lakes_w, {'color': 'PaleGreen', 'opacity': 0.6}, 'lakes area')\r\n",
        "\r\n",
        "Map.addLayer(ee_random, {'color': 'silver', 'opacity': 0.6}, 'random')\r\n",
        "\r\n",
        "Map.addLayerControl() \r\n",
        "Map"
      ],
      "execution_count": null,
      "outputs": [
        {
          "output_type": "execute_result",
          "data": {
            "text/html": [
              "<div style=\"width:100%;\"><div style=\"position:relative;width:100%;height:0;padding-bottom:60%;\"><span style=\"color:#565656\">Make this Notebook Trusted to load map: File -> Trust Notebook</span><iframe src=\"about:blank\" style=\"position:absolute;width:100%;height:100%;left:0;top:0;border:none !important;\" data-html=%3C%21DOCTYPE%20html%3E%0A%3Chead%3E%20%20%20%20%0A%20%20%20%20%3Cmeta%20http-equiv%3D%22content-type%22%20content%3D%22text/html%3B%20charset%3DUTF-8%22%20/%3E%0A%20%20%20%20%0A%20%20%20%20%20%20%20%20%3Cscript%3E%0A%20%20%20%20%20%20%20%20%20%20%20%20L_NO_TOUCH%20%3D%20false%3B%0A%20%20%20%20%20%20%20%20%20%20%20%20L_DISABLE_3D%20%3D%20false%3B%0A%20%20%20%20%20%20%20%20%3C/script%3E%0A%20%20%20%20%0A%20%20%20%20%3Cstyle%3Ehtml%2C%20body%20%7Bwidth%3A%20100%25%3Bheight%3A%20100%25%3Bmargin%3A%200%3Bpadding%3A%200%3B%7D%3C/style%3E%0A%20%20%20%20%3Cstyle%3E%23map%20%7Bposition%3Aabsolute%3Btop%3A0%3Bbottom%3A0%3Bright%3A0%3Bleft%3A0%3B%7D%3C/style%3E%0A%20%20%20%20%3Cscript%20src%3D%22https%3A//cdn.jsdelivr.net/npm/leaflet%401.6.0/dist/leaflet.js%22%3E%3C/script%3E%0A%20%20%20%20%3Cscript%20src%3D%22https%3A//code.jquery.com/jquery-1.12.4.min.js%22%3E%3C/script%3E%0A%20%20%20%20%3Cscript%20src%3D%22https%3A//maxcdn.bootstrapcdn.com/bootstrap/3.2.0/js/bootstrap.min.js%22%3E%3C/script%3E%0A%20%20%20%20%3Cscript%20src%3D%22https%3A//cdnjs.cloudflare.com/ajax/libs/Leaflet.awesome-markers/2.0.2/leaflet.awesome-markers.js%22%3E%3C/script%3E%0A%20%20%20%20%3Clink%20rel%3D%22stylesheet%22%20href%3D%22https%3A//cdn.jsdelivr.net/npm/leaflet%401.6.0/dist/leaflet.css%22/%3E%0A%20%20%20%20%3Clink%20rel%3D%22stylesheet%22%20href%3D%22https%3A//maxcdn.bootstrapcdn.com/bootstrap/3.2.0/css/bootstrap.min.css%22/%3E%0A%20%20%20%20%3Clink%20rel%3D%22stylesheet%22%20href%3D%22https%3A//maxcdn.bootstrapcdn.com/bootstrap/3.2.0/css/bootstrap-theme.min.css%22/%3E%0A%20%20%20%20%3Clink%20rel%3D%22stylesheet%22%20href%3D%22https%3A//maxcdn.bootstrapcdn.com/font-awesome/4.6.3/css/font-awesome.min.css%22/%3E%0A%20%20%20%20%3Clink%20rel%3D%22stylesheet%22%20href%3D%22https%3A//cdnjs.cloudflare.com/ajax/libs/Leaflet.awesome-markers/2.0.2/leaflet.awesome-markers.css%22/%3E%0A%20%20%20%20%3Clink%20rel%3D%22stylesheet%22%20href%3D%22https%3A//cdn.jsdelivr.net/gh/python-visualization/folium/folium/templates/leaflet.awesome.rotate.min.css%22/%3E%0A%20%20%20%20%0A%20%20%20%20%20%20%20%20%20%20%20%20%3Cmeta%20name%3D%22viewport%22%20content%3D%22width%3Ddevice-width%2C%0A%20%20%20%20%20%20%20%20%20%20%20%20%20%20%20%20initial-scale%3D1.0%2C%20maximum-scale%3D1.0%2C%20user-scalable%3Dno%22%20/%3E%0A%20%20%20%20%20%20%20%20%20%20%20%20%3Cstyle%3E%0A%20%20%20%20%20%20%20%20%20%20%20%20%20%20%20%20%23map_df02724813794c6ca4ba2990fc4783ac%20%7B%0A%20%20%20%20%20%20%20%20%20%20%20%20%20%20%20%20%20%20%20%20position%3A%20relative%3B%0A%20%20%20%20%20%20%20%20%20%20%20%20%20%20%20%20%20%20%20%20width%3A%20100.0%25%3B%0A%20%20%20%20%20%20%20%20%20%20%20%20%20%20%20%20%20%20%20%20height%3A%20100.0%25%3B%0A%20%20%20%20%20%20%20%20%20%20%20%20%20%20%20%20%20%20%20%20left%3A%200.0%25%3B%0A%20%20%20%20%20%20%20%20%20%20%20%20%20%20%20%20%20%20%20%20top%3A%200.0%25%3B%0A%20%20%20%20%20%20%20%20%20%20%20%20%20%20%20%20%7D%0A%20%20%20%20%20%20%20%20%20%20%20%20%3C/style%3E%0A%20%20%20%20%20%20%20%20%0A%20%20%20%20%3Cscript%20src%3D%22https%3A//cdnjs.cloudflare.com/ajax/libs/leaflet.fullscreen/1.4.2/Control.FullScreen.min.js%22%3E%3C/script%3E%0A%20%20%20%20%3Clink%20rel%3D%22stylesheet%22%20href%3D%22https%3A//cdnjs.cloudflare.com/ajax/libs/leaflet.fullscreen/1.4.2/Control.FullScreen.min.css%22/%3E%0A%3C/head%3E%0A%3Cbody%3E%20%20%20%20%0A%20%20%20%20%0A%20%20%20%20%20%20%20%20%20%20%20%20%3Cdiv%20class%3D%22folium-map%22%20id%3D%22map_df02724813794c6ca4ba2990fc4783ac%22%20%3E%3C/div%3E%0A%20%20%20%20%20%20%20%20%0A%3C/body%3E%0A%3Cscript%3E%20%20%20%20%0A%20%20%20%20%0A%20%20%20%20%20%20%20%20%20%20%20%20var%20map_df02724813794c6ca4ba2990fc4783ac%20%3D%20L.map%28%0A%20%20%20%20%20%20%20%20%20%20%20%20%20%20%20%20%22map_df02724813794c6ca4ba2990fc4783ac%22%2C%0A%20%20%20%20%20%20%20%20%20%20%20%20%20%20%20%20%7B%0A%20%20%20%20%20%20%20%20%20%20%20%20%20%20%20%20%20%20%20%20center%3A%20%5B40.0%2C%20-100.0%5D%2C%0A%20%20%20%20%20%20%20%20%20%20%20%20%20%20%20%20%20%20%20%20crs%3A%20L.CRS.EPSG3857%2C%0A%20%20%20%20%20%20%20%20%20%20%20%20%20%20%20%20%20%20%20%20zoom%3A%204%2C%0A%20%20%20%20%20%20%20%20%20%20%20%20%20%20%20%20%20%20%20%20zoomControl%3A%20true%2C%0A%20%20%20%20%20%20%20%20%20%20%20%20%20%20%20%20%20%20%20%20preferCanvas%3A%20false%2C%0A%20%20%20%20%20%20%20%20%20%20%20%20%20%20%20%20%20%20%20%20eeInitialize%3A%20true%2C%0A%20%20%20%20%20%20%20%20%20%20%20%20%20%20%20%20%20%20%20%20addGoogleMap%3A%20true%2C%0A%20%20%20%20%20%20%20%20%20%20%20%20%20%20%20%20%20%20%20%20pluginLatlngpopup%3A%20true%2C%0A%20%20%20%20%20%20%20%20%20%20%20%20%20%20%20%20%20%20%20%20pluginFullscreen%3A%20true%2C%0A%20%20%20%20%20%20%20%20%20%20%20%20%20%20%20%20%20%20%20%20pluginDraw%3A%20false%2C%0A%20%20%20%20%20%20%20%20%20%20%20%20%20%20%20%20%20%20%20%20DrawExport%3A%20true%2C%0A%20%20%20%20%20%20%20%20%20%20%20%20%20%20%20%20%20%20%20%20pluginMinimap%3A%20false%2C%0A%20%20%20%20%20%20%20%20%20%20%20%20%20%20%20%20%20%20%20%20pluginLayercontrol%3A%20false%2C%0A%20%20%20%20%20%20%20%20%20%20%20%20%20%20%20%20%7D%0A%20%20%20%20%20%20%20%20%20%20%20%20%29%3B%0A%0A%20%20%20%20%20%20%20%20%20%20%20%20%0A%0A%20%20%20%20%20%20%20%20%0A%20%20%20%20%0A%20%20%20%20%20%20%20%20%20%20%20%20var%20tile_layer_de258a63697f49208b0764da38e2fc94%20%3D%20L.tileLayer%28%0A%20%20%20%20%20%20%20%20%20%20%20%20%20%20%20%20%22https%3A//%7Bs%7D.tile.openstreetmap.org/%7Bz%7D/%7Bx%7D/%7By%7D.png%22%2C%0A%20%20%20%20%20%20%20%20%20%20%20%20%20%20%20%20%7B%22attribution%22%3A%20%22Data%20by%20%5Cu0026copy%3B%20%5Cu003ca%20href%3D%5C%22http%3A//openstreetmap.org%5C%22%5Cu003eOpenStreetMap%5Cu003c/a%5Cu003e%2C%20under%20%5Cu003ca%20href%3D%5C%22http%3A//www.openstreetmap.org/copyright%5C%22%5Cu003eODbL%5Cu003c/a%5Cu003e.%22%2C%20%22detectRetina%22%3A%20false%2C%20%22maxNativeZoom%22%3A%2018%2C%20%22maxZoom%22%3A%2018%2C%20%22minZoom%22%3A%200%2C%20%22noWrap%22%3A%20false%2C%20%22opacity%22%3A%201%2C%20%22subdomains%22%3A%20%22abc%22%2C%20%22tms%22%3A%20false%7D%0A%20%20%20%20%20%20%20%20%20%20%20%20%29.addTo%28map_df02724813794c6ca4ba2990fc4783ac%29%3B%0A%20%20%20%20%20%20%20%20%0A%20%20%20%20%0A%20%20%20%20%20%20%20%20%20%20%20%20var%20tile_layer_e92a45591ac349adbb1c76242a32fc19%20%3D%20L.tileLayer%28%0A%20%20%20%20%20%20%20%20%20%20%20%20%20%20%20%20%22https%3A//mt1.google.com/vt/lyrs%3Dm%5Cu0026x%3D%7Bx%7D%5Cu0026y%3D%7By%7D%5Cu0026z%3D%7Bz%7D%22%2C%0A%20%20%20%20%20%20%20%20%20%20%20%20%20%20%20%20%7B%22attribution%22%3A%20%22Google%22%2C%20%22detectRetina%22%3A%20false%2C%20%22maxNativeZoom%22%3A%2018%2C%20%22maxZoom%22%3A%2018%2C%20%22minZoom%22%3A%200%2C%20%22noWrap%22%3A%20false%2C%20%22opacity%22%3A%201%2C%20%22subdomains%22%3A%20%22abc%22%2C%20%22tms%22%3A%20false%7D%0A%20%20%20%20%20%20%20%20%20%20%20%20%29.addTo%28map_df02724813794c6ca4ba2990fc4783ac%29%3B%0A%20%20%20%20%20%20%20%20%0A%20%20%20%20%0A%20%20%20%20%20%20%20%20%20%20%20%20%20%20%20%20var%20lat_lng_popup_41850507ab2d42109a311b3cd94b5f3b%20%3D%20L.popup%28%29%3B%0A%20%20%20%20%20%20%20%20%20%20%20%20%20%20%20%20function%20latLngPop%28e%29%20%7B%0A%20%20%20%20%20%20%20%20%20%20%20%20%20%20%20%20%20%20%20%20lat_lng_popup_41850507ab2d42109a311b3cd94b5f3b%0A%20%20%20%20%20%20%20%20%20%20%20%20%20%20%20%20%20%20%20%20%20%20%20%20.setLatLng%28e.latlng%29%0A%20%20%20%20%20%20%20%20%20%20%20%20%20%20%20%20%20%20%20%20%20%20%20%20.setContent%28%22Latitude%3A%20%22%20%2B%20e.latlng.lat.toFixed%284%29%20%2B%0A%20%20%20%20%20%20%20%20%20%20%20%20%20%20%20%20%20%20%20%20%20%20%20%20%20%20%20%20%20%20%20%20%20%20%20%20%22%3Cbr%3ELongitude%3A%20%22%20%2B%20e.latlng.lng.toFixed%284%29%29%0A%20%20%20%20%20%20%20%20%20%20%20%20%20%20%20%20%20%20%20%20%20%20%20%20.openOn%28map_df02724813794c6ca4ba2990fc4783ac%29%3B%0A%20%20%20%20%20%20%20%20%20%20%20%20%20%20%20%20%20%20%20%20%7D%0A%20%20%20%20%20%20%20%20%20%20%20%20%20%20%20%20map_df02724813794c6ca4ba2990fc4783ac.on%28%27click%27%2C%20latLngPop%29%3B%0A%20%20%20%20%20%20%20%20%20%20%20%20%0A%20%20%20%20%0A%20%20%20%20%20%20%20%20%20%20%20%20L.control.fullscreen%28%0A%20%20%20%20%20%20%20%20%20%20%20%20%20%20%20%20%7B%22forceSeparateButton%22%3A%20false%2C%20%22position%22%3A%20%22topleft%22%2C%20%22title%22%3A%20%22Full%20Screen%22%2C%20%22titleCancel%22%3A%20%22Exit%20Full%20Screen%22%7D%0A%20%20%20%20%20%20%20%20%20%20%20%20%29.addTo%28map_df02724813794c6ca4ba2990fc4783ac%29%3B%0A%20%20%20%20%20%20%20%20%0A%20%20%20%20%0A%20%20%20%20%20%20%20%20%20%20%20%20map_df02724813794c6ca4ba2990fc4783ac.fitBounds%28%0A%20%20%20%20%20%20%20%20%20%20%20%20%20%20%20%20%5B%5B40%2C%20-100%5D%2C%20%5B40%2C%20-100%5D%5D%2C%0A%20%20%20%20%20%20%20%20%20%20%20%20%20%20%20%20%7B%22maxZoom%22%3A%204%7D%0A%20%20%20%20%20%20%20%20%20%20%20%20%29%3B%0A%20%20%20%20%20%20%20%20%0A%20%20%20%20%0A%20%20%20%20%20%20%20%20%20%20%20%20map_df02724813794c6ca4ba2990fc4783ac.fitBounds%28%0A%20%20%20%20%20%20%20%20%20%20%20%20%20%20%20%20%5B%5B36.86%2C%20-120.08%5D%2C%20%5B36.86%2C%20-120.08%5D%5D%2C%0A%20%20%20%20%20%20%20%20%20%20%20%20%20%20%20%20%7B%22maxZoom%22%3A%2010%7D%0A%20%20%20%20%20%20%20%20%20%20%20%20%29%3B%0A%20%20%20%20%20%20%20%20%0A%20%20%20%20%0A%20%20%20%20%20%20%20%20%20%20%20%20var%20tile_layer_dbafe992b0204f97bd15377b82927508%20%3D%20L.tileLayer%28%0A%20%20%20%20%20%20%20%20%20%20%20%20%20%20%20%20%22https%3A//earthengine.googleapis.com/v1alpha/projects/earthengine-legacy/maps/e881822955b1472f72a0a1381bee3771-60aa6714ed07d5b6bfcd471b9ea0a10d/tiles/%7Bz%7D/%7Bx%7D/%7By%7D%22%2C%0A%20%20%20%20%20%20%20%20%20%20%20%20%20%20%20%20%7B%22attribution%22%3A%20%22Google%20Earth%20Engine%22%2C%20%22detectRetina%22%3A%20false%2C%20%22maxNativeZoom%22%3A%2018%2C%20%22maxZoom%22%3A%2018%2C%20%22minZoom%22%3A%200%2C%20%22noWrap%22%3A%20false%2C%20%22opacity%22%3A%201.0%2C%20%22subdomains%22%3A%20%22abc%22%2C%20%22tms%22%3A%20false%7D%0A%20%20%20%20%20%20%20%20%20%20%20%20%29.addTo%28map_df02724813794c6ca4ba2990fc4783ac%29%3B%0A%20%20%20%20%20%20%20%20%0A%20%20%20%20%0A%20%20%20%20%20%20%20%20%20%20%20%20var%20tile_layer_428f60038abf4acc9ad10e0683ce4b16%20%3D%20L.tileLayer%28%0A%20%20%20%20%20%20%20%20%20%20%20%20%20%20%20%20%22https%3A//earthengine.googleapis.com/v1alpha/projects/earthengine-legacy/maps/f09bd8be2afd1357f34de23fafa2f3f1-77ec3f478efb54cb8eecb66cedfb9ce9/tiles/%7Bz%7D/%7Bx%7D/%7By%7D%22%2C%0A%20%20%20%20%20%20%20%20%20%20%20%20%20%20%20%20%7B%22attribution%22%3A%20%22Google%20Earth%20Engine%22%2C%20%22detectRetina%22%3A%20false%2C%20%22maxNativeZoom%22%3A%2018%2C%20%22maxZoom%22%3A%2018%2C%20%22minZoom%22%3A%200%2C%20%22noWrap%22%3A%20false%2C%20%22opacity%22%3A%201.0%2C%20%22subdomains%22%3A%20%22abc%22%2C%20%22tms%22%3A%20false%7D%0A%20%20%20%20%20%20%20%20%20%20%20%20%29.addTo%28map_df02724813794c6ca4ba2990fc4783ac%29%3B%0A%20%20%20%20%20%20%20%20%0A%20%20%20%20%0A%20%20%20%20%20%20%20%20%20%20%20%20var%20tile_layer_6e3c7c5c1c6149fab92a2d3977243c39%20%3D%20L.tileLayer%28%0A%20%20%20%20%20%20%20%20%20%20%20%20%20%20%20%20%22https%3A//earthengine.googleapis.com/v1alpha/projects/earthengine-legacy/maps/ce7bb9217db33e5eafd4d5289287e28e-03025ac544301b3096f2de94a546367d/tiles/%7Bz%7D/%7Bx%7D/%7By%7D%22%2C%0A%20%20%20%20%20%20%20%20%20%20%20%20%20%20%20%20%7B%22attribution%22%3A%20%22Google%20Earth%20Engine%22%2C%20%22detectRetina%22%3A%20false%2C%20%22maxNativeZoom%22%3A%2018%2C%20%22maxZoom%22%3A%2018%2C%20%22minZoom%22%3A%200%2C%20%22noWrap%22%3A%20false%2C%20%22opacity%22%3A%201.0%2C%20%22subdomains%22%3A%20%22abc%22%2C%20%22tms%22%3A%20false%7D%0A%20%20%20%20%20%20%20%20%20%20%20%20%29.addTo%28map_df02724813794c6ca4ba2990fc4783ac%29%3B%0A%20%20%20%20%20%20%20%20%0A%20%20%20%20%0A%20%20%20%20%20%20%20%20%20%20%20%20var%20tile_layer_2c3c36b1cca24243b35e12949a1c6553%20%3D%20L.tileLayer%28%0A%20%20%20%20%20%20%20%20%20%20%20%20%20%20%20%20%22https%3A//earthengine.googleapis.com/v1alpha/projects/earthengine-legacy/maps/ce75529c97d9da61104e1e05de29b7d8-c521deb3a3d790384711b810edc5e885/tiles/%7Bz%7D/%7Bx%7D/%7By%7D%22%2C%0A%20%20%20%20%20%20%20%20%20%20%20%20%20%20%20%20%7B%22attribution%22%3A%20%22Google%20Earth%20Engine%22%2C%20%22detectRetina%22%3A%20false%2C%20%22maxNativeZoom%22%3A%2018%2C%20%22maxZoom%22%3A%2018%2C%20%22minZoom%22%3A%200%2C%20%22noWrap%22%3A%20false%2C%20%22opacity%22%3A%201.0%2C%20%22subdomains%22%3A%20%22abc%22%2C%20%22tms%22%3A%20false%7D%0A%20%20%20%20%20%20%20%20%20%20%20%20%29.addTo%28map_df02724813794c6ca4ba2990fc4783ac%29%3B%0A%20%20%20%20%20%20%20%20%0A%20%20%20%20%0A%20%20%20%20%20%20%20%20%20%20%20%20var%20tile_layer_29163be4e59341578cf8120835e50ecb%20%3D%20L.tileLayer%28%0A%20%20%20%20%20%20%20%20%20%20%20%20%20%20%20%20%22https%3A//earthengine.googleapis.com/v1alpha/projects/earthengine-legacy/maps/23d710c1548b3afafebabe44a6223df0-093d7f7ae8d93f7d00ab6b6f61b24434/tiles/%7Bz%7D/%7Bx%7D/%7By%7D%22%2C%0A%20%20%20%20%20%20%20%20%20%20%20%20%20%20%20%20%7B%22attribution%22%3A%20%22Google%20Earth%20Engine%22%2C%20%22detectRetina%22%3A%20false%2C%20%22maxNativeZoom%22%3A%2018%2C%20%22maxZoom%22%3A%2018%2C%20%22minZoom%22%3A%200%2C%20%22noWrap%22%3A%20false%2C%20%22opacity%22%3A%201.0%2C%20%22subdomains%22%3A%20%22abc%22%2C%20%22tms%22%3A%20false%7D%0A%20%20%20%20%20%20%20%20%20%20%20%20%29.addTo%28map_df02724813794c6ca4ba2990fc4783ac%29%3B%0A%20%20%20%20%20%20%20%20%0A%20%20%20%20%0A%20%20%20%20%20%20%20%20%20%20%20%20var%20tile_layer_b073d2fb517e498e8d7be774100f95c5%20%3D%20L.tileLayer%28%0A%20%20%20%20%20%20%20%20%20%20%20%20%20%20%20%20%22https%3A//earthengine.googleapis.com/v1alpha/projects/earthengine-legacy/maps/7d25646e813db478b58f502e7196a655-f654f4cef4c62988edd73c50b6b26166/tiles/%7Bz%7D/%7Bx%7D/%7By%7D%22%2C%0A%20%20%20%20%20%20%20%20%20%20%20%20%20%20%20%20%7B%22attribution%22%3A%20%22Google%20Earth%20Engine%22%2C%20%22detectRetina%22%3A%20false%2C%20%22maxNativeZoom%22%3A%2018%2C%20%22maxZoom%22%3A%2018%2C%20%22minZoom%22%3A%200%2C%20%22noWrap%22%3A%20false%2C%20%22opacity%22%3A%201.0%2C%20%22subdomains%22%3A%20%22abc%22%2C%20%22tms%22%3A%20false%7D%0A%20%20%20%20%20%20%20%20%20%20%20%20%29.addTo%28map_df02724813794c6ca4ba2990fc4783ac%29%3B%0A%20%20%20%20%20%20%20%20%0A%20%20%20%20%0A%20%20%20%20%20%20%20%20%20%20%20%20var%20layer_control_5be68b6bb07b4b8883fa920c8bcdc12e%20%3D%20%7B%0A%20%20%20%20%20%20%20%20%20%20%20%20%20%20%20%20base_layers%20%3A%20%7B%0A%20%20%20%20%20%20%20%20%20%20%20%20%20%20%20%20%20%20%20%20%22openstreetmap%22%20%3A%20tile_layer_de258a63697f49208b0764da38e2fc94%2C%0A%20%20%20%20%20%20%20%20%20%20%20%20%20%20%20%20%7D%2C%0A%20%20%20%20%20%20%20%20%20%20%20%20%20%20%20%20overlays%20%3A%20%20%7B%0A%20%20%20%20%20%20%20%20%20%20%20%20%20%20%20%20%20%20%20%20%22Google%20Maps%22%20%3A%20tile_layer_e92a45591ac349adbb1c76242a32fc19%2C%0A%20%20%20%20%20%20%20%20%20%20%20%20%20%20%20%20%20%20%20%20%22NAIP%22%20%3A%20tile_layer_dbafe992b0204f97bd15377b82927508%2C%0A%20%20%20%20%20%20%20%20%20%20%20%20%20%20%20%20%20%20%20%20%22Final_dams%22%20%3A%20tile_layer_428f60038abf4acc9ad10e0683ce4b16%2C%0A%20%20%20%20%20%20%20%20%20%20%20%20%20%20%20%20%20%20%20%20%22water%22%20%3A%20tile_layer_6e3c7c5c1c6149fab92a2d3977243c39%2C%0A%20%20%20%20%20%20%20%20%20%20%20%20%20%20%20%20%20%20%20%20%22bridges%22%20%3A%20tile_layer_2c3c36b1cca24243b35e12949a1c6553%2C%0A%20%20%20%20%20%20%20%20%20%20%20%20%20%20%20%20%20%20%20%20%22lakes%20area%22%20%3A%20tile_layer_29163be4e59341578cf8120835e50ecb%2C%0A%20%20%20%20%20%20%20%20%20%20%20%20%20%20%20%20%20%20%20%20%22random%22%20%3A%20tile_layer_b073d2fb517e498e8d7be774100f95c5%2C%0A%20%20%20%20%20%20%20%20%20%20%20%20%20%20%20%20%7D%2C%0A%20%20%20%20%20%20%20%20%20%20%20%20%7D%3B%0A%20%20%20%20%20%20%20%20%20%20%20%20L.control.layers%28%0A%20%20%20%20%20%20%20%20%20%20%20%20%20%20%20%20layer_control_5be68b6bb07b4b8883fa920c8bcdc12e.base_layers%2C%0A%20%20%20%20%20%20%20%20%20%20%20%20%20%20%20%20layer_control_5be68b6bb07b4b8883fa920c8bcdc12e.overlays%2C%0A%20%20%20%20%20%20%20%20%20%20%20%20%20%20%20%20%7B%22autoZIndex%22%3A%20true%2C%20%22collapsed%22%3A%20true%2C%20%22position%22%3A%20%22topright%22%7D%0A%20%20%20%20%20%20%20%20%20%20%20%20%29.addTo%28map_df02724813794c6ca4ba2990fc4783ac%29%3B%0A%20%20%20%20%20%20%20%20%0A%3C/script%3E onload=\"this.contentDocument.open();this.contentDocument.write(    decodeURIComponent(this.getAttribute('data-html')));this.contentDocument.close();\" allowfullscreen webkitallowfullscreen mozallowfullscreen></iframe></div></div>"
            ],
            "text/plain": [
              "<geemap.eefolium.Map at 0x7fe306d0d210>"
            ]
          },
          "metadata": {
            "tags": []
          },
          "execution_count": 242
        }
      ]
    },
    {
      "cell_type": "markdown",
      "metadata": {
        "id": "3Vq5RIatn1uy"
      },
      "source": [
        "# Export patches as TFRecords to Drive"
      ]
    },
    {
      "cell_type": "markdown",
      "metadata": {
        "id": "2yJR-NHchXU2"
      },
      "source": [
        "## Export dam images"
      ]
    },
    {
      "cell_type": "code",
      "metadata": {
        "id": "YBt72ne6n4Mk"
      },
      "source": [
        "rect_list = ee_dam_images.toList(10000)\r\n",
        "\r\n",
        "count = rect_list.size().getInfo()\r\n",
        "\r\n",
        "SIZE = 440\r\n",
        "for i in range(count):\r\n",
        "  rect = ee.Feature(rect_list.get(i)).geometry()\r\n",
        "\r\n",
        "  task = ee.batch.Export.image.toDrive(  \r\n",
        "    image= naip2,\r\n",
        "    description= 'PatchesExported-%d'%(i),\r\n",
        "    fileNamePrefix= 'Dam-%d'%(i),\r\n",
        "    folder= 'Dam_CA',\r\n",
        "    region= rect,\r\n",
        "    scale= SCALE,\r\n",
        "    maxPixels=10e12,\r\n",
        "    fileFormat= 'TFRecord',\r\n",
        "    formatOptions = {\r\n",
        "      'patchDimensions': [SIZE, SIZE],\r\n",
        "      'compressed': True}\r\n",
        "  ).start()\r\n",
        "\r\n",
        "  print('Export Image %d was submitted, please wait ...'%(i))\r\n",
        "\r\n",
        "\r\n"
      ],
      "execution_count": null,
      "outputs": []
    },
    {
      "cell_type": "markdown",
      "metadata": {
        "id": "_Mpamu3zGDfF"
      },
      "source": [
        "## Export non-dam images"
      ]
    },
    {
      "cell_type": "code",
      "metadata": {
        "id": "v-NuyVab8qDl"
      },
      "source": [
        "random_list = ee_random.toList(100)\r\n",
        "bridge_list = ee_bridge_w.toList(400)\r\n",
        "lake_list = ee_lakes_w.toList(200)\r\n",
        "\r\n",
        "for i in range(100):\r\n",
        "\r\n",
        "  random = ee.Feature(random_list.get(i)).geometry()\r\n",
        "\r\n",
        "  # // EXPORT PATCHES\r\n",
        "\r\n",
        "  task = ee.batch.Export.image.toDrive(  \r\n",
        "    image= naip2,\r\n",
        "    description= 'RandomPatches-%d'%(i),\r\n",
        "    fileNamePrefix= 'random-%d'%(i),\r\n",
        "    scale= SCALE,\r\n",
        "    folder= 'No_dam_CA_2',\r\n",
        "    fileFormat= 'TFRecord',\r\n",
        "    region= random,\r\n",
        "    formatOptions = {\r\n",
        "      'patchDimensions': [SIZE, SIZE],\r\n",
        "      'compressed': True}\r\n",
        "  ).start()\r\n",
        "\r\n",
        "  print('Export Random Image %d was submitted, please wait ...'%(i))\r\n",
        "\r\n",
        "\r\n",
        "\r\n",
        "for i in range(400):\r\n",
        "\r\n",
        "  bridges = ee.Feature(bridge_list.get(i)).geometry()\r\n",
        "\r\n",
        "  task = ee.batch.Export.image.toDrive(  \r\n",
        "    image= naip2,\r\n",
        "    description= 'RandomPatches-%d'%(i),\r\n",
        "    fileNamePrefix= 'bridges-%d'%(i),\r\n",
        "    scale= SCALE,\r\n",
        "    folder= 'No_dam_CA_2',\r\n",
        "    fileFormat= 'TFRecord',\r\n",
        "    region= bridges,\r\n",
        "    formatOptions = {\r\n",
        "      'patchDimensions': [SIZE, SIZE],\r\n",
        "      'compressed': True}\r\n",
        "  ).start()\r\n",
        "\r\n",
        "  print('Export Bridge Image %d was submitted, please wait ...'%(i))\r\n",
        "\r\n",
        "\r\n",
        "\r\n",
        "for i in range(200):\r\n",
        "\r\n",
        "  lakes = ee.Feature(lake_list.get(i)).geometry()\r\n",
        "\r\n",
        "  task = ee.batch.Export.image.toDrive(  \r\n",
        "    image= naip2,\r\n",
        "    description= 'RandomPatches-%d'%(i),\r\n",
        "    fileNamePrefix= 'lakes-%d'%(i),\r\n",
        "    scale= SCALE,\r\n",
        "    folder= 'No_dam_CA_2',\r\n",
        "    fileFormat= 'TFRecord',\r\n",
        "    region= lakes,\r\n",
        "    formatOptions = {\r\n",
        "      'patchDimensions': [SIZE, SIZE],\r\n",
        "      'compressed': True}\r\n",
        "  ).start()\r\n",
        "\r\n",
        "  print('Export Lake Image %d was submitted, please wait ...'%(i))\r\n",
        "\r\n"
      ],
      "execution_count": null,
      "outputs": []
    },
    {
      "cell_type": "markdown",
      "metadata": {
        "id": "zRrxCGxMt4e8"
      },
      "source": [
        "# Export patches as GeoTIFF to Drive"
      ]
    },
    {
      "cell_type": "markdown",
      "metadata": {
        "id": "WuFNFXvzt4e9"
      },
      "source": [
        "## Export dam images"
      ]
    },
    {
      "cell_type": "code",
      "metadata": {
        "id": "9XO9cLKmt4e-",
        "colab": {
          "base_uri": "https://localhost:8080/"
        },
        "outputId": "9a5f9229-0506-47e7-8444-014d7023f503"
      },
      "source": [
        "rect_list = ee_dam_images.toList(10000)\r\n",
        "\r\n",
        "count = rect_list.size().getInfo()\r\n",
        "\r\n",
        "SIZE = 440\r\n",
        "for i in range(308, count):\r\n",
        "  rect = ee.Feature(rect_list.get(i)).geometry()\r\n",
        "\r\n",
        "  task = ee.batch.Export.image.toDrive(  \r\n",
        "    image= naip2,\r\n",
        "    description= 'PatchesExported-%d'%(i),\r\n",
        "    fileNamePrefix= 'Dam-%d'%(i),\r\n",
        "    folder= 'Dam_CA_t',\r\n",
        "    region= rect,\r\n",
        "    scale= SCALE,\r\n",
        "    maxPixels=10e12,\r\n",
        "    fileFormat= 'GeoTIFF',\r\n",
        "\r\n",
        "  ).start()\r\n",
        "\r\n",
        "  print('Export Image %d was submitted, please wait ...'%(i))\r\n",
        "\r\n"
      ],
      "execution_count": null,
      "outputs": [
        {
          "output_type": "stream",
          "text": [
            "Export Image 308 was submitted, please wait ...\n",
            "Export Image 309 was submitted, please wait ...\n",
            "Export Image 310 was submitted, please wait ...\n",
            "Export Image 311 was submitted, please wait ...\n",
            "Export Image 312 was submitted, please wait ...\n",
            "Export Image 313 was submitted, please wait ...\n",
            "Export Image 314 was submitted, please wait ...\n",
            "Export Image 315 was submitted, please wait ...\n",
            "Export Image 316 was submitted, please wait ...\n",
            "Export Image 317 was submitted, please wait ...\n",
            "Export Image 318 was submitted, please wait ...\n",
            "Export Image 319 was submitted, please wait ...\n",
            "Export Image 320 was submitted, please wait ...\n",
            "Export Image 321 was submitted, please wait ...\n",
            "Export Image 322 was submitted, please wait ...\n",
            "Export Image 323 was submitted, please wait ...\n",
            "Export Image 324 was submitted, please wait ...\n",
            "Export Image 325 was submitted, please wait ...\n",
            "Export Image 326 was submitted, please wait ...\n",
            "Export Image 327 was submitted, please wait ...\n",
            "Export Image 328 was submitted, please wait ...\n",
            "Export Image 329 was submitted, please wait ...\n",
            "Export Image 330 was submitted, please wait ...\n",
            "Export Image 331 was submitted, please wait ...\n",
            "Export Image 332 was submitted, please wait ...\n",
            "Export Image 333 was submitted, please wait ...\n",
            "Export Image 334 was submitted, please wait ...\n",
            "Export Image 335 was submitted, please wait ...\n",
            "Export Image 336 was submitted, please wait ...\n",
            "Export Image 337 was submitted, please wait ...\n",
            "Export Image 338 was submitted, please wait ...\n",
            "Export Image 339 was submitted, please wait ...\n",
            "Export Image 340 was submitted, please wait ...\n",
            "Export Image 341 was submitted, please wait ...\n",
            "Export Image 342 was submitted, please wait ...\n",
            "Export Image 343 was submitted, please wait ...\n",
            "Export Image 344 was submitted, please wait ...\n",
            "Export Image 345 was submitted, please wait ...\n",
            "Export Image 346 was submitted, please wait ...\n",
            "Export Image 347 was submitted, please wait ...\n",
            "Export Image 348 was submitted, please wait ...\n",
            "Export Image 349 was submitted, please wait ...\n",
            "Export Image 350 was submitted, please wait ...\n",
            "Export Image 351 was submitted, please wait ...\n",
            "Export Image 352 was submitted, please wait ...\n",
            "Export Image 353 was submitted, please wait ...\n",
            "Export Image 354 was submitted, please wait ...\n",
            "Export Image 355 was submitted, please wait ...\n",
            "Export Image 356 was submitted, please wait ...\n",
            "Export Image 357 was submitted, please wait ...\n",
            "Export Image 358 was submitted, please wait ...\n",
            "Export Image 359 was submitted, please wait ...\n",
            "Export Image 360 was submitted, please wait ...\n",
            "Export Image 361 was submitted, please wait ...\n",
            "Export Image 362 was submitted, please wait ...\n",
            "Export Image 363 was submitted, please wait ...\n",
            "Export Image 364 was submitted, please wait ...\n",
            "Export Image 365 was submitted, please wait ...\n",
            "Export Image 366 was submitted, please wait ...\n",
            "Export Image 367 was submitted, please wait ...\n",
            "Export Image 368 was submitted, please wait ...\n",
            "Export Image 369 was submitted, please wait ...\n",
            "Export Image 370 was submitted, please wait ...\n",
            "Export Image 371 was submitted, please wait ...\n",
            "Export Image 372 was submitted, please wait ...\n",
            "Export Image 373 was submitted, please wait ...\n",
            "Export Image 374 was submitted, please wait ...\n",
            "Export Image 375 was submitted, please wait ...\n",
            "Export Image 376 was submitted, please wait ...\n",
            "Export Image 377 was submitted, please wait ...\n",
            "Export Image 378 was submitted, please wait ...\n",
            "Export Image 379 was submitted, please wait ...\n",
            "Export Image 380 was submitted, please wait ...\n",
            "Export Image 381 was submitted, please wait ...\n",
            "Export Image 382 was submitted, please wait ...\n",
            "Export Image 383 was submitted, please wait ...\n",
            "Export Image 384 was submitted, please wait ...\n",
            "Export Image 385 was submitted, please wait ...\n",
            "Export Image 386 was submitted, please wait ...\n",
            "Export Image 387 was submitted, please wait ...\n",
            "Export Image 388 was submitted, please wait ...\n",
            "Export Image 389 was submitted, please wait ...\n",
            "Export Image 390 was submitted, please wait ...\n",
            "Export Image 391 was submitted, please wait ...\n",
            "Export Image 392 was submitted, please wait ...\n",
            "Export Image 393 was submitted, please wait ...\n",
            "Export Image 394 was submitted, please wait ...\n",
            "Export Image 395 was submitted, please wait ...\n",
            "Export Image 396 was submitted, please wait ...\n",
            "Export Image 397 was submitted, please wait ...\n",
            "Export Image 398 was submitted, please wait ...\n",
            "Export Image 399 was submitted, please wait ...\n",
            "Export Image 400 was submitted, please wait ...\n",
            "Export Image 401 was submitted, please wait ...\n",
            "Export Image 402 was submitted, please wait ...\n",
            "Export Image 403 was submitted, please wait ...\n",
            "Export Image 404 was submitted, please wait ...\n",
            "Export Image 405 was submitted, please wait ...\n",
            "Export Image 406 was submitted, please wait ...\n",
            "Export Image 407 was submitted, please wait ...\n",
            "Export Image 408 was submitted, please wait ...\n",
            "Export Image 409 was submitted, please wait ...\n",
            "Export Image 410 was submitted, please wait ...\n",
            "Export Image 411 was submitted, please wait ...\n",
            "Export Image 412 was submitted, please wait ...\n",
            "Export Image 413 was submitted, please wait ...\n",
            "Export Image 414 was submitted, please wait ...\n",
            "Export Image 415 was submitted, please wait ...\n",
            "Export Image 416 was submitted, please wait ...\n",
            "Export Image 417 was submitted, please wait ...\n",
            "Export Image 418 was submitted, please wait ...\n",
            "Export Image 419 was submitted, please wait ...\n",
            "Export Image 420 was submitted, please wait ...\n",
            "Export Image 421 was submitted, please wait ...\n",
            "Export Image 422 was submitted, please wait ...\n",
            "Export Image 423 was submitted, please wait ...\n",
            "Export Image 424 was submitted, please wait ...\n",
            "Export Image 425 was submitted, please wait ...\n",
            "Export Image 426 was submitted, please wait ...\n",
            "Export Image 427 was submitted, please wait ...\n",
            "Export Image 428 was submitted, please wait ...\n",
            "Export Image 429 was submitted, please wait ...\n",
            "Export Image 430 was submitted, please wait ...\n",
            "Export Image 431 was submitted, please wait ...\n",
            "Export Image 432 was submitted, please wait ...\n",
            "Export Image 433 was submitted, please wait ...\n",
            "Export Image 434 was submitted, please wait ...\n",
            "Export Image 435 was submitted, please wait ...\n",
            "Export Image 436 was submitted, please wait ...\n",
            "Export Image 437 was submitted, please wait ...\n",
            "Export Image 438 was submitted, please wait ...\n",
            "Export Image 439 was submitted, please wait ...\n",
            "Export Image 440 was submitted, please wait ...\n",
            "Export Image 441 was submitted, please wait ...\n",
            "Export Image 442 was submitted, please wait ...\n",
            "Export Image 443 was submitted, please wait ...\n",
            "Export Image 444 was submitted, please wait ...\n",
            "Export Image 445 was submitted, please wait ...\n",
            "Export Image 446 was submitted, please wait ...\n",
            "Export Image 447 was submitted, please wait ...\n",
            "Export Image 448 was submitted, please wait ...\n",
            "Export Image 449 was submitted, please wait ...\n",
            "Export Image 450 was submitted, please wait ...\n",
            "Export Image 451 was submitted, please wait ...\n",
            "Export Image 452 was submitted, please wait ...\n",
            "Export Image 453 was submitted, please wait ...\n",
            "Export Image 454 was submitted, please wait ...\n",
            "Export Image 455 was submitted, please wait ...\n",
            "Export Image 456 was submitted, please wait ...\n",
            "Export Image 457 was submitted, please wait ...\n",
            "Export Image 458 was submitted, please wait ...\n",
            "Export Image 459 was submitted, please wait ...\n",
            "Export Image 460 was submitted, please wait ...\n",
            "Export Image 461 was submitted, please wait ...\n",
            "Export Image 462 was submitted, please wait ...\n",
            "Export Image 463 was submitted, please wait ...\n",
            "Export Image 464 was submitted, please wait ...\n",
            "Export Image 465 was submitted, please wait ...\n",
            "Export Image 466 was submitted, please wait ...\n",
            "Export Image 467 was submitted, please wait ...\n",
            "Export Image 468 was submitted, please wait ...\n",
            "Export Image 469 was submitted, please wait ...\n",
            "Export Image 470 was submitted, please wait ...\n",
            "Export Image 471 was submitted, please wait ...\n",
            "Export Image 472 was submitted, please wait ...\n",
            "Export Image 473 was submitted, please wait ...\n",
            "Export Image 474 was submitted, please wait ...\n",
            "Export Image 475 was submitted, please wait ...\n",
            "Export Image 476 was submitted, please wait ...\n",
            "Export Image 477 was submitted, please wait ...\n",
            "Export Image 478 was submitted, please wait ...\n",
            "Export Image 479 was submitted, please wait ...\n",
            "Export Image 480 was submitted, please wait ...\n",
            "Export Image 481 was submitted, please wait ...\n",
            "Export Image 482 was submitted, please wait ...\n",
            "Export Image 483 was submitted, please wait ...\n",
            "Export Image 484 was submitted, please wait ...\n",
            "Export Image 485 was submitted, please wait ...\n",
            "Export Image 486 was submitted, please wait ...\n",
            "Export Image 487 was submitted, please wait ...\n",
            "Export Image 488 was submitted, please wait ...\n",
            "Export Image 489 was submitted, please wait ...\n",
            "Export Image 490 was submitted, please wait ...\n",
            "Export Image 491 was submitted, please wait ...\n",
            "Export Image 492 was submitted, please wait ...\n",
            "Export Image 493 was submitted, please wait ...\n",
            "Export Image 494 was submitted, please wait ...\n",
            "Export Image 495 was submitted, please wait ...\n",
            "Export Image 496 was submitted, please wait ...\n",
            "Export Image 497 was submitted, please wait ...\n",
            "Export Image 498 was submitted, please wait ...\n",
            "Export Image 499 was submitted, please wait ...\n",
            "Export Image 500 was submitted, please wait ...\n",
            "Export Image 501 was submitted, please wait ...\n",
            "Export Image 502 was submitted, please wait ...\n",
            "Export Image 503 was submitted, please wait ...\n",
            "Export Image 504 was submitted, please wait ...\n",
            "Export Image 505 was submitted, please wait ...\n",
            "Export Image 506 was submitted, please wait ...\n",
            "Export Image 507 was submitted, please wait ...\n",
            "Export Image 508 was submitted, please wait ...\n",
            "Export Image 509 was submitted, please wait ...\n",
            "Export Image 510 was submitted, please wait ...\n",
            "Export Image 511 was submitted, please wait ...\n",
            "Export Image 512 was submitted, please wait ...\n",
            "Export Image 513 was submitted, please wait ...\n",
            "Export Image 514 was submitted, please wait ...\n",
            "Export Image 515 was submitted, please wait ...\n",
            "Export Image 516 was submitted, please wait ...\n",
            "Export Image 517 was submitted, please wait ...\n",
            "Export Image 518 was submitted, please wait ...\n",
            "Export Image 519 was submitted, please wait ...\n",
            "Export Image 520 was submitted, please wait ...\n",
            "Export Image 521 was submitted, please wait ...\n",
            "Export Image 522 was submitted, please wait ...\n",
            "Export Image 523 was submitted, please wait ...\n",
            "Export Image 524 was submitted, please wait ...\n",
            "Export Image 525 was submitted, please wait ...\n",
            "Export Image 526 was submitted, please wait ...\n",
            "Export Image 527 was submitted, please wait ...\n",
            "Export Image 528 was submitted, please wait ...\n",
            "Export Image 529 was submitted, please wait ...\n",
            "Export Image 530 was submitted, please wait ...\n",
            "Export Image 531 was submitted, please wait ...\n",
            "Export Image 532 was submitted, please wait ...\n",
            "Export Image 533 was submitted, please wait ...\n",
            "Export Image 534 was submitted, please wait ...\n",
            "Export Image 535 was submitted, please wait ...\n",
            "Export Image 536 was submitted, please wait ...\n",
            "Export Image 537 was submitted, please wait ...\n",
            "Export Image 538 was submitted, please wait ...\n",
            "Export Image 539 was submitted, please wait ...\n",
            "Export Image 540 was submitted, please wait ...\n",
            "Export Image 541 was submitted, please wait ...\n",
            "Export Image 542 was submitted, please wait ...\n",
            "Export Image 543 was submitted, please wait ...\n",
            "Export Image 544 was submitted, please wait ...\n",
            "Export Image 545 was submitted, please wait ...\n",
            "Export Image 546 was submitted, please wait ...\n",
            "Export Image 547 was submitted, please wait ...\n",
            "Export Image 548 was submitted, please wait ...\n",
            "Export Image 549 was submitted, please wait ...\n",
            "Export Image 550 was submitted, please wait ...\n",
            "Export Image 551 was submitted, please wait ...\n",
            "Export Image 552 was submitted, please wait ...\n",
            "Export Image 553 was submitted, please wait ...\n",
            "Export Image 554 was submitted, please wait ...\n",
            "Export Image 555 was submitted, please wait ...\n",
            "Export Image 556 was submitted, please wait ...\n",
            "Export Image 557 was submitted, please wait ...\n",
            "Export Image 558 was submitted, please wait ...\n",
            "Export Image 559 was submitted, please wait ...\n",
            "Export Image 560 was submitted, please wait ...\n",
            "Export Image 561 was submitted, please wait ...\n",
            "Export Image 562 was submitted, please wait ...\n",
            "Export Image 563 was submitted, please wait ...\n",
            "Export Image 564 was submitted, please wait ...\n",
            "Export Image 565 was submitted, please wait ...\n",
            "Export Image 566 was submitted, please wait ...\n",
            "Export Image 567 was submitted, please wait ...\n",
            "Export Image 568 was submitted, please wait ...\n",
            "Export Image 569 was submitted, please wait ...\n",
            "Export Image 570 was submitted, please wait ...\n",
            "Export Image 571 was submitted, please wait ...\n",
            "Export Image 572 was submitted, please wait ...\n",
            "Export Image 573 was submitted, please wait ...\n",
            "Export Image 574 was submitted, please wait ...\n",
            "Export Image 575 was submitted, please wait ...\n",
            "Export Image 576 was submitted, please wait ...\n",
            "Export Image 577 was submitted, please wait ...\n",
            "Export Image 578 was submitted, please wait ...\n",
            "Export Image 579 was submitted, please wait ...\n",
            "Export Image 580 was submitted, please wait ...\n",
            "Export Image 581 was submitted, please wait ...\n",
            "Export Image 582 was submitted, please wait ...\n",
            "Export Image 583 was submitted, please wait ...\n",
            "Export Image 584 was submitted, please wait ...\n",
            "Export Image 585 was submitted, please wait ...\n",
            "Export Image 586 was submitted, please wait ...\n",
            "Export Image 587 was submitted, please wait ...\n",
            "Export Image 588 was submitted, please wait ...\n",
            "Export Image 589 was submitted, please wait ...\n",
            "Export Image 590 was submitted, please wait ...\n",
            "Export Image 591 was submitted, please wait ...\n",
            "Export Image 592 was submitted, please wait ...\n",
            "Export Image 593 was submitted, please wait ...\n",
            "Export Image 594 was submitted, please wait ...\n",
            "Export Image 595 was submitted, please wait ...\n",
            "Export Image 596 was submitted, please wait ...\n",
            "Export Image 597 was submitted, please wait ...\n",
            "Export Image 598 was submitted, please wait ...\n",
            "Export Image 599 was submitted, please wait ...\n",
            "Export Image 600 was submitted, please wait ...\n",
            "Export Image 601 was submitted, please wait ...\n",
            "Export Image 602 was submitted, please wait ...\n",
            "Export Image 603 was submitted, please wait ...\n",
            "Export Image 604 was submitted, please wait ...\n",
            "Export Image 605 was submitted, please wait ...\n",
            "Export Image 606 was submitted, please wait ...\n",
            "Export Image 607 was submitted, please wait ...\n",
            "Export Image 608 was submitted, please wait ...\n",
            "Export Image 609 was submitted, please wait ...\n",
            "Export Image 610 was submitted, please wait ...\n",
            "Export Image 611 was submitted, please wait ...\n",
            "Export Image 612 was submitted, please wait ...\n",
            "Export Image 613 was submitted, please wait ...\n",
            "Export Image 614 was submitted, please wait ...\n",
            "Export Image 615 was submitted, please wait ...\n",
            "Export Image 616 was submitted, please wait ...\n",
            "Export Image 617 was submitted, please wait ...\n",
            "Export Image 618 was submitted, please wait ...\n",
            "Export Image 619 was submitted, please wait ...\n",
            "Export Image 620 was submitted, please wait ...\n",
            "Export Image 621 was submitted, please wait ...\n",
            "Export Image 622 was submitted, please wait ...\n",
            "Export Image 623 was submitted, please wait ...\n",
            "Export Image 624 was submitted, please wait ...\n",
            "Export Image 625 was submitted, please wait ...\n",
            "Export Image 626 was submitted, please wait ...\n",
            "Export Image 627 was submitted, please wait ...\n",
            "Export Image 628 was submitted, please wait ...\n",
            "Export Image 629 was submitted, please wait ...\n",
            "Export Image 630 was submitted, please wait ...\n",
            "Export Image 631 was submitted, please wait ...\n",
            "Export Image 632 was submitted, please wait ...\n",
            "Export Image 633 was submitted, please wait ...\n",
            "Export Image 634 was submitted, please wait ...\n",
            "Export Image 635 was submitted, please wait ...\n",
            "Export Image 636 was submitted, please wait ...\n",
            "Export Image 637 was submitted, please wait ...\n",
            "Export Image 638 was submitted, please wait ...\n",
            "Export Image 639 was submitted, please wait ...\n",
            "Export Image 640 was submitted, please wait ...\n",
            "Export Image 641 was submitted, please wait ...\n",
            "Export Image 642 was submitted, please wait ...\n",
            "Export Image 643 was submitted, please wait ...\n",
            "Export Image 644 was submitted, please wait ...\n",
            "Export Image 645 was submitted, please wait ...\n",
            "Export Image 646 was submitted, please wait ...\n",
            "Export Image 647 was submitted, please wait ...\n",
            "Export Image 648 was submitted, please wait ...\n",
            "Export Image 649 was submitted, please wait ...\n",
            "Export Image 650 was submitted, please wait ...\n",
            "Export Image 651 was submitted, please wait ...\n",
            "Export Image 652 was submitted, please wait ...\n",
            "Export Image 653 was submitted, please wait ...\n",
            "Export Image 654 was submitted, please wait ...\n",
            "Export Image 655 was submitted, please wait ...\n",
            "Export Image 656 was submitted, please wait ...\n",
            "Export Image 657 was submitted, please wait ...\n",
            "Export Image 658 was submitted, please wait ...\n",
            "Export Image 659 was submitted, please wait ...\n",
            "Export Image 660 was submitted, please wait ...\n",
            "Export Image 661 was submitted, please wait ...\n",
            "Export Image 662 was submitted, please wait ...\n",
            "Export Image 663 was submitted, please wait ...\n",
            "Export Image 664 was submitted, please wait ...\n",
            "Export Image 665 was submitted, please wait ...\n",
            "Export Image 666 was submitted, please wait ...\n",
            "Export Image 667 was submitted, please wait ...\n",
            "Export Image 668 was submitted, please wait ...\n",
            "Export Image 669 was submitted, please wait ...\n",
            "Export Image 670 was submitted, please wait ...\n",
            "Export Image 671 was submitted, please wait ...\n",
            "Export Image 672 was submitted, please wait ...\n",
            "Export Image 673 was submitted, please wait ...\n",
            "Export Image 674 was submitted, please wait ...\n",
            "Export Image 675 was submitted, please wait ...\n",
            "Export Image 676 was submitted, please wait ...\n",
            "Export Image 677 was submitted, please wait ...\n",
            "Export Image 678 was submitted, please wait ...\n",
            "Export Image 679 was submitted, please wait ...\n",
            "Export Image 680 was submitted, please wait ...\n",
            "Export Image 681 was submitted, please wait ...\n",
            "Export Image 682 was submitted, please wait ...\n",
            "Export Image 683 was submitted, please wait ...\n",
            "Export Image 684 was submitted, please wait ...\n",
            "Export Image 685 was submitted, please wait ...\n",
            "Export Image 686 was submitted, please wait ...\n",
            "Export Image 687 was submitted, please wait ...\n",
            "Export Image 688 was submitted, please wait ...\n",
            "Export Image 689 was submitted, please wait ...\n",
            "Export Image 690 was submitted, please wait ...\n",
            "Export Image 691 was submitted, please wait ...\n",
            "Export Image 692 was submitted, please wait ...\n",
            "Export Image 693 was submitted, please wait ...\n",
            "Export Image 694 was submitted, please wait ...\n",
            "Export Image 695 was submitted, please wait ...\n",
            "Export Image 696 was submitted, please wait ...\n",
            "Export Image 697 was submitted, please wait ...\n",
            "Export Image 698 was submitted, please wait ...\n",
            "Export Image 699 was submitted, please wait ...\n",
            "Export Image 700 was submitted, please wait ...\n",
            "Export Image 701 was submitted, please wait ...\n",
            "Export Image 702 was submitted, please wait ...\n",
            "Export Image 703 was submitted, please wait ...\n",
            "Export Image 704 was submitted, please wait ...\n",
            "Export Image 705 was submitted, please wait ...\n",
            "Export Image 706 was submitted, please wait ...\n",
            "Export Image 707 was submitted, please wait ...\n",
            "Export Image 708 was submitted, please wait ...\n",
            "Export Image 709 was submitted, please wait ...\n",
            "Export Image 710 was submitted, please wait ...\n",
            "Export Image 711 was submitted, please wait ...\n",
            "Export Image 712 was submitted, please wait ...\n",
            "Export Image 713 was submitted, please wait ...\n",
            "Export Image 714 was submitted, please wait ...\n",
            "Export Image 715 was submitted, please wait ...\n",
            "Export Image 716 was submitted, please wait ...\n",
            "Export Image 717 was submitted, please wait ...\n",
            "Export Image 718 was submitted, please wait ...\n",
            "Export Image 719 was submitted, please wait ...\n",
            "Export Image 720 was submitted, please wait ...\n",
            "Export Image 721 was submitted, please wait ...\n",
            "Export Image 722 was submitted, please wait ...\n",
            "Export Image 723 was submitted, please wait ...\n",
            "Export Image 724 was submitted, please wait ...\n",
            "Export Image 725 was submitted, please wait ...\n",
            "Export Image 726 was submitted, please wait ...\n",
            "Export Image 727 was submitted, please wait ...\n",
            "Export Image 728 was submitted, please wait ...\n",
            "Export Image 729 was submitted, please wait ...\n",
            "Export Image 730 was submitted, please wait ...\n",
            "Export Image 731 was submitted, please wait ...\n",
            "Export Image 732 was submitted, please wait ...\n",
            "Export Image 733 was submitted, please wait ...\n",
            "Export Image 734 was submitted, please wait ...\n",
            "Export Image 735 was submitted, please wait ...\n",
            "Export Image 736 was submitted, please wait ...\n",
            "Export Image 737 was submitted, please wait ...\n",
            "Export Image 738 was submitted, please wait ...\n",
            "Export Image 739 was submitted, please wait ...\n",
            "Export Image 740 was submitted, please wait ...\n",
            "Export Image 741 was submitted, please wait ...\n",
            "Export Image 742 was submitted, please wait ...\n",
            "Export Image 743 was submitted, please wait ...\n",
            "Export Image 744 was submitted, please wait ...\n",
            "Export Image 745 was submitted, please wait ...\n",
            "Export Image 746 was submitted, please wait ...\n",
            "Export Image 747 was submitted, please wait ...\n",
            "Export Image 748 was submitted, please wait ...\n",
            "Export Image 749 was submitted, please wait ...\n",
            "Export Image 750 was submitted, please wait ...\n",
            "Export Image 751 was submitted, please wait ...\n",
            "Export Image 752 was submitted, please wait ...\n",
            "Export Image 753 was submitted, please wait ...\n",
            "Export Image 754 was submitted, please wait ...\n",
            "Export Image 755 was submitted, please wait ...\n",
            "Export Image 756 was submitted, please wait ...\n",
            "Export Image 757 was submitted, please wait ...\n",
            "Export Image 758 was submitted, please wait ...\n",
            "Export Image 759 was submitted, please wait ...\n",
            "Export Image 760 was submitted, please wait ...\n",
            "Export Image 761 was submitted, please wait ...\n",
            "Export Image 762 was submitted, please wait ...\n",
            "Export Image 763 was submitted, please wait ...\n",
            "Export Image 764 was submitted, please wait ...\n",
            "Export Image 765 was submitted, please wait ...\n",
            "Export Image 766 was submitted, please wait ...\n",
            "Export Image 767 was submitted, please wait ...\n",
            "Export Image 768 was submitted, please wait ...\n",
            "Export Image 769 was submitted, please wait ...\n",
            "Export Image 770 was submitted, please wait ...\n",
            "Export Image 771 was submitted, please wait ...\n",
            "Export Image 772 was submitted, please wait ...\n",
            "Export Image 773 was submitted, please wait ...\n",
            "Export Image 774 was submitted, please wait ...\n",
            "Export Image 775 was submitted, please wait ...\n",
            "Export Image 776 was submitted, please wait ...\n",
            "Export Image 777 was submitted, please wait ...\n",
            "Export Image 778 was submitted, please wait ...\n",
            "Export Image 779 was submitted, please wait ...\n",
            "Export Image 780 was submitted, please wait ...\n",
            "Export Image 781 was submitted, please wait ...\n",
            "Export Image 782 was submitted, please wait ...\n",
            "Export Image 783 was submitted, please wait ...\n",
            "Export Image 784 was submitted, please wait ...\n",
            "Export Image 785 was submitted, please wait ...\n",
            "Export Image 786 was submitted, please wait ...\n",
            "Export Image 787 was submitted, please wait ...\n",
            "Export Image 788 was submitted, please wait ...\n",
            "Export Image 789 was submitted, please wait ...\n",
            "Export Image 790 was submitted, please wait ...\n",
            "Export Image 791 was submitted, please wait ...\n",
            "Export Image 792 was submitted, please wait ...\n",
            "Export Image 793 was submitted, please wait ...\n",
            "Export Image 794 was submitted, please wait ...\n",
            "Export Image 795 was submitted, please wait ...\n",
            "Export Image 796 was submitted, please wait ...\n",
            "Export Image 797 was submitted, please wait ...\n",
            "Export Image 798 was submitted, please wait ...\n",
            "Export Image 799 was submitted, please wait ...\n",
            "Export Image 800 was submitted, please wait ...\n",
            "Export Image 801 was submitted, please wait ...\n",
            "Export Image 802 was submitted, please wait ...\n",
            "Export Image 803 was submitted, please wait ...\n",
            "Export Image 804 was submitted, please wait ...\n",
            "Export Image 805 was submitted, please wait ...\n",
            "Export Image 806 was submitted, please wait ...\n",
            "Export Image 807 was submitted, please wait ...\n",
            "Export Image 808 was submitted, please wait ...\n",
            "Export Image 809 was submitted, please wait ...\n",
            "Export Image 810 was submitted, please wait ...\n",
            "Export Image 811 was submitted, please wait ...\n",
            "Export Image 812 was submitted, please wait ...\n",
            "Export Image 813 was submitted, please wait ...\n",
            "Export Image 814 was submitted, please wait ...\n",
            "Export Image 815 was submitted, please wait ...\n",
            "Export Image 816 was submitted, please wait ...\n",
            "Export Image 817 was submitted, please wait ...\n",
            "Export Image 818 was submitted, please wait ...\n",
            "Export Image 819 was submitted, please wait ...\n",
            "Export Image 820 was submitted, please wait ...\n",
            "Export Image 821 was submitted, please wait ...\n",
            "Export Image 822 was submitted, please wait ...\n",
            "Export Image 823 was submitted, please wait ...\n",
            "Export Image 824 was submitted, please wait ...\n",
            "Export Image 825 was submitted, please wait ...\n",
            "Export Image 826 was submitted, please wait ...\n",
            "Export Image 827 was submitted, please wait ...\n",
            "Export Image 828 was submitted, please wait ...\n",
            "Export Image 829 was submitted, please wait ...\n",
            "Export Image 830 was submitted, please wait ...\n",
            "Export Image 831 was submitted, please wait ...\n",
            "Export Image 832 was submitted, please wait ...\n",
            "Export Image 833 was submitted, please wait ...\n",
            "Export Image 834 was submitted, please wait ...\n",
            "Export Image 835 was submitted, please wait ...\n",
            "Export Image 836 was submitted, please wait ...\n",
            "Export Image 837 was submitted, please wait ...\n",
            "Export Image 838 was submitted, please wait ...\n",
            "Export Image 839 was submitted, please wait ...\n",
            "Export Image 840 was submitted, please wait ...\n",
            "Export Image 841 was submitted, please wait ...\n",
            "Export Image 842 was submitted, please wait ...\n",
            "Export Image 843 was submitted, please wait ...\n",
            "Export Image 844 was submitted, please wait ...\n",
            "Export Image 845 was submitted, please wait ...\n",
            "Export Image 846 was submitted, please wait ...\n",
            "Export Image 847 was submitted, please wait ...\n",
            "Export Image 848 was submitted, please wait ...\n",
            "Export Image 849 was submitted, please wait ...\n",
            "Export Image 850 was submitted, please wait ...\n",
            "Export Image 851 was submitted, please wait ...\n",
            "Export Image 852 was submitted, please wait ...\n",
            "Export Image 853 was submitted, please wait ...\n",
            "Export Image 854 was submitted, please wait ...\n",
            "Export Image 855 was submitted, please wait ...\n",
            "Export Image 856 was submitted, please wait ...\n",
            "Export Image 857 was submitted, please wait ...\n",
            "Export Image 858 was submitted, please wait ...\n",
            "Export Image 859 was submitted, please wait ...\n",
            "Export Image 860 was submitted, please wait ...\n",
            "Export Image 861 was submitted, please wait ...\n",
            "Export Image 862 was submitted, please wait ...\n",
            "Export Image 863 was submitted, please wait ...\n",
            "Export Image 864 was submitted, please wait ...\n",
            "Export Image 865 was submitted, please wait ...\n",
            "Export Image 866 was submitted, please wait ...\n",
            "Export Image 867 was submitted, please wait ...\n",
            "Export Image 868 was submitted, please wait ...\n",
            "Export Image 869 was submitted, please wait ...\n",
            "Export Image 870 was submitted, please wait ...\n",
            "Export Image 871 was submitted, please wait ...\n",
            "Export Image 872 was submitted, please wait ...\n",
            "Export Image 873 was submitted, please wait ...\n",
            "Export Image 874 was submitted, please wait ...\n",
            "Export Image 875 was submitted, please wait ...\n",
            "Export Image 876 was submitted, please wait ...\n",
            "Export Image 877 was submitted, please wait ...\n",
            "Export Image 878 was submitted, please wait ...\n",
            "Export Image 879 was submitted, please wait ...\n",
            "Export Image 880 was submitted, please wait ...\n",
            "Export Image 881 was submitted, please wait ...\n",
            "Export Image 882 was submitted, please wait ...\n",
            "Export Image 883 was submitted, please wait ...\n",
            "Export Image 884 was submitted, please wait ...\n",
            "Export Image 885 was submitted, please wait ...\n",
            "Export Image 886 was submitted, please wait ...\n",
            "Export Image 887 was submitted, please wait ...\n",
            "Export Image 888 was submitted, please wait ...\n",
            "Export Image 889 was submitted, please wait ...\n",
            "Export Image 890 was submitted, please wait ...\n",
            "Export Image 891 was submitted, please wait ...\n",
            "Export Image 892 was submitted, please wait ...\n",
            "Export Image 893 was submitted, please wait ...\n",
            "Export Image 894 was submitted, please wait ...\n",
            "Export Image 895 was submitted, please wait ...\n",
            "Export Image 896 was submitted, please wait ...\n",
            "Export Image 897 was submitted, please wait ...\n",
            "Export Image 898 was submitted, please wait ...\n",
            "Export Image 899 was submitted, please wait ...\n",
            "Export Image 900 was submitted, please wait ...\n",
            "Export Image 901 was submitted, please wait ...\n",
            "Export Image 902 was submitted, please wait ...\n",
            "Export Image 903 was submitted, please wait ...\n",
            "Export Image 904 was submitted, please wait ...\n",
            "Export Image 905 was submitted, please wait ...\n",
            "Export Image 906 was submitted, please wait ...\n",
            "Export Image 907 was submitted, please wait ...\n",
            "Export Image 908 was submitted, please wait ...\n",
            "Export Image 909 was submitted, please wait ...\n",
            "Export Image 910 was submitted, please wait ...\n",
            "Export Image 911 was submitted, please wait ...\n",
            "Export Image 912 was submitted, please wait ...\n",
            "Export Image 913 was submitted, please wait ...\n",
            "Export Image 914 was submitted, please wait ...\n",
            "Export Image 915 was submitted, please wait ...\n",
            "Export Image 916 was submitted, please wait ...\n",
            "Export Image 917 was submitted, please wait ...\n",
            "Export Image 918 was submitted, please wait ...\n",
            "Export Image 919 was submitted, please wait ...\n",
            "Export Image 920 was submitted, please wait ...\n",
            "Export Image 921 was submitted, please wait ...\n",
            "Export Image 922 was submitted, please wait ...\n",
            "Export Image 923 was submitted, please wait ...\n",
            "Export Image 924 was submitted, please wait ...\n",
            "Export Image 925 was submitted, please wait ...\n",
            "Export Image 926 was submitted, please wait ...\n",
            "Export Image 927 was submitted, please wait ...\n",
            "Export Image 928 was submitted, please wait ...\n",
            "Export Image 929 was submitted, please wait ...\n",
            "Export Image 930 was submitted, please wait ...\n",
            "Export Image 931 was submitted, please wait ...\n",
            "Export Image 932 was submitted, please wait ...\n",
            "Export Image 933 was submitted, please wait ...\n",
            "Export Image 934 was submitted, please wait ...\n",
            "Export Image 935 was submitted, please wait ...\n",
            "Export Image 936 was submitted, please wait ...\n",
            "Export Image 937 was submitted, please wait ...\n",
            "Export Image 938 was submitted, please wait ...\n",
            "Export Image 939 was submitted, please wait ...\n",
            "Export Image 940 was submitted, please wait ...\n",
            "Export Image 941 was submitted, please wait ...\n",
            "Export Image 942 was submitted, please wait ...\n",
            "Export Image 943 was submitted, please wait ...\n",
            "Export Image 944 was submitted, please wait ...\n",
            "Export Image 945 was submitted, please wait ...\n",
            "Export Image 946 was submitted, please wait ...\n",
            "Export Image 947 was submitted, please wait ...\n",
            "Export Image 948 was submitted, please wait ...\n",
            "Export Image 949 was submitted, please wait ...\n",
            "Export Image 950 was submitted, please wait ...\n",
            "Export Image 951 was submitted, please wait ...\n",
            "Export Image 952 was submitted, please wait ...\n",
            "Export Image 953 was submitted, please wait ...\n",
            "Export Image 954 was submitted, please wait ...\n",
            "Export Image 955 was submitted, please wait ...\n",
            "Export Image 956 was submitted, please wait ...\n",
            "Export Image 957 was submitted, please wait ...\n",
            "Export Image 958 was submitted, please wait ...\n",
            "Export Image 959 was submitted, please wait ...\n",
            "Export Image 960 was submitted, please wait ...\n",
            "Export Image 961 was submitted, please wait ...\n",
            "Export Image 962 was submitted, please wait ...\n",
            "Export Image 963 was submitted, please wait ...\n",
            "Export Image 964 was submitted, please wait ...\n",
            "Export Image 965 was submitted, please wait ...\n",
            "Export Image 966 was submitted, please wait ...\n",
            "Export Image 967 was submitted, please wait ...\n",
            "Export Image 968 was submitted, please wait ...\n",
            "Export Image 969 was submitted, please wait ...\n",
            "Export Image 970 was submitted, please wait ...\n",
            "Export Image 971 was submitted, please wait ...\n",
            "Export Image 972 was submitted, please wait ...\n",
            "Export Image 973 was submitted, please wait ...\n",
            "Export Image 974 was submitted, please wait ...\n",
            "Export Image 975 was submitted, please wait ...\n",
            "Export Image 976 was submitted, please wait ...\n",
            "Export Image 977 was submitted, please wait ...\n",
            "Export Image 978 was submitted, please wait ...\n",
            "Export Image 979 was submitted, please wait ...\n",
            "Export Image 980 was submitted, please wait ...\n",
            "Export Image 981 was submitted, please wait ...\n",
            "Export Image 982 was submitted, please wait ...\n",
            "Export Image 983 was submitted, please wait ...\n",
            "Export Image 984 was submitted, please wait ...\n",
            "Export Image 985 was submitted, please wait ...\n",
            "Export Image 986 was submitted, please wait ...\n",
            "Export Image 987 was submitted, please wait ...\n",
            "Export Image 988 was submitted, please wait ...\n",
            "Export Image 989 was submitted, please wait ...\n",
            "Export Image 990 was submitted, please wait ...\n",
            "Export Image 991 was submitted, please wait ...\n",
            "Export Image 992 was submitted, please wait ...\n",
            "Export Image 993 was submitted, please wait ...\n",
            "Export Image 994 was submitted, please wait ...\n",
            "Export Image 995 was submitted, please wait ...\n",
            "Export Image 996 was submitted, please wait ...\n",
            "Export Image 997 was submitted, please wait ...\n",
            "Export Image 998 was submitted, please wait ...\n",
            "Export Image 999 was submitted, please wait ...\n",
            "Export Image 1000 was submitted, please wait ...\n",
            "Export Image 1001 was submitted, please wait ...\n",
            "Export Image 1002 was submitted, please wait ...\n",
            "Export Image 1003 was submitted, please wait ...\n",
            "Export Image 1004 was submitted, please wait ...\n",
            "Export Image 1005 was submitted, please wait ...\n",
            "Export Image 1006 was submitted, please wait ...\n",
            "Export Image 1007 was submitted, please wait ...\n",
            "Export Image 1008 was submitted, please wait ...\n",
            "Export Image 1009 was submitted, please wait ...\n",
            "Export Image 1010 was submitted, please wait ...\n",
            "Export Image 1011 was submitted, please wait ...\n",
            "Export Image 1012 was submitted, please wait ...\n",
            "Export Image 1013 was submitted, please wait ...\n",
            "Export Image 1014 was submitted, please wait ...\n",
            "Export Image 1015 was submitted, please wait ...\n",
            "Export Image 1016 was submitted, please wait ...\n",
            "Export Image 1017 was submitted, please wait ...\n",
            "Export Image 1018 was submitted, please wait ...\n",
            "Export Image 1019 was submitted, please wait ...\n",
            "Export Image 1020 was submitted, please wait ...\n",
            "Export Image 1021 was submitted, please wait ...\n",
            "Export Image 1022 was submitted, please wait ...\n",
            "Export Image 1023 was submitted, please wait ...\n",
            "Export Image 1024 was submitted, please wait ...\n",
            "Export Image 1025 was submitted, please wait ...\n",
            "Export Image 1026 was submitted, please wait ...\n",
            "Export Image 1027 was submitted, please wait ...\n",
            "Export Image 1028 was submitted, please wait ...\n",
            "Export Image 1029 was submitted, please wait ...\n",
            "Export Image 1030 was submitted, please wait ...\n",
            "Export Image 1031 was submitted, please wait ...\n",
            "Export Image 1032 was submitted, please wait ...\n",
            "Export Image 1033 was submitted, please wait ...\n",
            "Export Image 1034 was submitted, please wait ...\n",
            "Export Image 1035 was submitted, please wait ...\n",
            "Export Image 1036 was submitted, please wait ...\n",
            "Export Image 1037 was submitted, please wait ...\n",
            "Export Image 1038 was submitted, please wait ...\n",
            "Export Image 1039 was submitted, please wait ...\n",
            "Export Image 1040 was submitted, please wait ...\n",
            "Export Image 1041 was submitted, please wait ...\n",
            "Export Image 1042 was submitted, please wait ...\n",
            "Export Image 1043 was submitted, please wait ...\n",
            "Export Image 1044 was submitted, please wait ...\n",
            "Export Image 1045 was submitted, please wait ...\n",
            "Export Image 1046 was submitted, please wait ...\n",
            "Export Image 1047 was submitted, please wait ...\n",
            "Export Image 1048 was submitted, please wait ...\n",
            "Export Image 1049 was submitted, please wait ...\n",
            "Export Image 1050 was submitted, please wait ...\n",
            "Export Image 1051 was submitted, please wait ...\n",
            "Export Image 1052 was submitted, please wait ...\n",
            "Export Image 1053 was submitted, please wait ...\n",
            "Export Image 1054 was submitted, please wait ...\n",
            "Export Image 1055 was submitted, please wait ...\n",
            "Export Image 1056 was submitted, please wait ...\n",
            "Export Image 1057 was submitted, please wait ...\n",
            "Export Image 1058 was submitted, please wait ...\n",
            "Export Image 1059 was submitted, please wait ...\n",
            "Export Image 1060 was submitted, please wait ...\n",
            "Export Image 1061 was submitted, please wait ...\n",
            "Export Image 1062 was submitted, please wait ...\n",
            "Export Image 1063 was submitted, please wait ...\n",
            "Export Image 1064 was submitted, please wait ...\n",
            "Export Image 1065 was submitted, please wait ...\n",
            "Export Image 1066 was submitted, please wait ...\n",
            "Export Image 1067 was submitted, please wait ...\n",
            "Export Image 1068 was submitted, please wait ...\n",
            "Export Image 1069 was submitted, please wait ...\n",
            "Export Image 1070 was submitted, please wait ...\n",
            "Export Image 1071 was submitted, please wait ...\n"
          ],
          "name": "stdout"
        }
      ]
    },
    {
      "cell_type": "markdown",
      "metadata": {
        "id": "qjipzPtwt4fB"
      },
      "source": [
        "## Export non-dam images"
      ]
    },
    {
      "cell_type": "code",
      "metadata": {
        "id": "Dj96qiEjt4fC",
        "colab": {
          "base_uri": "https://localhost:8080/"
        },
        "outputId": "906882f1-5276-4106-c528-21ba4c6d699a"
      },
      "source": [
        "random_list = ee_random.toList(100)\r\n",
        "bridge_list = ee_bridge_w.toList(400)\r\n",
        "lake_list = ee_lakes_w.toList(200)\r\n",
        "\r\n",
        "for i in range(100):\r\n",
        "\r\n",
        "  random = ee.Feature(random_list.get(i)).geometry()\r\n",
        "\r\n",
        "  # // EXPORT PATCHES\r\n",
        "\r\n",
        "  task = ee.batch.Export.image.toDrive(  \r\n",
        "    image= naip2,\r\n",
        "    description= 'RandomPatches-%d'%(i),\r\n",
        "    fileNamePrefix= 'random-%d'%(i),\r\n",
        "    scale= SCALE,\r\n",
        "    folder= 'No_dam_CA_t',\r\n",
        "    fileFormat= 'GeoTIFF',\r\n",
        "    region= random,\r\n",
        "\r\n",
        "  ).start()\r\n",
        "\r\n",
        "  print('Export Random Image %d was submitted, please wait ...'%(i))\r\n",
        "\r\n",
        "\r\n",
        "\r\n",
        "for i in range(400):\r\n",
        "\r\n",
        "  bridges = ee.Feature(bridge_list.get(i)).geometry()\r\n",
        "\r\n",
        "  task = ee.batch.Export.image.toDrive(  \r\n",
        "    image= naip2,\r\n",
        "    description= 'RandomPatches-%d'%(i),\r\n",
        "    fileNamePrefix= 'bridges-%d'%(i),\r\n",
        "    scale= SCALE,\r\n",
        "    folder= 'No_dam_CA_t',\r\n",
        "    fileFormat= 'GeoTIFF',\r\n",
        "    region= bridges,\r\n",
        "\r\n",
        "  ).start()\r\n",
        "\r\n",
        "  print('Export Bridge Image %d was submitted, please wait ...'%(i))\r\n",
        "\r\n",
        "\r\n",
        "\r\n",
        "for i in range(200):\r\n",
        "\r\n",
        "  lakes = ee.Feature(lake_list.get(i)).geometry()\r\n",
        "\r\n",
        "  task = ee.batch.Export.image.toDrive(  \r\n",
        "    image= naip2,\r\n",
        "    description= 'RandomPatches-%d'%(i),\r\n",
        "    fileNamePrefix= 'lakes-%d'%(i),\r\n",
        "    scale= SCALE,\r\n",
        "    folder= 'No_dam_CA_t',\r\n",
        "    fileFormat= 'GeoTIFF',\r\n",
        "    region= lakes,\r\n",
        "\r\n",
        "  ).start()\r\n",
        "\r\n",
        "  print('Export Lake Image %d was submitted, please wait ...'%(i))\r\n",
        "\r\n"
      ],
      "execution_count": null,
      "outputs": [
        {
          "output_type": "stream",
          "text": [
            "Export Random Image 0 was submitted, please wait ...\n",
            "Export Random Image 1 was submitted, please wait ...\n",
            "Export Random Image 2 was submitted, please wait ...\n",
            "Export Random Image 3 was submitted, please wait ...\n",
            "Export Random Image 4 was submitted, please wait ...\n",
            "Export Random Image 5 was submitted, please wait ...\n",
            "Export Random Image 6 was submitted, please wait ...\n",
            "Export Random Image 7 was submitted, please wait ...\n",
            "Export Random Image 8 was submitted, please wait ...\n",
            "Export Random Image 9 was submitted, please wait ...\n",
            "Export Random Image 10 was submitted, please wait ...\n",
            "Export Random Image 11 was submitted, please wait ...\n",
            "Export Random Image 12 was submitted, please wait ...\n",
            "Export Random Image 13 was submitted, please wait ...\n",
            "Export Random Image 14 was submitted, please wait ...\n",
            "Export Random Image 15 was submitted, please wait ...\n",
            "Export Random Image 16 was submitted, please wait ...\n",
            "Export Random Image 17 was submitted, please wait ...\n",
            "Export Random Image 18 was submitted, please wait ...\n",
            "Export Random Image 19 was submitted, please wait ...\n",
            "Export Random Image 20 was submitted, please wait ...\n",
            "Export Random Image 21 was submitted, please wait ...\n",
            "Export Random Image 22 was submitted, please wait ...\n",
            "Export Random Image 23 was submitted, please wait ...\n",
            "Export Random Image 24 was submitted, please wait ...\n",
            "Export Random Image 25 was submitted, please wait ...\n",
            "Export Random Image 26 was submitted, please wait ...\n",
            "Export Random Image 27 was submitted, please wait ...\n",
            "Export Random Image 28 was submitted, please wait ...\n",
            "Export Random Image 29 was submitted, please wait ...\n",
            "Export Random Image 30 was submitted, please wait ...\n",
            "Export Random Image 31 was submitted, please wait ...\n",
            "Export Random Image 32 was submitted, please wait ...\n",
            "Export Random Image 33 was submitted, please wait ...\n",
            "Export Random Image 34 was submitted, please wait ...\n",
            "Export Random Image 35 was submitted, please wait ...\n",
            "Export Random Image 36 was submitted, please wait ...\n",
            "Export Random Image 37 was submitted, please wait ...\n",
            "Export Random Image 38 was submitted, please wait ...\n",
            "Export Random Image 39 was submitted, please wait ...\n",
            "Export Random Image 40 was submitted, please wait ...\n",
            "Export Random Image 41 was submitted, please wait ...\n",
            "Export Random Image 42 was submitted, please wait ...\n",
            "Export Random Image 43 was submitted, please wait ...\n",
            "Export Random Image 44 was submitted, please wait ...\n",
            "Export Random Image 45 was submitted, please wait ...\n",
            "Export Random Image 46 was submitted, please wait ...\n",
            "Export Random Image 47 was submitted, please wait ...\n",
            "Export Random Image 48 was submitted, please wait ...\n",
            "Export Random Image 49 was submitted, please wait ...\n",
            "Export Random Image 50 was submitted, please wait ...\n",
            "Export Random Image 51 was submitted, please wait ...\n",
            "Export Random Image 52 was submitted, please wait ...\n",
            "Export Random Image 53 was submitted, please wait ...\n",
            "Export Random Image 54 was submitted, please wait ...\n",
            "Export Random Image 55 was submitted, please wait ...\n",
            "Export Random Image 56 was submitted, please wait ...\n",
            "Export Random Image 57 was submitted, please wait ...\n",
            "Export Random Image 58 was submitted, please wait ...\n",
            "Export Random Image 59 was submitted, please wait ...\n",
            "Export Random Image 60 was submitted, please wait ...\n",
            "Export Random Image 61 was submitted, please wait ...\n",
            "Export Random Image 62 was submitted, please wait ...\n",
            "Export Random Image 63 was submitted, please wait ...\n",
            "Export Random Image 64 was submitted, please wait ...\n",
            "Export Random Image 65 was submitted, please wait ...\n",
            "Export Random Image 66 was submitted, please wait ...\n",
            "Export Random Image 67 was submitted, please wait ...\n",
            "Export Random Image 68 was submitted, please wait ...\n",
            "Export Random Image 69 was submitted, please wait ...\n",
            "Export Random Image 70 was submitted, please wait ...\n",
            "Export Random Image 71 was submitted, please wait ...\n",
            "Export Random Image 72 was submitted, please wait ...\n",
            "Export Random Image 73 was submitted, please wait ...\n",
            "Export Random Image 74 was submitted, please wait ...\n",
            "Export Random Image 75 was submitted, please wait ...\n",
            "Export Random Image 76 was submitted, please wait ...\n",
            "Export Random Image 77 was submitted, please wait ...\n",
            "Export Random Image 78 was submitted, please wait ...\n",
            "Export Random Image 79 was submitted, please wait ...\n",
            "Export Random Image 80 was submitted, please wait ...\n",
            "Export Random Image 81 was submitted, please wait ...\n",
            "Export Random Image 82 was submitted, please wait ...\n",
            "Export Random Image 83 was submitted, please wait ...\n",
            "Export Random Image 84 was submitted, please wait ...\n",
            "Export Random Image 85 was submitted, please wait ...\n",
            "Export Random Image 86 was submitted, please wait ...\n",
            "Export Random Image 87 was submitted, please wait ...\n",
            "Export Random Image 88 was submitted, please wait ...\n",
            "Export Random Image 89 was submitted, please wait ...\n",
            "Export Random Image 90 was submitted, please wait ...\n",
            "Export Random Image 91 was submitted, please wait ...\n",
            "Export Random Image 92 was submitted, please wait ...\n",
            "Export Random Image 93 was submitted, please wait ...\n",
            "Export Random Image 94 was submitted, please wait ...\n",
            "Export Random Image 95 was submitted, please wait ...\n",
            "Export Random Image 96 was submitted, please wait ...\n",
            "Export Random Image 97 was submitted, please wait ...\n",
            "Export Random Image 98 was submitted, please wait ...\n",
            "Export Random Image 99 was submitted, please wait ...\n",
            "Export Bridge Image 0 was submitted, please wait ...\n",
            "Export Bridge Image 1 was submitted, please wait ...\n",
            "Export Bridge Image 2 was submitted, please wait ...\n",
            "Export Bridge Image 3 was submitted, please wait ...\n",
            "Export Bridge Image 4 was submitted, please wait ...\n",
            "Export Bridge Image 5 was submitted, please wait ...\n",
            "Export Bridge Image 6 was submitted, please wait ...\n",
            "Export Bridge Image 7 was submitted, please wait ...\n",
            "Export Bridge Image 8 was submitted, please wait ...\n",
            "Export Bridge Image 9 was submitted, please wait ...\n",
            "Export Bridge Image 10 was submitted, please wait ...\n",
            "Export Bridge Image 11 was submitted, please wait ...\n",
            "Export Bridge Image 12 was submitted, please wait ...\n",
            "Export Bridge Image 13 was submitted, please wait ...\n",
            "Export Bridge Image 14 was submitted, please wait ...\n",
            "Export Bridge Image 15 was submitted, please wait ...\n",
            "Export Bridge Image 16 was submitted, please wait ...\n",
            "Export Bridge Image 17 was submitted, please wait ...\n",
            "Export Bridge Image 18 was submitted, please wait ...\n",
            "Export Bridge Image 19 was submitted, please wait ...\n",
            "Export Bridge Image 20 was submitted, please wait ...\n",
            "Export Bridge Image 21 was submitted, please wait ...\n",
            "Export Bridge Image 22 was submitted, please wait ...\n",
            "Export Bridge Image 23 was submitted, please wait ...\n",
            "Export Bridge Image 24 was submitted, please wait ...\n",
            "Export Bridge Image 25 was submitted, please wait ...\n",
            "Export Bridge Image 26 was submitted, please wait ...\n",
            "Export Bridge Image 27 was submitted, please wait ...\n",
            "Export Bridge Image 28 was submitted, please wait ...\n",
            "Export Bridge Image 29 was submitted, please wait ...\n",
            "Export Bridge Image 30 was submitted, please wait ...\n",
            "Export Bridge Image 31 was submitted, please wait ...\n",
            "Export Bridge Image 32 was submitted, please wait ...\n",
            "Export Bridge Image 33 was submitted, please wait ...\n",
            "Export Bridge Image 34 was submitted, please wait ...\n",
            "Export Bridge Image 35 was submitted, please wait ...\n",
            "Export Bridge Image 36 was submitted, please wait ...\n",
            "Export Bridge Image 37 was submitted, please wait ...\n",
            "Export Bridge Image 38 was submitted, please wait ...\n",
            "Export Bridge Image 39 was submitted, please wait ...\n",
            "Export Bridge Image 40 was submitted, please wait ...\n",
            "Export Bridge Image 41 was submitted, please wait ...\n",
            "Export Bridge Image 42 was submitted, please wait ...\n",
            "Export Bridge Image 43 was submitted, please wait ...\n",
            "Export Bridge Image 44 was submitted, please wait ...\n",
            "Export Bridge Image 45 was submitted, please wait ...\n",
            "Export Bridge Image 46 was submitted, please wait ...\n",
            "Export Bridge Image 47 was submitted, please wait ...\n",
            "Export Bridge Image 48 was submitted, please wait ...\n",
            "Export Bridge Image 49 was submitted, please wait ...\n",
            "Export Bridge Image 50 was submitted, please wait ...\n",
            "Export Bridge Image 51 was submitted, please wait ...\n",
            "Export Bridge Image 52 was submitted, please wait ...\n",
            "Export Bridge Image 53 was submitted, please wait ...\n",
            "Export Bridge Image 54 was submitted, please wait ...\n",
            "Export Bridge Image 55 was submitted, please wait ...\n",
            "Export Bridge Image 56 was submitted, please wait ...\n",
            "Export Bridge Image 57 was submitted, please wait ...\n",
            "Export Bridge Image 58 was submitted, please wait ...\n",
            "Export Bridge Image 59 was submitted, please wait ...\n",
            "Export Bridge Image 60 was submitted, please wait ...\n",
            "Export Bridge Image 61 was submitted, please wait ...\n",
            "Export Bridge Image 62 was submitted, please wait ...\n",
            "Export Bridge Image 63 was submitted, please wait ...\n",
            "Export Bridge Image 64 was submitted, please wait ...\n",
            "Export Bridge Image 65 was submitted, please wait ...\n",
            "Export Bridge Image 66 was submitted, please wait ...\n",
            "Export Bridge Image 67 was submitted, please wait ...\n",
            "Export Bridge Image 68 was submitted, please wait ...\n",
            "Export Bridge Image 69 was submitted, please wait ...\n",
            "Export Bridge Image 70 was submitted, please wait ...\n",
            "Export Bridge Image 71 was submitted, please wait ...\n",
            "Export Bridge Image 72 was submitted, please wait ...\n",
            "Export Bridge Image 73 was submitted, please wait ...\n",
            "Export Bridge Image 74 was submitted, please wait ...\n",
            "Export Bridge Image 75 was submitted, please wait ...\n",
            "Export Bridge Image 76 was submitted, please wait ...\n",
            "Export Bridge Image 77 was submitted, please wait ...\n",
            "Export Bridge Image 78 was submitted, please wait ...\n",
            "Export Bridge Image 79 was submitted, please wait ...\n",
            "Export Bridge Image 80 was submitted, please wait ...\n",
            "Export Bridge Image 81 was submitted, please wait ...\n",
            "Export Bridge Image 82 was submitted, please wait ...\n",
            "Export Bridge Image 83 was submitted, please wait ...\n",
            "Export Bridge Image 84 was submitted, please wait ...\n",
            "Export Bridge Image 85 was submitted, please wait ...\n",
            "Export Bridge Image 86 was submitted, please wait ...\n",
            "Export Bridge Image 87 was submitted, please wait ...\n",
            "Export Bridge Image 88 was submitted, please wait ...\n",
            "Export Bridge Image 89 was submitted, please wait ...\n",
            "Export Bridge Image 90 was submitted, please wait ...\n",
            "Export Bridge Image 91 was submitted, please wait ...\n",
            "Export Bridge Image 92 was submitted, please wait ...\n",
            "Export Bridge Image 93 was submitted, please wait ...\n",
            "Export Bridge Image 94 was submitted, please wait ...\n",
            "Export Bridge Image 95 was submitted, please wait ...\n",
            "Export Bridge Image 96 was submitted, please wait ...\n",
            "Export Bridge Image 97 was submitted, please wait ...\n",
            "Export Bridge Image 98 was submitted, please wait ...\n",
            "Export Bridge Image 99 was submitted, please wait ...\n",
            "Export Bridge Image 100 was submitted, please wait ...\n",
            "Export Bridge Image 101 was submitted, please wait ...\n",
            "Export Bridge Image 102 was submitted, please wait ...\n",
            "Export Bridge Image 103 was submitted, please wait ...\n",
            "Export Bridge Image 104 was submitted, please wait ...\n",
            "Export Bridge Image 105 was submitted, please wait ...\n",
            "Export Bridge Image 106 was submitted, please wait ...\n",
            "Export Bridge Image 107 was submitted, please wait ...\n",
            "Export Bridge Image 108 was submitted, please wait ...\n",
            "Export Bridge Image 109 was submitted, please wait ...\n",
            "Export Bridge Image 110 was submitted, please wait ...\n",
            "Export Bridge Image 111 was submitted, please wait ...\n",
            "Export Bridge Image 112 was submitted, please wait ...\n",
            "Export Bridge Image 113 was submitted, please wait ...\n",
            "Export Bridge Image 114 was submitted, please wait ...\n",
            "Export Bridge Image 115 was submitted, please wait ...\n",
            "Export Bridge Image 116 was submitted, please wait ...\n",
            "Export Bridge Image 117 was submitted, please wait ...\n",
            "Export Bridge Image 118 was submitted, please wait ...\n",
            "Export Bridge Image 119 was submitted, please wait ...\n",
            "Export Bridge Image 120 was submitted, please wait ...\n",
            "Export Bridge Image 121 was submitted, please wait ...\n",
            "Export Bridge Image 122 was submitted, please wait ...\n",
            "Export Bridge Image 123 was submitted, please wait ...\n",
            "Export Bridge Image 124 was submitted, please wait ...\n",
            "Export Bridge Image 125 was submitted, please wait ...\n",
            "Export Bridge Image 126 was submitted, please wait ...\n",
            "Export Bridge Image 127 was submitted, please wait ...\n",
            "Export Bridge Image 128 was submitted, please wait ...\n",
            "Export Bridge Image 129 was submitted, please wait ...\n",
            "Export Bridge Image 130 was submitted, please wait ...\n",
            "Export Bridge Image 131 was submitted, please wait ...\n",
            "Export Bridge Image 132 was submitted, please wait ...\n",
            "Export Bridge Image 133 was submitted, please wait ...\n",
            "Export Bridge Image 134 was submitted, please wait ...\n",
            "Export Bridge Image 135 was submitted, please wait ...\n",
            "Export Bridge Image 136 was submitted, please wait ...\n",
            "Export Bridge Image 137 was submitted, please wait ...\n",
            "Export Bridge Image 138 was submitted, please wait ...\n",
            "Export Bridge Image 139 was submitted, please wait ...\n",
            "Export Bridge Image 140 was submitted, please wait ...\n",
            "Export Bridge Image 141 was submitted, please wait ...\n",
            "Export Bridge Image 142 was submitted, please wait ...\n",
            "Export Bridge Image 143 was submitted, please wait ...\n",
            "Export Bridge Image 144 was submitted, please wait ...\n",
            "Export Bridge Image 145 was submitted, please wait ...\n",
            "Export Bridge Image 146 was submitted, please wait ...\n",
            "Export Bridge Image 147 was submitted, please wait ...\n",
            "Export Bridge Image 148 was submitted, please wait ...\n",
            "Export Bridge Image 149 was submitted, please wait ...\n",
            "Export Bridge Image 150 was submitted, please wait ...\n",
            "Export Bridge Image 151 was submitted, please wait ...\n",
            "Export Bridge Image 152 was submitted, please wait ...\n",
            "Export Bridge Image 153 was submitted, please wait ...\n",
            "Export Bridge Image 154 was submitted, please wait ...\n",
            "Export Bridge Image 155 was submitted, please wait ...\n",
            "Export Bridge Image 156 was submitted, please wait ...\n",
            "Export Bridge Image 157 was submitted, please wait ...\n",
            "Export Bridge Image 158 was submitted, please wait ...\n",
            "Export Bridge Image 159 was submitted, please wait ...\n",
            "Export Bridge Image 160 was submitted, please wait ...\n",
            "Export Bridge Image 161 was submitted, please wait ...\n",
            "Export Bridge Image 162 was submitted, please wait ...\n",
            "Export Bridge Image 163 was submitted, please wait ...\n",
            "Export Bridge Image 164 was submitted, please wait ...\n",
            "Export Bridge Image 165 was submitted, please wait ...\n",
            "Export Bridge Image 166 was submitted, please wait ...\n",
            "Export Bridge Image 167 was submitted, please wait ...\n",
            "Export Bridge Image 168 was submitted, please wait ...\n",
            "Export Bridge Image 169 was submitted, please wait ...\n",
            "Export Bridge Image 170 was submitted, please wait ...\n",
            "Export Bridge Image 171 was submitted, please wait ...\n",
            "Export Bridge Image 172 was submitted, please wait ...\n",
            "Export Bridge Image 173 was submitted, please wait ...\n",
            "Export Bridge Image 174 was submitted, please wait ...\n",
            "Export Bridge Image 175 was submitted, please wait ...\n",
            "Export Bridge Image 176 was submitted, please wait ...\n",
            "Export Bridge Image 177 was submitted, please wait ...\n",
            "Export Bridge Image 178 was submitted, please wait ...\n",
            "Export Bridge Image 179 was submitted, please wait ...\n",
            "Export Bridge Image 180 was submitted, please wait ...\n",
            "Export Bridge Image 181 was submitted, please wait ...\n",
            "Export Bridge Image 182 was submitted, please wait ...\n",
            "Export Bridge Image 183 was submitted, please wait ...\n",
            "Export Bridge Image 184 was submitted, please wait ...\n",
            "Export Bridge Image 185 was submitted, please wait ...\n",
            "Export Bridge Image 186 was submitted, please wait ...\n",
            "Export Bridge Image 187 was submitted, please wait ...\n",
            "Export Bridge Image 188 was submitted, please wait ...\n",
            "Export Bridge Image 189 was submitted, please wait ...\n",
            "Export Bridge Image 190 was submitted, please wait ...\n",
            "Export Bridge Image 191 was submitted, please wait ...\n",
            "Export Bridge Image 192 was submitted, please wait ...\n",
            "Export Bridge Image 193 was submitted, please wait ...\n",
            "Export Bridge Image 194 was submitted, please wait ...\n",
            "Export Bridge Image 195 was submitted, please wait ...\n",
            "Export Bridge Image 196 was submitted, please wait ...\n",
            "Export Bridge Image 197 was submitted, please wait ...\n",
            "Export Bridge Image 198 was submitted, please wait ...\n",
            "Export Bridge Image 199 was submitted, please wait ...\n",
            "Export Bridge Image 200 was submitted, please wait ...\n",
            "Export Bridge Image 201 was submitted, please wait ...\n",
            "Export Bridge Image 202 was submitted, please wait ...\n",
            "Export Bridge Image 203 was submitted, please wait ...\n",
            "Export Bridge Image 204 was submitted, please wait ...\n",
            "Export Bridge Image 205 was submitted, please wait ...\n",
            "Export Bridge Image 206 was submitted, please wait ...\n",
            "Export Bridge Image 207 was submitted, please wait ...\n",
            "Export Bridge Image 208 was submitted, please wait ...\n",
            "Export Bridge Image 209 was submitted, please wait ...\n",
            "Export Bridge Image 210 was submitted, please wait ...\n",
            "Export Bridge Image 211 was submitted, please wait ...\n",
            "Export Bridge Image 212 was submitted, please wait ...\n",
            "Export Bridge Image 213 was submitted, please wait ...\n",
            "Export Bridge Image 214 was submitted, please wait ...\n",
            "Export Bridge Image 215 was submitted, please wait ...\n",
            "Export Bridge Image 216 was submitted, please wait ...\n",
            "Export Bridge Image 217 was submitted, please wait ...\n",
            "Export Bridge Image 218 was submitted, please wait ...\n",
            "Export Bridge Image 219 was submitted, please wait ...\n",
            "Export Bridge Image 220 was submitted, please wait ...\n",
            "Export Bridge Image 221 was submitted, please wait ...\n",
            "Export Bridge Image 222 was submitted, please wait ...\n",
            "Export Bridge Image 223 was submitted, please wait ...\n",
            "Export Bridge Image 224 was submitted, please wait ...\n",
            "Export Bridge Image 225 was submitted, please wait ...\n",
            "Export Bridge Image 226 was submitted, please wait ...\n",
            "Export Bridge Image 227 was submitted, please wait ...\n",
            "Export Bridge Image 228 was submitted, please wait ...\n",
            "Export Bridge Image 229 was submitted, please wait ...\n",
            "Export Bridge Image 230 was submitted, please wait ...\n",
            "Export Bridge Image 231 was submitted, please wait ...\n",
            "Export Bridge Image 232 was submitted, please wait ...\n",
            "Export Bridge Image 233 was submitted, please wait ...\n",
            "Export Bridge Image 234 was submitted, please wait ...\n",
            "Export Bridge Image 235 was submitted, please wait ...\n",
            "Export Bridge Image 236 was submitted, please wait ...\n",
            "Export Bridge Image 237 was submitted, please wait ...\n",
            "Export Bridge Image 238 was submitted, please wait ...\n",
            "Export Bridge Image 239 was submitted, please wait ...\n",
            "Export Bridge Image 240 was submitted, please wait ...\n",
            "Export Bridge Image 241 was submitted, please wait ...\n",
            "Export Bridge Image 242 was submitted, please wait ...\n",
            "Export Bridge Image 243 was submitted, please wait ...\n",
            "Export Bridge Image 244 was submitted, please wait ...\n",
            "Export Bridge Image 245 was submitted, please wait ...\n",
            "Export Bridge Image 246 was submitted, please wait ...\n",
            "Export Bridge Image 247 was submitted, please wait ...\n",
            "Export Bridge Image 248 was submitted, please wait ...\n",
            "Export Bridge Image 249 was submitted, please wait ...\n",
            "Export Bridge Image 250 was submitted, please wait ...\n",
            "Export Bridge Image 251 was submitted, please wait ...\n",
            "Export Bridge Image 252 was submitted, please wait ...\n",
            "Export Bridge Image 253 was submitted, please wait ...\n",
            "Export Bridge Image 254 was submitted, please wait ...\n",
            "Export Bridge Image 255 was submitted, please wait ...\n",
            "Export Bridge Image 256 was submitted, please wait ...\n",
            "Export Bridge Image 257 was submitted, please wait ...\n",
            "Export Bridge Image 258 was submitted, please wait ...\n",
            "Export Bridge Image 259 was submitted, please wait ...\n",
            "Export Bridge Image 260 was submitted, please wait ...\n",
            "Export Bridge Image 261 was submitted, please wait ...\n",
            "Export Bridge Image 262 was submitted, please wait ...\n",
            "Export Bridge Image 263 was submitted, please wait ...\n",
            "Export Bridge Image 264 was submitted, please wait ...\n",
            "Export Bridge Image 265 was submitted, please wait ...\n",
            "Export Bridge Image 266 was submitted, please wait ...\n",
            "Export Bridge Image 267 was submitted, please wait ...\n",
            "Export Bridge Image 268 was submitted, please wait ...\n",
            "Export Bridge Image 269 was submitted, please wait ...\n",
            "Export Bridge Image 270 was submitted, please wait ...\n",
            "Export Bridge Image 271 was submitted, please wait ...\n",
            "Export Bridge Image 272 was submitted, please wait ...\n",
            "Export Bridge Image 273 was submitted, please wait ...\n",
            "Export Bridge Image 274 was submitted, please wait ...\n",
            "Export Bridge Image 275 was submitted, please wait ...\n",
            "Export Bridge Image 276 was submitted, please wait ...\n",
            "Export Bridge Image 277 was submitted, please wait ...\n",
            "Export Bridge Image 278 was submitted, please wait ...\n",
            "Export Bridge Image 279 was submitted, please wait ...\n",
            "Export Bridge Image 280 was submitted, please wait ...\n",
            "Export Bridge Image 281 was submitted, please wait ...\n",
            "Export Bridge Image 282 was submitted, please wait ...\n",
            "Export Bridge Image 283 was submitted, please wait ...\n",
            "Export Bridge Image 284 was submitted, please wait ...\n",
            "Export Bridge Image 285 was submitted, please wait ...\n",
            "Export Bridge Image 286 was submitted, please wait ...\n",
            "Export Bridge Image 287 was submitted, please wait ...\n",
            "Export Bridge Image 288 was submitted, please wait ...\n",
            "Export Bridge Image 289 was submitted, please wait ...\n",
            "Export Bridge Image 290 was submitted, please wait ...\n",
            "Export Bridge Image 291 was submitted, please wait ...\n",
            "Export Bridge Image 292 was submitted, please wait ...\n",
            "Export Bridge Image 293 was submitted, please wait ...\n",
            "Export Bridge Image 294 was submitted, please wait ...\n",
            "Export Bridge Image 295 was submitted, please wait ...\n",
            "Export Bridge Image 296 was submitted, please wait ...\n",
            "Export Bridge Image 297 was submitted, please wait ...\n",
            "Export Bridge Image 298 was submitted, please wait ...\n",
            "Export Bridge Image 299 was submitted, please wait ...\n",
            "Export Bridge Image 300 was submitted, please wait ...\n",
            "Export Bridge Image 301 was submitted, please wait ...\n",
            "Export Bridge Image 302 was submitted, please wait ...\n",
            "Export Bridge Image 303 was submitted, please wait ...\n",
            "Export Bridge Image 304 was submitted, please wait ...\n",
            "Export Bridge Image 305 was submitted, please wait ...\n",
            "Export Bridge Image 306 was submitted, please wait ...\n",
            "Export Bridge Image 307 was submitted, please wait ...\n",
            "Export Bridge Image 308 was submitted, please wait ...\n",
            "Export Bridge Image 309 was submitted, please wait ...\n",
            "Export Bridge Image 310 was submitted, please wait ...\n",
            "Export Bridge Image 311 was submitted, please wait ...\n",
            "Export Bridge Image 312 was submitted, please wait ...\n",
            "Export Bridge Image 313 was submitted, please wait ...\n",
            "Export Bridge Image 314 was submitted, please wait ...\n",
            "Export Bridge Image 315 was submitted, please wait ...\n",
            "Export Bridge Image 316 was submitted, please wait ...\n",
            "Export Bridge Image 317 was submitted, please wait ...\n",
            "Export Bridge Image 318 was submitted, please wait ...\n",
            "Export Bridge Image 319 was submitted, please wait ...\n",
            "Export Bridge Image 320 was submitted, please wait ...\n",
            "Export Bridge Image 321 was submitted, please wait ...\n",
            "Export Bridge Image 322 was submitted, please wait ...\n",
            "Export Bridge Image 323 was submitted, please wait ...\n",
            "Export Bridge Image 324 was submitted, please wait ...\n",
            "Export Bridge Image 325 was submitted, please wait ...\n",
            "Export Bridge Image 326 was submitted, please wait ...\n",
            "Export Bridge Image 327 was submitted, please wait ...\n",
            "Export Bridge Image 328 was submitted, please wait ...\n",
            "Export Bridge Image 329 was submitted, please wait ...\n",
            "Export Bridge Image 330 was submitted, please wait ...\n",
            "Export Bridge Image 331 was submitted, please wait ...\n",
            "Export Bridge Image 332 was submitted, please wait ...\n",
            "Export Bridge Image 333 was submitted, please wait ...\n",
            "Export Bridge Image 334 was submitted, please wait ...\n",
            "Export Bridge Image 335 was submitted, please wait ...\n",
            "Export Bridge Image 336 was submitted, please wait ...\n",
            "Export Bridge Image 337 was submitted, please wait ...\n",
            "Export Bridge Image 338 was submitted, please wait ...\n",
            "Export Bridge Image 339 was submitted, please wait ...\n",
            "Export Bridge Image 340 was submitted, please wait ...\n",
            "Export Bridge Image 341 was submitted, please wait ...\n",
            "Export Bridge Image 342 was submitted, please wait ...\n",
            "Export Bridge Image 343 was submitted, please wait ...\n",
            "Export Bridge Image 344 was submitted, please wait ...\n",
            "Export Bridge Image 345 was submitted, please wait ...\n",
            "Export Bridge Image 346 was submitted, please wait ...\n",
            "Export Bridge Image 347 was submitted, please wait ...\n",
            "Export Bridge Image 348 was submitted, please wait ...\n",
            "Export Bridge Image 349 was submitted, please wait ...\n",
            "Export Bridge Image 350 was submitted, please wait ...\n",
            "Export Bridge Image 351 was submitted, please wait ...\n",
            "Export Bridge Image 352 was submitted, please wait ...\n",
            "Export Bridge Image 353 was submitted, please wait ...\n",
            "Export Bridge Image 354 was submitted, please wait ...\n",
            "Export Bridge Image 355 was submitted, please wait ...\n",
            "Export Bridge Image 356 was submitted, please wait ...\n",
            "Export Bridge Image 357 was submitted, please wait ...\n",
            "Export Bridge Image 358 was submitted, please wait ...\n",
            "Export Bridge Image 359 was submitted, please wait ...\n",
            "Export Bridge Image 360 was submitted, please wait ...\n",
            "Export Bridge Image 361 was submitted, please wait ...\n",
            "Export Bridge Image 362 was submitted, please wait ...\n",
            "Export Bridge Image 363 was submitted, please wait ...\n",
            "Export Bridge Image 364 was submitted, please wait ...\n",
            "Export Bridge Image 365 was submitted, please wait ...\n",
            "Export Bridge Image 366 was submitted, please wait ...\n",
            "Export Bridge Image 367 was submitted, please wait ...\n",
            "Export Bridge Image 368 was submitted, please wait ...\n",
            "Export Bridge Image 369 was submitted, please wait ...\n",
            "Export Bridge Image 370 was submitted, please wait ...\n",
            "Export Bridge Image 371 was submitted, please wait ...\n",
            "Export Bridge Image 372 was submitted, please wait ...\n",
            "Export Bridge Image 373 was submitted, please wait ...\n",
            "Export Bridge Image 374 was submitted, please wait ...\n",
            "Export Bridge Image 375 was submitted, please wait ...\n",
            "Export Bridge Image 376 was submitted, please wait ...\n",
            "Export Bridge Image 377 was submitted, please wait ...\n",
            "Export Bridge Image 378 was submitted, please wait ...\n",
            "Export Bridge Image 379 was submitted, please wait ...\n",
            "Export Bridge Image 380 was submitted, please wait ...\n",
            "Export Bridge Image 381 was submitted, please wait ...\n",
            "Export Bridge Image 382 was submitted, please wait ...\n",
            "Export Bridge Image 383 was submitted, please wait ...\n",
            "Export Bridge Image 384 was submitted, please wait ...\n",
            "Export Bridge Image 385 was submitted, please wait ...\n",
            "Export Bridge Image 386 was submitted, please wait ...\n",
            "Export Bridge Image 387 was submitted, please wait ...\n",
            "Export Bridge Image 388 was submitted, please wait ...\n",
            "Export Bridge Image 389 was submitted, please wait ...\n",
            "Export Bridge Image 390 was submitted, please wait ...\n",
            "Export Bridge Image 391 was submitted, please wait ...\n",
            "Export Bridge Image 392 was submitted, please wait ...\n",
            "Export Bridge Image 393 was submitted, please wait ...\n",
            "Export Bridge Image 394 was submitted, please wait ...\n",
            "Export Bridge Image 395 was submitted, please wait ...\n",
            "Export Bridge Image 396 was submitted, please wait ...\n",
            "Export Bridge Image 397 was submitted, please wait ...\n",
            "Export Bridge Image 398 was submitted, please wait ...\n",
            "Export Bridge Image 399 was submitted, please wait ...\n",
            "Export Lake Image 0 was submitted, please wait ...\n",
            "Export Lake Image 1 was submitted, please wait ...\n",
            "Export Lake Image 2 was submitted, please wait ...\n",
            "Export Lake Image 3 was submitted, please wait ...\n",
            "Export Lake Image 4 was submitted, please wait ...\n",
            "Export Lake Image 5 was submitted, please wait ...\n",
            "Export Lake Image 6 was submitted, please wait ...\n",
            "Export Lake Image 7 was submitted, please wait ...\n",
            "Export Lake Image 8 was submitted, please wait ...\n",
            "Export Lake Image 9 was submitted, please wait ...\n",
            "Export Lake Image 10 was submitted, please wait ...\n",
            "Export Lake Image 11 was submitted, please wait ...\n",
            "Export Lake Image 12 was submitted, please wait ...\n",
            "Export Lake Image 13 was submitted, please wait ...\n",
            "Export Lake Image 14 was submitted, please wait ...\n",
            "Export Lake Image 15 was submitted, please wait ...\n",
            "Export Lake Image 16 was submitted, please wait ...\n",
            "Export Lake Image 17 was submitted, please wait ...\n",
            "Export Lake Image 18 was submitted, please wait ...\n",
            "Export Lake Image 19 was submitted, please wait ...\n",
            "Export Lake Image 20 was submitted, please wait ...\n",
            "Export Lake Image 21 was submitted, please wait ...\n",
            "Export Lake Image 22 was submitted, please wait ...\n",
            "Export Lake Image 23 was submitted, please wait ...\n",
            "Export Lake Image 24 was submitted, please wait ...\n",
            "Export Lake Image 25 was submitted, please wait ...\n",
            "Export Lake Image 26 was submitted, please wait ...\n",
            "Export Lake Image 27 was submitted, please wait ...\n",
            "Export Lake Image 28 was submitted, please wait ...\n",
            "Export Lake Image 29 was submitted, please wait ...\n",
            "Export Lake Image 30 was submitted, please wait ...\n",
            "Export Lake Image 31 was submitted, please wait ...\n",
            "Export Lake Image 32 was submitted, please wait ...\n",
            "Export Lake Image 33 was submitted, please wait ...\n",
            "Export Lake Image 34 was submitted, please wait ...\n",
            "Export Lake Image 35 was submitted, please wait ...\n",
            "Export Lake Image 36 was submitted, please wait ...\n",
            "Export Lake Image 37 was submitted, please wait ...\n",
            "Export Lake Image 38 was submitted, please wait ...\n",
            "Export Lake Image 39 was submitted, please wait ...\n",
            "Export Lake Image 40 was submitted, please wait ...\n",
            "Export Lake Image 41 was submitted, please wait ...\n",
            "Export Lake Image 42 was submitted, please wait ...\n",
            "Export Lake Image 43 was submitted, please wait ...\n",
            "Export Lake Image 44 was submitted, please wait ...\n",
            "Export Lake Image 45 was submitted, please wait ...\n",
            "Export Lake Image 46 was submitted, please wait ...\n",
            "Export Lake Image 47 was submitted, please wait ...\n",
            "Export Lake Image 48 was submitted, please wait ...\n",
            "Export Lake Image 49 was submitted, please wait ...\n",
            "Export Lake Image 50 was submitted, please wait ...\n",
            "Export Lake Image 51 was submitted, please wait ...\n",
            "Export Lake Image 52 was submitted, please wait ...\n",
            "Export Lake Image 53 was submitted, please wait ...\n",
            "Export Lake Image 54 was submitted, please wait ...\n",
            "Export Lake Image 55 was submitted, please wait ...\n",
            "Export Lake Image 56 was submitted, please wait ...\n",
            "Export Lake Image 57 was submitted, please wait ...\n",
            "Export Lake Image 58 was submitted, please wait ...\n",
            "Export Lake Image 59 was submitted, please wait ...\n",
            "Export Lake Image 60 was submitted, please wait ...\n",
            "Export Lake Image 61 was submitted, please wait ...\n",
            "Export Lake Image 62 was submitted, please wait ...\n",
            "Export Lake Image 63 was submitted, please wait ...\n",
            "Export Lake Image 64 was submitted, please wait ...\n",
            "Export Lake Image 65 was submitted, please wait ...\n",
            "Export Lake Image 66 was submitted, please wait ...\n",
            "Export Lake Image 67 was submitted, please wait ...\n",
            "Export Lake Image 68 was submitted, please wait ...\n",
            "Export Lake Image 69 was submitted, please wait ...\n",
            "Export Lake Image 70 was submitted, please wait ...\n",
            "Export Lake Image 71 was submitted, please wait ...\n",
            "Export Lake Image 72 was submitted, please wait ...\n",
            "Export Lake Image 73 was submitted, please wait ...\n",
            "Export Lake Image 74 was submitted, please wait ...\n",
            "Export Lake Image 75 was submitted, please wait ...\n",
            "Export Lake Image 76 was submitted, please wait ...\n",
            "Export Lake Image 77 was submitted, please wait ...\n",
            "Export Lake Image 78 was submitted, please wait ...\n",
            "Export Lake Image 79 was submitted, please wait ...\n",
            "Export Lake Image 80 was submitted, please wait ...\n",
            "Export Lake Image 81 was submitted, please wait ...\n",
            "Export Lake Image 82 was submitted, please wait ...\n",
            "Export Lake Image 83 was submitted, please wait ...\n",
            "Export Lake Image 84 was submitted, please wait ...\n",
            "Export Lake Image 85 was submitted, please wait ...\n",
            "Export Lake Image 86 was submitted, please wait ...\n",
            "Export Lake Image 87 was submitted, please wait ...\n",
            "Export Lake Image 88 was submitted, please wait ...\n",
            "Export Lake Image 89 was submitted, please wait ...\n",
            "Export Lake Image 90 was submitted, please wait ...\n",
            "Export Lake Image 91 was submitted, please wait ...\n",
            "Export Lake Image 92 was submitted, please wait ...\n",
            "Export Lake Image 93 was submitted, please wait ...\n",
            "Export Lake Image 94 was submitted, please wait ...\n",
            "Export Lake Image 95 was submitted, please wait ...\n",
            "Export Lake Image 96 was submitted, please wait ...\n",
            "Export Lake Image 97 was submitted, please wait ...\n",
            "Export Lake Image 98 was submitted, please wait ...\n",
            "Export Lake Image 99 was submitted, please wait ...\n",
            "Export Lake Image 100 was submitted, please wait ...\n",
            "Export Lake Image 101 was submitted, please wait ...\n",
            "Export Lake Image 102 was submitted, please wait ...\n",
            "Export Lake Image 103 was submitted, please wait ...\n",
            "Export Lake Image 104 was submitted, please wait ...\n",
            "Export Lake Image 105 was submitted, please wait ...\n",
            "Export Lake Image 106 was submitted, please wait ...\n",
            "Export Lake Image 107 was submitted, please wait ...\n",
            "Export Lake Image 108 was submitted, please wait ...\n",
            "Export Lake Image 109 was submitted, please wait ...\n",
            "Export Lake Image 110 was submitted, please wait ...\n",
            "Export Lake Image 111 was submitted, please wait ...\n",
            "Export Lake Image 112 was submitted, please wait ...\n",
            "Export Lake Image 113 was submitted, please wait ...\n",
            "Export Lake Image 114 was submitted, please wait ...\n",
            "Export Lake Image 115 was submitted, please wait ...\n",
            "Export Lake Image 116 was submitted, please wait ...\n",
            "Export Lake Image 117 was submitted, please wait ...\n",
            "Export Lake Image 118 was submitted, please wait ...\n",
            "Export Lake Image 119 was submitted, please wait ...\n",
            "Export Lake Image 120 was submitted, please wait ...\n",
            "Export Lake Image 121 was submitted, please wait ...\n",
            "Export Lake Image 122 was submitted, please wait ...\n",
            "Export Lake Image 123 was submitted, please wait ...\n",
            "Export Lake Image 124 was submitted, please wait ...\n",
            "Export Lake Image 125 was submitted, please wait ...\n",
            "Export Lake Image 126 was submitted, please wait ...\n",
            "Export Lake Image 127 was submitted, please wait ...\n",
            "Export Lake Image 128 was submitted, please wait ...\n",
            "Export Lake Image 129 was submitted, please wait ...\n",
            "Export Lake Image 130 was submitted, please wait ...\n",
            "Export Lake Image 131 was submitted, please wait ...\n",
            "Export Lake Image 132 was submitted, please wait ...\n",
            "Export Lake Image 133 was submitted, please wait ...\n",
            "Export Lake Image 134 was submitted, please wait ...\n",
            "Export Lake Image 135 was submitted, please wait ...\n",
            "Export Lake Image 136 was submitted, please wait ...\n",
            "Export Lake Image 137 was submitted, please wait ...\n",
            "Export Lake Image 138 was submitted, please wait ...\n",
            "Export Lake Image 139 was submitted, please wait ...\n",
            "Export Lake Image 140 was submitted, please wait ...\n",
            "Export Lake Image 141 was submitted, please wait ...\n",
            "Export Lake Image 142 was submitted, please wait ...\n",
            "Export Lake Image 143 was submitted, please wait ...\n",
            "Export Lake Image 144 was submitted, please wait ...\n",
            "Export Lake Image 145 was submitted, please wait ...\n",
            "Export Lake Image 146 was submitted, please wait ...\n",
            "Export Lake Image 147 was submitted, please wait ...\n",
            "Export Lake Image 148 was submitted, please wait ...\n",
            "Export Lake Image 149 was submitted, please wait ...\n",
            "Export Lake Image 150 was submitted, please wait ...\n",
            "Export Lake Image 151 was submitted, please wait ...\n",
            "Export Lake Image 152 was submitted, please wait ...\n",
            "Export Lake Image 153 was submitted, please wait ...\n",
            "Export Lake Image 154 was submitted, please wait ...\n",
            "Export Lake Image 155 was submitted, please wait ...\n",
            "Export Lake Image 156 was submitted, please wait ...\n",
            "Export Lake Image 157 was submitted, please wait ...\n",
            "Export Lake Image 158 was submitted, please wait ...\n",
            "Export Lake Image 159 was submitted, please wait ...\n",
            "Export Lake Image 160 was submitted, please wait ...\n",
            "Export Lake Image 161 was submitted, please wait ...\n",
            "Export Lake Image 162 was submitted, please wait ...\n",
            "Export Lake Image 163 was submitted, please wait ...\n",
            "Export Lake Image 164 was submitted, please wait ...\n",
            "Export Lake Image 165 was submitted, please wait ...\n",
            "Export Lake Image 166 was submitted, please wait ...\n",
            "Export Lake Image 167 was submitted, please wait ...\n",
            "Export Lake Image 168 was submitted, please wait ...\n",
            "Export Lake Image 169 was submitted, please wait ...\n",
            "Export Lake Image 170 was submitted, please wait ...\n",
            "Export Lake Image 171 was submitted, please wait ...\n",
            "Export Lake Image 172 was submitted, please wait ...\n",
            "Export Lake Image 173 was submitted, please wait ...\n",
            "Export Lake Image 174 was submitted, please wait ...\n",
            "Export Lake Image 175 was submitted, please wait ...\n",
            "Export Lake Image 176 was submitted, please wait ...\n",
            "Export Lake Image 177 was submitted, please wait ...\n",
            "Export Lake Image 178 was submitted, please wait ...\n",
            "Export Lake Image 179 was submitted, please wait ...\n",
            "Export Lake Image 180 was submitted, please wait ...\n",
            "Export Lake Image 181 was submitted, please wait ...\n",
            "Export Lake Image 182 was submitted, please wait ...\n",
            "Export Lake Image 183 was submitted, please wait ...\n",
            "Export Lake Image 184 was submitted, please wait ...\n",
            "Export Lake Image 185 was submitted, please wait ...\n",
            "Export Lake Image 186 was submitted, please wait ...\n",
            "Export Lake Image 187 was submitted, please wait ...\n",
            "Export Lake Image 188 was submitted, please wait ...\n",
            "Export Lake Image 189 was submitted, please wait ...\n",
            "Export Lake Image 190 was submitted, please wait ...\n",
            "Export Lake Image 191 was submitted, please wait ...\n",
            "Export Lake Image 192 was submitted, please wait ...\n",
            "Export Lake Image 193 was submitted, please wait ...\n",
            "Export Lake Image 194 was submitted, please wait ...\n",
            "Export Lake Image 195 was submitted, please wait ...\n",
            "Export Lake Image 196 was submitted, please wait ...\n",
            "Export Lake Image 197 was submitted, please wait ...\n",
            "Export Lake Image 198 was submitted, please wait ...\n",
            "Export Lake Image 199 was submitted, please wait ...\n"
          ],
          "name": "stdout"
        }
      ]
    }
  ]
}